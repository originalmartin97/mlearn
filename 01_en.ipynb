{
 "cells": [
  {
   "cell_type": "markdown",
   "metadata": {},
   "source": [
    "## Introduction\n",
    "\n",
    "Machine learning (<font color=\"purple\">ML</font>), data science (<font color=\"blue\">DS</font>) and artificial intelligence (<font color=\"red\">AI</font>) are closely related disciplines.\n",
    "- [Machine learning](https://en.wikipedia.org/wiki/Machine_learning) focuses on creating algorithms that allow computers to learn.\n",
    "- [Artificial intelligence](https://en.wikipedia.org/wiki/Artificial_intelligence), includes ML and other methods (e.g. search algorithms) aimed at creating intelligent machines.\n",
    "- [Data science](https://en.wikipedia.org/wiki/Data_science) applies ML and other techniques (e.g. data cleaning, data management) to analyze data and make informed decisions."
   ]
  },
  {
   "cell_type": "markdown",
   "metadata": {},
   "source": [
    "<img src=\"../_img/ml_ai_ds.png\" width=\"200px\" align=\"left\">"
   ]
  },
  {
   "cell_type": "markdown",
   "metadata": {},
   "source": [
    "**A down-to-earth definition of machine learning**\n",
    "- Imagine a table filled with numbers!\n",
    "- Machine learning is discovering the relationship between columns of the table.\n",
    "  + In <a href=\"https://en.wikipedia.org/wiki/Supervised_learning\">supervised learning</a>, there is a target column that we aim to estimate based on the other columns.  \n",
    "  + In <a href=\"https://en.wikipedia.org/wiki/Unsupervised_learning\">unsupervised learning</a>, there is no designated target column."
   ]
  },
  {
   "cell_type": "markdown",
   "metadata": {},
   "source": [
    "<img src=\"../_img/data_table.jpg\" width=\"350px\" align=\"left\">"
   ]
  },
  {
   "cell_type": "markdown",
   "metadata": {},
   "source": [
    "**A taxonomy of machine learning problems**"
   ]
  },
  {
   "cell_type": "markdown",
   "metadata": {},
   "source": [
    "<img src=\"../_img/ml_problems.jpg\" width=\"450px\" align=\"left\">"
   ]
  },
  {
   "cell_type": "markdown",
   "metadata": {},
   "source": [
    "- Examples of machine learning problems:\n",
    "  + Predicting whether an email is spam or not, based on its content, sender, subject, etc.\n",
    "  + Predicting the delay of a flight, based on weather and air traffic control data.\n",
    "  + Predicting the next word in a sequence of words.\n",
    "  + Predicting the exam mark based the roll of a die. :-)"
   ]
  },
  {
   "cell_type": "markdown",
   "metadata": {},
   "source": [
    "**Machine learning jargon**\n",
    "- <u>feature</u>: one column of the data table,\n",
    "- <u>example</u>: one row of the data table,\n",
    "- <u>training</u>: finding the model parameters that fit well to the data,\n",
    "- <u>prediction</u>: estimating the target value of an input vector, using a trained model,\n",
    "- <u>training set</u>: a subset of examples that is used for training,\n",
    "- <u>test set</u>: another, distinct set of examples that is used for evaluating the trained model."
   ]
  },
  {
   "cell_type": "markdown",
   "metadata": {},
   "source": [
    "**Traditional machine learning vs. deep neural networks**\n",
    "\n",
    "Machine learning methods can be broadly categorized into two groups: traditional machine learning and deep neural networks. Traditional machine learning includes [linear regression](https://en.wikipedia.org/wiki/Linear_regression), [logistic regression](https://en.wikipedia.org/wiki/Logistic_regression), [support vector machines](https://en.wikipedia.org/wiki/Support_vector_machine), [decision trees](https://en.wikipedia.org/wiki/Decision_tree), [random forests](https://en.wikipedia.org/wiki/Random_forest), and [gradient boosting](https://en.wikipedia.org/wiki/Gradient_boosting).\n",
    "These methods are known for their simplicity, interpretability, and computational efficiency.\n",
    "\n",
    "On the other hand, [deep neural networks](https://en.wikipedia.org/wiki/Deep_learning) are composed of multiple layers of artificial neurons that are trained to learn complex representations of the data.\n",
    "They include [convolutional neural networks](https://en.wikipedia.org/wiki/Convolutional_neural_network), [recurrent neural networks](https://en.wikipedia.org/wiki/Recurrent_neural_network), [generative adversarial networks](https://en.wikipedia.org/wiki/Generative_adversarial_network), and [transformers](https://en.wikipedia.org/wiki/Transformer_(machine_learning_model)).\n",
    "These models have the ability to capture complex patterns in the data.\n",
    "However, deep neural networks are computationally more intensive to train and less interpretable compared to traditional machine learning methods.\n",
    "Additionally, they require larger amounts of training data to achieve optimal performance.\n",
    "\n",
    "In this semester's Machine Learning course, we will concentrate exclusively on traditional machine learning techniques. For those seeking further knowledge on deep neural networks, the Neural Networks course offered in the following semester may be of interest."
   ]
  },
  {
   "cell_type": "markdown",
   "metadata": {},
   "source": [
    "## Moments from the History of Machine Learning\n",
    "\n",
    "<small>\n",
    "<br>\n",
    "<div style=\"background-color: #FFC; border: 1px solid #AAA; border-radius: 10px; padding: 10px; margin-top: 5px\">\n",
    "<b><a href=\"https://en.wikipedia.org/wiki/Perceptron\">The Perceptron Algorithm</a></b>:\n",
    "In the <b>1950s</b>, a psychologist named <a href=\"https://en.wikipedia.org/wiki/Frank_Rosenblatt\">Frank Rosenblatt</a> proposed the Perceptron, a simple artificial neuron model that could solve linear classification problems.\n",
    "</div>\n",
    "\n",
    "<div style=\"background-color: #FEC; border: 1px solid #AAA; border-radius: 10px; padding: 10px;  margin-top: 5px\">\n",
    "<b><a href=\"https://en.wikipedia.org/wiki/Dartmouth_workshop\">The Dartmouth Workshop</a></b>:    \n",
    "In <b>1956</b>, a group of researchers including <a href=\"https://en.wikipedia.org/wiki/John_McCarthy_(computer_scientist)\">John McCarthy</a>, <a href=\"https://en.wikipedia.org/wiki/Marvin_Minsky\">Marvin Minsky</a>, <a href=\"https://en.wikipedia.org/wiki/Nathaniel_Rochester_(computer_scientist)\">Nathaniel Rochester</a> and <a href=\"https://en.wikipedia.org/wiki/Claude_Shannon\">Claude Shannon</a> gathered at Dartmouth College to discuss the possibilities of thinking machines.    \n",
    "</div>\n",
    "\n",
    "<div style=\"padding: 10px;  margin-top: 5px\">\n",
    "<img src=\"../_img/dartmouth_workshop.jpg\" width=\"200px\">\n",
    "</div>\n",
    "\n",
    "<div style=\"background-color: #FFC; border: 1px solid #AAA; border-radius: 10px; padding: 10px;  margin-top: 5px\">\n",
    "<b><a href=\"https://en.wikipedia.org/wiki/Backpropagation\">The Backpropagation Algorithm</a></b>:\n",
    "In the <b>1980s</b>, <a href=\"https://en.wikipedia.org/wiki/Geoffrey_Hinton\">Geoffrey Hinton</a> and his students developed the backpropagation algorithm, which allowed neural networks to learn from their mistakes and improve over time.\n",
    "</div>\n",
    "\n",
    "<div style=\"background-color: #FEC; border: 1px solid #AAA; border-radius: 10px; padding: 10px;  margin-top: 5px\">\n",
    "<b><a href=\"https://en.wikipedia.org/wiki/MNIST_database\">The MNIST Handwritten Digits Dataset</a></b>:\n",
    "In the late <b>1990s</b>, researchers at the National Institute of Standards and Technology created a dataset of handwritten digits to use as a benchmark for evaluating machine learning algorithms.\n",
    "</div>\n",
    "    \n",
    "<div style=\"background-color: #FFC; border: 1px solid #AAA; border-radius: 10px; padding: 10px;  margin-top: 5px\">\n",
    "<b><a href=\"https://en.wikipedia.org/wiki/Netflix_Prize\">The Netflix Prize</a></b>:\n",
    "In <b>2006</b>, Netflix launched a competition to improve its movie recommendation system. The competition was called the Netflix Prize and offered a million-dollar prize to the team that could produce the best algorithm for predicting which movies a user would like.\n",
    "</div>\n",
    "\n",
    "<div style=\"background-color: #FEC; border: 1px solid #AAA; border-radius: 10px; padding: 10px;  margin-top: 5px\">\n",
    "<b><a href=\"https://www.cs.toronto.edu/~hinton/absps/science.pdf\">The Deep Learning Paper</a></b>:\n",
    "Geoffrey Hinton's <b>2006</b> paper, \"Reducing the Dimensionality of Data with Neural Networks\" was published in Science magazine, and demonstrated how greedy layer-wise pretraining could effectively train deep neural networks.    \n",
    "</div>\n",
    "    \n",
    "<div style=\"background-color: #FFC; border: 1px solid #AAA; border-radius: 10px; padding: 10px;  margin-top: 5px\">\n",
    "<b><a href=\"https://en.wikipedia.org/wiki/Deep_learning#Deep_learning_revolution\">AlexNet</a></b>:\n",
    "In <b>2012</b>, <a href=\"https://en.wikipedia.org/wiki/Alex_Krizhevsky\">Alex Krizhevsky</a>, <a href=\"https://en.wikipedia.org/wiki/Ilya_Sutskever\">Ilya Sutskever</a> and Geoffrey Hinton won the ImageNet image classification challenge by a large margin, using the deep convolutional neural network. In the following years, researchers outperformed state-of-the-art results on several benchmark datasets using deep learning.\n",
    "</div>\n",
    "   \n",
    "<div style=\"background-color: #FEC; border: 1px solid #AAA; border-radius: 10px; padding: 10px;  margin-top: 5px\">\n",
    "<b><a href=\"https://en.wikipedia.org/wiki/AlphaZero\">AlphaZero</a></b>:\n",
    "AlphaZero, developed by DeepMind in <b>2017</b>, is a self-learning AI that mastered chess, shogi, and Go using reinforcement learning without pre-existing game databases or expert knowledge. It achieved superhuman performance by training solely through self-play, demonstrating the power of deep neural networks and Monte Carlo Tree Search.\n",
    "</div>\n",
    "\n",
    "<div style=\"background-color: #FFC; border: 1px solid #AAA; border-radius: 10px; padding: 10px;  margin-top: 5px\">\n",
    "<b><a href=\"https://proceedings.neurips.cc/paper_files/paper/2017/file/3f5ee243547dee91fbd053c1c4a845aa-Paper.pdf\">The Transformer Paper</a></b>:\n",
    "The <b>2017</b> paper \"Attention Is All You Need\" by <a href=\"https://en.wikipedia.org/wiki/Ashish_Vaswani\">Vaswani</a> et al. introduced the Transformer architecture, which replaced recurrence with self-attention mechanisms for improved parallelization and efficiency in sequence processing. This breakthrough revolutionized natural language processing (NLP), leading to state-of-the-art models like BERT and GPT.    \n",
    "</div>\n",
    "    \n",
    "<div style=\"background-color: #FEC; border: 1px solid #AAA; border-radius: 10px; padding: 10px;  margin-top: 5px\">   \n",
    "<b><a href=\"https://en.wikipedia.org/wiki/ChatGPT\">ChatGPT</a></b>:\n",
    "In November 2022, OpenAI released ChatGPT, based on the GPT-3.5 architecture.\n",
    "ChatGPT marked a breakthrough in AI-driven conversation, making advanced language models accessible to millions. Its unprecedented adoption revolutionized human-AI interaction, showcasing the potential of large language models in education, creativity, and productivity.\n",
    "</div>\n",
    "    \n",
    "<div style=\"background-color: #FFC; border: 1px solid #AAA; border-radius: 10px; padding: 10px;  margin-top: 5px\">\n",
    "<b><a href=\"https://en.wikipedia.org/wiki/DeepSeek\">DeepSeek</a></b>:\n",
    "DeepSeek's V3 model, released in <b>December 2024</b>, employs a Mixture-of-Experts architecture with 671 billion parameters, activating 37 billion per token, achieving top performance among non-reasoning models. The R1 model, released in <b>January 2025</b>, focuses on reasoning tasks, matching OpenAI's o1 in areas like math, coding, and logic, utilizing reinforcement learning to enhance its capabilities.\n",
    "</div>\n",
    "    \n",
    "</small>"
   ]
  },
  {
   "cell_type": "markdown",
   "metadata": {},
   "source": [
    "## [Univariate Linear Regression](https://en.wikipedia.org/wiki/Simple_linear_regression)\n",
    "\n",
    "Linear regression is a simple but still useful learning algorithm that dates back to the 19th century.\n",
    "It was first described by Galton in the 1880s and was later formalized by Fisher in the early 20th century.\n",
    "Despite its age, linear regression remains popular in numerous fields with its implementation constantly evolving in response to technological advancements."
   ]
  },
  {
   "cell_type": "markdown",
   "metadata": {},
   "source": [
    "<img src=\"../_img/linreg_1d.jpg\" width=\"470px\" align=\"left\">"
   ]
  },
  {
   "cell_type": "markdown",
   "metadata": {},
   "source": [
    "# y = mx + b\n",
    "- **y** is the **prediction**\n",
    "- **x** is the **feature**\n",
    "- **m** is the **slope**\n",
    "- **b** is the **y-intercept**\n",
    "    - starting point of the line\n",
    "    - **where does it intercept the y axis if x is 0**\n",
    "    - how moch the line is shifted in value of y"
   ]
  },
  {
   "cell_type": "markdown",
   "metadata": {},
   "source": [
    "**Exercise 1**: Perform univariate linear regression on the MLB baseball player data in the [baseball.txt](../_data/baseball.txt) file, using height as the input and weight as the target!\n",
    "\n",
    "<img src=\"../_img/baseball_players.jpg\" width=\"300px\" align=\"left\">"
   ]
  },
  {
   "cell_type": "code",
   "execution_count": 1,
   "metadata": {},
   "outputs": [],
   "source": [
    "# Load data.\n",
    "import numpy as np\n",
    "data = np.loadtxt('../_data/baseball.txt', delimiter=',')"
   ]
  },
  {
   "cell_type": "code",
   "execution_count": 2,
   "metadata": {},
   "outputs": [],
   "source": [
    "# Extract input vector (height) and target vector (weight).\n",
    "x = data[:, 0] #input vector\n",
    "y = data[:, 1] #target vector"
   ]
  },
  {
   "cell_type": "markdown",
   "metadata": {},
   "source": [
    "# Mean centering\n",
    "## This way we shift the whole data on the graph (coordinate system) with subtraction of mean.\n",
    "## Simplifies interpreatation and analysis."
   ]
  },
  {
   "cell_type": "code",
   "execution_count": 4,
   "metadata": {},
   "outputs": [],
   "source": [
    "# Subtract mean.\n",
    "x_mean = x.mean()\n",
    "y_mean = y.mean()\n",
    "\n",
    "x = x - x_mean\n",
    "y = y - y_mean"
   ]
  },
  {
   "cell_type": "code",
   "execution_count": 15,
   "metadata": {},
   "outputs": [
    {
     "data": {
      "text/plain": [
       "array([ 0.92836399,  0.92836399, -4.07163601, ...,  2.92836399,\n",
       "        2.92836399, -2.07163601])"
      ]
     },
     "execution_count": 15,
     "metadata": {},
     "output_type": "execute_result"
    }
   ],
   "source": [
    "x"
   ]
  },
  {
   "cell_type": "code",
   "execution_count": 5,
   "metadata": {},
   "outputs": [
    {
     "data": {
      "text/plain": [
       "<matplotlib.collections.PathCollection at 0x7f69655c6fd0>"
      ]
     },
     "execution_count": 5,
     "metadata": {},
     "output_type": "execute_result"
    },
    {
     "data": {
      "image/png": "[encoded data removed]",
      "text/plain": [
       "<Figure size 432x288 with 1 Axes>"
      ]
     },
     "metadata": {
      "needs_background": "light"
     },
     "output_type": "display_data"
    }
   ],
   "source": [
    "# Prepare a scatter plot of the data.\n",
    "import matplotlib.pyplot as plt\n",
    "plt.scatter(x, y, alpha=0.5)"
   ]
  },
  {
   "cell_type": "markdown",
   "metadata": {},
   "source": [
    "# Calculate \"w\"\n",
    "- **weight(s)**\n",
    "- **quantifies** the influence of the input feature(s)\n",
    "- **relationship** between x and y"
   ]
  },
  {
   "cell_type": "code",
   "execution_count": 6,
   "metadata": {},
   "outputs": [],
   "source": [
    "# Train model (compute the optimal w value).\n",
    "w = (x @ y) / (x @ x)"
   ]
  },
  {
   "cell_type": "code",
   "execution_count": 7,
   "metadata": {},
   "outputs": [
    {
     "data": {
      "text/plain": [
       "94.01062994703861"
      ]
     },
     "execution_count": 7,
     "metadata": {},
     "output_type": "execute_result"
    }
   ],
   "source": [
    "# Predict the weight of a player who is 190 cm tall.\n",
    "(190 - x_mean) * w + y_mean"
   ]
  },
  {
   "cell_type": "code",
   "execution_count": 8,
   "metadata": {},
   "outputs": [
    {
     "data": {
      "text/plain": [
       "0.8561919786085543"
      ]
     },
     "execution_count": 8,
     "metadata": {},
     "output_type": "execute_result"
    }
   ],
   "source": [
    "w"
   ]
  },
  {
   "cell_type": "code",
   "execution_count": 13,
   "metadata": {},
   "outputs": [
    {
     "data": {
      "text/plain": [
       "[<matplotlib.lines.Line2D at 0x7f695c91f0a0>]"
      ]
     },
     "execution_count": 13,
     "metadata": {},
     "output_type": "execute_result"
    },
    {
     "data": {
      "image/png": "[encoded data removed]",
      "text/plain": [
       "<Figure size 432x288 with 1 Axes>"
      ]
     },
     "metadata": {
      "needs_background": "light"
     },
     "output_type": "display_data"
    }
   ],
   "source": [
    "# Draw regression line into the scatter plot.\n",
    "plt.scatter(x, y, alpha=0.5)\n",
    "plt.plot([-20, 25], [w * -20, w * 25], 'r')"
   ]
  },
  {
   "cell_type": "markdown",
   "metadata": {},
   "source": [
    "## [Multivariate Linear Regression](https://en.wikipedia.org/wiki/Linear_regression)\n",
    "\n",
    "Multivariate linear regression can be derived from univariate linear regression\n",
    "by adding additional input features to the model.\n",
    "The equation for multivariate linear regression is a extension of the equation for univariate\n",
    "linear regression, with multiple coefficients representing the strength and\n",
    "direction of the relationship between each input feature and the\n",
    "target feature."
   ]
  },
  {
   "cell_type": "markdown",
   "metadata": {},
   "source": [
    "<img src=\"../_img/linreg.jpg\" width=\"500px\" align=\"left\">"
   ]
  },
  {
   "cell_type": "code",
   "execution_count": 9,
   "metadata": {},
   "outputs": [],
   "source": [
    "## n are the number of rows - example\n",
    "## d are the number of columns - feature\n",
    "\n",
    "import numpy as np\n",
    "\n",
    "def gen_data(n, d):\n",
    "    rs = np.random.RandomState(42)\n",
    "    X = rs.random(size=(n, d)) # input matrix\n",
    "    v = np.arange(d) # v = [0, 1, 2, ...]\n",
    "    y = X @ v + rs.randn(n)      # target vector\n",
    "    return X, y"
   ]
  },
  {
   "cell_type": "code",
   "execution_count": 3,
   "metadata": {},
   "outputs": [
    {
     "ename": "NameError",
     "evalue": "name 'gen_data' is not defined",
     "output_type": "error",
     "traceback": [
      "\u001b[0;31m---------------------------------------------------------------------------\u001b[0m",
      "\u001b[0;31mNameError\u001b[0m                                 Traceback (most recent call last)",
      "Input \u001b[0;32mIn [3]\u001b[0m, in \u001b[0;36m<cell line: 3>\u001b[0;34m()\u001b[0m\n\u001b[1;32m      1\u001b[0m \u001b[38;5;66;03m# Generate artificial data set.\u001b[39;00m\n\u001b[0;32m----> 3\u001b[0m X, y \u001b[38;5;241m=\u001b[39m \u001b[43mgen_data\u001b[49m(\u001b[38;5;241m1000\u001b[39m, \u001b[38;5;241m20\u001b[39m)\n",
      "\u001b[0;31mNameError\u001b[0m: name 'gen_data' is not defined"
     ]
    }
   ],
   "source": [
    "# Generate artificial data set.\n",
    "\n",
    "X, y = gen_data(1000, 20)"
   ]
  },
  {
   "cell_type": "code",
   "execution_count": 19,
   "metadata": {},
   "outputs": [
    {
     "data": {
      "text/plain": [
       "(1000, 20)"
      ]
     },
     "execution_count": 19,
     "metadata": {},
     "output_type": "execute_result"
    }
   ],
   "source": [
    "X.shape"
   ]
  },
  {
   "cell_type": "code",
   "execution_count": 20,
   "metadata": {},
   "outputs": [
    {
     "data": {
      "text/plain": [
       "(1000,)"
      ]
     },
     "execution_count": 20,
     "metadata": {},
     "output_type": "execute_result"
    }
   ],
   "source": [
    "y.shape"
   ]
  },
  {
   "cell_type": "code",
   "execution_count": 21,
   "metadata": {},
   "outputs": [
    {
     "data": {
      "text/plain": [
       "array([[0.37454012, 0.95071431, 0.73199394, ..., 0.52475643, 0.43194502,\n",
       "        0.29122914],\n",
       "       [0.61185289, 0.13949386, 0.29214465, ..., 0.09767211, 0.68423303,\n",
       "        0.44015249],\n",
       "       [0.12203823, 0.49517691, 0.03438852, ..., 0.19598286, 0.04522729,\n",
       "        0.32533033],\n",
       "       ...,\n",
       "       [0.09196457, 0.5753817 , 0.97809812, ..., 0.87720334, 0.41430041,\n",
       "        0.5021281 ],\n",
       "       [0.52208381, 0.19409454, 0.68948916, ..., 0.24350626, 0.09000794,\n",
       "        0.44208302],\n",
       "       [0.88996012, 0.46754026, 0.84971304, ..., 0.30369847, 0.44332001,\n",
       "        0.17226481]])"
      ]
     },
     "execution_count": 21,
     "metadata": {},
     "output_type": "execute_result"
    }
   ],
   "source": [
    "X"
   ]
  },
  {
   "cell_type": "code",
   "execution_count": 22,
   "metadata": {},
   "outputs": [],
   "source": [
    "# %%time\n",
    "# Compute optimal parameter vector.\n",
    "w_optimal = np.linalg.inv(X.T @ X) @ (X.T @ y)"
   ]
  },
  {
   "cell_type": "code",
   "execution_count": 23,
   "metadata": {},
   "outputs": [
    {
     "data": {
      "text/plain": [
       "array([-0.04182231,  1.11775221,  1.87190976,  2.71445356,  4.08536055,\n",
       "        4.97886428,  5.93956205,  7.08541789,  8.01753598,  9.02447534,\n",
       "        9.89298876, 10.92040527, 12.15203726, 13.02434653, 13.93559922,\n",
       "       14.94157188, 16.18771954, 17.03788216, 18.16480126, 19.02463766])"
      ]
     },
     "execution_count": 23,
     "metadata": {},
     "output_type": "execute_result"
    }
   ],
   "source": [
    "# %%time\n",
    "# ...more efficient way\n",
    "np.linalg.solve(X.T @ X, X.T @ y)"
   ]
  },
  {
   "cell_type": "markdown",
   "metadata": {},
   "source": [
    "**Exercise 3**: Plot the time complexity of training the model!"
   ]
  },
  {
   "cell_type": "code",
   "execution_count": 2,
   "metadata": {},
   "outputs": [],
   "source": [
    "import time\n",
    "import pandas as pd\n",
    "\n",
    "def train_linreg(X, y):\n",
    "    A = X.T @ X\n",
    "    b = X.T @ y\n",
    "    w = np.linalg.solve(A, b)\n",
    "    return w"
   ]
  },
  {
   "cell_type": "code",
   "execution_count": 7,
   "metadata": {},
   "outputs": [
    {
     "data": {
      "text/plain": [
       "<AxesSubplot: xlabel='n'>"
      ]
     },
     "execution_count": 7,
     "metadata": {},
     "output_type": "execute_result"
    },
    {
     "data": {
      "image/png": "[encoded data removed]",
      "text/plain": [
       "<Figure size 432x288 with 1 Axes>"
      ]
     },
     "metadata": {
      "needs_background": "light"
     },
     "output_type": "display_data"
    },
    {
     "data": {
      "image/png": "[encoded data removed]",
      "text/plain": [
       "<Figure size 432x288 with 1 Axes>"
      ]
     },
     "metadata": {
      "needs_background": "light"
     },
     "output_type": "display_data"
    }
   ],
   "source": [
    "# dependence on n\n",
    "d = 20\n",
    "data = []\n",
    "for n in [100, 200, 300, 400, 500, 600, 700, 800, 900, 1_000, 2_000, 3_000, 4_000, 5_000, 6_000, 7_000, 8_000, 9_000, 10_000, 20_000, 30_000, 40_000, 50_000, 60_000, 70_000, 80_000, 90_000, 100_000]:\n",
    "    X, y = gen_data(n, d)\n",
    "    t0 = time.time()\n",
    "    train_linreg(X, y)\n",
    "    dt = time.time() - t0\n",
    "    data.append({'n': n, 'time': dt})\n",
    "    \n",
    "    \n",
    "pd.DataFrame(data).set_index('n').plot()\n",
    "pd.DataFrame(data).set_index('n').plot(logx=True)"
   ]
  },
  {
   "cell_type": "code",
   "execution_count": 12,
   "metadata": {},
   "outputs": [
    {
     "data": {
      "text/plain": [
       "<AxesSubplot: xlabel='d'>"
      ]
     },
     "execution_count": 12,
     "metadata": {},
     "output_type": "execute_result"
    },
    {
     "data": {
      "image/png": "[encoded data removed]",
      "text/plain": [
       "<Figure size 432x288 with 1 Axes>"
      ]
     },
     "metadata": {
      "needs_background": "light"
     },
     "output_type": "display_data"
    },
    {
     "data": {
      "image/png": "[encoded data removed]",
      "text/plain": [
       "<Figure size 432x288 with 1 Axes>"
      ]
     },
     "metadata": {
      "needs_background": "light"
     },
     "output_type": "display_data"
    }
   ],
   "source": [
    "# dependence on d\n",
    "n = 2000\n",
    "data = []\n",
    "for d in [10, 100, 150, 200, 250, 300, 400, 800, 1_000, 1_500]:\n",
    "    X, y = gen_data(n, d)\n",
    "    t0 = time.time()\n",
    "    train_linreg(X, y)\n",
    "    dt = time.time() - t0\n",
    "    data.append({'d': d, 'time': dt})\n",
    "    \n",
    "    \n",
    "pd.DataFrame(data).set_index('d').plot()\n",
    "pd.DataFrame(data).set_index('d').plot(logx=True)"
   ]
  },
  {
   "cell_type": "markdown",
   "metadata": {},
   "source": [
    "### Handling the Bias Term\n",
    "\n",
    "To include a bias term in $d$-variate linear regression, one can add an all-ones column to the end of the input matrix, making it $X'=[X\\ |\\ 1]$, and append a bias parameter to the end of the parameter vector, $w'=[w\\ |\\ \\beta]$. This creates a ($d+1$)-variate model is equivalent to a $d$-variate model with a bias term, because $X'w' = Xw + \\beta$"
   ]
  },
  {
   "cell_type": "code",
   "execution_count": 21,
   "metadata": {},
   "outputs": [],
   "source": [
    "# Incorporate a bias term into the previous model.\n",
    "n, d = 1000, 20\n",
    "X, y = gen_data(n, d)\n",
    "\n",
    "np.ones((n, 1))\n",
    "\n",
    "X_extended = np.hstack((X, np.ones((n, 1))))\n",
    "\n",
    "w_extended = train_linreg(X_extended, y)\n",
    "w = w_extended[:-1]  # weight parameters\n",
    "b = w_extended[-1]   # bias parameter"
   ]
  },
  {
   "cell_type": "markdown",
   "metadata": {},
   "source": [
    "### Linear Regression on Sparse Data\n",
    "\n",
    "When the input matrix is sparse, meaning it has many zero values, traditional linear regression methods perform poorly. To avoid storage inefficiencies, the input matrix should be represented in a sparse matrix format such as COO, CSR, or CSC. To handle sparse data effectively, alternative training algorithms should be employed that only consider the non-zero locations in the input matrix."
   ]
  },
  {
   "cell_type": "code",
   "execution_count": 17,
   "metadata": {},
   "outputs": [],
   "source": [
    "import numpy as np\n",
    "import scipy.sparse as sp\n",
    "\n",
    "def gen_sparse_data(n, d, density):\n",
    "    X = sp.random(n, d, density=density, random_state=42) # input matrix\n",
    "    v = np.arange(d)\n",
    "    y = X @ v + np.random.RandomState(42).randn(n)   # target vector\n",
    "    return X, y"
   ]
  },
  {
   "cell_type": "code",
   "execution_count": 18,
   "metadata": {},
   "outputs": [],
   "source": [
    "# Generate artificial data set.\n",
    "X, y = gen_sparse_data(1_000, 500, 0.02)"
   ]
  },
  {
   "cell_type": "code",
   "execution_count": 19,
   "metadata": {},
   "outputs": [
    {
     "data": {
      "text/plain": [
       "(1000, 500)"
      ]
     },
     "execution_count": 19,
     "metadata": {},
     "output_type": "execute_result"
    }
   ],
   "source": [
    "X.shape"
   ]
  },
  {
   "cell_type": "code",
   "execution_count": 20,
   "metadata": {},
   "outputs": [
    {
     "data": {
      "text/plain": [
       "(1000,)"
      ]
     },
     "execution_count": 20,
     "metadata": {},
     "output_type": "execute_result"
    }
   ],
   "source": [
    "y.shape"
   ]
  },
  {
   "cell_type": "code",
   "execution_count": 21,
   "metadata": {},
   "outputs": [
    {
     "data": {
      "text/plain": [
       "<1000x500 sparse matrix of type '<class 'numpy.float64'>'\n",
       "\twith 10000 stored elements in COOrdinate format>"
      ]
     },
     "execution_count": 21,
     "metadata": {},
     "output_type": "execute_result"
    }
   ],
   "source": [
    "X"
   ]
  },
  {
   "cell_type": "code",
   "execution_count": 41,
   "metadata": {},
   "outputs": [
    {
     "data": {
      "text/plain": [
       "scipy.sparse._coo.coo_matrix"
      ]
     },
     "execution_count": 41,
     "metadata": {},
     "output_type": "execute_result"
    }
   ],
   "source": [
    "type(X) # sparse matrix in COOrdinate format"
   ]
  },
  {
   "cell_type": "code",
   "execution_count": 42,
   "metadata": {},
   "outputs": [
    {
     "data": {
      "text/plain": [
       "numpy.ndarray"
      ]
     },
     "execution_count": 42,
     "metadata": {},
     "output_type": "execute_result"
    }
   ],
   "source": [
    "type(y)"
   ]
  },
  {
   "cell_type": "code",
   "execution_count": 44,
   "metadata": {},
   "outputs": [],
   "source": [
    "# Compute optimal parameter vector.\n",
    "A = X.T @ X\n",
    "b = X.T @ y\n",
    "w = sp.linalg.spsolve(A, b)"
   ]
  }
 ],
 "metadata": {
  "kernelspec": {
   "display_name": "Python 3 (ipykernel)",
   "language": "python",
   "name": "python3"
  },
  "language_info": {
   "codemirror_mode": {
    "name": "ipython",
    "version": 3
   },
   "file_extension": ".py",
   "mimetype": "text/x-python",
   "name": "python",
   "nbconvert_exporter": "python",
   "pygments_lexer": "ipython3",
   "version": "3.8.0"
  }
 },
 "nbformat": 4,
 "nbformat_minor": 4
}
