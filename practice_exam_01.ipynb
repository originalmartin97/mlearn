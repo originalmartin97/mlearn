{
 "cells": [
  {
   "cell_type": "markdown",
   "metadata": {},
   "source": [
    "# Python Programming Practice Exam"
   ]
  },
  {
   "cell_type": "markdown",
   "metadata": {},
   "source": [
    "```\n",
    "Scoring:\n",
    "============\n",
    " 0-11: fail (1),\n",
    "12-14: pass (2),\n",
    "15-17: satisfactory (3),\n",
    "18-20: good (4),\n",
    "21-24: excellent (5).\n",
    "```"
   ]
  },
  {
   "cell_type": "markdown",
   "metadata": {},
   "source": [
    "## Problem 1\n",
    "<p style=\"text-align: right\">(4 points)</p>\n",
    "\n",
    "The `code` list contains positive integers and strings in an alternating fashion. Write a program that prepares a string from the list so that it\n",
    "- repeats each string $n$ times where $n$ is the number before the string,\n",
    "- then concatenates the repeated strings after each other.\n",
    "\n",
    "Example: `[3, 'va', 2, 'bob'] => 'vavavabobbob'`.\n",
    "The program should not only work for the given `code` list but also for arbitrary input of the same format. You can assume that the input contains an even number of elements and it is syntactically correct."
   ]
  },
  {
   "cell_type": "code",
   "execution_count": 1,
   "metadata": {},
   "outputs": [],
   "source": [
    "code = [2, 'ki', 4, 'abb', 3, 'xor', 1, 'qwer']"
   ]
  },
  {
   "cell_type": "code",
   "execution_count": 7,
   "metadata": {},
   "outputs": [
    {
     "name": "stdout",
     "output_type": "stream",
     "text": [
      "kikiabbabbabbabbxorxorxorqwer\n"
     ]
    }
   ],
   "source": [
    "# solution 1\n",
    "result = ''\n",
    "for i in range(0, len(code), 2):\n",
    "    result += code[i] * code[i + 1]\n",
    "print(result)"
   ]
  },
  {
   "cell_type": "code",
   "execution_count": 20,
   "metadata": {},
   "outputs": [
    {
     "data": {
      "text/plain": [
       "'kikiabbabbabbabbxorxorxorqwer'"
      ]
     },
     "execution_count": 20,
     "metadata": {},
     "output_type": "execute_result"
    }
   ],
   "source": [
    "# solution 1B\n",
    "''.join(code[i] * code[i + 1] for i in range(0, len(code), 2))"
   ]
  },
  {
   "cell_type": "code",
   "execution_count": 18,
   "metadata": {},
   "outputs": [
    {
     "data": {
      "text/plain": [
       "'kikiabbabbabbabbxorxorxorqwer'"
      ]
     },
     "execution_count": 18,
     "metadata": {},
     "output_type": "execute_result"
    }
   ],
   "source": [
    "# solution 2 (without index based loop)\n",
    "''.join(n * s for n, s in zip(code[::2], code[1::2]))"
   ]
  },
  {
   "cell_type": "markdown",
   "metadata": {},
   "source": [
    "## Problem 2\n",
    "<p style=\"text-align: right\">(8 points)</p>\n",
    "\n",
    "The `letters` object contains a table of lowercase letters. Each row is represented as a string, and the table is represented as a list of strings. Write a program that prints the column containing the most vowels! The program should not only work for the given `letters` object but also for arbitrary input of the same format."
   ]
  },
  {
   "cell_type": "code",
   "execution_count": 1,
   "metadata": {},
   "outputs": [],
   "source": [
    "letters = [\n",
    "    'onceuponamidnig',\n",
    "    'htdrearywhileip',\n",
    "    'onderedweakandw',\n",
    "    'earyovermanyaqu',\n",
    "    'aintandcuriousv',\n",
    "    'olumeofforgotte',\n",
    "    'nlorewhileinodd',\n",
    "    'ednearlynapping',\n",
    "    'suddenlythereca',\n",
    "    'meatappingasofs',\n",
    "    'omeonegentlyrap',\n",
    "    'pingrappingatmy',\n",
    "    'chamberdoortiss',\n",
    "    'omevisitorimutt',\n",
    "    'eredtappingatmy'\n",
    "]"
   ]
  },
  {
   "cell_type": "code",
   "execution_count": 34,
   "metadata": {},
   "outputs": [
    {
     "data": {
      "text/plain": [
       "(4, 10)"
      ]
     },
     "execution_count": 34,
     "metadata": {},
     "output_type": "execute_result"
    }
   ],
   "source": [
    "# solution 1\n",
    "\n",
    "# count vowels for each column\n",
    "ncols = len(letters[0])\n",
    "vowels = {'a', 'e', 'i', 'o', 'u'}\n",
    "counters = [0] * ncols\n",
    "for row in letters: # iterate over rows\n",
    "    for j in range(ncols): # iterate over columns (index based)\n",
    "        ch = row[j]\n",
    "        if ch in vowels:\n",
    "            counters[j] += 1\n",
    "\n",
    "# find column with the most vowels\n",
    "maxvowels = -1\n",
    "for j in range(ncols):\n",
    "    if counters[j] > maxvowels:\n",
    "        maxvowels = counters[j]\n",
    "        maxcol = j\n",
    "maxcol, maxvowels"
   ]
  },
  {
   "cell_type": "code",
   "execution_count": 38,
   "metadata": {},
   "outputs": [
    {
     "data": {
      "text/plain": [
       "(4, 10)"
      ]
     },
     "execution_count": 38,
     "metadata": {},
     "output_type": "execute_result"
    }
   ],
   "source": [
    "# solution 1B\n",
    "\n",
    "# count vowels for each column\n",
    "ncols = len(letters[0])\n",
    "vowels = {'a', 'e', 'i', 'o', 'u'}\n",
    "counters = [0] * ncols\n",
    "for row in letters: # iterate over rows\n",
    "    for j in range(ncols): # iterate over columns (index based)\n",
    "        ch = row[j]\n",
    "        if ch in vowels:\n",
    "            counters[j] += 1\n",
    "\n",
    "# find column with the most vowels\n",
    "max(enumerate(counters), key=lambda x: x[1])"
   ]
  },
  {
   "cell_type": "code",
   "execution_count": 2,
   "metadata": {},
   "outputs": [
    {
     "data": {
      "text/plain": [
       "(4, 10)"
      ]
     },
     "execution_count": 2,
     "metadata": {},
     "output_type": "execute_result"
    }
   ],
   "source": [
    "# solution 2 (based on numpy)\n",
    "import numpy as np\n",
    "\n",
    "A = np.array([list(row) for row in letters])\n",
    "vowels = {'a', 'e', 'i', 'o', 'u'}\n",
    "counters = []\n",
    "for j in range(A.shape[1]):\n",
    "    count = sum(ch in vowels for ch in A[:, j])\n",
    "    counters.append(count)\n",
    "\n",
    "max(enumerate(counters), key=lambda x: x[1])"
   ]
  },
  {
   "cell_type": "code",
   "execution_count": 3,
   "metadata": {},
   "outputs": [
    {
     "data": {
      "text/plain": [
       "(4, 10)"
      ]
     },
     "execution_count": 3,
     "metadata": {},
     "output_type": "execute_result"
    }
   ],
   "source": [
    "# solution 2B\n",
    "A = np.array([list(row) for row in letters])\n",
    "vowels = {'a', 'e', 'i', 'o', 'u'}\n",
    "counters = [sum(ch in vowels for ch in A[:, j]) for j in range(A.shape[1])]\n",
    "max(enumerate(counters), key=lambda x: x[1])"
   ]
  },
  {
   "cell_type": "markdown",
   "metadata": {},
   "source": [
    "## Problem 3\n",
    "<p style=\"text-align: right\">(12 points)</p>\n",
    "\n",
    "The text file [singapore.txt](singapore.txt) contains data about the population of Singapore, split by year, sex, ethnicity and age group. Write a program that reads the data, and then:\n",
    "\n",
    "**(a)** Plots the total population of Singapore per year.<br>\n",
    "**(b)** Prints the percentage of different ethnicities in 1957.<br>\n",
    "**(c)** Prints the male/female ratio in 2019, among the citizens at least 65 years old."
   ]
  },
  {
   "cell_type": "code",
   "execution_count": 18,
   "metadata": {},
   "outputs": [
    {
     "data": {
      "text/html": [
       "<div>\n",
       "<style scoped>\n",
       "    .dataframe tbody tr th:only-of-type {\n",
       "        vertical-align: middle;\n",
       "    }\n",
       "\n",
       "    .dataframe tbody tr th {\n",
       "        vertical-align: top;\n",
       "    }\n",
       "\n",
       "    .dataframe thead th {\n",
       "        text-align: right;\n",
       "    }\n",
       "</style>\n",
       "<table border=\"1\" class=\"dataframe\">\n",
       "  <thead>\n",
       "    <tr style=\"text-align: right;\">\n",
       "      <th></th>\n",
       "      <th>year</th>\n",
       "      <th>sex</th>\n",
       "      <th>ethnicity</th>\n",
       "      <th>age_group</th>\n",
       "      <th>population</th>\n",
       "    </tr>\n",
       "  </thead>\n",
       "  <tbody>\n",
       "    <tr>\n",
       "      <th>0</th>\n",
       "      <td>1957</td>\n",
       "      <td>Male</td>\n",
       "      <td>Malays</td>\n",
       "      <td>0  -  4 Years</td>\n",
       "      <td>21743.0</td>\n",
       "    </tr>\n",
       "    <tr>\n",
       "      <th>1</th>\n",
       "      <td>1957</td>\n",
       "      <td>Male</td>\n",
       "      <td>Malays</td>\n",
       "      <td>5  -  9 Years</td>\n",
       "      <td>14451.0</td>\n",
       "    </tr>\n",
       "    <tr>\n",
       "      <th>2</th>\n",
       "      <td>1957</td>\n",
       "      <td>Male</td>\n",
       "      <td>Malays</td>\n",
       "      <td>10 - 14 Years</td>\n",
       "      <td>8393.0</td>\n",
       "    </tr>\n",
       "    <tr>\n",
       "      <th>3</th>\n",
       "      <td>1957</td>\n",
       "      <td>Male</td>\n",
       "      <td>Malays</td>\n",
       "      <td>15 - 19 Years</td>\n",
       "      <td>8528.0</td>\n",
       "    </tr>\n",
       "    <tr>\n",
       "      <th>4</th>\n",
       "      <td>1957</td>\n",
       "      <td>Male</td>\n",
       "      <td>Malays</td>\n",
       "      <td>20 - 24 Years</td>\n",
       "      <td>10556.0</td>\n",
       "    </tr>\n",
       "    <tr>\n",
       "      <th>...</th>\n",
       "      <td>...</td>\n",
       "      <td>...</td>\n",
       "      <td>...</td>\n",
       "      <td>...</td>\n",
       "      <td>...</td>\n",
       "    </tr>\n",
       "    <tr>\n",
       "      <th>9571</th>\n",
       "      <td>2019</td>\n",
       "      <td>Female</td>\n",
       "      <td>Other</td>\n",
       "      <td>70 - 74 Years</td>\n",
       "      <td>849.0</td>\n",
       "    </tr>\n",
       "    <tr>\n",
       "      <th>9572</th>\n",
       "      <td>2019</td>\n",
       "      <td>Female</td>\n",
       "      <td>Other</td>\n",
       "      <td>75 - 79 Years</td>\n",
       "      <td>490.0</td>\n",
       "    </tr>\n",
       "    <tr>\n",
       "      <th>9573</th>\n",
       "      <td>2019</td>\n",
       "      <td>Female</td>\n",
       "      <td>Other</td>\n",
       "      <td>80 - 84 Years</td>\n",
       "      <td>404.0</td>\n",
       "    </tr>\n",
       "    <tr>\n",
       "      <th>9574</th>\n",
       "      <td>2019</td>\n",
       "      <td>Female</td>\n",
       "      <td>Other</td>\n",
       "      <td>85 - 89 Years</td>\n",
       "      <td>264.0</td>\n",
       "    </tr>\n",
       "    <tr>\n",
       "      <th>9575</th>\n",
       "      <td>2019</td>\n",
       "      <td>Female</td>\n",
       "      <td>Other</td>\n",
       "      <td>90 Years &amp; Over</td>\n",
       "      <td>190.0</td>\n",
       "    </tr>\n",
       "  </tbody>\n",
       "</table>\n",
       "<p>9576 rows × 5 columns</p>\n",
       "</div>"
      ],
      "text/plain": [
       "      year     sex ethnicity        age_group  population\n",
       "0     1957    Male    Malays    0  -  4 Years     21743.0\n",
       "1     1957    Male    Malays    5  -  9 Years     14451.0\n",
       "2     1957    Male    Malays    10 - 14 Years      8393.0\n",
       "3     1957    Male    Malays    15 - 19 Years      8528.0\n",
       "4     1957    Male    Malays    20 - 24 Years     10556.0\n",
       "...    ...     ...       ...              ...         ...\n",
       "9571  2019  Female     Other    70 - 74 Years       849.0\n",
       "9572  2019  Female     Other    75 - 79 Years       490.0\n",
       "9573  2019  Female     Other    80 - 84 Years       404.0\n",
       "9574  2019  Female     Other    85 - 89 Years       264.0\n",
       "9575  2019  Female     Other  90 Years & Over       190.0\n",
       "\n",
       "[9576 rows x 5 columns]"
      ]
     },
     "execution_count": 18,
     "metadata": {},
     "output_type": "execute_result"
    }
   ],
   "source": [
    "# read data to pandas DataFrame\n",
    "import pandas as pd\n",
    "names = ['year', 'sex', 'ethnicity', 'age_group', 'population']\n",
    "df = pd.read_csv('singapore.txt', sep=';', comment='#', names=names, na_values='na')\n",
    "df"
   ]
  },
  {
   "cell_type": "code",
   "execution_count": 19,
   "metadata": {},
   "outputs": [
    {
     "name": "stdout",
     "output_type": "stream",
     "text": [
      "<class 'pandas.core.frame.DataFrame'>\n",
      "RangeIndex: 9576 entries, 0 to 9575\n",
      "Data columns (total 5 columns):\n",
      " #   Column      Non-Null Count  Dtype  \n",
      "---  ------      --------------  -----  \n",
      " 0   year        9576 non-null   int64  \n",
      " 1   sex         9576 non-null   object \n",
      " 2   ethnicity   9576 non-null   object \n",
      " 3   age_group   9576 non-null   object \n",
      " 4   population  8232 non-null   float64\n",
      "dtypes: float64(1), int64(1), object(3)\n",
      "memory usage: 374.2+ KB\n"
     ]
    }
   ],
   "source": [
    "df.info()"
   ]
  },
  {
   "cell_type": "code",
   "execution_count": 22,
   "metadata": {},
   "outputs": [
    {
     "data": {
      "text/html": [
       "<div>\n",
       "<style scoped>\n",
       "    .dataframe tbody tr th:only-of-type {\n",
       "        vertical-align: middle;\n",
       "    }\n",
       "\n",
       "    .dataframe tbody tr th {\n",
       "        vertical-align: top;\n",
       "    }\n",
       "\n",
       "    .dataframe thead th {\n",
       "        text-align: right;\n",
       "    }\n",
       "</style>\n",
       "<table border=\"1\" class=\"dataframe\">\n",
       "  <thead>\n",
       "    <tr style=\"text-align: right;\">\n",
       "      <th></th>\n",
       "      <th>count</th>\n",
       "      <th>mean</th>\n",
       "      <th>std</th>\n",
       "      <th>min</th>\n",
       "      <th>25%</th>\n",
       "      <th>50%</th>\n",
       "      <th>75%</th>\n",
       "      <th>max</th>\n",
       "    </tr>\n",
       "  </thead>\n",
       "  <tbody>\n",
       "    <tr>\n",
       "      <th>year</th>\n",
       "      <td>9576.0</td>\n",
       "      <td>1988.000000</td>\n",
       "      <td>18.185192</td>\n",
       "      <td>1957.0</td>\n",
       "      <td>1972.0</td>\n",
       "      <td>1988.0</td>\n",
       "      <td>2004.0</td>\n",
       "      <td>2019.0</td>\n",
       "    </tr>\n",
       "    <tr>\n",
       "      <th>population</th>\n",
       "      <td>8232.0</td>\n",
       "      <td>20931.844266</td>\n",
       "      <td>31111.785520</td>\n",
       "      <td>20.0</td>\n",
       "      <td>1900.0</td>\n",
       "      <td>7517.5</td>\n",
       "      <td>21433.5</td>\n",
       "      <td>124778.0</td>\n",
       "    </tr>\n",
       "  </tbody>\n",
       "</table>\n",
       "</div>"
      ],
      "text/plain": [
       "             count          mean           std     min     25%     50%  \\\n",
       "year        9576.0   1988.000000     18.185192  1957.0  1972.0  1988.0   \n",
       "population  8232.0  20931.844266  31111.785520    20.0  1900.0  7517.5   \n",
       "\n",
       "                75%       max  \n",
       "year         2004.0    2019.0  \n",
       "population  21433.5  124778.0  "
      ]
     },
     "execution_count": 22,
     "metadata": {},
     "output_type": "execute_result"
    }
   ],
   "source": [
    "df.describe().T"
   ]
  },
  {
   "cell_type": "code",
   "execution_count": 27,
   "metadata": {},
   "outputs": [
    {
     "data": {
      "text/plain": [
       "<AxesSubplot: xlabel='year'>"
      ]
     },
     "execution_count": 27,
     "metadata": {},
     "output_type": "execute_result"
    },
    {
     "data": {
      "image/png": "[encoded data removed]",
      "text/plain": [
       "<Figure size 432x288 with 1 Axes>"
      ]
     },
     "metadata": {
      "needs_background": "light"
     },
     "output_type": "display_data"
    }
   ],
   "source": [
    "# (a) Plots the total population of Singapore per year.\n",
    "df.groupby('year')['population'].sum().plot()"
   ]
  },
  {
   "cell_type": "code",
   "execution_count": 42,
   "metadata": {},
   "outputs": [
    {
     "data": {
      "text/plain": [
       "ethnicity\n",
       "Chinese    75.432856\n",
       "Indians     8.584120\n",
       "Malays     13.619579\n",
       "Other       2.363444\n",
       "Name: population, dtype: float64"
      ]
     },
     "execution_count": 42,
     "metadata": {},
     "output_type": "execute_result"
    }
   ],
   "source": [
    "# (b) Prints the percentage of different ethnicities in 1957.\n",
    "se = df[df['year'] == 1957].groupby('ethnicity')['population'].sum()\n",
    "se / se.sum() * 100"
   ]
  },
  {
   "cell_type": "code",
   "execution_count": 44,
   "metadata": {},
   "outputs": [
    {
     "data": {
      "text/plain": [
       "<AxesSubplot: ylabel='population'>"
      ]
     },
     "execution_count": 44,
     "metadata": {},
     "output_type": "execute_result"
    },
    {
     "data": {
      "image/png": "[encoded data removed]",
      "text/plain": [
       "<Figure size 432x288 with 1 Axes>"
      ]
     },
     "metadata": {},
     "output_type": "display_data"
    }
   ],
   "source": [
    "se.plot(kind='pie')"
   ]
  },
  {
   "cell_type": "code",
   "execution_count": 56,
   "metadata": {},
   "outputs": [
    {
     "data": {
      "text/plain": [
       "0.8453495085878165"
      ]
     },
     "execution_count": 56,
     "metadata": {},
     "output_type": "execute_result"
    }
   ],
   "source": [
    "# Prints the male/female ratio in 2019, among the citizens at least 65 years old\n",
    "age_groups = {'65 - 69 Years', '70 - 74 Years', '75 - 79 Years', '80 - 84 Years', '85 - 89 Years', '90 Years & Over'}\n",
    "cond = (df['year'] == 2019) & (df['age_group'].isin(age_groups))\n",
    "se = df[cond].groupby('sex')['population'].sum()\n",
    "se['Male'] / se['Female']"
   ]
  },
  {
   "cell_type": "code",
   "execution_count": 59,
   "metadata": {},
   "outputs": [
    {
     "data": {
      "text/plain": [
       "array(['0  -  4 Years', '5  -  9 Years', '10 - 14 Years', '15 - 19 Years',\n",
       "       '20 - 24 Years', '25 - 29 Years', '30 - 34 Years', '35 - 39 Years',\n",
       "       '40 - 44 Years', '45 - 49 Years', '50 - 54 Years', '55 - 59 Years',\n",
       "       '60 - 64 Years', '65 - 69 Years', '70 - 74 Years', '75 - 79 Years',\n",
       "       '80 - 84 Years', '85 - 89 Years', '90 Years & Over'], dtype=object)"
      ]
     },
     "execution_count": 59,
     "metadata": {},
     "output_type": "execute_result"
    }
   ],
   "source": [
    "df['age_group'].unique()"
   ]
  },
  {
   "cell_type": "code",
   "execution_count": 58,
   "metadata": {},
   "outputs": [
    {
     "data": {
      "text/plain": [
       "0.8453495085878165"
      ]
     },
     "execution_count": 58,
     "metadata": {},
     "output_type": "execute_result"
    }
   ],
   "source": [
    "cond = (df['year'] == 2019) & (df['age_group'] >= '65') # <= the age group condition can be simplified\n",
    "se = df[cond].groupby('sex')['population'].sum()\n",
    "se['Male'] / se['Female']"
   ]
  }
 ],
 "metadata": {
  "kernelspec": {
   "display_name": "Python 3 (ipykernel)",
   "language": "python",
   "name": "python3"
  },
  "language_info": {
   "codemirror_mode": {
    "name": "ipython",
    "version": 3
   },
   "file_extension": ".py",
   "mimetype": "text/x-python",
   "name": "python",
   "nbconvert_exporter": "python",
   "pygments_lexer": "ipython3",
   "version": "3.8.0"
  }
 },
 "nbformat": 4,
 "nbformat_minor": 4
}
