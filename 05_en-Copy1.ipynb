{
 "cells": [
  {
   "cell_type": "markdown",
   "metadata": {},
   "source": [
    "## [Decision Tree](https://en.wikipedia.org/wiki/Decision_tree_learning)"
   ]
  },
  {
   "cell_type": "markdown",
   "metadata": {},
   "source": [
    "The decision tree is an old, but still relevant nonlinear learning algorithm. The leaves of the tree represent distinct subsets of the training data. The other nodes compare a given attribute to a threshold value (e.g. is the body temperature < 37 °C). The branches starting from the node are associated with the two possible outcomes of the comparison."
   ]
  },
  {
   "cell_type": "markdown",
   "metadata": {},
   "source": [
    "<img src=\"../_img/decision_tree.jpg\" width=\"400\" align=\"left\">"
   ]
  },
  {
   "cell_type": "markdown",
   "metadata": {},
   "source": [
    "In this notebook, we will prepare the simplest version of the decision tree called [decision stump](https://en.wikipedia.org/wiki/Decision_stump), and we will test it on the Boston Housing data set. Moreover, we will explore the capabilities of scikit-learn's decision tree algorithm."
   ]
  },
  {
   "cell_type": "markdown",
   "metadata": {},
   "source": [
    "<img src=\"../_img/decision_stump.png\" width=\"500\" align=\"left\">"
   ]
  },
  {
   "cell_type": "markdown",
   "metadata": {},
   "source": [
    "**Exercise 2**: Implement the training of the decision stump regressor from scratch, and measure the model's root mean squared error (RMSE) on the full Boston Housing data set!"
   ]
  },
  {
   "cell_type": "code",
   "execution_count": 20,
   "metadata": {},
   "outputs": [],
   "source": [
    "# Loading the data.\n",
    "import pandas as pd\n",
    "names = ['CRIM', 'ZN', 'INDUS', 'CHAS', 'NOX', 'RM', 'AGE',\n",
    "         'DIS', 'RAD', 'TAX', 'PTRATIO', 'LSTAT', 'MEDV']\n",
    "df = pd.read_csv('../_data/housing_data.txt', delim_whitespace=True, names=names)\n",
    "X = df[df.columns[:-1]].values # input matrix\n",
    "y = df['MEDV'].values          # target vector"
   ]
  },
  {
   "cell_type": "code",
   "execution_count": 21,
   "metadata": {},
   "outputs": [
    {
     "name": "stdout",
     "output_type": "stream",
     "text": [
      "42714.138495049505 0 0.007690000000000001\n",
      "42654.06214285715 0 0.01001\n",
      "42607.60066733068 0 0.01306\n",
      "42487.76150099801 0 0.013354999999999999\n",
      "42237.84195247638 0 0.014065\n",
      "42153.999678714856 0 0.014355\n",
      "42111.73079365079 0 0.014700000000000001\n",
      "41739.21143434343 0 0.015195\n",
      "41403.70269905533 0 0.016235\n",
      "41349.519812763305 0 0.017435\n",
      "41236.26263646922 0 0.01824\n",
      "41205.95119132654 0 0.01958\n",
      "40890.95242258652 0 0.020319999999999998\n",
      "40635.159448559665 0 0.02182\n",
      "40556.32548257241 0 0.023425\n",
      "40547.17303427895 0 0.03393\n",
      "40380.59639339103 0 0.035235\n",
      "40254.02162255965 0 0.035809999999999995\n",
      "40253.174434710054 0 0.03637\n",
      "40116.550764971194 0 0.037215\n",
      "40053.84481361776 0 0.038195\n",
      "40050.55321587302 0 0.04158\n",
      "40026.656188803965 0 0.060615\n",
      "39928.78982113821 0 0.06128\n",
      "39665.01313689411 0 0.061399999999999996\n",
      "39608.649885609964 0 0.06874\n",
      "39463.265595959594 0 0.068935\n",
      "39343.75913705584 0 0.06908\n",
      "39265.912307865525 0 0.06962\n",
      "39210.16856426781 0 0.070175\n",
      "39155.07983894646 0 0.078805\n",
      "38989.80508618654 0 0.07891000000000001\n",
      "38928.994316416145 0 0.07996\n",
      "38717.01742815372 0 0.08193\n",
      "38678.05333333334 0 0.08232500000000001\n",
      "38656.59620356234 0 0.08338999999999999\n",
      "38515.85305258467 0 0.083785\n",
      "38423.24137486273 0 0.08685499999999999\n",
      "38407.847881084235 0 0.09085499999999999\n",
      "38224.95304906361 0 0.091335\n",
      "38221.28124619482 0 0.092825\n",
      "38220.88735692883 0 0.09673999999999999\n",
      "38215.88722212965 0 0.10004\n",
      "38102.51552353896 0 0.10046\n",
      "38097.114624419206 0 0.530525\n",
      "37833.89951690821 0 0.53556\n",
      "37804.16323365696 0 0.538555\n",
      "37652.42981832914 0 0.540305\n",
      "37370.19513926763 0 0.54251\n",
      "37229.301349661284 0 0.553925\n",
      "37010.035198692814 0 0.576815\n",
      "36615.80305075868 0 0.584195\n",
      "36598.24378066379 0 0.600795\n",
      "36188.70514973798 0 0.61312\n",
      "36064.39923206056 0 0.61913\n",
      "35977.49916167862 0 0.625475\n",
      "35946.86362004487 0 0.66008\n",
      "35727.589037974685 0 0.66771\n",
      "35552.068071910115 0 1.92198\n",
      "35062.63064576166 0 2.079685\n",
      "34962.9829047229 0 5.680865\n",
      "34887.16084843596 0 5.71967\n",
      "34775.12330894309 0 5.776155\n",
      "34758.50777564349 0 5.82258\n",
      "34683.80154100392 0 5.84803\n",
      "34459.1683803519 0 6.59684\n",
      "34450.12268540669 0 6.68632\n",
      "34179.313795165566 2 3.97\n",
      "34079.75626356588 2 3.97\n",
      "33992.9072965188 2 3.97\n",
      "33823.920771531106 2 3.97\n",
      "33446.069910274025 2 3.97\n",
      "32932.259 2 3.97\n",
      "32822.44286137958 2 3.97\n",
      "32525.80000681663 2 6.2\n",
      "32408.905397365066 2 6.305\n",
      "32232.526407203906 2 6.41\n",
      "32069.971986668697 2 6.41\n",
      "31913.84879658385 2 6.41\n",
      "31735.28989239707 2 6.41\n",
      "31633.06994724462 2 6.66\n",
      "31620.265685618728 5 6.353\n",
      "31597.217758899675 5 6.365\n",
      "31589.026377765174 5 6.3725000000000005\n",
      "31580.444654914947 5 6.3740000000000006\n",
      "31550.410197210666 5 6.3765\n",
      "31385.904983006534 5 6.3785\n",
      "31111.927828065407 5 6.38\n",
      "30905.164949494945 5 6.381\n",
      "30894.875389745866 5 6.3825\n",
      "30881.240154281644 5 6.3965\n",
      "30877.875029335995 5 6.4030000000000005\n",
      "30643.677037641577 5 6.4045000000000005\n",
      "30607.31236292624 5 6.405\n",
      "30376.976001605777 5 6.405\n",
      "30269.188327494005 5 6.4055\n",
      "30129.227205309136 5 6.4085\n",
      "29979.37480946367 5 6.413\n",
      "29964.76324786325 5 6.417\n",
      "29733.06464156396 5 6.417\n",
      "29683.89051816924 5 6.423\n",
      "29513.365627226638 5 6.4254999999999995\n",
      "29506.29679528789 5 6.428\n",
      "29471.24007837721 5 6.431\n",
      "29115.059845077285 5 6.4350000000000005\n",
      "28895.02630601379 5 6.4365000000000006\n",
      "28869.883910364148 5 6.4375\n",
      "28846.588411876586 5 6.4475\n",
      "28792.809893134086 5 6.4535\n",
      "28628.28351240255 5 6.455\n",
      "28576.961106549366 5 6.457000000000001\n",
      "28456.8392882613 5 6.4585\n",
      "28165.899572877355 5 6.46\n",
      "27819.337393051967 5 6.466\n",
      "27549.313126293997 5 6.4725\n",
      "27434.100434609827 5 6.4775\n",
      "27409.97435883494 5 6.4815000000000005\n",
      "27321.33991896775 5 6.484500000000001\n",
      "27095.753783150183 5 6.486000000000001\n",
      "27084.825822994208 5 6.4885\n",
      "27036.90448457792 5 6.4925\n",
      "26913.871297576567 5 6.5024999999999995\n",
      "26872.798036377208 5 6.5105\n",
      "26872.49322097378 5 6.5120000000000005\n",
      "26753.396314928657 5 6.5145\n",
      "26704.4599890533 5 6.5205\n",
      "26430.367471623744 5 6.5315\n",
      "26411.189509893455 5 6.539\n",
      "26192.07816142898 5 6.5425\n",
      "25826.708856660527 5 6.5455000000000005\n",
      "25815.173483749782 5 6.652\n",
      "25512.31084920792 5 6.656000000000001\n",
      "25259.78012157383 5 6.6655\n",
      "25109.893851662404 5 6.676\n",
      "24961.905816346345 5 6.749499999999999\n",
      "24865.09782178218 5 6.754\n",
      "24328.828513719513 5 6.782\n",
      "24036.088702747365 5 6.794\n",
      "23864.15348538103 5 6.797\n",
      "23726.463053377523 5 6.824999999999999\n",
      "23452.510150056238 5 6.8375\n",
      "23443.898181818182 5 6.918\n",
      "23376.74038861689 5 6.941\n"
     ]
    }
   ],
   "source": [
    "import numpy as np\n",
    "\n",
    "n, d = X.shape\n",
    "sse_min = np.inf\n",
    "for j in range(d): # iterate over features\n",
    "    x = X[:, j] # select j-th column\n",
    "\n",
    "    # sort input and target by target\n",
    "    idxs = np.argsort(x)\n",
    "    x_sorted = x[idxs]\n",
    "    y_sorted = y[idxs]\n",
    "\n",
    "    midpoints = (x_sorted[1:] + x_sorted[:-1]) / 2\n",
    "    for i, t in enumerate(midpoints): # iterate over threshold values\n",
    "        k = i + 1\n",
    "        yhat_L = y_sorted[:k].mean() # average target on the left side\n",
    "        yhat_R = y_sorted[k:].mean() # average target on the left side\n",
    "        sse_L = ((yhat_L - y_sorted[:k])**2).sum()\n",
    "        sse_R = ((yhat_R - y_sorted[k:])**2).sum()\n",
    "        sse = sse_L + sse_R\n",
    "        \n",
    "        if sse < sse_min: # we have found a better decision than the current best\n",
    "            sse_min = sse\n",
    "            j_best, t_best = j, t\n",
    "            yhat_L_best, yhat_R_best = yhat_L, yhat_R\n",
    "            print(sse, j, t)"
   ]
  },
  {
   "cell_type": "code",
   "execution_count": 5,
   "metadata": {},
   "outputs": [
    {
     "data": {
      "text/plain": [
       "(5, 6.941, 23376.74038861689)"
      ]
     },
     "execution_count": 5,
     "metadata": {},
     "output_type": "execute_result"
    }
   ],
   "source": [
    "j_best, t_best, sse_min"
   ]
  },
  {
   "cell_type": "code",
   "execution_count": 6,
   "metadata": {},
   "outputs": [
    {
     "data": {
      "text/plain": [
       "'RM < 6.941'"
      ]
     },
     "execution_count": 6,
     "metadata": {},
     "output_type": "execute_result"
    }
   ],
   "source": [
    "df.columns[j_best] + ' < ' + str(t_best)"
   ]
  },
  {
   "cell_type": "code",
   "execution_count": 7,
   "metadata": {},
   "outputs": [
    {
     "data": {
      "text/plain": [
       "(19.933720930232557, 37.238157894736844)"
      ]
     },
     "execution_count": 7,
     "metadata": {},
     "output_type": "execute_result"
    }
   ],
   "source": [
    "yhat_L_best, yhat_R_best"
   ]
  },
  {
   "cell_type": "markdown",
   "metadata": {},
   "source": [
    "**Exercise 3**: Repeat the previous experiment using scikit-learn!"
   ]
  },
  {
   "cell_type": "code",
   "execution_count": 22,
   "metadata": {},
   "outputs": [
    {
     "data": {
      "text/html": [
       "<style>#sk-container-id-3 {color: black;background-color: white;}#sk-container-id-3 pre{padding: 0;}#sk-container-id-3 div.sk-toggleable {background-color: white;}#sk-container-id-3 label.sk-toggleable__label {cursor: pointer;display: block;width: 100%;margin-bottom: 0;padding: 0.3em;box-sizing: border-box;text-align: center;}#sk-container-id-3 label.sk-toggleable__label-arrow:before {content: \"▸\";float: left;margin-right: 0.25em;color: #696969;}#sk-container-id-3 label.sk-toggleable__label-arrow:hover:before {color: black;}#sk-container-id-3 div.sk-estimator:hover label.sk-toggleable__label-arrow:before {color: black;}#sk-container-id-3 div.sk-toggleable__content {max-height: 0;max-width: 0;overflow: hidden;text-align: left;background-color: #f0f8ff;}#sk-container-id-3 div.sk-toggleable__content pre {margin: 0.2em;color: black;border-radius: 0.25em;background-color: #f0f8ff;}#sk-container-id-3 input.sk-toggleable__control:checked~div.sk-toggleable__content {max-height: 200px;max-width: 100%;overflow: auto;}#sk-container-id-3 input.sk-toggleable__control:checked~label.sk-toggleable__label-arrow:before {content: \"▾\";}#sk-container-id-3 div.sk-estimator input.sk-toggleable__control:checked~label.sk-toggleable__label {background-color: #d4ebff;}#sk-container-id-3 div.sk-label input.sk-toggleable__control:checked~label.sk-toggleable__label {background-color: #d4ebff;}#sk-container-id-3 input.sk-hidden--visually {border: 0;clip: rect(1px 1px 1px 1px);clip: rect(1px, 1px, 1px, 1px);height: 1px;margin: -1px;overflow: hidden;padding: 0;position: absolute;width: 1px;}#sk-container-id-3 div.sk-estimator {font-family: monospace;background-color: #f0f8ff;border: 1px dotted black;border-radius: 0.25em;box-sizing: border-box;margin-bottom: 0.5em;}#sk-container-id-3 div.sk-estimator:hover {background-color: #d4ebff;}#sk-container-id-3 div.sk-parallel-item::after {content: \"\";width: 100%;border-bottom: 1px solid gray;flex-grow: 1;}#sk-container-id-3 div.sk-label:hover label.sk-toggleable__label {background-color: #d4ebff;}#sk-container-id-3 div.sk-serial::before {content: \"\";position: absolute;border-left: 1px solid gray;box-sizing: border-box;top: 0;bottom: 0;left: 50%;z-index: 0;}#sk-container-id-3 div.sk-serial {display: flex;flex-direction: column;align-items: center;background-color: white;padding-right: 0.2em;padding-left: 0.2em;position: relative;}#sk-container-id-3 div.sk-item {position: relative;z-index: 1;}#sk-container-id-3 div.sk-parallel {display: flex;align-items: stretch;justify-content: center;background-color: white;position: relative;}#sk-container-id-3 div.sk-item::before, #sk-container-id-3 div.sk-parallel-item::before {content: \"\";position: absolute;border-left: 1px solid gray;box-sizing: border-box;top: 0;bottom: 0;left: 50%;z-index: -1;}#sk-container-id-3 div.sk-parallel-item {display: flex;flex-direction: column;z-index: 1;position: relative;background-color: white;}#sk-container-id-3 div.sk-parallel-item:first-child::after {align-self: flex-end;width: 50%;}#sk-container-id-3 div.sk-parallel-item:last-child::after {align-self: flex-start;width: 50%;}#sk-container-id-3 div.sk-parallel-item:only-child::after {width: 0;}#sk-container-id-3 div.sk-dashed-wrapped {border: 1px dashed gray;margin: 0 0.4em 0.5em 0.4em;box-sizing: border-box;padding-bottom: 0.4em;background-color: white;}#sk-container-id-3 div.sk-label label {font-family: monospace;font-weight: bold;display: inline-block;line-height: 1.2em;}#sk-container-id-3 div.sk-label-container {text-align: center;}#sk-container-id-3 div.sk-container {/* jupyter's `normalize.less` sets `[hidden] { display: none; }` but bootstrap.min.css set `[hidden] { display: none !important; }` so we also need the `!important` here to be able to override the default hidden behavior on the sphinx rendered scikit-learn.org. See: https://github.com/scikit-learn/scikit-learn/issues/21755 */display: inline-block !important;position: relative;}#sk-container-id-3 div.sk-text-repr-fallback {display: none;}</style><div id=\"sk-container-id-3\" class=\"sk-top-container\"><div class=\"sk-text-repr-fallback\"><pre>DecisionTreeRegressor(max_depth=1)</pre><b>In a Jupyter environment, please rerun this cell to show the HTML representation or trust the notebook. <br />On GitHub, the HTML representation is unable to render, please try loading this page with nbviewer.org.</b></div><div class=\"sk-container\" hidden><div class=\"sk-item\"><div class=\"sk-estimator sk-toggleable\"><input class=\"sk-toggleable__control sk-hidden--visually\" id=\"sk-estimator-id-3\" type=\"checkbox\" checked><label for=\"sk-estimator-id-3\" class=\"sk-toggleable__label sk-toggleable__label-arrow\">DecisionTreeRegressor</label><div class=\"sk-toggleable__content\"><pre>DecisionTreeRegressor(max_depth=1)</pre></div></div></div></div></div>"
      ],
      "text/plain": [
       "DecisionTreeRegressor(max_depth=1)"
      ]
     },
     "execution_count": 22,
     "metadata": {},
     "output_type": "execute_result"
    }
   ],
   "source": [
    "from sklearn.tree import DecisionTreeRegressor\n",
    "re = DecisionTreeRegressor(max_depth=1)\n",
    "re.fit(X, y)"
   ]
  },
  {
   "cell_type": "code",
   "execution_count": 23,
   "metadata": {},
   "outputs": [
    {
     "name": "stdout",
     "output_type": "stream",
     "text": [
      "[ 5 -2 -2]\n",
      "[ 6.94099998 -2.         -2.        ]\n",
      "[[[22.53280632]]\n",
      "\n",
      " [[19.93372093]]\n",
      "\n",
      " [[37.23815789]]]\n"
     ]
    }
   ],
   "source": [
    "# Internal parameters of the trained model (.tree_.{feature, threshold, value})\n",
    "print(re.tree_.feature)\n",
    "print(re.tree_.threshold)\n",
    "print(re.tree_.value)"
   ]
  },
  {
   "cell_type": "markdown",
   "metadata": {},
   "source": [
    "**Execrice 4**: Apply 3-fold cross-validation!"
   ]
  },
  {
   "cell_type": "code",
   "execution_count": 24,
   "metadata": {},
   "outputs": [
    {
     "data": {
      "text/plain": [
       "7.435013307929704"
      ]
     },
     "execution_count": 24,
     "metadata": {},
     "output_type": "execute_result"
    }
   ],
   "source": [
    "from sklearn.model_selection import KFold\n",
    "from sklearn.metrics import mean_squared_error\n",
    "\n",
    "def evaluate(re, X, y):\n",
    "    cv = KFold(3, shuffle=True, random_state=42)\n",
    "    scores = []\n",
    "    for tr, te in cv.split(X):\n",
    "        re.fit(X[tr], y[tr])\n",
    "        yhat = re.predict(X)\n",
    "        score = mean_squared_error(y[te], yhat[te])**0.5\n",
    "        scores.append(score)\n",
    "    return np.mean(scores)\n",
    "\n",
    "evaluate(DecisionTreeRegressor(max_depth=1, random_state=42), X, y)"
   ]
  },
  {
   "cell_type": "markdown",
   "metadata": {},
   "source": [
    "**Exercise 5:** Determine what maximal depth gives the lowest RMSE!"
   ]
  },
  {
   "cell_type": "code",
   "execution_count": 25,
   "metadata": {},
   "outputs": [
    {
     "data": {
      "text/plain": [
       "<AxesSubplot: xlabel='max_depth'>"
      ]
     },
     "execution_count": 25,
     "metadata": {},
     "output_type": "execute_result"
    },
    {
     "data": {
      "image/png": "[encoded data removed]",
      "text/plain": [
       "<Figure size 432x288 with 1 Axes>"
      ]
     },
     "metadata": {
      "needs_background": "light"
     },
     "output_type": "display_data"
    }
   ],
   "source": [
    "res = []\n",
    "for max_depth in range(1, 21):\n",
    "    re = DecisionTreeRegressor(max_depth=max_depth, random_state=42)\n",
    "    res.append({\n",
    "        'max_depth': max_depth,\n",
    "        'rmse': evaluate(re, X, y)\n",
    "    })\n",
    "df_res = pd.DataFrame(res)\n",
    "df_res.set_index('max_depth').plot()"
   ]
  },
  {
   "cell_type": "markdown",
   "metadata": {},
   "source": [
    "**Exercise 6**: Train a decision tree of depth 3 and visualize the trained model!"
   ]
  },
  {
   "cell_type": "code",
   "execution_count": 26,
   "metadata": {},
   "outputs": [
    {
     "data": {
      "image/png": "[encoded data removed]",
      "text/plain": [
       "<Figure size 864x576 with 1 Axes>"
      ]
     },
     "metadata": {
      "needs_background": "light"
     },
     "output_type": "display_data"
    }
   ],
   "source": [
    "from sklearn.tree import plot_tree\n",
    "import matplotlib.pyplot as plt\n",
    "\n",
    "re = DecisionTreeRegressor(max_depth=3, random_state=42, min_samples_leaf=10)\n",
    "re.fit(X, y)\n",
    "\n",
    "plt.figure(figsize=(12, 8))\n",
    "plot_tree(re, filled=True, rounded=True, feature_names=names[:-1])\n",
    "pass"
   ]
  },
  {
   "cell_type": "code",
   "execution_count": 30,
   "metadata": {},
   "outputs": [
    {
     "data": {
      "text/plain": [
       "14"
      ]
     },
     "execution_count": 30,
     "metadata": {},
     "output_type": "execute_result"
    }
   ],
   "source": [
    "# Number of parameters in the tree.\n",
    "(re.tree_.feature >= 0).sum()*2"
   ]
  },
  {
   "cell_type": "code",
   "execution_count": 31,
   "metadata": {},
   "outputs": [
    {
     "data": {
      "text/plain": [
       "6072"
      ]
     },
     "execution_count": 31,
     "metadata": {},
     "output_type": "execute_result"
    }
   ],
   "source": [
    "# Total size of the data set.\n",
    "X.shape[0] * X.shape[1]"
   ]
  },
  {
   "cell_type": "markdown",
   "metadata": {},
   "source": [
    "## Decision Trees for Classification"
   ]
  },
  {
   "cell_type": "markdown",
   "metadata": {},
   "source": [
    "- Decision trees can also be applied to classification problems.\n",
    "\n",
    "\n",
    "- The necessary modification is that instead of sum of squared error, a different split criterion should be applied (e.g. misclassification count, [Gini impurity](https://en.wikipedia.org/wiki/Decision_tree_learning#Gini_impurity), [information gain](https://en.wikipedia.org/wiki/Decision_tree_learning#Information_gain)), and the leaf predictions should be changed to class probabilities.\n",
    "\n",
    "\n",
    "- Decision trees can handle multiclass problems too."
   ]
  },
  {
   "cell_type": "markdown",
   "metadata": {},
   "source": [
    "**Exercise 7**: Apply a decision tree classifier for the Wisconsin Breast Cancer data set! Use 5-fold cross-validation! The evaluation metric should be the ratio of correct classifications. Determine the maximal depth that gives the highest accuracy! Compare the best decision tree against logistic regression!"
   ]
  },
  {
   "cell_type": "code",
   "execution_count": 32,
   "metadata": {},
   "outputs": [
    {
     "data": {
      "text/html": [
       "<div>\n",
       "<style scoped>\n",
       "    .dataframe tbody tr th:only-of-type {\n",
       "        vertical-align: middle;\n",
       "    }\n",
       "\n",
       "    .dataframe tbody tr th {\n",
       "        vertical-align: top;\n",
       "    }\n",
       "\n",
       "    .dataframe thead th {\n",
       "        text-align: right;\n",
       "    }\n",
       "</style>\n",
       "<table border=\"1\" class=\"dataframe\">\n",
       "  <thead>\n",
       "    <tr style=\"text-align: right;\">\n",
       "      <th></th>\n",
       "      <th>Sample_code_number</th>\n",
       "      <th>Clump_Thickness</th>\n",
       "      <th>Uniformity_of_Cell_Size</th>\n",
       "      <th>Uniformity_of_Cell_Shape</th>\n",
       "      <th>Marginal_Adhesion</th>\n",
       "      <th>Single_Epithelial_Cell_Size</th>\n",
       "      <th>Bare_Nuclei</th>\n",
       "      <th>Bland_Chromatin</th>\n",
       "      <th>Normal_Nucleoli</th>\n",
       "      <th>Mitoses</th>\n",
       "      <th>Class</th>\n",
       "    </tr>\n",
       "  </thead>\n",
       "  <tbody>\n",
       "    <tr>\n",
       "      <th>0</th>\n",
       "      <td>1000025</td>\n",
       "      <td>5</td>\n",
       "      <td>1</td>\n",
       "      <td>1</td>\n",
       "      <td>1</td>\n",
       "      <td>2</td>\n",
       "      <td>1.0</td>\n",
       "      <td>3</td>\n",
       "      <td>1</td>\n",
       "      <td>1</td>\n",
       "      <td>2</td>\n",
       "    </tr>\n",
       "    <tr>\n",
       "      <th>1</th>\n",
       "      <td>1002945</td>\n",
       "      <td>5</td>\n",
       "      <td>4</td>\n",
       "      <td>4</td>\n",
       "      <td>5</td>\n",
       "      <td>7</td>\n",
       "      <td>10.0</td>\n",
       "      <td>3</td>\n",
       "      <td>2</td>\n",
       "      <td>1</td>\n",
       "      <td>2</td>\n",
       "    </tr>\n",
       "    <tr>\n",
       "      <th>2</th>\n",
       "      <td>1015425</td>\n",
       "      <td>3</td>\n",
       "      <td>1</td>\n",
       "      <td>1</td>\n",
       "      <td>1</td>\n",
       "      <td>2</td>\n",
       "      <td>2.0</td>\n",
       "      <td>3</td>\n",
       "      <td>1</td>\n",
       "      <td>1</td>\n",
       "      <td>2</td>\n",
       "    </tr>\n",
       "    <tr>\n",
       "      <th>3</th>\n",
       "      <td>1016277</td>\n",
       "      <td>6</td>\n",
       "      <td>8</td>\n",
       "      <td>8</td>\n",
       "      <td>1</td>\n",
       "      <td>3</td>\n",
       "      <td>4.0</td>\n",
       "      <td>3</td>\n",
       "      <td>7</td>\n",
       "      <td>1</td>\n",
       "      <td>2</td>\n",
       "    </tr>\n",
       "    <tr>\n",
       "      <th>4</th>\n",
       "      <td>1017023</td>\n",
       "      <td>4</td>\n",
       "      <td>1</td>\n",
       "      <td>1</td>\n",
       "      <td>3</td>\n",
       "      <td>2</td>\n",
       "      <td>1.0</td>\n",
       "      <td>3</td>\n",
       "      <td>1</td>\n",
       "      <td>1</td>\n",
       "      <td>2</td>\n",
       "    </tr>\n",
       "  </tbody>\n",
       "</table>\n",
       "</div>"
      ],
      "text/plain": [
       "   Sample_code_number  Clump_Thickness  Uniformity_of_Cell_Size  \\\n",
       "0             1000025                5                        1   \n",
       "1             1002945                5                        4   \n",
       "2             1015425                3                        1   \n",
       "3             1016277                6                        8   \n",
       "4             1017023                4                        1   \n",
       "\n",
       "   Uniformity_of_Cell_Shape  Marginal_Adhesion  Single_Epithelial_Cell_Size  \\\n",
       "0                         1                  1                            2   \n",
       "1                         4                  5                            7   \n",
       "2                         1                  1                            2   \n",
       "3                         8                  1                            3   \n",
       "4                         1                  3                            2   \n",
       "\n",
       "   Bare_Nuclei  Bland_Chromatin  Normal_Nucleoli  Mitoses  Class  \n",
       "0          1.0                3                1        1      2  \n",
       "1         10.0                3                2        1      2  \n",
       "2          2.0                3                1        1      2  \n",
       "3          4.0                3                7        1      2  \n",
       "4          1.0                3                1        1      2  "
      ]
     },
     "execution_count": 32,
     "metadata": {},
     "output_type": "execute_result"
    }
   ],
   "source": [
    "# Load the data to DataFrame.\n",
    "import pandas as pd\n",
    "names = [\n",
    "    'Sample_code_number', 'Clump_Thickness', 'Uniformity_of_Cell_Size',\n",
    "    'Uniformity_of_Cell_Shape', 'Marginal_Adhesion', 'Single_Epithelial_Cell_Size',\n",
    "    'Bare_Nuclei', 'Bland_Chromatin', 'Normal_Nucleoli', 'Mitoses', 'Class'\n",
    "]\n",
    "df = pd.read_csv('../_data/wisconsin_data.txt', sep=',', names=names, na_values='?')\n",
    "df['Bare_Nuclei'].fillna(0, inplace=True)\n",
    "df.head()"
   ]
  },
  {
   "cell_type": "code",
   "execution_count": 36,
   "metadata": {},
   "outputs": [],
   "source": [
    "X = df[df.columns[1:-1]].values\n",
    "y = (df['Class'] // 2 -1).values"
   ]
  },
  {
   "cell_type": "code",
   "execution_count": 40,
   "metadata": {},
   "outputs": [],
   "source": [
    "from sklearn.tree import DecisionTreeClassifier\n",
    "from sklearn.metrics import accuracy_score\n",
    "\n",
    "def evaluate(cl, X, y):\n",
    "    cv = KFold(5, shuffle=True, random_state=42)\n",
    "    scores = []\n",
    "    for tr, te in cv.split(X):\n",
    "        cl.fit(X[tr], y[tr])\n",
    "        yhat = cl.predict(X)\n",
    "        scores.append(accuracy_score(y[te], yhat[te]))\n",
    "    return np.mean(scores)"
   ]
  },
  {
   "cell_type": "code",
   "execution_count": 46,
   "metadata": {},
   "outputs": [
    {
     "data": {
      "text/plain": [
       "<AxesSubplot: xlabel='max_depth'>"
      ]
     },
     "execution_count": 46,
     "metadata": {},
     "output_type": "execute_result"
    },
    {
     "data": {
      "image/png": "[encoded data removed]",
      "text/plain": [
       "<Figure size 432x288 with 1 Axes>"
      ]
     },
     "metadata": {
      "needs_background": "light"
     },
     "output_type": "display_data"
    }
   ],
   "source": [
    "res = []\n",
    "for max_depth in range(1, 21):\n",
    "    cl = DecisionTreeClassifier(max_depth=max_depth, random_state=42)\n",
    "    res.append({\n",
    "        'max_depth': max_depth,\n",
    "        'accuracy': evaluate(cl, X, y)\n",
    "    })\n",
    "df_res = pd.DataFrame(res)\n",
    "df_res.set_index('max_depth').plot()"
   ]
  },
  {
   "cell_type": "markdown",
   "metadata": {},
   "source": [
    "## Decision Trees vs. Linear Models\n",
    "\n",
    "Decision trees\n",
    "- ...are insensitive to the scale of the input features 😀\n",
    "- ...are easier to explain 😀\n",
    "- ...can learn complex patterns 😀\n",
    "- ...don not handle sparse data efficiently ☹️\n",
    "- ...tend to overfit more ☹️"
   ]
  }
 ],
 "metadata": {
  "kernelspec": {
   "display_name": "Python 3 (ipykernel)",
   "language": "python",
   "name": "python3"
  },
  "language_info": {
   "codemirror_mode": {
    "name": "ipython",
    "version": 3
   },
   "file_extension": ".py",
   "mimetype": "text/x-python",
   "name": "python",
   "nbconvert_exporter": "python",
   "pygments_lexer": "ipython3",
   "version": "3.8.0"
  }
 },
 "nbformat": 4,
 "nbformat_minor": 2
}
