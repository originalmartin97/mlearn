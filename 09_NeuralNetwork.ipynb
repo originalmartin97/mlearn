{
 "cells": [
  {
   "cell_type": "markdown",
   "metadata": {},
   "source": [
    "# [Artificial Neural Networks](https://en.wikipedia.org/wiki/Artificial_neural_network)\n",
    "\n",
    "- Artificial neural networks are computing systems vaguely inspired by the human brain.\n",
    "- The subject was opened by McCulloch and Pitts (1943) by creating a computational model for neural networks.\n",
    "- The network is built of neurons that are interconnected like a web.\n",
    "- Each connection, like the synapses in a brain, can transmit a signal (=real number) to other neurons.\n",
    "- Main types of neural networks:\n",
    "  + [multilayer perceptron](https://en.wikipedia.org/wiki/Multilayer_perceptron) (old school but still useful)\n",
    "  + [autoencoder](https://en.wikipedia.org/wiki/Autoencoder) (for dimension reduction and visualization)\n",
    "  + [convolutional network](https://en.wikipedia.org/wiki/Convolutional_neural_network) (originally developed for image classification)\n",
    "  + [recurrent network](https://en.wikipedia.org/wiki/Recurrent_neural_network) (originally developed for text classification; example: [LSTM](https://en.wikipedia.org/wiki/Long_short-term_memory))\n",
    "  + [transformer](https://en.wikipedia.org/wiki/Transformer_(machine_learning_model)) (originally developed for machine translation)\n",
    "  + competitive network (example: [GAN](https://en.wikipedia.org/wiki/Generative_adversarial_network))\n",
    "  + ..."
   ]
  },
  {
   "cell_type": "markdown",
   "metadata": {},
   "source": [
    "## Theory of the [Multilayer Perceptron](https://en.wikipedia.org/wiki/Multilayer_perceptron) in a Nutshell"
   ]
  },
  {
   "cell_type": "markdown",
   "metadata": {},
   "source": [
    "<img src=\"../_img/mlp.jpg\" width=\"320px\">"
   ]
  },
  {
   "cell_type": "markdown",
   "metadata": {},
   "source": [
    "- input: $x \\in \\mathbb{R}^{d \\times 1}$<br>\n",
    "- hidden layer: $h = \\sigma(W^T x)$, where $W \\in \\mathbb{R}^{d \\times K}$ and $\\sigma$ is the [logistic sigmoid function](https://en.wikipedia.org/wiki/Logistic_function)<br>\n",
    "- model output: $\\hat{y} = \\sigma(v^T h)$, where $v \\in \\mathbb{R}^{K \\times 1}$<br>\n",
    "- the parameters of the model are the matrix $W$ (hidden weights) and the vector $v$ (output weights)\n",
    "\n",
    "<hr>\n",
    "\n",
    "- objective function: $CE(W, v) = \\sum_{i=1}^n \\left( -y_i\\log(\\hat{y}_i) - (1 - y_i)\\log(1 - \\hat{y}_i) \\right)$<br>\n",
    "- derivative by $v$: $\\frac{d}{dv} CE(W, v) = \\sum_{i=1}^n(\\hat{y}_i - y_i) h_i$<br>\n",
    "- derivative by $W$: $\\frac{d}{dW} CE(W, v) = \\sum_{i=1}^n x_i \\varepsilon_i^T$, where $\\varepsilon_i = (\\hat{y}_i - y_i) v \\odot h_i \\odot(1 - h_i)$ is the backpropagated error\n",
    "- the approximate minimization of $CE$ can be done e.g. by [stochastic gradient descent](https://en.wikipedia.org/wiki/Stochastic_gradient_descent)"
   ]
  },
  {
   "cell_type": "markdown",
   "metadata": {},
   "source": [
    "\n",
    "## The Phishing Websites Problem\n",
    "\n",
    "The [Phishing Websites](https://archive.ics.uci.edu/ml/machine-learning-databases/00327/Training%20Dataset.arff) data set contains certain attributes of web sites. The target attribute is the last column. It specifies whether the site is legitimate (-1) or phishing (+1). Our goal will be to build an artificial neural network that predicts the value of the target attribute."
   ]
  },
  {
   "cell_type": "markdown",
   "metadata": {},
   "source": [
    "**Exercise 1**: Load the Phishing Websites data set to a data frame. Prepare the input matrix and the target vector."
   ]
  },
  {
   "cell_type": "code",
   "execution_count": 1,
   "metadata": {},
   "outputs": [],
   "source": [
    "# Load data.\n",
    "import pandas as pd\n",
    "from urllib.request import urlopen\n",
    "\n",
    "url = 'https://archive.ics.uci.edu/'\\\n",
    "      'ml/machine-learning-databases/00327/Training%20Dataset.arff'\n",
    "lines = urlopen(url).read().decode('utf-8').split('\\r\\n')\n",
    "names = [l.split()[1] for l in lines if l.startswith('@att')]\n",
    "skiprows = lines.index('@data') + 1\n",
    "df = pd.read_csv(url, names=names, skiprows=skiprows)"
   ]
  },
  {
   "cell_type": "code",
   "execution_count": 2,
   "metadata": {},
   "outputs": [
    {
     "data": {
      "text/plain": [
       "(11055, 31)"
      ]
     },
     "execution_count": 2,
     "metadata": {},
     "output_type": "execute_result"
    }
   ],
   "source": [
    "df.shape"
   ]
  },
  {
   "cell_type": "code",
   "execution_count": 3,
   "metadata": {
    "scrolled": true
   },
   "outputs": [
    {
     "name": "stdout",
     "output_type": "stream",
     "text": [
      "<class 'pandas.core.frame.DataFrame'>\n",
      "RangeIndex: 11055 entries, 0 to 11054\n",
      "Data columns (total 31 columns):\n",
      " #   Column                       Non-Null Count  Dtype\n",
      "---  ------                       --------------  -----\n",
      " 0   having_IP_Address            11055 non-null  int64\n",
      " 1   URL_Length                   11055 non-null  int64\n",
      " 2   Shortining_Service           11055 non-null  int64\n",
      " 3   having_At_Symbol             11055 non-null  int64\n",
      " 4   double_slash_redirecting     11055 non-null  int64\n",
      " 5   Prefix_Suffix                11055 non-null  int64\n",
      " 6   having_Sub_Domain            11055 non-null  int64\n",
      " 7   SSLfinal_State               11055 non-null  int64\n",
      " 8   Domain_registeration_length  11055 non-null  int64\n",
      " 9   Favicon                      11055 non-null  int64\n",
      " 10  port                         11055 non-null  int64\n",
      " 11  HTTPS_token                  11055 non-null  int64\n",
      " 12  Request_URL                  11055 non-null  int64\n",
      " 13  URL_of_Anchor                11055 non-null  int64\n",
      " 14  Links_in_tags                11055 non-null  int64\n",
      " 15  SFH                          11055 non-null  int64\n",
      " 16  Submitting_to_email          11055 non-null  int64\n",
      " 17  Abnormal_URL                 11055 non-null  int64\n",
      " 18  Redirect                     11055 non-null  int64\n",
      " 19  on_mouseover                 11055 non-null  int64\n",
      " 20  RightClick                   11055 non-null  int64\n",
      " 21  popUpWidnow                  11055 non-null  int64\n",
      " 22  Iframe                       11055 non-null  int64\n",
      " 23  age_of_domain                11055 non-null  int64\n",
      " 24  DNSRecord                    11055 non-null  int64\n",
      " 25  web_traffic                  11055 non-null  int64\n",
      " 26  Page_Rank                    11055 non-null  int64\n",
      " 27  Google_Index                 11055 non-null  int64\n",
      " 28  Links_pointing_to_page       11055 non-null  int64\n",
      " 29  Statistical_report           11055 non-null  int64\n",
      " 30  Result                       11055 non-null  int64\n",
      "dtypes: int64(31)\n",
      "memory usage: 2.6 MB\n"
     ]
    }
   ],
   "source": [
    "df.info()"
   ]
  },
  {
   "cell_type": "code",
   "execution_count": 4,
   "metadata": {},
   "outputs": [
    {
     "data": {
      "text/html": [
       "<div>\n",
       "<style scoped>\n",
       "    .dataframe tbody tr th:only-of-type {\n",
       "        vertical-align: middle;\n",
       "    }\n",
       "\n",
       "    .dataframe tbody tr th {\n",
       "        vertical-align: top;\n",
       "    }\n",
       "\n",
       "    .dataframe thead th {\n",
       "        text-align: right;\n",
       "    }\n",
       "</style>\n",
       "<table border=\"1\" class=\"dataframe\">\n",
       "  <thead>\n",
       "    <tr style=\"text-align: right;\">\n",
       "      <th></th>\n",
       "      <th>count</th>\n",
       "      <th>mean</th>\n",
       "      <th>std</th>\n",
       "      <th>min</th>\n",
       "      <th>25%</th>\n",
       "      <th>50%</th>\n",
       "      <th>75%</th>\n",
       "      <th>max</th>\n",
       "    </tr>\n",
       "  </thead>\n",
       "  <tbody>\n",
       "    <tr>\n",
       "      <th>having_IP_Address</th>\n",
       "      <td>11055.0</td>\n",
       "      <td>0.313795</td>\n",
       "      <td>0.949534</td>\n",
       "      <td>-1.0</td>\n",
       "      <td>-1.0</td>\n",
       "      <td>1.0</td>\n",
       "      <td>1.0</td>\n",
       "      <td>1.0</td>\n",
       "    </tr>\n",
       "    <tr>\n",
       "      <th>URL_Length</th>\n",
       "      <td>11055.0</td>\n",
       "      <td>-0.633198</td>\n",
       "      <td>0.766095</td>\n",
       "      <td>-1.0</td>\n",
       "      <td>-1.0</td>\n",
       "      <td>-1.0</td>\n",
       "      <td>-1.0</td>\n",
       "      <td>1.0</td>\n",
       "    </tr>\n",
       "    <tr>\n",
       "      <th>Shortining_Service</th>\n",
       "      <td>11055.0</td>\n",
       "      <td>0.738761</td>\n",
       "      <td>0.673998</td>\n",
       "      <td>-1.0</td>\n",
       "      <td>1.0</td>\n",
       "      <td>1.0</td>\n",
       "      <td>1.0</td>\n",
       "      <td>1.0</td>\n",
       "    </tr>\n",
       "    <tr>\n",
       "      <th>having_At_Symbol</th>\n",
       "      <td>11055.0</td>\n",
       "      <td>0.700588</td>\n",
       "      <td>0.713598</td>\n",
       "      <td>-1.0</td>\n",
       "      <td>1.0</td>\n",
       "      <td>1.0</td>\n",
       "      <td>1.0</td>\n",
       "      <td>1.0</td>\n",
       "    </tr>\n",
       "    <tr>\n",
       "      <th>double_slash_redirecting</th>\n",
       "      <td>11055.0</td>\n",
       "      <td>0.741474</td>\n",
       "      <td>0.671011</td>\n",
       "      <td>-1.0</td>\n",
       "      <td>1.0</td>\n",
       "      <td>1.0</td>\n",
       "      <td>1.0</td>\n",
       "      <td>1.0</td>\n",
       "    </tr>\n",
       "    <tr>\n",
       "      <th>Prefix_Suffix</th>\n",
       "      <td>11055.0</td>\n",
       "      <td>-0.734962</td>\n",
       "      <td>0.678139</td>\n",
       "      <td>-1.0</td>\n",
       "      <td>-1.0</td>\n",
       "      <td>-1.0</td>\n",
       "      <td>-1.0</td>\n",
       "      <td>1.0</td>\n",
       "    </tr>\n",
       "    <tr>\n",
       "      <th>having_Sub_Domain</th>\n",
       "      <td>11055.0</td>\n",
       "      <td>0.063953</td>\n",
       "      <td>0.817518</td>\n",
       "      <td>-1.0</td>\n",
       "      <td>-1.0</td>\n",
       "      <td>0.0</td>\n",
       "      <td>1.0</td>\n",
       "      <td>1.0</td>\n",
       "    </tr>\n",
       "    <tr>\n",
       "      <th>SSLfinal_State</th>\n",
       "      <td>11055.0</td>\n",
       "      <td>0.250927</td>\n",
       "      <td>0.911892</td>\n",
       "      <td>-1.0</td>\n",
       "      <td>-1.0</td>\n",
       "      <td>1.0</td>\n",
       "      <td>1.0</td>\n",
       "      <td>1.0</td>\n",
       "    </tr>\n",
       "    <tr>\n",
       "      <th>Domain_registeration_length</th>\n",
       "      <td>11055.0</td>\n",
       "      <td>-0.336771</td>\n",
       "      <td>0.941629</td>\n",
       "      <td>-1.0</td>\n",
       "      <td>-1.0</td>\n",
       "      <td>-1.0</td>\n",
       "      <td>1.0</td>\n",
       "      <td>1.0</td>\n",
       "    </tr>\n",
       "    <tr>\n",
       "      <th>Favicon</th>\n",
       "      <td>11055.0</td>\n",
       "      <td>0.628584</td>\n",
       "      <td>0.777777</td>\n",
       "      <td>-1.0</td>\n",
       "      <td>1.0</td>\n",
       "      <td>1.0</td>\n",
       "      <td>1.0</td>\n",
       "      <td>1.0</td>\n",
       "    </tr>\n",
       "    <tr>\n",
       "      <th>port</th>\n",
       "      <td>11055.0</td>\n",
       "      <td>0.728268</td>\n",
       "      <td>0.685324</td>\n",
       "      <td>-1.0</td>\n",
       "      <td>1.0</td>\n",
       "      <td>1.0</td>\n",
       "      <td>1.0</td>\n",
       "      <td>1.0</td>\n",
       "    </tr>\n",
       "    <tr>\n",
       "      <th>HTTPS_token</th>\n",
       "      <td>11055.0</td>\n",
       "      <td>0.675079</td>\n",
       "      <td>0.737779</td>\n",
       "      <td>-1.0</td>\n",
       "      <td>1.0</td>\n",
       "      <td>1.0</td>\n",
       "      <td>1.0</td>\n",
       "      <td>1.0</td>\n",
       "    </tr>\n",
       "    <tr>\n",
       "      <th>Request_URL</th>\n",
       "      <td>11055.0</td>\n",
       "      <td>0.186793</td>\n",
       "      <td>0.982444</td>\n",
       "      <td>-1.0</td>\n",
       "      <td>-1.0</td>\n",
       "      <td>1.0</td>\n",
       "      <td>1.0</td>\n",
       "      <td>1.0</td>\n",
       "    </tr>\n",
       "    <tr>\n",
       "      <th>URL_of_Anchor</th>\n",
       "      <td>11055.0</td>\n",
       "      <td>-0.076526</td>\n",
       "      <td>0.715138</td>\n",
       "      <td>-1.0</td>\n",
       "      <td>-1.0</td>\n",
       "      <td>0.0</td>\n",
       "      <td>0.0</td>\n",
       "      <td>1.0</td>\n",
       "    </tr>\n",
       "    <tr>\n",
       "      <th>Links_in_tags</th>\n",
       "      <td>11055.0</td>\n",
       "      <td>-0.118137</td>\n",
       "      <td>0.763973</td>\n",
       "      <td>-1.0</td>\n",
       "      <td>-1.0</td>\n",
       "      <td>0.0</td>\n",
       "      <td>0.0</td>\n",
       "      <td>1.0</td>\n",
       "    </tr>\n",
       "    <tr>\n",
       "      <th>SFH</th>\n",
       "      <td>11055.0</td>\n",
       "      <td>-0.595749</td>\n",
       "      <td>0.759143</td>\n",
       "      <td>-1.0</td>\n",
       "      <td>-1.0</td>\n",
       "      <td>-1.0</td>\n",
       "      <td>-1.0</td>\n",
       "      <td>1.0</td>\n",
       "    </tr>\n",
       "    <tr>\n",
       "      <th>Submitting_to_email</th>\n",
       "      <td>11055.0</td>\n",
       "      <td>0.635640</td>\n",
       "      <td>0.772021</td>\n",
       "      <td>-1.0</td>\n",
       "      <td>1.0</td>\n",
       "      <td>1.0</td>\n",
       "      <td>1.0</td>\n",
       "      <td>1.0</td>\n",
       "    </tr>\n",
       "    <tr>\n",
       "      <th>Abnormal_URL</th>\n",
       "      <td>11055.0</td>\n",
       "      <td>0.705292</td>\n",
       "      <td>0.708949</td>\n",
       "      <td>-1.0</td>\n",
       "      <td>1.0</td>\n",
       "      <td>1.0</td>\n",
       "      <td>1.0</td>\n",
       "      <td>1.0</td>\n",
       "    </tr>\n",
       "    <tr>\n",
       "      <th>Redirect</th>\n",
       "      <td>11055.0</td>\n",
       "      <td>0.115694</td>\n",
       "      <td>0.319872</td>\n",
       "      <td>0.0</td>\n",
       "      <td>0.0</td>\n",
       "      <td>0.0</td>\n",
       "      <td>0.0</td>\n",
       "      <td>1.0</td>\n",
       "    </tr>\n",
       "    <tr>\n",
       "      <th>on_mouseover</th>\n",
       "      <td>11055.0</td>\n",
       "      <td>0.762099</td>\n",
       "      <td>0.647490</td>\n",
       "      <td>-1.0</td>\n",
       "      <td>1.0</td>\n",
       "      <td>1.0</td>\n",
       "      <td>1.0</td>\n",
       "      <td>1.0</td>\n",
       "    </tr>\n",
       "    <tr>\n",
       "      <th>RightClick</th>\n",
       "      <td>11055.0</td>\n",
       "      <td>0.913885</td>\n",
       "      <td>0.405991</td>\n",
       "      <td>-1.0</td>\n",
       "      <td>1.0</td>\n",
       "      <td>1.0</td>\n",
       "      <td>1.0</td>\n",
       "      <td>1.0</td>\n",
       "    </tr>\n",
       "    <tr>\n",
       "      <th>popUpWidnow</th>\n",
       "      <td>11055.0</td>\n",
       "      <td>0.613388</td>\n",
       "      <td>0.789818</td>\n",
       "      <td>-1.0</td>\n",
       "      <td>1.0</td>\n",
       "      <td>1.0</td>\n",
       "      <td>1.0</td>\n",
       "      <td>1.0</td>\n",
       "    </tr>\n",
       "    <tr>\n",
       "      <th>Iframe</th>\n",
       "      <td>11055.0</td>\n",
       "      <td>0.816915</td>\n",
       "      <td>0.576784</td>\n",
       "      <td>-1.0</td>\n",
       "      <td>1.0</td>\n",
       "      <td>1.0</td>\n",
       "      <td>1.0</td>\n",
       "      <td>1.0</td>\n",
       "    </tr>\n",
       "    <tr>\n",
       "      <th>age_of_domain</th>\n",
       "      <td>11055.0</td>\n",
       "      <td>0.061239</td>\n",
       "      <td>0.998168</td>\n",
       "      <td>-1.0</td>\n",
       "      <td>-1.0</td>\n",
       "      <td>1.0</td>\n",
       "      <td>1.0</td>\n",
       "      <td>1.0</td>\n",
       "    </tr>\n",
       "    <tr>\n",
       "      <th>DNSRecord</th>\n",
       "      <td>11055.0</td>\n",
       "      <td>0.377114</td>\n",
       "      <td>0.926209</td>\n",
       "      <td>-1.0</td>\n",
       "      <td>-1.0</td>\n",
       "      <td>1.0</td>\n",
       "      <td>1.0</td>\n",
       "      <td>1.0</td>\n",
       "    </tr>\n",
       "    <tr>\n",
       "      <th>web_traffic</th>\n",
       "      <td>11055.0</td>\n",
       "      <td>0.287291</td>\n",
       "      <td>0.827733</td>\n",
       "      <td>-1.0</td>\n",
       "      <td>0.0</td>\n",
       "      <td>1.0</td>\n",
       "      <td>1.0</td>\n",
       "      <td>1.0</td>\n",
       "    </tr>\n",
       "    <tr>\n",
       "      <th>Page_Rank</th>\n",
       "      <td>11055.0</td>\n",
       "      <td>-0.483673</td>\n",
       "      <td>0.875289</td>\n",
       "      <td>-1.0</td>\n",
       "      <td>-1.0</td>\n",
       "      <td>-1.0</td>\n",
       "      <td>1.0</td>\n",
       "      <td>1.0</td>\n",
       "    </tr>\n",
       "    <tr>\n",
       "      <th>Google_Index</th>\n",
       "      <td>11055.0</td>\n",
       "      <td>0.721574</td>\n",
       "      <td>0.692369</td>\n",
       "      <td>-1.0</td>\n",
       "      <td>1.0</td>\n",
       "      <td>1.0</td>\n",
       "      <td>1.0</td>\n",
       "      <td>1.0</td>\n",
       "    </tr>\n",
       "    <tr>\n",
       "      <th>Links_pointing_to_page</th>\n",
       "      <td>11055.0</td>\n",
       "      <td>0.344007</td>\n",
       "      <td>0.569944</td>\n",
       "      <td>-1.0</td>\n",
       "      <td>0.0</td>\n",
       "      <td>0.0</td>\n",
       "      <td>1.0</td>\n",
       "      <td>1.0</td>\n",
       "    </tr>\n",
       "    <tr>\n",
       "      <th>Statistical_report</th>\n",
       "      <td>11055.0</td>\n",
       "      <td>0.719584</td>\n",
       "      <td>0.694437</td>\n",
       "      <td>-1.0</td>\n",
       "      <td>1.0</td>\n",
       "      <td>1.0</td>\n",
       "      <td>1.0</td>\n",
       "      <td>1.0</td>\n",
       "    </tr>\n",
       "    <tr>\n",
       "      <th>Result</th>\n",
       "      <td>11055.0</td>\n",
       "      <td>0.113885</td>\n",
       "      <td>0.993539</td>\n",
       "      <td>-1.0</td>\n",
       "      <td>-1.0</td>\n",
       "      <td>1.0</td>\n",
       "      <td>1.0</td>\n",
       "      <td>1.0</td>\n",
       "    </tr>\n",
       "  </tbody>\n",
       "</table>\n",
       "</div>"
      ],
      "text/plain": [
       "                               count      mean       std  min  25%  50%  75%  \\\n",
       "having_IP_Address            11055.0  0.313795  0.949534 -1.0 -1.0  1.0  1.0   \n",
       "URL_Length                   11055.0 -0.633198  0.766095 -1.0 -1.0 -1.0 -1.0   \n",
       "Shortining_Service           11055.0  0.738761  0.673998 -1.0  1.0  1.0  1.0   \n",
       "having_At_Symbol             11055.0  0.700588  0.713598 -1.0  1.0  1.0  1.0   \n",
       "double_slash_redirecting     11055.0  0.741474  0.671011 -1.0  1.0  1.0  1.0   \n",
       "Prefix_Suffix                11055.0 -0.734962  0.678139 -1.0 -1.0 -1.0 -1.0   \n",
       "having_Sub_Domain            11055.0  0.063953  0.817518 -1.0 -1.0  0.0  1.0   \n",
       "SSLfinal_State               11055.0  0.250927  0.911892 -1.0 -1.0  1.0  1.0   \n",
       "Domain_registeration_length  11055.0 -0.336771  0.941629 -1.0 -1.0 -1.0  1.0   \n",
       "Favicon                      11055.0  0.628584  0.777777 -1.0  1.0  1.0  1.0   \n",
       "port                         11055.0  0.728268  0.685324 -1.0  1.0  1.0  1.0   \n",
       "HTTPS_token                  11055.0  0.675079  0.737779 -1.0  1.0  1.0  1.0   \n",
       "Request_URL                  11055.0  0.186793  0.982444 -1.0 -1.0  1.0  1.0   \n",
       "URL_of_Anchor                11055.0 -0.076526  0.715138 -1.0 -1.0  0.0  0.0   \n",
       "Links_in_tags                11055.0 -0.118137  0.763973 -1.0 -1.0  0.0  0.0   \n",
       "SFH                          11055.0 -0.595749  0.759143 -1.0 -1.0 -1.0 -1.0   \n",
       "Submitting_to_email          11055.0  0.635640  0.772021 -1.0  1.0  1.0  1.0   \n",
       "Abnormal_URL                 11055.0  0.705292  0.708949 -1.0  1.0  1.0  1.0   \n",
       "Redirect                     11055.0  0.115694  0.319872  0.0  0.0  0.0  0.0   \n",
       "on_mouseover                 11055.0  0.762099  0.647490 -1.0  1.0  1.0  1.0   \n",
       "RightClick                   11055.0  0.913885  0.405991 -1.0  1.0  1.0  1.0   \n",
       "popUpWidnow                  11055.0  0.613388  0.789818 -1.0  1.0  1.0  1.0   \n",
       "Iframe                       11055.0  0.816915  0.576784 -1.0  1.0  1.0  1.0   \n",
       "age_of_domain                11055.0  0.061239  0.998168 -1.0 -1.0  1.0  1.0   \n",
       "DNSRecord                    11055.0  0.377114  0.926209 -1.0 -1.0  1.0  1.0   \n",
       "web_traffic                  11055.0  0.287291  0.827733 -1.0  0.0  1.0  1.0   \n",
       "Page_Rank                    11055.0 -0.483673  0.875289 -1.0 -1.0 -1.0  1.0   \n",
       "Google_Index                 11055.0  0.721574  0.692369 -1.0  1.0  1.0  1.0   \n",
       "Links_pointing_to_page       11055.0  0.344007  0.569944 -1.0  0.0  0.0  1.0   \n",
       "Statistical_report           11055.0  0.719584  0.694437 -1.0  1.0  1.0  1.0   \n",
       "Result                       11055.0  0.113885  0.993539 -1.0 -1.0  1.0  1.0   \n",
       "\n",
       "                             max  \n",
       "having_IP_Address            1.0  \n",
       "URL_Length                   1.0  \n",
       "Shortining_Service           1.0  \n",
       "having_At_Symbol             1.0  \n",
       "double_slash_redirecting     1.0  \n",
       "Prefix_Suffix                1.0  \n",
       "having_Sub_Domain            1.0  \n",
       "SSLfinal_State               1.0  \n",
       "Domain_registeration_length  1.0  \n",
       "Favicon                      1.0  \n",
       "port                         1.0  \n",
       "HTTPS_token                  1.0  \n",
       "Request_URL                  1.0  \n",
       "URL_of_Anchor                1.0  \n",
       "Links_in_tags                1.0  \n",
       "SFH                          1.0  \n",
       "Submitting_to_email          1.0  \n",
       "Abnormal_URL                 1.0  \n",
       "Redirect                     1.0  \n",
       "on_mouseover                 1.0  \n",
       "RightClick                   1.0  \n",
       "popUpWidnow                  1.0  \n",
       "Iframe                       1.0  \n",
       "age_of_domain                1.0  \n",
       "DNSRecord                    1.0  \n",
       "web_traffic                  1.0  \n",
       "Page_Rank                    1.0  \n",
       "Google_Index                 1.0  \n",
       "Links_pointing_to_page       1.0  \n",
       "Statistical_report           1.0  \n",
       "Result                       1.0  "
      ]
     },
     "execution_count": 4,
     "metadata": {},
     "output_type": "execute_result"
    }
   ],
   "source": [
    "df.describe().T"
   ]
  },
  {
   "cell_type": "code",
   "execution_count": 5,
   "metadata": {},
   "outputs": [
    {
     "data": {
      "text/plain": [
       "Result\n",
       "-1    4898\n",
       " 1    6157\n",
       "dtype: int64"
      ]
     },
     "execution_count": 5,
     "metadata": {},
     "output_type": "execute_result"
    }
   ],
   "source": [
    "df.groupby('Result').size()"
   ]
  },
  {
   "cell_type": "code",
   "execution_count": 6,
   "metadata": {},
   "outputs": [
    {
     "data": {
      "text/plain": [
       "Result\n",
       "-1    44.305744\n",
       " 1    55.694256\n",
       "dtype: float64"
      ]
     },
     "execution_count": 6,
     "metadata": {},
     "output_type": "execute_result"
    }
   ],
   "source": [
    "(df.groupby('Result').size() / len(df)) * 100"
   ]
  },
  {
   "cell_type": "markdown",
   "metadata": {},
   "source": [
    "**Exercise 2**: Implement a multilayer perceptron classifier from scratch! Use stochastic gradient descent for training. Evaluate the model on the Phishing Websites data set using a 70%-30% train-test split!"
   ]
  },
  {
   "cell_type": "code",
   "execution_count": 7,
   "metadata": {},
   "outputs": [
    {
     "data": {
      "text/plain": [
       "(0.5569425599276345, 0.30409769335142467)"
      ]
     },
     "execution_count": 7,
     "metadata": {},
     "output_type": "execute_result"
    }
   ],
   "source": [
    "# target vector (labels encodeed as 0 and 1)\n",
    "y = (df['Result'].values + 1) // 2\n",
    "\n",
    "# input matrix\n",
    "X = df[df.columns[:-1]].values\n",
    "\n",
    "y.mean(), X.mean()"
   ]
  },
  {
   "cell_type": "code",
   "execution_count": 8,
   "metadata": {},
   "outputs": [
    {
     "name": "stdout",
     "output_type": "stream",
     "text": [
      "0 7660.533969274072\n",
      "1 2864.494838766013\n",
      "2 2436.7369798779664\n",
      "3 2192.939110475737\n",
      "4 2076.44849334465\n"
     ]
    },
    {
     "data": {
      "text/plain": [
       "(4.881324340437781, 16.95649897744621)"
      ]
     },
     "execution_count": 8,
     "metadata": {},
     "output_type": "execute_result"
    }
   ],
   "source": [
    "\n",
    "\n",
    "\n",
    "n, d = X.shape                  # number of examples (rows) and features (columns)\n",
    "\n",
    "random_state = 42\n",
    "sigma = 0.01                    # initialization range\n",
    "K = 10                          # Number Of Hidden Neurons\n",
    "eta = 0.05                      # step size (learning rate)\n",
    "E = 5\n",
    "\n",
    "\n",
    "# initialize model parameters\n",
    "rs = np.random.RandomState(random_state)\n",
    "W = rs.uniform(-sigma, sigma, (d, K))\n",
    "v = rs.uniform(-sigma, sigma, K)\n",
    "\n",
    "for ep in range(E):\n",
    "    # display loss function\n",
    "    #(−𝑦𝑖log(yhat 𝑖)−(1−𝑦𝑖)log(1−yhat 𝑖))\n",
    "    yhat = sigmoid(sigmoid(X @ W) @ v)\n",
    "    ce = log_loss(y, yhat) * n\n",
    "    print(ep, ce)\n",
    "    \n",
    "    \n",
    "    for i in range(n):\n",
    "        x = X[i]\n",
    "        yi = y[i]\n",
    "\n",
    "        # compute prediction\n",
    "        h = sigmoid(W.T @ x)           # compute hidden layer activations\n",
    "        yhat = sigmoid(v @ h)           # compute model output\n",
    "\n",
    "        # compute gradient\n",
    "        grad_v = (yhat - yi) * h\n",
    "        eps = (yhat - yi) * v * h * (1 - h)\n",
    "        grad_W = np.outer(x, eps)\n",
    "\n",
    "        # take step to negative gradient direction\n",
    "        v -= eta * grad_v\n",
    "        W -= eta * grad_W"
   ]
  },
  {
   "cell_type": "code",
   "execution_count": 33,
   "metadata": {},
   "outputs": [
    {
     "name": "stdout",
     "output_type": "stream",
     "text": [
      "0 7660.533969274072\n",
      "1 2864.494838766013\n",
      "2 2436.7369798779664\n",
      "3 2192.939110475737\n",
      "4 2076.44849334465\n"
     ]
    },
    {
     "data": {
      "text/plain": [
       "array([0, 1, 0, ..., 0, 0, 0])"
      ]
     },
     "execution_count": 33,
     "metadata": {},
     "output_type": "execute_result"
    }
   ],
   "source": [
    "import numpy as np\n",
    "from sklearn.metrics import log_loss\n",
    "from sklearn.base import BaseEstimator\n",
    "\n",
    "def sigmoid(t):\n",
    "    return 1 / (1 + np.exp(-t))\n",
    "\n",
    "class SimpleMLPClassifier(BaseEstimator):\n",
    "    def __init__(self, random_state=42, sigma=0.01, K=10, eta=0.05, E=5 ):\n",
    "        self.random_state = random_state\n",
    "        self.sigma = sigma                  # initialization range\n",
    "        self.K = K                          # Number Of Hidden Neurons\n",
    "        self.eta = eta                      # step size (learning rate)\n",
    "        self.E = E                          # number of epochs\n",
    "    \n",
    "    def fit(self, X, y):\n",
    "        n, d = X.shape                      # number of examples (rows) and features (columns)\n",
    "        self.classes_=sorted(set((y)))\n",
    "        \n",
    "        # initialize model parameters\n",
    "        rs = np.random.RandomState(self.random_state)\n",
    "        self.W = rs.uniform(-self.sigma, self.sigma, (d, self.K))\n",
    "        self.v = rs.uniform(-self.sigma, self.sigma, self.K)\n",
    "\n",
    "        for ep in range(self.E):\n",
    "            # display loss function\n",
    "            #(−𝑦𝑖log(yhat 𝑖)−(1−𝑦𝑖)log(1−yhat 𝑖))\n",
    "            yhat = self._predict_proba(X)\n",
    "            ce = log_loss(y, yhat) * n\n",
    "            print(ep, ce)\n",
    "\n",
    "\n",
    "            for i in range(n):\n",
    "                x = X[i]\n",
    "                yi = y[i]\n",
    "\n",
    "                # compute prediction\n",
    "                h = sigmoid(self.W.T @ x)           # compute hidden layer activations\n",
    "                yhat = sigmoid(self.v @ h)           # compute model output\n",
    "\n",
    "                # compute gradient\n",
    "                grad_v = (yhat - yi) * h\n",
    "                eps = (yhat - yi) * self.v * h * (1 - h)\n",
    "                grad_W = np.outer(x, eps)\n",
    "\n",
    "                # take step to negative gradient direction\n",
    "                self.v -= self.eta * grad_v\n",
    "                self.W -= self.eta * grad_W\n",
    "                \n",
    "    def _predict_proba(self, X):\n",
    "        return sigmoid(sigmoid(X @ self.W) @ self.v)\n",
    "    \n",
    "    def predict_proba(self, X):\n",
    "        yhat = self._predict_proba(X)\n",
    "        return np.array([1 - yhat, yhat]).T\n",
    "    \n",
    "    def predict(self, X):\n",
    "        return (self._predict_proba(X) > 0.5).astype('int')\n",
    "    \n",
    "    \n",
    "cl = SimpleMLPClassifier()\n",
    "cl.fit(X, y)\n",
    "cl.predict(X)"
   ]
  },
  {
   "cell_type": "code",
   "execution_count": 34,
   "metadata": {},
   "outputs": [
    {
     "data": {
      "text/plain": [
       "array([[9.97347427e-01, 2.65257258e-03],\n",
       "       [8.70060970e-02, 9.12993903e-01],\n",
       "       [9.17052022e-01, 8.29479784e-02],\n",
       "       ...,\n",
       "       [8.73943262e-01, 1.26056738e-01],\n",
       "       [9.99313105e-01, 6.86895175e-04],\n",
       "       [9.99403519e-01, 5.96481458e-04]])"
      ]
     },
     "execution_count": 34,
     "metadata": {},
     "output_type": "execute_result"
    }
   ],
   "source": [
    "cl.predict_proba(X)"
   ]
  },
  {
   "cell_type": "code",
   "execution_count": 35,
   "metadata": {},
   "outputs": [
    {
     "name": "stdout",
     "output_type": "stream",
     "text": [
      "0 5362.186153262046\n",
      "1 1466.141647392933\n",
      "2 1374.0695043638668\n",
      "3 1292.2768450088029\n",
      "4 1215.9266161274693\n"
     ]
    },
    {
     "data": {
      "text/plain": [
       "array([-0.1643323])"
      ]
     },
     "execution_count": 35,
     "metadata": {},
     "output_type": "execute_result"
    }
   ],
   "source": [
    "# implement train-test split\n",
    "from sklearn.model_selection import ShuffleSplit, cross_val_score\n",
    "ss = ShuffleSplit(1, test_size=0.3, random_state=42)\n",
    "\n",
    "cl = SimpleMLPClassifier()\n",
    "cross_val_score(cl, X, y, cv=ss, scoring='neg_log_loss')"
   ]
  },
  {
   "cell_type": "markdown",
   "metadata": {},
   "source": [
    "**Excercise 3**: Compare the previous solution against scikit-learn's `MLPClassifier`!"
   ]
  },
  {
   "cell_type": "code",
   "execution_count": 40,
   "metadata": {},
   "outputs": [
    {
     "name": "stderr",
     "output_type": "stream",
     "text": [
      "/home/compsci/.local/lib/python3.8/site-packages/sklearn/neural_network/_multilayer_perceptron.py:684: ConvergenceWarning: Stochastic Optimizer: Maximum iterations (5) reached and the optimization hasn't converged yet.\n",
      "  warnings.warn(\n"
     ]
    },
    {
     "data": {
      "text/plain": [
       "array([-0.18149219])"
      ]
     },
     "execution_count": 40,
     "metadata": {},
     "output_type": "execute_result"
    }
   ],
   "source": [
    "from sklearn.neural_network import MLPClassifier\n",
    "cl = MLPClassifier(\n",
    "    hidden_layer_sizes=10, learning_rate_init=0.05, max_iter=5, \n",
    "    batch_size=1, random_state=42, solver='sgd', activation='logistic',\n",
    "    alpha=0, momentum=0\n",
    "    )\n",
    "cross_val_score(cl, X, y, cv=ss, scoring='neg_log_loss')"
   ]
  },
  {
   "cell_type": "code",
   "execution_count": 41,
   "metadata": {},
   "outputs": [
    {
     "name": "stderr",
     "output_type": "stream",
     "text": [
      "/home/compsci/.local/lib/python3.8/site-packages/sklearn/neural_network/_multilayer_perceptron.py:691: UserWarning: Training interrupted by user.\n",
      "  warnings.warn(\"Training interrupted by user.\")\n"
     ]
    },
    {
     "data": {
      "text/plain": [
       "array([-0.13387578])"
      ]
     },
     "execution_count": 41,
     "metadata": {},
     "output_type": "execute_result"
    }
   ],
   "source": [
    "from sklearn.neural_network import MLPClassifier\n",
    "cl = MLPClassifier(\n",
    "    hidden_layer_sizes=10, learning_rate_init=0.05, \n",
    "    batch_size=1, random_state=42, solver='sgd', activation='logistic',\n",
    "    alpha=0, momentum=0,\n",
    "    )\n",
    "cross_val_score(cl, X, y, cv=ss, scoring='neg_log_loss')"
   ]
  },
  {
   "cell_type": "markdown",
   "metadata": {},
   "source": [
    "**Excercise 4**: Optimize the meta-parameters of the neural network!"
   ]
  },
  {
   "cell_type": "code",
   "execution_count": 51,
   "metadata": {},
   "outputs": [
    {
     "data": {
      "text/plain": [
       "array([-0.08753574])"
      ]
     },
     "execution_count": 51,
     "metadata": {},
     "output_type": "execute_result"
    }
   ],
   "source": [
    "from sklearn.neural_network import MLPClassifier\n",
    "cl = MLPClassifier(random_state=42, max_iter=800, hidden_layer_sizes=400\n",
    "    )\n",
    "cross_val_score(cl, X, y, cv=ss, scoring='neg_log_loss')"
   ]
  },
  {
   "cell_type": "code",
   "execution_count": null,
   "metadata": {},
   "outputs": [],
   "source": [
    "from sklearn.neural_network import MLPClassifier\n",
    "cl = MLPClassifier(\n",
    "    hidden_layer_sizes=500,\n",
    "    max_iter=800,\n",
    "    random_state=42,\n",
    "    )\n",
    "cross_val_score(cl, X, y, cv=ss, scoring='neg_log_loss')"
   ]
  },
  {
   "cell_type": "code",
   "execution_count": 42,
   "metadata": {},
   "outputs": [],
   "source": [
    "MLPClassifier?"
   ]
  }
 ],
 "metadata": {
  "kernelspec": {
   "display_name": "Python 3 (ipykernel)",
   "language": "python",
   "name": "python3"
  },
  "language_info": {
   "codemirror_mode": {
    "name": "ipython",
    "version": 3
   },
   "file_extension": ".py",
   "mimetype": "text/x-python",
   "name": "python",
   "nbconvert_exporter": "python",
   "pygments_lexer": "ipython3",
   "version": "3.8.0"
  }
 },
 "nbformat": 4,
 "nbformat_minor": 1
}
