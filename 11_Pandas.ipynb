{
 "cells": [
  {
   "cell_type": "markdown",
   "id": "2fe96656",
   "metadata": {},
   "source": [
    "## [pandas](https://pandas.pydata.org/)\n",
    "\n",
    "- pandas is a NumPy based data analysis tool. Many of its ideas were borrowed from the R language.\n",
    "- pandas' fundamental data types are the **DataFrame** (table) and the **Series** (column).\n",
    "- pandas can be viewed as an in-memory, column oriented database."
   ]
  },
  {
   "cell_type": "code",
   "execution_count": 1,
   "id": "7e234685",
   "metadata": {},
   "outputs": [],
   "source": [
    "# Importing pandas as pd.\n",
    "import pandas as pd"
   ]
  },
  {
   "cell_type": "code",
   "execution_count": 2,
   "id": "12da4106",
   "metadata": {},
   "outputs": [
    {
     "data": {
      "text/plain": [
       "'1.5.3'"
      ]
     },
     "execution_count": 2,
     "metadata": {},
     "output_type": "execute_result"
    }
   ],
   "source": [
    "# The version number of pandas.\n",
    "pd.__version__"
   ]
  },
  {
   "cell_type": "markdown",
   "id": "81e310bc",
   "metadata": {},
   "source": [
    "### DataFrame"
   ]
  },
  {
   "cell_type": "code",
   "execution_count": 3,
   "id": "cf974b5e",
   "metadata": {},
   "outputs": [
    {
     "data": {
      "text/html": [
       "<div>\n",
       "<style scoped>\n",
       "    .dataframe tbody tr th:only-of-type {\n",
       "        vertical-align: middle;\n",
       "    }\n",
       "\n",
       "    .dataframe tbody tr th {\n",
       "        vertical-align: top;\n",
       "    }\n",
       "\n",
       "    .dataframe thead th {\n",
       "        text-align: right;\n",
       "    }\n",
       "</style>\n",
       "<table border=\"1\" class=\"dataframe\">\n",
       "  <thead>\n",
       "    <tr style=\"text-align: right;\">\n",
       "      <th></th>\n",
       "      <th>a</th>\n",
       "      <th>b</th>\n",
       "      <th>c</th>\n",
       "    </tr>\n",
       "  </thead>\n",
       "  <tbody>\n",
       "    <tr>\n",
       "      <th>0</th>\n",
       "      <td>10</td>\n",
       "      <td>xx</td>\n",
       "      <td>1.5</td>\n",
       "    </tr>\n",
       "    <tr>\n",
       "      <th>1</th>\n",
       "      <td>20</td>\n",
       "      <td>yy</td>\n",
       "      <td>2.6</td>\n",
       "    </tr>\n",
       "    <tr>\n",
       "      <th>2</th>\n",
       "      <td>30</td>\n",
       "      <td>zz</td>\n",
       "      <td>3.7</td>\n",
       "    </tr>\n",
       "    <tr>\n",
       "      <th>3</th>\n",
       "      <td>40</td>\n",
       "      <td>qq</td>\n",
       "      <td>4.8</td>\n",
       "    </tr>\n",
       "  </tbody>\n",
       "</table>\n",
       "</div>"
      ],
      "text/plain": [
       "    a   b    c\n",
       "0  10  xx  1.5\n",
       "1  20  yy  2.6\n",
       "2  30  zz  3.7\n",
       "3  40  qq  4.8"
      ]
     },
     "execution_count": 3,
     "metadata": {},
     "output_type": "execute_result"
    }
   ],
   "source": [
    "# Creating a DataFrame from columns.\n",
    "# The input is a dict, where the keys are the column names and the values are the columns.\n",
    "data = {\n",
    "    'a': [10, 20, 30, 40],\n",
    "    'b': ['xx', 'yy', 'zz', 'qq'],\n",
    "    'c': [1.5, 2.6, 3.7, 4.8]\n",
    "}\n",
    "df1 = pd.DataFrame(data)\n",
    "df1"
   ]
  },
  {
   "cell_type": "code",
   "execution_count": 4,
   "id": "6a16b991",
   "metadata": {},
   "outputs": [
    {
     "data": {
      "text/plain": [
       "pandas.core.frame.DataFrame"
      ]
     },
     "execution_count": 4,
     "metadata": {},
     "output_type": "execute_result"
    }
   ],
   "source": [
    "# The type of df1.\n",
    "type(df1)"
   ]
  },
  {
   "cell_type": "code",
   "execution_count": 5,
   "id": "778ef333",
   "metadata": {},
   "outputs": [
    {
     "data": {
      "text/plain": [
       "Index(['a', 'b', 'c'], dtype='object')"
      ]
     },
     "execution_count": 5,
     "metadata": {},
     "output_type": "execute_result"
    }
   ],
   "source": [
    "# Column names.\n",
    "df1.columns"
   ]
  },
  {
   "cell_type": "code",
   "execution_count": 6,
   "id": "d64664a7",
   "metadata": {},
   "outputs": [
    {
     "data": {
      "text/plain": [
       "'a'"
      ]
     },
     "execution_count": 6,
     "metadata": {},
     "output_type": "execute_result"
    }
   ],
   "source": [
    "df1.columns[0]"
   ]
  },
  {
   "cell_type": "code",
   "execution_count": 7,
   "id": "e37e262d",
   "metadata": {},
   "outputs": [
    {
     "name": "stdout",
     "output_type": "stream",
     "text": [
      "a\n",
      "b\n",
      "c\n"
     ]
    }
   ],
   "source": [
    "# Iterating over column names.\n",
    "for col in df1:\n",
    "    print(col)"
   ]
  },
  {
   "cell_type": "code",
   "execution_count": 8,
   "id": "23567dc3",
   "metadata": {},
   "outputs": [
    {
     "data": {
      "text/plain": [
       "4"
      ]
     },
     "execution_count": 8,
     "metadata": {},
     "output_type": "execute_result"
    }
   ],
   "source": [
    "# Number of rows.\n",
    "len(df1)"
   ]
  },
  {
   "cell_type": "code",
   "execution_count": 9,
   "id": "a3b4e063",
   "metadata": {},
   "outputs": [
    {
     "data": {
      "text/plain": [
       "(4, 3)"
      ]
     },
     "execution_count": 9,
     "metadata": {},
     "output_type": "execute_result"
    }
   ],
   "source": [
    "# Shape of the DataFrame.\n",
    "df1.shape"
   ]
  },
  {
   "cell_type": "code",
   "execution_count": 10,
   "id": "1e1231e4",
   "metadata": {},
   "outputs": [
    {
     "name": "stdout",
     "output_type": "stream",
     "text": [
      "<class 'pandas.core.frame.DataFrame'>\n",
      "RangeIndex: 4 entries, 0 to 3\n",
      "Data columns (total 3 columns):\n",
      " #   Column  Non-Null Count  Dtype  \n",
      "---  ------  --------------  -----  \n",
      " 0   a       4 non-null      int64  \n",
      " 1   b       4 non-null      object \n",
      " 2   c       4 non-null      float64\n",
      "dtypes: float64(1), int64(1), object(1)\n",
      "memory usage: 224.0+ bytes\n"
     ]
    }
   ],
   "source": [
    "# Summary information.\n",
    "df1.info()"
   ]
  },
  {
   "cell_type": "code",
   "execution_count": 11,
   "id": "f813eab3",
   "metadata": {},
   "outputs": [
    {
     "data": {
      "text/html": [
       "<div>\n",
       "<style scoped>\n",
       "    .dataframe tbody tr th:only-of-type {\n",
       "        vertical-align: middle;\n",
       "    }\n",
       "\n",
       "    .dataframe tbody tr th {\n",
       "        vertical-align: top;\n",
       "    }\n",
       "\n",
       "    .dataframe thead th {\n",
       "        text-align: right;\n",
       "    }\n",
       "</style>\n",
       "<table border=\"1\" class=\"dataframe\">\n",
       "  <thead>\n",
       "    <tr style=\"text-align: right;\">\n",
       "      <th></th>\n",
       "      <th>count</th>\n",
       "      <th>mean</th>\n",
       "      <th>std</th>\n",
       "      <th>min</th>\n",
       "      <th>25%</th>\n",
       "      <th>50%</th>\n",
       "      <th>75%</th>\n",
       "      <th>max</th>\n",
       "    </tr>\n",
       "  </thead>\n",
       "  <tbody>\n",
       "    <tr>\n",
       "      <th>a</th>\n",
       "      <td>4.0</td>\n",
       "      <td>25.00</td>\n",
       "      <td>12.909944</td>\n",
       "      <td>10.0</td>\n",
       "      <td>17.500</td>\n",
       "      <td>25.00</td>\n",
       "      <td>32.500</td>\n",
       "      <td>40.0</td>\n",
       "    </tr>\n",
       "    <tr>\n",
       "      <th>c</th>\n",
       "      <td>4.0</td>\n",
       "      <td>3.15</td>\n",
       "      <td>1.420094</td>\n",
       "      <td>1.5</td>\n",
       "      <td>2.325</td>\n",
       "      <td>3.15</td>\n",
       "      <td>3.975</td>\n",
       "      <td>4.8</td>\n",
       "    </tr>\n",
       "  </tbody>\n",
       "</table>\n",
       "</div>"
      ],
      "text/plain": [
       "   count   mean        std   min     25%    50%     75%   max\n",
       "a    4.0  25.00  12.909944  10.0  17.500  25.00  32.500  40.0\n",
       "c    4.0   3.15   1.420094   1.5   2.325   3.15   3.975   4.8"
      ]
     },
     "execution_count": 11,
     "metadata": {},
     "output_type": "execute_result"
    }
   ],
   "source": [
    "# Basic statistics about the numerical columns.\n",
    "df1.describe().T"
   ]
  },
  {
   "cell_type": "code",
   "execution_count": 12,
   "id": "603ed28b",
   "metadata": {},
   "outputs": [
    {
     "data": {
      "text/html": [
       "<div>\n",
       "<style scoped>\n",
       "    .dataframe tbody tr th:only-of-type {\n",
       "        vertical-align: middle;\n",
       "    }\n",
       "\n",
       "    .dataframe tbody tr th {\n",
       "        vertical-align: top;\n",
       "    }\n",
       "\n",
       "    .dataframe thead th {\n",
       "        text-align: right;\n",
       "    }\n",
       "</style>\n",
       "<table border=\"1\" class=\"dataframe\">\n",
       "  <thead>\n",
       "    <tr style=\"text-align: right;\">\n",
       "      <th></th>\n",
       "      <th>a</th>\n",
       "      <th>b</th>\n",
       "      <th>c</th>\n",
       "    </tr>\n",
       "  </thead>\n",
       "  <tbody>\n",
       "    <tr>\n",
       "      <th>0</th>\n",
       "      <td>10</td>\n",
       "      <td>Joe</td>\n",
       "      <td>1.5</td>\n",
       "    </tr>\n",
       "    <tr>\n",
       "      <th>1</th>\n",
       "      <td>20</td>\n",
       "      <td>NaN</td>\n",
       "      <td>1.5</td>\n",
       "    </tr>\n",
       "    <tr>\n",
       "      <th>2</th>\n",
       "      <td>30</td>\n",
       "      <td>Tom</td>\n",
       "      <td>2.5</td>\n",
       "    </tr>\n",
       "    <tr>\n",
       "      <th>3</th>\n",
       "      <td>40</td>\n",
       "      <td>George</td>\n",
       "      <td>5.5</td>\n",
       "    </tr>\n",
       "  </tbody>\n",
       "</table>\n",
       "</div>"
      ],
      "text/plain": [
       "    a       b    c\n",
       "0  10     Joe  1.5\n",
       "1  20     NaN  1.5\n",
       "2  30     Tom  2.5\n",
       "3  40  George  5.5"
      ]
     },
     "execution_count": 12,
     "metadata": {},
     "output_type": "execute_result"
    }
   ],
   "source": [
    "# Creating a DataFrame from rows.\n",
    "# The input is a list of dicts, where each dict represents a row.\n",
    "data = [\n",
    "    {'a': 10, 'b': 'Joe', 'c': 1.5},\n",
    "    {'a': 20, 'c': 1.5},\n",
    "    {'a': 30, 'b': 'Tom', 'c': 2.5},\n",
    "    {'a': 40, 'b': 'George', 'c': 5.5}\n",
    "]\n",
    "df2 = pd.DataFrame(data)\n",
    "df2"
   ]
  },
  {
   "cell_type": "code",
   "execution_count": 13,
   "id": "5ae5cea3",
   "metadata": {},
   "outputs": [
    {
     "data": {
      "text/plain": [
       "False"
      ]
     },
     "execution_count": 13,
     "metadata": {},
     "output_type": "execute_result"
    }
   ],
   "source": [
    "# An interesting property of NaN.\n",
    "import numpy as np\n",
    "np.nan == np.nan"
   ]
  },
  {
   "cell_type": "code",
   "execution_count": 14,
   "id": "e67ff127",
   "metadata": {},
   "outputs": [
    {
     "data": {
      "text/html": [
       "<div>\n",
       "<style scoped>\n",
       "    .dataframe tbody tr th:only-of-type {\n",
       "        vertical-align: middle;\n",
       "    }\n",
       "\n",
       "    .dataframe tbody tr th {\n",
       "        vertical-align: top;\n",
       "    }\n",
       "\n",
       "    .dataframe thead th {\n",
       "        text-align: right;\n",
       "    }\n",
       "</style>\n",
       "<table border=\"1\" class=\"dataframe\">\n",
       "  <thead>\n",
       "    <tr style=\"text-align: right;\">\n",
       "      <th></th>\n",
       "      <th>a</th>\n",
       "      <th>b</th>\n",
       "      <th>c</th>\n",
       "    </tr>\n",
       "  </thead>\n",
       "  <tbody>\n",
       "    <tr>\n",
       "      <th>0</th>\n",
       "      <td>10</td>\n",
       "      <td>xx</td>\n",
       "      <td>1.5</td>\n",
       "    </tr>\n",
       "    <tr>\n",
       "      <th>1</th>\n",
       "      <td>20</td>\n",
       "      <td>yy</td>\n",
       "      <td>2.6</td>\n",
       "    </tr>\n",
       "    <tr>\n",
       "      <th>2</th>\n",
       "      <td>30</td>\n",
       "      <td>zz</td>\n",
       "      <td>3.7</td>\n",
       "    </tr>\n",
       "    <tr>\n",
       "      <th>3</th>\n",
       "      <td>40</td>\n",
       "      <td>qq</td>\n",
       "      <td>4.8</td>\n",
       "    </tr>\n",
       "  </tbody>\n",
       "</table>\n",
       "</div>"
      ],
      "text/plain": [
       "    a   b    c\n",
       "0  10  xx  1.5\n",
       "1  20  yy  2.6\n",
       "2  30  zz  3.7\n",
       "3  40  qq  4.8"
      ]
     },
     "execution_count": 14,
     "metadata": {},
     "output_type": "execute_result"
    }
   ],
   "source": [
    "# Every DataFrame (and Series) contains an index.\n",
    "# By default, the index starts from 0 and increases by 1.\n",
    "df1"
   ]
  },
  {
   "cell_type": "code",
   "execution_count": 15,
   "id": "f79e6247",
   "metadata": {},
   "outputs": [
    {
     "data": {
      "text/plain": [
       "RangeIndex(start=0, stop=4, step=1)"
      ]
     },
     "execution_count": 15,
     "metadata": {},
     "output_type": "execute_result"
    }
   ],
   "source": [
    "df1.index"
   ]
  },
  {
   "cell_type": "code",
   "execution_count": 16,
   "id": "5cd597f6",
   "metadata": {},
   "outputs": [
    {
     "data": {
      "text/html": [
       "<div>\n",
       "<style scoped>\n",
       "    .dataframe tbody tr th:only-of-type {\n",
       "        vertical-align: middle;\n",
       "    }\n",
       "\n",
       "    .dataframe tbody tr th {\n",
       "        vertical-align: top;\n",
       "    }\n",
       "\n",
       "    .dataframe thead th {\n",
       "        text-align: right;\n",
       "    }\n",
       "</style>\n",
       "<table border=\"1\" class=\"dataframe\">\n",
       "  <thead>\n",
       "    <tr style=\"text-align: right;\">\n",
       "      <th></th>\n",
       "      <th>a</th>\n",
       "      <th>b</th>\n",
       "      <th>c</th>\n",
       "    </tr>\n",
       "  </thead>\n",
       "  <tbody>\n",
       "    <tr>\n",
       "      <th>aa</th>\n",
       "      <td>10</td>\n",
       "      <td>xx</td>\n",
       "      <td>1.5</td>\n",
       "    </tr>\n",
       "    <tr>\n",
       "      <th>bb</th>\n",
       "      <td>20</td>\n",
       "      <td>yy</td>\n",
       "      <td>2.6</td>\n",
       "    </tr>\n",
       "    <tr>\n",
       "      <th>cc</th>\n",
       "      <td>30</td>\n",
       "      <td>zz</td>\n",
       "      <td>3.7</td>\n",
       "    </tr>\n",
       "    <tr>\n",
       "      <th>dd</th>\n",
       "      <td>40</td>\n",
       "      <td>qq</td>\n",
       "      <td>4.8</td>\n",
       "    </tr>\n",
       "  </tbody>\n",
       "</table>\n",
       "</div>"
      ],
      "text/plain": [
       "     a   b    c\n",
       "aa  10  xx  1.5\n",
       "bb  20  yy  2.6\n",
       "cc  30  zz  3.7\n",
       "dd  40  qq  4.8"
      ]
     },
     "execution_count": 16,
     "metadata": {},
     "output_type": "execute_result"
    }
   ],
   "source": [
    "# This can be overridden of course.\n",
    "data = {\n",
    "    'a': [10, 20, 30, 40],\n",
    "    'b': ['xx', 'yy', 'zz', 'qq'],\n",
    "    'c': [1.5, 2.6, 3.7, 4.8]\n",
    "}\n",
    "df3 = pd.DataFrame(data, index=['aa', 'bb', 'cc', 'dd'])\n",
    "df3"
   ]
  },
  {
   "cell_type": "code",
   "execution_count": 17,
   "id": "d98ac929",
   "metadata": {},
   "outputs": [
    {
     "data": {
      "text/html": [
       "<div>\n",
       "<style scoped>\n",
       "    .dataframe tbody tr th:only-of-type {\n",
       "        vertical-align: middle;\n",
       "    }\n",
       "\n",
       "    .dataframe tbody tr th {\n",
       "        vertical-align: top;\n",
       "    }\n",
       "\n",
       "    .dataframe thead th {\n",
       "        text-align: right;\n",
       "    }\n",
       "</style>\n",
       "<table border=\"1\" class=\"dataframe\">\n",
       "  <thead>\n",
       "    <tr style=\"text-align: right;\">\n",
       "      <th></th>\n",
       "      <th>a</th>\n",
       "      <th>c</th>\n",
       "    </tr>\n",
       "    <tr>\n",
       "      <th>b</th>\n",
       "      <th></th>\n",
       "      <th></th>\n",
       "    </tr>\n",
       "  </thead>\n",
       "  <tbody>\n",
       "    <tr>\n",
       "      <th>xx</th>\n",
       "      <td>10</td>\n",
       "      <td>1.5</td>\n",
       "    </tr>\n",
       "    <tr>\n",
       "      <th>yy</th>\n",
       "      <td>20</td>\n",
       "      <td>2.6</td>\n",
       "    </tr>\n",
       "    <tr>\n",
       "      <th>zz</th>\n",
       "      <td>30</td>\n",
       "      <td>3.7</td>\n",
       "    </tr>\n",
       "    <tr>\n",
       "      <th>qq</th>\n",
       "      <td>40</td>\n",
       "      <td>4.8</td>\n",
       "    </tr>\n",
       "  </tbody>\n",
       "</table>\n",
       "</div>"
      ],
      "text/plain": [
       "     a    c\n",
       "b          \n",
       "xx  10  1.5\n",
       "yy  20  2.6\n",
       "zz  30  3.7\n",
       "qq  40  4.8"
      ]
     },
     "execution_count": 17,
     "metadata": {},
     "output_type": "execute_result"
    }
   ],
   "source": [
    "# Using an existing column as an index.\n",
    "df4 = df3.set_index('b')\n",
    "df4"
   ]
  },
  {
   "cell_type": "markdown",
   "id": "ac19aa64",
   "metadata": {},
   "source": [
    "### Series"
   ]
  },
  {
   "cell_type": "code",
   "execution_count": 18,
   "id": "aed93ce5",
   "metadata": {},
   "outputs": [
    {
     "data": {
      "text/plain": [
       "0    20\n",
       "1    30\n",
       "2    40\n",
       "dtype: int64"
      ]
     },
     "execution_count": 18,
     "metadata": {},
     "output_type": "execute_result"
    }
   ],
   "source": [
    "# Creating a Series (using the default index).\n",
    "se1 = pd.Series([20, 30, 40])\n",
    "se1"
   ]
  },
  {
   "cell_type": "code",
   "execution_count": 19,
   "id": "a9d758de",
   "metadata": {},
   "outputs": [
    {
     "data": {
      "text/plain": [
       "pandas.core.series.Series"
      ]
     },
     "execution_count": 19,
     "metadata": {},
     "output_type": "execute_result"
    }
   ],
   "source": [
    "# The type of se1.\n",
    "type(se1)"
   ]
  },
  {
   "cell_type": "code",
   "execution_count": 20,
   "id": "09435636",
   "metadata": {},
   "outputs": [
    {
     "data": {
      "text/plain": [
       "foo       20\n",
       "bar       30\n",
       "banana    40\n",
       "dtype: int64"
      ]
     },
     "execution_count": 20,
     "metadata": {},
     "output_type": "execute_result"
    }
   ],
   "source": [
    "# Creating a Series with an index.\n",
    "se2 = pd.Series([20, 30, 40], index=['foo', 'bar', 'banana'])\n",
    "se2"
   ]
  },
  {
   "cell_type": "markdown",
   "id": "997ff4ba",
   "metadata": {},
   "source": [
    "### Indexing"
   ]
  },
  {
   "cell_type": "code",
   "execution_count": 21,
   "id": "89654e5b",
   "metadata": {},
   "outputs": [
    {
     "data": {
      "text/plain": [
       "0    10\n",
       "1    20\n",
       "2    30\n",
       "3    40\n",
       "Name: a, dtype: int64"
      ]
     },
     "execution_count": 21,
     "metadata": {},
     "output_type": "execute_result"
    }
   ],
   "source": [
    "# A column can be selected from a DataFrame using the [] operator.\n",
    "df1['a']"
   ]
  },
  {
   "cell_type": "code",
   "execution_count": 22,
   "id": "a95b4146",
   "metadata": {},
   "outputs": [
    {
     "data": {
      "text/plain": [
       "0    10\n",
       "1    20\n",
       "2    30\n",
       "3    40\n",
       "Name: a, dtype: int64"
      ]
     },
     "execution_count": 22,
     "metadata": {},
     "output_type": "execute_result"
    }
   ],
   "source": [
    "# ...or if the column name is a valid identifier, then the . operator can be used too.\n",
    "df1.a"
   ]
  },
  {
   "cell_type": "code",
   "execution_count": 23,
   "id": "c6f86b83",
   "metadata": {},
   "outputs": [
    {
     "data": {
      "text/html": [
       "<div>\n",
       "<style scoped>\n",
       "    .dataframe tbody tr th:only-of-type {\n",
       "        vertical-align: middle;\n",
       "    }\n",
       "\n",
       "    .dataframe tbody tr th {\n",
       "        vertical-align: top;\n",
       "    }\n",
       "\n",
       "    .dataframe thead th {\n",
       "        text-align: right;\n",
       "    }\n",
       "</style>\n",
       "<table border=\"1\" class=\"dataframe\">\n",
       "  <thead>\n",
       "    <tr style=\"text-align: right;\">\n",
       "      <th></th>\n",
       "      <th>a</th>\n",
       "      <th>c</th>\n",
       "    </tr>\n",
       "  </thead>\n",
       "  <tbody>\n",
       "    <tr>\n",
       "      <th>0</th>\n",
       "      <td>10</td>\n",
       "      <td>1.5</td>\n",
       "    </tr>\n",
       "    <tr>\n",
       "      <th>1</th>\n",
       "      <td>20</td>\n",
       "      <td>2.6</td>\n",
       "    </tr>\n",
       "    <tr>\n",
       "      <th>2</th>\n",
       "      <td>30</td>\n",
       "      <td>3.7</td>\n",
       "    </tr>\n",
       "    <tr>\n",
       "      <th>3</th>\n",
       "      <td>40</td>\n",
       "      <td>4.8</td>\n",
       "    </tr>\n",
       "  </tbody>\n",
       "</table>\n",
       "</div>"
      ],
      "text/plain": [
       "    a    c\n",
       "0  10  1.5\n",
       "1  20  2.6\n",
       "2  30  3.7\n",
       "3  40  4.8"
      ]
     },
     "execution_count": 23,
     "metadata": {},
     "output_type": "execute_result"
    }
   ],
   "source": [
    "# Selecting multiple columns.\n",
    "df1[['a', 'c']]"
   ]
  },
  {
   "cell_type": "code",
   "execution_count": 24,
   "id": "28325a9b",
   "metadata": {},
   "outputs": [
    {
     "data": {
      "text/html": [
       "<div>\n",
       "<style scoped>\n",
       "    .dataframe tbody tr th:only-of-type {\n",
       "        vertical-align: middle;\n",
       "    }\n",
       "\n",
       "    .dataframe tbody tr th {\n",
       "        vertical-align: top;\n",
       "    }\n",
       "\n",
       "    .dataframe thead th {\n",
       "        text-align: right;\n",
       "    }\n",
       "</style>\n",
       "<table border=\"1\" class=\"dataframe\">\n",
       "  <thead>\n",
       "    <tr style=\"text-align: right;\">\n",
       "      <th></th>\n",
       "      <th>a</th>\n",
       "    </tr>\n",
       "  </thead>\n",
       "  <tbody>\n",
       "    <tr>\n",
       "      <th>0</th>\n",
       "      <td>10</td>\n",
       "    </tr>\n",
       "    <tr>\n",
       "      <th>1</th>\n",
       "      <td>20</td>\n",
       "    </tr>\n",
       "    <tr>\n",
       "      <th>2</th>\n",
       "      <td>30</td>\n",
       "    </tr>\n",
       "    <tr>\n",
       "      <th>3</th>\n",
       "      <td>40</td>\n",
       "    </tr>\n",
       "  </tbody>\n",
       "</table>\n",
       "</div>"
      ],
      "text/plain": [
       "    a\n",
       "0  10\n",
       "1  20\n",
       "2  30\n",
       "3  40"
      ]
     },
     "execution_count": 24,
     "metadata": {},
     "output_type": "execute_result"
    }
   ],
   "source": [
    "# If we index by a list of size 1, then the type of the result is DataFrame.\n",
    "df1[['a']]"
   ]
  },
  {
   "cell_type": "code",
   "execution_count": 25,
   "id": "5d4fd1c0",
   "metadata": {},
   "outputs": [
    {
     "data": {
      "text/plain": [
       "a     20\n",
       "b     yy\n",
       "c    2.6\n",
       "Name: bb, dtype: object"
      ]
     },
     "execution_count": 25,
     "metadata": {},
     "output_type": "execute_result"
    }
   ],
   "source": [
    "# Selecting a single row from a DataFrame.\n",
    "df3.loc['bb']"
   ]
  },
  {
   "cell_type": "code",
   "execution_count": 26,
   "id": "13067471",
   "metadata": {},
   "outputs": [
    {
     "data": {
      "text/html": [
       "<div>\n",
       "<style scoped>\n",
       "    .dataframe tbody tr th:only-of-type {\n",
       "        vertical-align: middle;\n",
       "    }\n",
       "\n",
       "    .dataframe tbody tr th {\n",
       "        vertical-align: top;\n",
       "    }\n",
       "\n",
       "    .dataframe thead th {\n",
       "        text-align: right;\n",
       "    }\n",
       "</style>\n",
       "<table border=\"1\" class=\"dataframe\">\n",
       "  <thead>\n",
       "    <tr style=\"text-align: right;\">\n",
       "      <th></th>\n",
       "      <th>a</th>\n",
       "      <th>b</th>\n",
       "      <th>c</th>\n",
       "    </tr>\n",
       "  </thead>\n",
       "  <tbody>\n",
       "    <tr>\n",
       "      <th>bb</th>\n",
       "      <td>20</td>\n",
       "      <td>yy</td>\n",
       "      <td>2.6</td>\n",
       "    </tr>\n",
       "    <tr>\n",
       "      <th>dd</th>\n",
       "      <td>40</td>\n",
       "      <td>qq</td>\n",
       "      <td>4.8</td>\n",
       "    </tr>\n",
       "  </tbody>\n",
       "</table>\n",
       "</div>"
      ],
      "text/plain": [
       "     a   b    c\n",
       "bb  20  yy  2.6\n",
       "dd  40  qq  4.8"
      ]
     },
     "execution_count": 26,
     "metadata": {},
     "output_type": "execute_result"
    }
   ],
   "source": [
    "# Selecting multiple rows from a DataFrame.\n",
    "df3.loc[['bb', 'dd']]"
   ]
  },
  {
   "cell_type": "code",
   "execution_count": 27,
   "id": "af06e20f",
   "metadata": {},
   "outputs": [
    {
     "data": {
      "text/plain": [
       "a     10\n",
       "b     xx\n",
       "c    1.5\n",
       "Name: aa, dtype: object"
      ]
     },
     "execution_count": 27,
     "metadata": {},
     "output_type": "execute_result"
    }
   ],
   "source": [
    "# Position based selection of rows.\n",
    "df3.iloc[0]"
   ]
  },
  {
   "cell_type": "code",
   "execution_count": 28,
   "id": "f63117df",
   "metadata": {},
   "outputs": [
    {
     "data": {
      "text/plain": [
       "40"
      ]
     },
     "execution_count": 28,
     "metadata": {},
     "output_type": "execute_result"
    }
   ],
   "source": [
    "# Selecting an item from a Series.\n",
    "se2['banana']"
   ]
  },
  {
   "cell_type": "code",
   "execution_count": 29,
   "id": "59b184b8",
   "metadata": {},
   "outputs": [
    {
     "data": {
      "text/plain": [
       "foo    20\n",
       "bar    30\n",
       "dtype: int64"
      ]
     },
     "execution_count": 29,
     "metadata": {},
     "output_type": "execute_result"
    }
   ],
   "source": [
    "se2[['foo', 'bar']]"
   ]
  },
  {
   "cell_type": "code",
   "execution_count": 30,
   "id": "c7590013",
   "metadata": {},
   "outputs": [
    {
     "data": {
      "text/plain": [
       "array([20, 30, 40])"
      ]
     },
     "execution_count": 30,
     "metadata": {},
     "output_type": "execute_result"
    }
   ],
   "source": [
    "# Accessing the data in raw format as a NumPy array.\n",
    "se2.values"
   ]
  },
  {
   "cell_type": "code",
   "execution_count": 31,
   "id": "1132d82e",
   "metadata": {},
   "outputs": [
    {
     "data": {
      "text/plain": [
       "array([[10, 'xx', 1.5],\n",
       "       [20, 'yy', 2.6],\n",
       "       [30, 'zz', 3.7],\n",
       "       [40, 'qq', 4.8]], dtype=object)"
      ]
     },
     "execution_count": 31,
     "metadata": {},
     "output_type": "execute_result"
    }
   ],
   "source": [
    "df1.values"
   ]
  },
  {
   "cell_type": "markdown",
   "id": "27d4cd61",
   "metadata": {},
   "source": [
    "### Simple Queries"
   ]
  },
  {
   "cell_type": "code",
   "execution_count": 32,
   "id": "8e0e872f",
   "metadata": {},
   "outputs": [
    {
     "data": {
      "text/html": [
       "<div>\n",
       "<style scoped>\n",
       "    .dataframe tbody tr th:only-of-type {\n",
       "        vertical-align: middle;\n",
       "    }\n",
       "\n",
       "    .dataframe tbody tr th {\n",
       "        vertical-align: top;\n",
       "    }\n",
       "\n",
       "    .dataframe thead th {\n",
       "        text-align: right;\n",
       "    }\n",
       "</style>\n",
       "<table border=\"1\" class=\"dataframe\">\n",
       "  <thead>\n",
       "    <tr style=\"text-align: right;\">\n",
       "      <th></th>\n",
       "      <th>student</th>\n",
       "      <th>subject</th>\n",
       "      <th>grade</th>\n",
       "    </tr>\n",
       "  </thead>\n",
       "  <tbody>\n",
       "    <tr>\n",
       "      <th>0</th>\n",
       "      <td>John Doe</td>\n",
       "      <td>Mathematics</td>\n",
       "      <td>5</td>\n",
       "    </tr>\n",
       "    <tr>\n",
       "      <th>1</th>\n",
       "      <td>John Doe</td>\n",
       "      <td>History</td>\n",
       "      <td>2</td>\n",
       "    </tr>\n",
       "    <tr>\n",
       "      <th>2</th>\n",
       "      <td>Jane Smith</td>\n",
       "      <td>Mathematics</td>\n",
       "      <td>3</td>\n",
       "    </tr>\n",
       "    <tr>\n",
       "      <th>3</th>\n",
       "      <td>Jane Smith</td>\n",
       "      <td>Mathematics</td>\n",
       "      <td>5</td>\n",
       "    </tr>\n",
       "    <tr>\n",
       "      <th>4</th>\n",
       "      <td>Jane Smith</td>\n",
       "      <td>History</td>\n",
       "      <td>4</td>\n",
       "    </tr>\n",
       "    <tr>\n",
       "      <th>5</th>\n",
       "      <td>Scunner Campbell</td>\n",
       "      <td>Mathematics</td>\n",
       "      <td>1</td>\n",
       "    </tr>\n",
       "    <tr>\n",
       "      <th>6</th>\n",
       "      <td>Scunner Campbell</td>\n",
       "      <td>Mathematics</td>\n",
       "      <td>2</td>\n",
       "    </tr>\n",
       "    <tr>\n",
       "      <th>7</th>\n",
       "      <td>Scunner Campbell</td>\n",
       "      <td>History</td>\n",
       "      <td>5</td>\n",
       "    </tr>\n",
       "  </tbody>\n",
       "</table>\n",
       "</div>"
      ],
      "text/plain": [
       "            student      subject  grade\n",
       "0          John Doe  Mathematics      5\n",
       "1          John Doe      History      2\n",
       "2        Jane Smith  Mathematics      3\n",
       "3        Jane Smith  Mathematics      5\n",
       "4        Jane Smith      History      4\n",
       "5  Scunner Campbell  Mathematics      1\n",
       "6  Scunner Campbell  Mathematics      2\n",
       "7  Scunner Campbell      History      5"
      ]
     },
     "execution_count": 32,
     "metadata": {},
     "output_type": "execute_result"
    }
   ],
   "source": [
    "# Let's create an example DataFrame!\n",
    "df = pd.DataFrame([\n",
    "    {'student': 'John Doe', 'subject': 'Mathematics',  'grade': 5},\n",
    "    {'student': 'John Doe', 'subject': 'History', 'grade': 2},\n",
    "    {'student': 'Jane Smith', 'subject': 'Mathematics',  'grade': 3},\n",
    "    {'student': 'Jane Smith', 'subject': 'Mathematics',  'grade': 5},\n",
    "    {'student': 'Jane Smith', 'subject': 'History', 'grade': 4},\n",
    "    {'student': 'Scunner Campbell', 'subject': 'Mathematics',  'grade': 1},\n",
    "    {'student': 'Scunner Campbell', 'subject': 'Mathematics',  'grade': 2},\n",
    "    {'student': 'Scunner Campbell', 'subject': 'History', 'grade': 5},\n",
    "])\n",
    "df"
   ]
  },
  {
   "cell_type": "code",
   "execution_count": 33,
   "id": "17988b8e",
   "metadata": {},
   "outputs": [
    {
     "data": {
      "text/plain": [
       "3.375"
      ]
     },
     "execution_count": 33,
     "metadata": {},
     "output_type": "execute_result"
    }
   ],
   "source": [
    "# Average of the grade column.\n",
    "df['grade'].mean()"
   ]
  },
  {
   "cell_type": "code",
   "execution_count": 34,
   "id": "e442f271",
   "metadata": {},
   "outputs": [
    {
     "data": {
      "text/plain": [
       "0     True\n",
       "1     True\n",
       "2    False\n",
       "3    False\n",
       "4    False\n",
       "5    False\n",
       "6    False\n",
       "7    False\n",
       "Name: student, dtype: bool"
      ]
     },
     "execution_count": 34,
     "metadata": {},
     "output_type": "execute_result"
    }
   ],
   "source": [
    "# Logical condition column.\n",
    "df['student'] == 'John Doe'"
   ]
  },
  {
   "cell_type": "code",
   "execution_count": 35,
   "id": "d2ae8476",
   "metadata": {},
   "outputs": [
    {
     "data": {
      "text/html": [
       "<div>\n",
       "<style scoped>\n",
       "    .dataframe tbody tr th:only-of-type {\n",
       "        vertical-align: middle;\n",
       "    }\n",
       "\n",
       "    .dataframe tbody tr th {\n",
       "        vertical-align: top;\n",
       "    }\n",
       "\n",
       "    .dataframe thead th {\n",
       "        text-align: right;\n",
       "    }\n",
       "</style>\n",
       "<table border=\"1\" class=\"dataframe\">\n",
       "  <thead>\n",
       "    <tr style=\"text-align: right;\">\n",
       "      <th></th>\n",
       "      <th>student</th>\n",
       "      <th>subject</th>\n",
       "      <th>grade</th>\n",
       "    </tr>\n",
       "  </thead>\n",
       "  <tbody>\n",
       "    <tr>\n",
       "      <th>0</th>\n",
       "      <td>John Doe</td>\n",
       "      <td>Mathematics</td>\n",
       "      <td>5</td>\n",
       "    </tr>\n",
       "    <tr>\n",
       "      <th>1</th>\n",
       "      <td>John Doe</td>\n",
       "      <td>History</td>\n",
       "      <td>2</td>\n",
       "    </tr>\n",
       "  </tbody>\n",
       "</table>\n",
       "</div>"
      ],
      "text/plain": [
       "    student      subject  grade\n",
       "0  John Doe  Mathematics      5\n",
       "1  John Doe      History      2"
      ]
     },
     "execution_count": 35,
     "metadata": {},
     "output_type": "execute_result"
    }
   ],
   "source": [
    "# All grades of John Doe.\n",
    "df[df['student'] == 'John Doe']"
   ]
  },
  {
   "cell_type": "code",
   "execution_count": 36,
   "id": "1f614b26",
   "metadata": {},
   "outputs": [
    {
     "data": {
      "text/html": [
       "<div>\n",
       "<style scoped>\n",
       "    .dataframe tbody tr th:only-of-type {\n",
       "        vertical-align: middle;\n",
       "    }\n",
       "\n",
       "    .dataframe tbody tr th {\n",
       "        vertical-align: top;\n",
       "    }\n",
       "\n",
       "    .dataframe thead th {\n",
       "        text-align: right;\n",
       "    }\n",
       "</style>\n",
       "<table border=\"1\" class=\"dataframe\">\n",
       "  <thead>\n",
       "    <tr style=\"text-align: right;\">\n",
       "      <th></th>\n",
       "      <th>student</th>\n",
       "      <th>subject</th>\n",
       "      <th>grade</th>\n",
       "    </tr>\n",
       "  </thead>\n",
       "  <tbody>\n",
       "    <tr>\n",
       "      <th>1</th>\n",
       "      <td>John Doe</td>\n",
       "      <td>History</td>\n",
       "      <td>2</td>\n",
       "    </tr>\n",
       "    <tr>\n",
       "      <th>2</th>\n",
       "      <td>Jane Smith</td>\n",
       "      <td>Mathematics</td>\n",
       "      <td>3</td>\n",
       "    </tr>\n",
       "    <tr>\n",
       "      <th>4</th>\n",
       "      <td>Jane Smith</td>\n",
       "      <td>History</td>\n",
       "      <td>4</td>\n",
       "    </tr>\n",
       "    <tr>\n",
       "      <th>6</th>\n",
       "      <td>Scunner Campbell</td>\n",
       "      <td>Mathematics</td>\n",
       "      <td>2</td>\n",
       "    </tr>\n",
       "  </tbody>\n",
       "</table>\n",
       "</div>"
      ],
      "text/plain": [
       "            student      subject  grade\n",
       "1          John Doe      History      2\n",
       "2        Jane Smith  Mathematics      3\n",
       "4        Jane Smith      History      4\n",
       "6  Scunner Campbell  Mathematics      2"
      ]
     },
     "execution_count": 36,
     "metadata": {},
     "output_type": "execute_result"
    }
   ],
   "source": [
    "# Grades better than 1 and worse than 5.\n",
    "df[(df['grade'] > 1) & (df['grade'] < 5)]"
   ]
  },
  {
   "cell_type": "markdown",
   "id": "3bb73ec9",
   "metadata": {},
   "source": [
    "### GroupBy Queries\n",
    "\n",
    "In pandas, the steps of grouping are as follows:\n",
    "\n",
    "- **Splitting** the data into groups based on some criteria.\n",
    "- **Applying** a function to each group independently.\n",
    "- **Combining** the results into a data structure.\n",
    "\n",
    "Out of these, the split step is the most straightforward. The splitting criterion is usually a column or a set of columns. The apply step is typically an aggregation (e.g. number of items in the group, number of unique values, sum, mean, minimum, maximum, first record, last record). If the apply step is an aggregation, then combining runs automatically, otherwise the programmer has to initiate it."
   ]
  },
  {
   "cell_type": "code",
   "execution_count": 37,
   "id": "dd055bef",
   "metadata": {},
   "outputs": [
    {
     "data": {
      "text/html": [
       "<div>\n",
       "<style scoped>\n",
       "    .dataframe tbody tr th:only-of-type {\n",
       "        vertical-align: middle;\n",
       "    }\n",
       "\n",
       "    .dataframe tbody tr th {\n",
       "        vertical-align: top;\n",
       "    }\n",
       "\n",
       "    .dataframe thead th {\n",
       "        text-align: right;\n",
       "    }\n",
       "</style>\n",
       "<table border=\"1\" class=\"dataframe\">\n",
       "  <thead>\n",
       "    <tr style=\"text-align: right;\">\n",
       "      <th></th>\n",
       "      <th>student</th>\n",
       "      <th>subject</th>\n",
       "      <th>grade</th>\n",
       "    </tr>\n",
       "  </thead>\n",
       "  <tbody>\n",
       "    <tr>\n",
       "      <th>0</th>\n",
       "      <td>John Doe</td>\n",
       "      <td>Mathematics</td>\n",
       "      <td>5</td>\n",
       "    </tr>\n",
       "    <tr>\n",
       "      <th>1</th>\n",
       "      <td>John Doe</td>\n",
       "      <td>History</td>\n",
       "      <td>2</td>\n",
       "    </tr>\n",
       "    <tr>\n",
       "      <th>2</th>\n",
       "      <td>Jane Smith</td>\n",
       "      <td>Mathematics</td>\n",
       "      <td>3</td>\n",
       "    </tr>\n",
       "    <tr>\n",
       "      <th>3</th>\n",
       "      <td>Jane Smith</td>\n",
       "      <td>Mathematics</td>\n",
       "      <td>5</td>\n",
       "    </tr>\n",
       "    <tr>\n",
       "      <th>4</th>\n",
       "      <td>Jane Smith</td>\n",
       "      <td>History</td>\n",
       "      <td>4</td>\n",
       "    </tr>\n",
       "    <tr>\n",
       "      <th>5</th>\n",
       "      <td>Scunner Campbell</td>\n",
       "      <td>Mathematics</td>\n",
       "      <td>1</td>\n",
       "    </tr>\n",
       "    <tr>\n",
       "      <th>6</th>\n",
       "      <td>Scunner Campbell</td>\n",
       "      <td>Mathematics</td>\n",
       "      <td>2</td>\n",
       "    </tr>\n",
       "    <tr>\n",
       "      <th>7</th>\n",
       "      <td>Scunner Campbell</td>\n",
       "      <td>History</td>\n",
       "      <td>5</td>\n",
       "    </tr>\n",
       "  </tbody>\n",
       "</table>\n",
       "</div>"
      ],
      "text/plain": [
       "            student      subject  grade\n",
       "0          John Doe  Mathematics      5\n",
       "1          John Doe      History      2\n",
       "2        Jane Smith  Mathematics      3\n",
       "3        Jane Smith  Mathematics      5\n",
       "4        Jane Smith      History      4\n",
       "5  Scunner Campbell  Mathematics      1\n",
       "6  Scunner Campbell  Mathematics      2\n",
       "7  Scunner Campbell      History      5"
      ]
     },
     "execution_count": 37,
     "metadata": {},
     "output_type": "execute_result"
    }
   ],
   "source": [
    "# Let's display the \"grades\" DataFrame!\n",
    "df"
   ]
  },
  {
   "cell_type": "code",
   "execution_count": 38,
   "id": "8e298af9",
   "metadata": {},
   "outputs": [],
   "source": [
    "# Group by subject.\n",
    "gb = df.groupby('subject')"
   ]
  },
  {
   "cell_type": "code",
   "execution_count": 39,
   "id": "710ef8e9",
   "metadata": {},
   "outputs": [
    {
     "data": {
      "text/plain": [
       "pandas.core.groupby.generic.DataFrameGroupBy"
      ]
     },
     "execution_count": 39,
     "metadata": {},
     "output_type": "execute_result"
    }
   ],
   "source": [
    "# The type of the result.\n",
    "type(gb)"
   ]
  },
  {
   "cell_type": "code",
   "execution_count": 40,
   "id": "08a87800",
   "metadata": {},
   "outputs": [
    {
     "data": {
      "text/plain": [
       "subject\n",
       "History        3\n",
       "Mathematics    5\n",
       "dtype: int64"
      ]
     },
     "execution_count": 40,
     "metadata": {},
     "output_type": "execute_result"
    }
   ],
   "source": [
    "# Number of records per subject.\n",
    "gb.size()"
   ]
  },
  {
   "cell_type": "code",
   "execution_count": 41,
   "id": "7c86d3a1",
   "metadata": {},
   "outputs": [
    {
     "data": {
      "text/plain": [
       "subject\n",
       "History        3\n",
       "Mathematics    5\n",
       "dtype: int64"
      ]
     },
     "execution_count": 41,
     "metadata": {},
     "output_type": "execute_result"
    }
   ],
   "source": [
    "# The same query, without using an auxiliary variable.\n",
    "df.groupby('subject').size()"
   ]
  },
  {
   "cell_type": "code",
   "execution_count": 42,
   "id": "44ad3ee5",
   "metadata": {},
   "outputs": [
    {
     "data": {
      "text/plain": [
       "subject\n",
       "History        3.666667\n",
       "Mathematics    3.200000\n",
       "Name: grade, dtype: float64"
      ]
     },
     "execution_count": 42,
     "metadata": {},
     "output_type": "execute_result"
    }
   ],
   "source": [
    "# Average grade per subject.\n",
    "df.groupby('subject')['grade'].mean()"
   ]
  },
  {
   "cell_type": "code",
   "execution_count": 43,
   "id": "092bfcd1",
   "metadata": {},
   "outputs": [
    {
     "data": {
      "text/plain": [
       "'History'"
      ]
     },
     "execution_count": 43,
     "metadata": {},
     "output_type": "execute_result"
    }
   ],
   "source": [
    "# Subject with the highest average grade.\n",
    "df.groupby('subject')['grade'].mean().idxmax()"
   ]
  },
  {
   "cell_type": "code",
   "execution_count": 44,
   "id": "80061cd4",
   "metadata": {},
   "outputs": [
    {
     "data": {
      "text/html": [
       "<div>\n",
       "<style scoped>\n",
       "    .dataframe tbody tr th:only-of-type {\n",
       "        vertical-align: middle;\n",
       "    }\n",
       "\n",
       "    .dataframe tbody tr th {\n",
       "        vertical-align: top;\n",
       "    }\n",
       "\n",
       "    .dataframe thead th {\n",
       "        text-align: right;\n",
       "    }\n",
       "</style>\n",
       "<table border=\"1\" class=\"dataframe\">\n",
       "  <thead>\n",
       "    <tr style=\"text-align: right;\">\n",
       "      <th></th>\n",
       "      <th></th>\n",
       "      <th>grade</th>\n",
       "    </tr>\n",
       "    <tr>\n",
       "      <th>student</th>\n",
       "      <th>subject</th>\n",
       "      <th></th>\n",
       "    </tr>\n",
       "  </thead>\n",
       "  <tbody>\n",
       "    <tr>\n",
       "      <th rowspan=\"2\" valign=\"top\">Jane Smith</th>\n",
       "      <th>History</th>\n",
       "      <td>4.0</td>\n",
       "    </tr>\n",
       "    <tr>\n",
       "      <th>Mathematics</th>\n",
       "      <td>4.0</td>\n",
       "    </tr>\n",
       "    <tr>\n",
       "      <th rowspan=\"2\" valign=\"top\">John Doe</th>\n",
       "      <th>History</th>\n",
       "      <td>2.0</td>\n",
       "    </tr>\n",
       "    <tr>\n",
       "      <th>Mathematics</th>\n",
       "      <td>5.0</td>\n",
       "    </tr>\n",
       "    <tr>\n",
       "      <th rowspan=\"2\" valign=\"top\">Scunner Campbell</th>\n",
       "      <th>History</th>\n",
       "      <td>5.0</td>\n",
       "    </tr>\n",
       "    <tr>\n",
       "      <th>Mathematics</th>\n",
       "      <td>1.5</td>\n",
       "    </tr>\n",
       "  </tbody>\n",
       "</table>\n",
       "</div>"
      ],
      "text/plain": [
       "                              grade\n",
       "student          subject           \n",
       "Jane Smith       History        4.0\n",
       "                 Mathematics    4.0\n",
       "John Doe         History        2.0\n",
       "                 Mathematics    5.0\n",
       "Scunner Campbell History        5.0\n",
       "                 Mathematics    1.5"
      ]
     },
     "execution_count": 44,
     "metadata": {},
     "output_type": "execute_result"
    }
   ],
   "source": [
    "# Subject averages for every student.\n",
    "df.groupby(['student', 'subject']).mean()"
   ]
  },
  {
   "cell_type": "code",
   "execution_count": 45,
   "id": "0ce1e154",
   "metadata": {},
   "outputs": [
    {
     "data": {
      "text/html": [
       "<div>\n",
       "<style scoped>\n",
       "    .dataframe tbody tr th:only-of-type {\n",
       "        vertical-align: middle;\n",
       "    }\n",
       "\n",
       "    .dataframe tbody tr th {\n",
       "        vertical-align: top;\n",
       "    }\n",
       "\n",
       "    .dataframe thead th {\n",
       "        text-align: right;\n",
       "    }\n",
       "</style>\n",
       "<table border=\"1\" class=\"dataframe\">\n",
       "  <thead>\n",
       "    <tr style=\"text-align: right;\">\n",
       "      <th></th>\n",
       "      <th>student</th>\n",
       "      <th>subject</th>\n",
       "      <th>grade</th>\n",
       "    </tr>\n",
       "  </thead>\n",
       "  <tbody>\n",
       "    <tr>\n",
       "      <th>0</th>\n",
       "      <td>Jane Smith</td>\n",
       "      <td>History</td>\n",
       "      <td>4.0</td>\n",
       "    </tr>\n",
       "    <tr>\n",
       "      <th>1</th>\n",
       "      <td>Jane Smith</td>\n",
       "      <td>Mathematics</td>\n",
       "      <td>4.0</td>\n",
       "    </tr>\n",
       "    <tr>\n",
       "      <th>2</th>\n",
       "      <td>John Doe</td>\n",
       "      <td>History</td>\n",
       "      <td>2.0</td>\n",
       "    </tr>\n",
       "    <tr>\n",
       "      <th>3</th>\n",
       "      <td>John Doe</td>\n",
       "      <td>Mathematics</td>\n",
       "      <td>5.0</td>\n",
       "    </tr>\n",
       "    <tr>\n",
       "      <th>4</th>\n",
       "      <td>Scunner Campbell</td>\n",
       "      <td>History</td>\n",
       "      <td>5.0</td>\n",
       "    </tr>\n",
       "    <tr>\n",
       "      <th>5</th>\n",
       "      <td>Scunner Campbell</td>\n",
       "      <td>Mathematics</td>\n",
       "      <td>1.5</td>\n",
       "    </tr>\n",
       "  </tbody>\n",
       "</table>\n",
       "</div>"
      ],
      "text/plain": [
       "            student      subject  grade\n",
       "0        Jane Smith      History    4.0\n",
       "1        Jane Smith  Mathematics    4.0\n",
       "2          John Doe      History    2.0\n",
       "3          John Doe  Mathematics    5.0\n",
       "4  Scunner Campbell      History    5.0\n",
       "5  Scunner Campbell  Mathematics    1.5"
      ]
     },
     "execution_count": 45,
     "metadata": {},
     "output_type": "execute_result"
    }
   ],
   "source": [
    "# Transforming the index to 2 ordinary columns.\n",
    "df.groupby(['student', 'subject']).mean().reset_index()"
   ]
  },
  {
   "cell_type": "markdown",
   "id": "8a1c2387",
   "metadata": {},
   "source": [
    "### Example Queries on the [pl.txt](pl.txt) Data Set"
   ]
  },
  {
   "cell_type": "code",
   "execution_count": 46,
   "id": "d1d8e125",
   "metadata": {},
   "outputs": [
    {
     "data": {
      "text/html": [
       "<div>\n",
       "<style scoped>\n",
       "    .dataframe tbody tr th:only-of-type {\n",
       "        vertical-align: middle;\n",
       "    }\n",
       "\n",
       "    .dataframe tbody tr th {\n",
       "        vertical-align: top;\n",
       "    }\n",
       "\n",
       "    .dataframe thead th {\n",
       "        text-align: right;\n",
       "    }\n",
       "</style>\n",
       "<table border=\"1\" class=\"dataframe\">\n",
       "  <thead>\n",
       "    <tr style=\"text-align: right;\">\n",
       "      <th></th>\n",
       "      <th>round</th>\n",
       "      <th>hteam</th>\n",
       "      <th>ateam</th>\n",
       "      <th>hgoals</th>\n",
       "      <th>agoals</th>\n",
       "    </tr>\n",
       "  </thead>\n",
       "  <tbody>\n",
       "    <tr>\n",
       "      <th>0</th>\n",
       "      <td>1</td>\n",
       "      <td>Blackburn Rovers</td>\n",
       "      <td>Wolverhampton Wanderers</td>\n",
       "      <td>1</td>\n",
       "      <td>2</td>\n",
       "    </tr>\n",
       "    <tr>\n",
       "      <th>1</th>\n",
       "      <td>1</td>\n",
       "      <td>Fulham FC</td>\n",
       "      <td>Aston Villa</td>\n",
       "      <td>0</td>\n",
       "      <td>0</td>\n",
       "    </tr>\n",
       "    <tr>\n",
       "      <th>2</th>\n",
       "      <td>1</td>\n",
       "      <td>Liverpool FC</td>\n",
       "      <td>Sunderland AFC</td>\n",
       "      <td>1</td>\n",
       "      <td>1</td>\n",
       "    </tr>\n",
       "    <tr>\n",
       "      <th>3</th>\n",
       "      <td>1</td>\n",
       "      <td>Queens Park Rangers</td>\n",
       "      <td>Bolton Wanderers</td>\n",
       "      <td>0</td>\n",
       "      <td>4</td>\n",
       "    </tr>\n",
       "    <tr>\n",
       "      <th>4</th>\n",
       "      <td>1</td>\n",
       "      <td>Wigan Athletic</td>\n",
       "      <td>Norwich City</td>\n",
       "      <td>1</td>\n",
       "      <td>1</td>\n",
       "    </tr>\n",
       "    <tr>\n",
       "      <th>...</th>\n",
       "      <td>...</td>\n",
       "      <td>...</td>\n",
       "      <td>...</td>\n",
       "      <td>...</td>\n",
       "      <td>...</td>\n",
       "    </tr>\n",
       "    <tr>\n",
       "      <th>375</th>\n",
       "      <td>38</td>\n",
       "      <td>Sunderland AFC</td>\n",
       "      <td>Manchester United</td>\n",
       "      <td>0</td>\n",
       "      <td>1</td>\n",
       "    </tr>\n",
       "    <tr>\n",
       "      <th>376</th>\n",
       "      <td>38</td>\n",
       "      <td>Swansea City</td>\n",
       "      <td>Liverpool FC</td>\n",
       "      <td>1</td>\n",
       "      <td>0</td>\n",
       "    </tr>\n",
       "    <tr>\n",
       "      <th>377</th>\n",
       "      <td>38</td>\n",
       "      <td>Tottenham Hotspur</td>\n",
       "      <td>Fulham FC</td>\n",
       "      <td>2</td>\n",
       "      <td>0</td>\n",
       "    </tr>\n",
       "    <tr>\n",
       "      <th>378</th>\n",
       "      <td>38</td>\n",
       "      <td>West Bromwich Albion</td>\n",
       "      <td>Arsenal FC</td>\n",
       "      <td>2</td>\n",
       "      <td>3</td>\n",
       "    </tr>\n",
       "    <tr>\n",
       "      <th>379</th>\n",
       "      <td>38</td>\n",
       "      <td>Wigan Athletic</td>\n",
       "      <td>Wolverhampton Wanderers</td>\n",
       "      <td>3</td>\n",
       "      <td>2</td>\n",
       "    </tr>\n",
       "  </tbody>\n",
       "</table>\n",
       "<p>380 rows × 5 columns</p>\n",
       "</div>"
      ],
      "text/plain": [
       "     round                 hteam                    ateam  hgoals  agoals\n",
       "0        1      Blackburn Rovers  Wolverhampton Wanderers       1       2\n",
       "1        1             Fulham FC              Aston Villa       0       0\n",
       "2        1          Liverpool FC           Sunderland AFC       1       1\n",
       "3        1   Queens Park Rangers         Bolton Wanderers       0       4\n",
       "4        1        Wigan Athletic             Norwich City       1       1\n",
       "..     ...                   ...                      ...     ...     ...\n",
       "375     38        Sunderland AFC        Manchester United       0       1\n",
       "376     38          Swansea City             Liverpool FC       1       0\n",
       "377     38     Tottenham Hotspur                Fulham FC       2       0\n",
       "378     38  West Bromwich Albion               Arsenal FC       2       3\n",
       "379     38        Wigan Athletic  Wolverhampton Wanderers       3       2\n",
       "\n",
       "[380 rows x 5 columns]"
      ]
     },
     "execution_count": 46,
     "metadata": {},
     "output_type": "execute_result"
    }
   ],
   "source": [
    "# Loading pl.txt into a DataFrame.\n",
    "names = ['round', 'hteam', 'ateam', 'hgoals', 'agoals']\n",
    "df = pd.read_csv('pl.txt', sep='\\t', comment='#', names=names)\n",
    "df"
   ]
  },
  {
   "cell_type": "code",
   "execution_count": 47,
   "id": "d9977ad8",
   "metadata": {},
   "outputs": [
    {
     "name": "stdout",
     "output_type": "stream",
     "text": [
      "<class 'pandas.core.frame.DataFrame'>\n",
      "RangeIndex: 380 entries, 0 to 379\n",
      "Data columns (total 5 columns):\n",
      " #   Column  Non-Null Count  Dtype \n",
      "---  ------  --------------  ----- \n",
      " 0   round   380 non-null    int64 \n",
      " 1   hteam   380 non-null    object\n",
      " 2   ateam   380 non-null    object\n",
      " 3   hgoals  380 non-null    int64 \n",
      " 4   agoals  380 non-null    int64 \n",
      "dtypes: int64(3), object(2)\n",
      "memory usage: 15.0+ KB\n"
     ]
    }
   ],
   "source": [
    "df.info()"
   ]
  },
  {
   "cell_type": "code",
   "execution_count": 48,
   "id": "bfcc79ec",
   "metadata": {},
   "outputs": [
    {
     "data": {
      "text/html": [
       "<div>\n",
       "<style scoped>\n",
       "    .dataframe tbody tr th:only-of-type {\n",
       "        vertical-align: middle;\n",
       "    }\n",
       "\n",
       "    .dataframe tbody tr th {\n",
       "        vertical-align: top;\n",
       "    }\n",
       "\n",
       "    .dataframe thead th {\n",
       "        text-align: right;\n",
       "    }\n",
       "</style>\n",
       "<table border=\"1\" class=\"dataframe\">\n",
       "  <thead>\n",
       "    <tr style=\"text-align: right;\">\n",
       "      <th></th>\n",
       "      <th>count</th>\n",
       "      <th>mean</th>\n",
       "      <th>std</th>\n",
       "      <th>min</th>\n",
       "      <th>25%</th>\n",
       "      <th>50%</th>\n",
       "      <th>75%</th>\n",
       "      <th>max</th>\n",
       "    </tr>\n",
       "  </thead>\n",
       "  <tbody>\n",
       "    <tr>\n",
       "      <th>round</th>\n",
       "      <td>380.0</td>\n",
       "      <td>19.500000</td>\n",
       "      <td>10.980313</td>\n",
       "      <td>1.0</td>\n",
       "      <td>10.0</td>\n",
       "      <td>19.5</td>\n",
       "      <td>29.0</td>\n",
       "      <td>38.0</td>\n",
       "    </tr>\n",
       "    <tr>\n",
       "      <th>hgoals</th>\n",
       "      <td>380.0</td>\n",
       "      <td>1.589474</td>\n",
       "      <td>1.331531</td>\n",
       "      <td>0.0</td>\n",
       "      <td>1.0</td>\n",
       "      <td>1.0</td>\n",
       "      <td>2.0</td>\n",
       "      <td>8.0</td>\n",
       "    </tr>\n",
       "    <tr>\n",
       "      <th>agoals</th>\n",
       "      <td>380.0</td>\n",
       "      <td>1.215789</td>\n",
       "      <td>1.204987</td>\n",
       "      <td>0.0</td>\n",
       "      <td>0.0</td>\n",
       "      <td>1.0</td>\n",
       "      <td>2.0</td>\n",
       "      <td>6.0</td>\n",
       "    </tr>\n",
       "  </tbody>\n",
       "</table>\n",
       "</div>"
      ],
      "text/plain": [
       "        count       mean        std  min   25%   50%   75%   max\n",
       "round   380.0  19.500000  10.980313  1.0  10.0  19.5  29.0  38.0\n",
       "hgoals  380.0   1.589474   1.331531  0.0   1.0   1.0   2.0   8.0\n",
       "agoals  380.0   1.215789   1.204987  0.0   0.0   1.0   2.0   6.0"
      ]
     },
     "execution_count": 48,
     "metadata": {},
     "output_type": "execute_result"
    }
   ],
   "source": [
    "df.describe().T"
   ]
  },
  {
   "cell_type": "code",
   "execution_count": 49,
   "id": "7ca9a569",
   "metadata": {},
   "outputs": [
    {
     "data": {
      "text/html": [
       "<div>\n",
       "<style scoped>\n",
       "    .dataframe tbody tr th:only-of-type {\n",
       "        vertical-align: middle;\n",
       "    }\n",
       "\n",
       "    .dataframe tbody tr th {\n",
       "        vertical-align: top;\n",
       "    }\n",
       "\n",
       "    .dataframe thead th {\n",
       "        text-align: right;\n",
       "    }\n",
       "</style>\n",
       "<table border=\"1\" class=\"dataframe\">\n",
       "  <thead>\n",
       "    <tr style=\"text-align: right;\">\n",
       "      <th></th>\n",
       "      <th>round</th>\n",
       "      <th>hteam</th>\n",
       "      <th>ateam</th>\n",
       "      <th>hgoals</th>\n",
       "      <th>agoals</th>\n",
       "      <th>goals</th>\n",
       "    </tr>\n",
       "  </thead>\n",
       "  <tbody>\n",
       "    <tr>\n",
       "      <th>0</th>\n",
       "      <td>1</td>\n",
       "      <td>Blackburn Rovers</td>\n",
       "      <td>Wolverhampton Wanderers</td>\n",
       "      <td>1</td>\n",
       "      <td>2</td>\n",
       "      <td>3</td>\n",
       "    </tr>\n",
       "    <tr>\n",
       "      <th>1</th>\n",
       "      <td>1</td>\n",
       "      <td>Fulham FC</td>\n",
       "      <td>Aston Villa</td>\n",
       "      <td>0</td>\n",
       "      <td>0</td>\n",
       "      <td>0</td>\n",
       "    </tr>\n",
       "    <tr>\n",
       "      <th>2</th>\n",
       "      <td>1</td>\n",
       "      <td>Liverpool FC</td>\n",
       "      <td>Sunderland AFC</td>\n",
       "      <td>1</td>\n",
       "      <td>1</td>\n",
       "      <td>2</td>\n",
       "    </tr>\n",
       "    <tr>\n",
       "      <th>3</th>\n",
       "      <td>1</td>\n",
       "      <td>Queens Park Rangers</td>\n",
       "      <td>Bolton Wanderers</td>\n",
       "      <td>0</td>\n",
       "      <td>4</td>\n",
       "      <td>4</td>\n",
       "    </tr>\n",
       "    <tr>\n",
       "      <th>4</th>\n",
       "      <td>1</td>\n",
       "      <td>Wigan Athletic</td>\n",
       "      <td>Norwich City</td>\n",
       "      <td>1</td>\n",
       "      <td>1</td>\n",
       "      <td>2</td>\n",
       "    </tr>\n",
       "    <tr>\n",
       "      <th>...</th>\n",
       "      <td>...</td>\n",
       "      <td>...</td>\n",
       "      <td>...</td>\n",
       "      <td>...</td>\n",
       "      <td>...</td>\n",
       "      <td>...</td>\n",
       "    </tr>\n",
       "    <tr>\n",
       "      <th>375</th>\n",
       "      <td>38</td>\n",
       "      <td>Sunderland AFC</td>\n",
       "      <td>Manchester United</td>\n",
       "      <td>0</td>\n",
       "      <td>1</td>\n",
       "      <td>1</td>\n",
       "    </tr>\n",
       "    <tr>\n",
       "      <th>376</th>\n",
       "      <td>38</td>\n",
       "      <td>Swansea City</td>\n",
       "      <td>Liverpool FC</td>\n",
       "      <td>1</td>\n",
       "      <td>0</td>\n",
       "      <td>1</td>\n",
       "    </tr>\n",
       "    <tr>\n",
       "      <th>377</th>\n",
       "      <td>38</td>\n",
       "      <td>Tottenham Hotspur</td>\n",
       "      <td>Fulham FC</td>\n",
       "      <td>2</td>\n",
       "      <td>0</td>\n",
       "      <td>2</td>\n",
       "    </tr>\n",
       "    <tr>\n",
       "      <th>378</th>\n",
       "      <td>38</td>\n",
       "      <td>West Bromwich Albion</td>\n",
       "      <td>Arsenal FC</td>\n",
       "      <td>2</td>\n",
       "      <td>3</td>\n",
       "      <td>5</td>\n",
       "    </tr>\n",
       "    <tr>\n",
       "      <th>379</th>\n",
       "      <td>38</td>\n",
       "      <td>Wigan Athletic</td>\n",
       "      <td>Wolverhampton Wanderers</td>\n",
       "      <td>3</td>\n",
       "      <td>2</td>\n",
       "      <td>5</td>\n",
       "    </tr>\n",
       "  </tbody>\n",
       "</table>\n",
       "<p>380 rows × 6 columns</p>\n",
       "</div>"
      ],
      "text/plain": [
       "     round                 hteam                    ateam  hgoals  agoals  \\\n",
       "0        1      Blackburn Rovers  Wolverhampton Wanderers       1       2   \n",
       "1        1             Fulham FC              Aston Villa       0       0   \n",
       "2        1          Liverpool FC           Sunderland AFC       1       1   \n",
       "3        1   Queens Park Rangers         Bolton Wanderers       0       4   \n",
       "4        1        Wigan Athletic             Norwich City       1       1   \n",
       "..     ...                   ...                      ...     ...     ...   \n",
       "375     38        Sunderland AFC        Manchester United       0       1   \n",
       "376     38          Swansea City             Liverpool FC       1       0   \n",
       "377     38     Tottenham Hotspur                Fulham FC       2       0   \n",
       "378     38  West Bromwich Albion               Arsenal FC       2       3   \n",
       "379     38        Wigan Athletic  Wolverhampton Wanderers       3       2   \n",
       "\n",
       "     goals  \n",
       "0        3  \n",
       "1        0  \n",
       "2        2  \n",
       "3        4  \n",
       "4        2  \n",
       "..     ...  \n",
       "375      1  \n",
       "376      1  \n",
       "377      2  \n",
       "378      5  \n",
       "379      5  \n",
       "\n",
       "[380 rows x 6 columns]"
      ]
     },
     "execution_count": 49,
     "metadata": {},
     "output_type": "execute_result"
    }
   ],
   "source": [
    "# Add \"number of goals\" column to the DataFrame.\n",
    "df['goals'] = df['hgoals'] + df['agoals']\n",
    "df"
   ]
  },
  {
   "cell_type": "code",
   "execution_count": 50,
   "id": "61d83dc5",
   "metadata": {},
   "outputs": [
    {
     "data": {
      "text/plain": [
       "25"
      ]
     },
     "execution_count": 50,
     "metadata": {},
     "output_type": "execute_result"
    }
   ],
   "source": [
    "# Total number of goals scored in round 13.\n",
    "df[df['round'] == 13]['goals'].sum()"
   ]
  },
  {
   "cell_type": "code",
   "execution_count": 51,
   "id": "64352024",
   "metadata": {},
   "outputs": [
    {
     "data": {
      "text/plain": [
       "10"
      ]
     },
     "execution_count": 51,
     "metadata": {},
     "output_type": "execute_result"
    }
   ],
   "source": [
    "# Which round had the highest number of goals?\n",
    "df.groupby('round')['goals'].sum().idxmax()"
   ]
  },
  {
   "cell_type": "code",
   "execution_count": 52,
   "id": "45f882a2",
   "metadata": {},
   "outputs": [
    {
     "data": {
      "text/html": [
       "<div>\n",
       "<style scoped>\n",
       "    .dataframe tbody tr th:only-of-type {\n",
       "        vertical-align: middle;\n",
       "    }\n",
       "\n",
       "    .dataframe tbody tr th {\n",
       "        vertical-align: top;\n",
       "    }\n",
       "\n",
       "    .dataframe thead th {\n",
       "        text-align: right;\n",
       "    }\n",
       "</style>\n",
       "<table border=\"1\" class=\"dataframe\">\n",
       "  <thead>\n",
       "    <tr style=\"text-align: right;\">\n",
       "      <th></th>\n",
       "      <th>round</th>\n",
       "      <th>hteam</th>\n",
       "      <th>ateam</th>\n",
       "      <th>hgoals</th>\n",
       "      <th>agoals</th>\n",
       "      <th>goals</th>\n",
       "    </tr>\n",
       "  </thead>\n",
       "  <tbody>\n",
       "    <tr>\n",
       "      <th>0</th>\n",
       "      <td>1</td>\n",
       "      <td>Blackburn Rovers</td>\n",
       "      <td>Wolverhampton Wanderers</td>\n",
       "      <td>1</td>\n",
       "      <td>2</td>\n",
       "      <td>3</td>\n",
       "    </tr>\n",
       "    <tr>\n",
       "      <th>1</th>\n",
       "      <td>1</td>\n",
       "      <td>Fulham FC</td>\n",
       "      <td>Aston Villa</td>\n",
       "      <td>0</td>\n",
       "      <td>0</td>\n",
       "      <td>0</td>\n",
       "    </tr>\n",
       "    <tr>\n",
       "      <th>2</th>\n",
       "      <td>1</td>\n",
       "      <td>Liverpool FC</td>\n",
       "      <td>Sunderland AFC</td>\n",
       "      <td>1</td>\n",
       "      <td>1</td>\n",
       "      <td>2</td>\n",
       "    </tr>\n",
       "    <tr>\n",
       "      <th>3</th>\n",
       "      <td>1</td>\n",
       "      <td>Queens Park Rangers</td>\n",
       "      <td>Bolton Wanderers</td>\n",
       "      <td>0</td>\n",
       "      <td>4</td>\n",
       "      <td>4</td>\n",
       "    </tr>\n",
       "    <tr>\n",
       "      <th>4</th>\n",
       "      <td>1</td>\n",
       "      <td>Wigan Athletic</td>\n",
       "      <td>Norwich City</td>\n",
       "      <td>1</td>\n",
       "      <td>1</td>\n",
       "      <td>2</td>\n",
       "    </tr>\n",
       "    <tr>\n",
       "      <th>...</th>\n",
       "      <td>...</td>\n",
       "      <td>...</td>\n",
       "      <td>...</td>\n",
       "      <td>...</td>\n",
       "      <td>...</td>\n",
       "      <td>...</td>\n",
       "    </tr>\n",
       "    <tr>\n",
       "      <th>375</th>\n",
       "      <td>38</td>\n",
       "      <td>Sunderland AFC</td>\n",
       "      <td>Manchester United</td>\n",
       "      <td>0</td>\n",
       "      <td>1</td>\n",
       "      <td>1</td>\n",
       "    </tr>\n",
       "    <tr>\n",
       "      <th>376</th>\n",
       "      <td>38</td>\n",
       "      <td>Swansea City</td>\n",
       "      <td>Liverpool FC</td>\n",
       "      <td>1</td>\n",
       "      <td>0</td>\n",
       "      <td>1</td>\n",
       "    </tr>\n",
       "    <tr>\n",
       "      <th>377</th>\n",
       "      <td>38</td>\n",
       "      <td>Tottenham Hotspur</td>\n",
       "      <td>Fulham FC</td>\n",
       "      <td>2</td>\n",
       "      <td>0</td>\n",
       "      <td>2</td>\n",
       "    </tr>\n",
       "    <tr>\n",
       "      <th>378</th>\n",
       "      <td>38</td>\n",
       "      <td>West Bromwich Albion</td>\n",
       "      <td>Arsenal FC</td>\n",
       "      <td>2</td>\n",
       "      <td>3</td>\n",
       "      <td>5</td>\n",
       "    </tr>\n",
       "    <tr>\n",
       "      <th>379</th>\n",
       "      <td>38</td>\n",
       "      <td>Wigan Athletic</td>\n",
       "      <td>Wolverhampton Wanderers</td>\n",
       "      <td>3</td>\n",
       "      <td>2</td>\n",
       "      <td>5</td>\n",
       "    </tr>\n",
       "  </tbody>\n",
       "</table>\n",
       "<p>380 rows × 6 columns</p>\n",
       "</div>"
      ],
      "text/plain": [
       "     round                 hteam                    ateam  hgoals  agoals  \\\n",
       "0        1      Blackburn Rovers  Wolverhampton Wanderers       1       2   \n",
       "1        1             Fulham FC              Aston Villa       0       0   \n",
       "2        1          Liverpool FC           Sunderland AFC       1       1   \n",
       "3        1   Queens Park Rangers         Bolton Wanderers       0       4   \n",
       "4        1        Wigan Athletic             Norwich City       1       1   \n",
       "..     ...                   ...                      ...     ...     ...   \n",
       "375     38        Sunderland AFC        Manchester United       0       1   \n",
       "376     38          Swansea City             Liverpool FC       1       0   \n",
       "377     38     Tottenham Hotspur                Fulham FC       2       0   \n",
       "378     38  West Bromwich Albion               Arsenal FC       2       3   \n",
       "379     38        Wigan Athletic  Wolverhampton Wanderers       3       2   \n",
       "\n",
       "     goals  \n",
       "0        3  \n",
       "1        0  \n",
       "2        2  \n",
       "3        4  \n",
       "4        2  \n",
       "..     ...  \n",
       "375      1  \n",
       "376      1  \n",
       "377      2  \n",
       "378      5  \n",
       "379      5  \n",
       "\n",
       "[380 rows x 6 columns]"
      ]
     },
     "execution_count": 52,
     "metadata": {},
     "output_type": "execute_result"
    }
   ],
   "source": [
    "df"
   ]
  },
  {
   "cell_type": "code",
   "execution_count": 53,
   "id": "65557ff0",
   "metadata": {},
   "outputs": [
    {
     "data": {
      "text/plain": [
       "round\n",
       "1     10\n",
       "2     10\n",
       "3     10\n",
       "4     10\n",
       "5     10\n",
       "6     10\n",
       "7     10\n",
       "8     10\n",
       "9     10\n",
       "10    10\n",
       "11    10\n",
       "12    10\n",
       "13    10\n",
       "14    10\n",
       "15    10\n",
       "16    10\n",
       "17    10\n",
       "18    10\n",
       "19    10\n",
       "20    10\n",
       "21    10\n",
       "22    10\n",
       "23    10\n",
       "24    10\n",
       "25    10\n",
       "26    10\n",
       "27    10\n",
       "28    10\n",
       "29    10\n",
       "30    10\n",
       "31    10\n",
       "32    10\n",
       "33    10\n",
       "34    10\n",
       "35    10\n",
       "36    10\n",
       "37    10\n",
       "38    10\n",
       "dtype: int64"
      ]
     },
     "execution_count": 53,
     "metadata": {},
     "output_type": "execute_result"
    }
   ],
   "source": [
    "# Number of games per round.\n",
    "df.groupby('round').size()"
   ]
  },
  {
   "cell_type": "code",
   "execution_count": 54,
   "id": "d456051f",
   "metadata": {},
   "outputs": [
    {
     "data": {
      "text/plain": [
       "round\n",
       "10    39\n",
       "5     38\n",
       "25    36\n",
       "36    35\n",
       "22    35\n",
       "31    35\n",
       "7     34\n",
       "38    32\n",
       "8     32\n",
       "24    31\n",
       "Name: goals, dtype: int64"
      ]
     },
     "execution_count": 54,
     "metadata": {},
     "output_type": "execute_result"
    }
   ],
   "source": [
    "# Print the 10 rounds with the highest number of goals!\n",
    "df.groupby('round')['goals'].sum().sort_values()[::-1][:10]"
   ]
  },
  {
   "cell_type": "code",
   "execution_count": 55,
   "id": "a62beb00",
   "metadata": {},
   "outputs": [
    {
     "data": {
      "text/plain": [
       "92.89473684210526"
      ]
     },
     "execution_count": 55,
     "metadata": {},
     "output_type": "execute_result"
    }
   ],
   "source": [
    "# What percentage of the games had at least 1 goal?\n",
    "(df['goals'] > 0).mean() * 100"
   ]
  },
  {
   "cell_type": "code",
   "execution_count": 56,
   "id": "30960391",
   "metadata": {},
   "outputs": [
    {
     "data": {
      "text/plain": [
       "round                     3\n",
       "hteam     Manchester United\n",
       "ateam            Arsenal FC\n",
       "hgoals                    8\n",
       "agoals                    2\n",
       "goals                    10\n",
       "Name: 29, dtype: object"
      ]
     },
     "execution_count": 56,
     "metadata": {},
     "output_type": "execute_result"
    }
   ],
   "source": [
    "# What was the game with the highest number of goals?\n",
    "df.loc[df['goals'].idxmax()]"
   ]
  },
  {
   "cell_type": "code",
   "execution_count": 57,
   "id": "92f5269f",
   "metadata": {},
   "outputs": [
    {
     "data": {
      "text/plain": [
       "89"
      ]
     },
     "execution_count": 57,
     "metadata": {},
     "output_type": "execute_result"
    }
   ],
   "source": [
    "# Total number of goals scored by Manchester United?\n",
    "gh = df[df['hteam'] == 'Manchester United']['hgoals'].sum()\n",
    "ga = df[df['ateam'] == 'Manchester United']['agoals'].sum()\n",
    "gh + ga"
   ]
  },
  {
   "cell_type": "code",
   "execution_count": 58,
   "id": "f4fa30aa",
   "metadata": {},
   "outputs": [
    {
     "data": {
      "text/plain": [
       "team\n",
       "Manchester City      93\n",
       "Manchester United    89\n",
       "Arsenal FC           74\n",
       "Tottenham Hotspur    66\n",
       "Chelsea FC           65\n",
       "dtype: int64"
      ]
     },
     "execution_count": 58,
     "metadata": {},
     "output_type": "execute_result"
    }
   ],
   "source": [
    "# Top 5 teams, scoring the most goals.\n",
    "res = df.groupby('hteam')['hgoals'].sum() + df.groupby('ateam')['agoals'].sum()\n",
    "res = res.sort_values(ascending=False)[:5]\n",
    "res.index.name = 'team'\n",
    "res"
   ]
  },
  {
   "cell_type": "markdown",
   "id": "fdada01c",
   "metadata": {},
   "source": [
    "### Example Queries on the EAFC'24 Data Set\n",
    "\n",
    "[eafc24.txt](../_data/eafc24.txt) contains data about male players in the video game EAFC'24."
   ]
  },
  {
   "cell_type": "code",
   "execution_count": 59,
   "id": "c15ced58",
   "metadata": {},
   "outputs": [
    {
     "name": "stderr",
     "output_type": "stream",
     "text": [
      "/tmp/ipykernel_11471/1733170057.py:2: DtypeWarning: Columns (29) have mixed types. Specify dtype option on import or set low_memory=False.\n",
      "  df = pd.read_csv('../_data/eafc24.txt')\n"
     ]
    }
   ],
   "source": [
    "# Load the data into a DataFrame!\n",
    "df = pd.read_csv('../_data/eafc24.txt')"
   ]
  },
  {
   "cell_type": "code",
   "execution_count": 60,
   "id": "b10fd5a2",
   "metadata": {},
   "outputs": [
    {
     "data": {
      "text/html": [
       "<div>\n",
       "<style scoped>\n",
       "    .dataframe tbody tr th:only-of-type {\n",
       "        vertical-align: middle;\n",
       "    }\n",
       "\n",
       "    .dataframe tbody tr th {\n",
       "        vertical-align: top;\n",
       "    }\n",
       "\n",
       "    .dataframe thead th {\n",
       "        text-align: right;\n",
       "    }\n",
       "</style>\n",
       "<table border=\"1\" class=\"dataframe\">\n",
       "  <thead>\n",
       "    <tr style=\"text-align: right;\">\n",
       "      <th></th>\n",
       "      <th>player_id</th>\n",
       "      <th>player_url</th>\n",
       "      <th>fifa_version</th>\n",
       "      <th>fifa_update</th>\n",
       "      <th>update_as_of</th>\n",
       "      <th>short_name</th>\n",
       "      <th>long_name</th>\n",
       "      <th>player_positions</th>\n",
       "      <th>overall</th>\n",
       "      <th>potential</th>\n",
       "      <th>...</th>\n",
       "      <th>ldm</th>\n",
       "      <th>cdm</th>\n",
       "      <th>rdm</th>\n",
       "      <th>rwb</th>\n",
       "      <th>lb</th>\n",
       "      <th>lcb</th>\n",
       "      <th>cb</th>\n",
       "      <th>rcb</th>\n",
       "      <th>rb</th>\n",
       "      <th>gk</th>\n",
       "    </tr>\n",
       "  </thead>\n",
       "  <tbody>\n",
       "    <tr>\n",
       "      <th>0</th>\n",
       "      <td>231747</td>\n",
       "      <td>/player/231747/kylian-mbappe/240002</td>\n",
       "      <td>24.0</td>\n",
       "      <td>2.0</td>\n",
       "      <td>2023-09-22</td>\n",
       "      <td>K. Mbappé</td>\n",
       "      <td>Kylian Mbappé Lottin</td>\n",
       "      <td>ST, LW</td>\n",
       "      <td>91</td>\n",
       "      <td>94</td>\n",
       "      <td>...</td>\n",
       "      <td>63+3</td>\n",
       "      <td>63+3</td>\n",
       "      <td>63+3</td>\n",
       "      <td>68+3</td>\n",
       "      <td>63+3</td>\n",
       "      <td>54+3</td>\n",
       "      <td>54+3</td>\n",
       "      <td>54+3</td>\n",
       "      <td>63+3</td>\n",
       "      <td>18+3</td>\n",
       "    </tr>\n",
       "    <tr>\n",
       "      <th>1</th>\n",
       "      <td>239085</td>\n",
       "      <td>/player/239085/erling-haaland/240002</td>\n",
       "      <td>24.0</td>\n",
       "      <td>2.0</td>\n",
       "      <td>2023-09-22</td>\n",
       "      <td>E. Haaland</td>\n",
       "      <td>Erling Braut Haaland</td>\n",
       "      <td>ST</td>\n",
       "      <td>91</td>\n",
       "      <td>94</td>\n",
       "      <td>...</td>\n",
       "      <td>63+3</td>\n",
       "      <td>63+3</td>\n",
       "      <td>63+3</td>\n",
       "      <td>62+3</td>\n",
       "      <td>60+3</td>\n",
       "      <td>62+3</td>\n",
       "      <td>62+3</td>\n",
       "      <td>62+3</td>\n",
       "      <td>60+3</td>\n",
       "      <td>19+3</td>\n",
       "    </tr>\n",
       "    <tr>\n",
       "      <th>2</th>\n",
       "      <td>192985</td>\n",
       "      <td>/player/192985/kevin-de-bruyne/240002</td>\n",
       "      <td>24.0</td>\n",
       "      <td>2.0</td>\n",
       "      <td>2023-09-22</td>\n",
       "      <td>K. De Bruyne</td>\n",
       "      <td>Kevin De Bruyne</td>\n",
       "      <td>CM, CAM</td>\n",
       "      <td>91</td>\n",
       "      <td>91</td>\n",
       "      <td>...</td>\n",
       "      <td>80+3</td>\n",
       "      <td>80+3</td>\n",
       "      <td>80+3</td>\n",
       "      <td>79+3</td>\n",
       "      <td>75+3</td>\n",
       "      <td>70+3</td>\n",
       "      <td>70+3</td>\n",
       "      <td>70+3</td>\n",
       "      <td>75+3</td>\n",
       "      <td>21+3</td>\n",
       "    </tr>\n",
       "    <tr>\n",
       "      <th>3</th>\n",
       "      <td>158023</td>\n",
       "      <td>/player/158023/lionel-messi/240002</td>\n",
       "      <td>24.0</td>\n",
       "      <td>2.0</td>\n",
       "      <td>2023-09-22</td>\n",
       "      <td>L. Messi</td>\n",
       "      <td>Lionel Andrés Messi Cuccittini</td>\n",
       "      <td>CF, CAM</td>\n",
       "      <td>90</td>\n",
       "      <td>90</td>\n",
       "      <td>...</td>\n",
       "      <td>63+3</td>\n",
       "      <td>63+3</td>\n",
       "      <td>63+3</td>\n",
       "      <td>64+3</td>\n",
       "      <td>59+3</td>\n",
       "      <td>49+3</td>\n",
       "      <td>49+3</td>\n",
       "      <td>49+3</td>\n",
       "      <td>59+3</td>\n",
       "      <td>19+3</td>\n",
       "    </tr>\n",
       "    <tr>\n",
       "      <th>4</th>\n",
       "      <td>165153</td>\n",
       "      <td>/player/165153/karim-benzema/240002</td>\n",
       "      <td>24.0</td>\n",
       "      <td>2.0</td>\n",
       "      <td>2023-09-22</td>\n",
       "      <td>K. Benzema</td>\n",
       "      <td>Karim Benzema</td>\n",
       "      <td>CF, ST</td>\n",
       "      <td>90</td>\n",
       "      <td>90</td>\n",
       "      <td>...</td>\n",
       "      <td>64+3</td>\n",
       "      <td>64+3</td>\n",
       "      <td>64+3</td>\n",
       "      <td>64+3</td>\n",
       "      <td>60+3</td>\n",
       "      <td>55+3</td>\n",
       "      <td>55+3</td>\n",
       "      <td>55+3</td>\n",
       "      <td>60+3</td>\n",
       "      <td>18+3</td>\n",
       "    </tr>\n",
       "  </tbody>\n",
       "</table>\n",
       "<p>5 rows × 109 columns</p>\n",
       "</div>"
      ],
      "text/plain": [
       "   player_id                             player_url  fifa_version  \\\n",
       "0     231747    /player/231747/kylian-mbappe/240002          24.0   \n",
       "1     239085   /player/239085/erling-haaland/240002          24.0   \n",
       "2     192985  /player/192985/kevin-de-bruyne/240002          24.0   \n",
       "3     158023     /player/158023/lionel-messi/240002          24.0   \n",
       "4     165153    /player/165153/karim-benzema/240002          24.0   \n",
       "\n",
       "   fifa_update update_as_of    short_name                       long_name  \\\n",
       "0          2.0   2023-09-22     K. Mbappé            Kylian Mbappé Lottin   \n",
       "1          2.0   2023-09-22    E. Haaland            Erling Braut Haaland   \n",
       "2          2.0   2023-09-22  K. De Bruyne                 Kevin De Bruyne   \n",
       "3          2.0   2023-09-22      L. Messi  Lionel Andrés Messi Cuccittini   \n",
       "4          2.0   2023-09-22    K. Benzema                   Karim Benzema   \n",
       "\n",
       "  player_positions  overall  potential  ...   ldm   cdm   rdm   rwb    lb  \\\n",
       "0           ST, LW       91         94  ...  63+3  63+3  63+3  68+3  63+3   \n",
       "1               ST       91         94  ...  63+3  63+3  63+3  62+3  60+3   \n",
       "2          CM, CAM       91         91  ...  80+3  80+3  80+3  79+3  75+3   \n",
       "3          CF, CAM       90         90  ...  63+3  63+3  63+3  64+3  59+3   \n",
       "4           CF, ST       90         90  ...  64+3  64+3  64+3  64+3  60+3   \n",
       "\n",
       "    lcb    cb   rcb    rb    gk  \n",
       "0  54+3  54+3  54+3  63+3  18+3  \n",
       "1  62+3  62+3  62+3  60+3  19+3  \n",
       "2  70+3  70+3  70+3  75+3  21+3  \n",
       "3  49+3  49+3  49+3  59+3  19+3  \n",
       "4  55+3  55+3  55+3  60+3  18+3  \n",
       "\n",
       "[5 rows x 109 columns]"
      ]
     },
     "execution_count": 60,
     "metadata": {},
     "output_type": "execute_result"
    }
   ],
   "source": [
    "df.head()"
   ]
  },
  {
   "cell_type": "code",
   "execution_count": 61,
   "id": "ddd91102",
   "metadata": {},
   "outputs": [
    {
     "name": "stdout",
     "output_type": "stream",
     "text": [
      "<class 'pandas.core.frame.DataFrame'>\n",
      "RangeIndex: 18350 entries, 0 to 18349\n",
      "Columns: 109 entries, player_id to gk\n",
      "dtypes: float64(20), int64(43), object(46)\n",
      "memory usage: 15.3+ MB\n"
     ]
    }
   ],
   "source": [
    "df.info()"
   ]
  },
  {
   "cell_type": "code",
   "execution_count": 62,
   "id": "f1023b2b",
   "metadata": {},
   "outputs": [
    {
     "data": {
      "text/html": [
       "<div>\n",
       "<style scoped>\n",
       "    .dataframe tbody tr th:only-of-type {\n",
       "        vertical-align: middle;\n",
       "    }\n",
       "\n",
       "    .dataframe tbody tr th {\n",
       "        vertical-align: top;\n",
       "    }\n",
       "\n",
       "    .dataframe thead th {\n",
       "        text-align: right;\n",
       "    }\n",
       "</style>\n",
       "<table border=\"1\" class=\"dataframe\">\n",
       "  <thead>\n",
       "    <tr style=\"text-align: right;\">\n",
       "      <th></th>\n",
       "      <th>player_id</th>\n",
       "      <th>fifa_version</th>\n",
       "      <th>fifa_update</th>\n",
       "      <th>overall</th>\n",
       "      <th>potential</th>\n",
       "      <th>value_eur</th>\n",
       "      <th>wage_eur</th>\n",
       "      <th>age</th>\n",
       "      <th>height_cm</th>\n",
       "      <th>weight_kg</th>\n",
       "      <th>...</th>\n",
       "      <th>mentality_composure</th>\n",
       "      <th>defending_marking_awareness</th>\n",
       "      <th>defending_standing_tackle</th>\n",
       "      <th>defending_sliding_tackle</th>\n",
       "      <th>goalkeeping_diving</th>\n",
       "      <th>goalkeeping_handling</th>\n",
       "      <th>goalkeeping_kicking</th>\n",
       "      <th>goalkeeping_positioning</th>\n",
       "      <th>goalkeeping_reflexes</th>\n",
       "      <th>goalkeeping_speed</th>\n",
       "    </tr>\n",
       "  </thead>\n",
       "  <tbody>\n",
       "    <tr>\n",
       "      <th>count</th>\n",
       "      <td>18350.000000</td>\n",
       "      <td>18350.0</td>\n",
       "      <td>18350.0</td>\n",
       "      <td>18350.000000</td>\n",
       "      <td>18350.000000</td>\n",
       "      <td>1.825000e+04</td>\n",
       "      <td>18263.000000</td>\n",
       "      <td>18350.000000</td>\n",
       "      <td>18350.000000</td>\n",
       "      <td>18350.000000</td>\n",
       "      <td>...</td>\n",
       "      <td>18350.000000</td>\n",
       "      <td>18350.000000</td>\n",
       "      <td>18350.000000</td>\n",
       "      <td>18350.000000</td>\n",
       "      <td>18350.000000</td>\n",
       "      <td>18350.000000</td>\n",
       "      <td>18350.000000</td>\n",
       "      <td>18350.000000</td>\n",
       "      <td>18350.000000</td>\n",
       "      <td>2045.000000</td>\n",
       "    </tr>\n",
       "    <tr>\n",
       "      <th>mean</th>\n",
       "      <td>242440.726322</td>\n",
       "      <td>24.0</td>\n",
       "      <td>2.0</td>\n",
       "      <td>65.817057</td>\n",
       "      <td>71.088065</td>\n",
       "      <td>2.837585e+06</td>\n",
       "      <td>8723.388819</td>\n",
       "      <td>25.267139</td>\n",
       "      <td>181.698747</td>\n",
       "      <td>75.210354</td>\n",
       "      <td>...</td>\n",
       "      <td>57.976240</td>\n",
       "      <td>46.666975</td>\n",
       "      <td>48.532534</td>\n",
       "      <td>46.336240</td>\n",
       "      <td>16.329373</td>\n",
       "      <td>16.124578</td>\n",
       "      <td>16.035095</td>\n",
       "      <td>16.168392</td>\n",
       "      <td>16.423815</td>\n",
       "      <td>35.253790</td>\n",
       "    </tr>\n",
       "    <tr>\n",
       "      <th>std</th>\n",
       "      <td>26741.238580</td>\n",
       "      <td>0.0</td>\n",
       "      <td>0.0</td>\n",
       "      <td>6.817917</td>\n",
       "      <td>6.220982</td>\n",
       "      <td>7.562794e+06</td>\n",
       "      <td>18707.237605</td>\n",
       "      <td>4.757756</td>\n",
       "      <td>6.869995</td>\n",
       "      <td>6.985703</td>\n",
       "      <td>...</td>\n",
       "      <td>12.137094</td>\n",
       "      <td>20.415339</td>\n",
       "      <td>21.046124</td>\n",
       "      <td>20.569969</td>\n",
       "      <td>17.572154</td>\n",
       "      <td>16.945031</td>\n",
       "      <td>16.699136</td>\n",
       "      <td>17.093683</td>\n",
       "      <td>17.880726</td>\n",
       "      <td>10.591029</td>\n",
       "    </tr>\n",
       "    <tr>\n",
       "      <th>min</th>\n",
       "      <td>18115.000000</td>\n",
       "      <td>24.0</td>\n",
       "      <td>2.0</td>\n",
       "      <td>47.000000</td>\n",
       "      <td>48.000000</td>\n",
       "      <td>1.000000e+04</td>\n",
       "      <td>500.000000</td>\n",
       "      <td>16.000000</td>\n",
       "      <td>156.000000</td>\n",
       "      <td>49.000000</td>\n",
       "      <td>...</td>\n",
       "      <td>13.000000</td>\n",
       "      <td>3.000000</td>\n",
       "      <td>8.000000</td>\n",
       "      <td>6.000000</td>\n",
       "      <td>2.000000</td>\n",
       "      <td>2.000000</td>\n",
       "      <td>2.000000</td>\n",
       "      <td>2.000000</td>\n",
       "      <td>2.000000</td>\n",
       "      <td>15.000000</td>\n",
       "    </tr>\n",
       "    <tr>\n",
       "      <th>25%</th>\n",
       "      <td>225442.000000</td>\n",
       "      <td>24.0</td>\n",
       "      <td>2.0</td>\n",
       "      <td>62.000000</td>\n",
       "      <td>67.000000</td>\n",
       "      <td>4.750000e+05</td>\n",
       "      <td>1000.000000</td>\n",
       "      <td>21.000000</td>\n",
       "      <td>177.000000</td>\n",
       "      <td>70.000000</td>\n",
       "      <td>...</td>\n",
       "      <td>51.000000</td>\n",
       "      <td>29.000000</td>\n",
       "      <td>29.000000</td>\n",
       "      <td>26.000000</td>\n",
       "      <td>8.000000</td>\n",
       "      <td>8.000000</td>\n",
       "      <td>8.000000</td>\n",
       "      <td>8.000000</td>\n",
       "      <td>8.000000</td>\n",
       "      <td>26.000000</td>\n",
       "    </tr>\n",
       "    <tr>\n",
       "      <th>50%</th>\n",
       "      <td>245467.500000</td>\n",
       "      <td>24.0</td>\n",
       "      <td>2.0</td>\n",
       "      <td>66.000000</td>\n",
       "      <td>71.000000</td>\n",
       "      <td>1.000000e+06</td>\n",
       "      <td>3000.000000</td>\n",
       "      <td>25.000000</td>\n",
       "      <td>182.000000</td>\n",
       "      <td>75.000000</td>\n",
       "      <td>...</td>\n",
       "      <td>59.000000</td>\n",
       "      <td>52.000000</td>\n",
       "      <td>56.000000</td>\n",
       "      <td>53.000000</td>\n",
       "      <td>11.000000</td>\n",
       "      <td>11.000000</td>\n",
       "      <td>11.000000</td>\n",
       "      <td>11.000000</td>\n",
       "      <td>11.000000</td>\n",
       "      <td>34.000000</td>\n",
       "    </tr>\n",
       "    <tr>\n",
       "      <th>75%</th>\n",
       "      <td>264169.500000</td>\n",
       "      <td>24.0</td>\n",
       "      <td>2.0</td>\n",
       "      <td>70.000000</td>\n",
       "      <td>75.000000</td>\n",
       "      <td>2.000000e+06</td>\n",
       "      <td>8000.000000</td>\n",
       "      <td>29.000000</td>\n",
       "      <td>187.000000</td>\n",
       "      <td>80.000000</td>\n",
       "      <td>...</td>\n",
       "      <td>66.000000</td>\n",
       "      <td>63.000000</td>\n",
       "      <td>65.000000</td>\n",
       "      <td>63.000000</td>\n",
       "      <td>14.000000</td>\n",
       "      <td>14.000000</td>\n",
       "      <td>14.000000</td>\n",
       "      <td>14.000000</td>\n",
       "      <td>14.000000</td>\n",
       "      <td>44.000000</td>\n",
       "    </tr>\n",
       "    <tr>\n",
       "      <th>max</th>\n",
       "      <td>278145.000000</td>\n",
       "      <td>24.0</td>\n",
       "      <td>2.0</td>\n",
       "      <td>91.000000</td>\n",
       "      <td>94.000000</td>\n",
       "      <td>1.850000e+08</td>\n",
       "      <td>350000.000000</td>\n",
       "      <td>43.000000</td>\n",
       "      <td>206.000000</td>\n",
       "      <td>105.000000</td>\n",
       "      <td>...</td>\n",
       "      <td>96.000000</td>\n",
       "      <td>91.000000</td>\n",
       "      <td>91.000000</td>\n",
       "      <td>90.000000</td>\n",
       "      <td>90.000000</td>\n",
       "      <td>90.000000</td>\n",
       "      <td>91.000000</td>\n",
       "      <td>90.000000</td>\n",
       "      <td>93.000000</td>\n",
       "      <td>65.000000</td>\n",
       "    </tr>\n",
       "  </tbody>\n",
       "</table>\n",
       "<p>8 rows × 63 columns</p>\n",
       "</div>"
      ],
      "text/plain": [
       "           player_id  fifa_version  fifa_update       overall     potential  \\\n",
       "count   18350.000000       18350.0      18350.0  18350.000000  18350.000000   \n",
       "mean   242440.726322          24.0          2.0     65.817057     71.088065   \n",
       "std     26741.238580           0.0          0.0      6.817917      6.220982   \n",
       "min     18115.000000          24.0          2.0     47.000000     48.000000   \n",
       "25%    225442.000000          24.0          2.0     62.000000     67.000000   \n",
       "50%    245467.500000          24.0          2.0     66.000000     71.000000   \n",
       "75%    264169.500000          24.0          2.0     70.000000     75.000000   \n",
       "max    278145.000000          24.0          2.0     91.000000     94.000000   \n",
       "\n",
       "          value_eur       wage_eur           age     height_cm     weight_kg  \\\n",
       "count  1.825000e+04   18263.000000  18350.000000  18350.000000  18350.000000   \n",
       "mean   2.837585e+06    8723.388819     25.267139    181.698747     75.210354   \n",
       "std    7.562794e+06   18707.237605      4.757756      6.869995      6.985703   \n",
       "min    1.000000e+04     500.000000     16.000000    156.000000     49.000000   \n",
       "25%    4.750000e+05    1000.000000     21.000000    177.000000     70.000000   \n",
       "50%    1.000000e+06    3000.000000     25.000000    182.000000     75.000000   \n",
       "75%    2.000000e+06    8000.000000     29.000000    187.000000     80.000000   \n",
       "max    1.850000e+08  350000.000000     43.000000    206.000000    105.000000   \n",
       "\n",
       "       ...  mentality_composure  defending_marking_awareness  \\\n",
       "count  ...         18350.000000                 18350.000000   \n",
       "mean   ...            57.976240                    46.666975   \n",
       "std    ...            12.137094                    20.415339   \n",
       "min    ...            13.000000                     3.000000   \n",
       "25%    ...            51.000000                    29.000000   \n",
       "50%    ...            59.000000                    52.000000   \n",
       "75%    ...            66.000000                    63.000000   \n",
       "max    ...            96.000000                    91.000000   \n",
       "\n",
       "       defending_standing_tackle  defending_sliding_tackle  \\\n",
       "count               18350.000000              18350.000000   \n",
       "mean                   48.532534                 46.336240   \n",
       "std                    21.046124                 20.569969   \n",
       "min                     8.000000                  6.000000   \n",
       "25%                    29.000000                 26.000000   \n",
       "50%                    56.000000                 53.000000   \n",
       "75%                    65.000000                 63.000000   \n",
       "max                    91.000000                 90.000000   \n",
       "\n",
       "       goalkeeping_diving  goalkeeping_handling  goalkeeping_kicking  \\\n",
       "count        18350.000000          18350.000000         18350.000000   \n",
       "mean            16.329373             16.124578            16.035095   \n",
       "std             17.572154             16.945031            16.699136   \n",
       "min              2.000000              2.000000             2.000000   \n",
       "25%              8.000000              8.000000             8.000000   \n",
       "50%             11.000000             11.000000            11.000000   \n",
       "75%             14.000000             14.000000            14.000000   \n",
       "max             90.000000             90.000000            91.000000   \n",
       "\n",
       "       goalkeeping_positioning  goalkeeping_reflexes  goalkeeping_speed  \n",
       "count             18350.000000          18350.000000        2045.000000  \n",
       "mean                 16.168392             16.423815          35.253790  \n",
       "std                  17.093683             17.880726          10.591029  \n",
       "min                   2.000000              2.000000          15.000000  \n",
       "25%                   8.000000              8.000000          26.000000  \n",
       "50%                  11.000000             11.000000          34.000000  \n",
       "75%                  14.000000             14.000000          44.000000  \n",
       "max                  90.000000             93.000000          65.000000  \n",
       "\n",
       "[8 rows x 63 columns]"
      ]
     },
     "execution_count": 62,
     "metadata": {},
     "output_type": "execute_result"
    }
   ],
   "source": [
    "df.describe()"
   ]
  },
  {
   "cell_type": "code",
   "execution_count": 63,
   "id": "33476ece",
   "metadata": {},
   "outputs": [
    {
     "data": {
      "text/plain": [
       "(18350, 109)"
      ]
     },
     "execution_count": 63,
     "metadata": {},
     "output_type": "execute_result"
    }
   ],
   "source": [
    "df.shape"
   ]
  },
  {
   "cell_type": "code",
   "execution_count": 64,
   "id": "7b3f2306",
   "metadata": {},
   "outputs": [
    {
     "data": {
      "text/plain": [
       "670"
      ]
     },
     "execution_count": 64,
     "metadata": {},
     "output_type": "execute_result"
    }
   ],
   "source": [
    "# How many teams (clubs) are in the data set?\n",
    "df['club_name'].nunique()"
   ]
  },
  {
   "cell_type": "code",
   "execution_count": 65,
   "id": "14642d1a",
   "metadata": {},
   "outputs": [
    {
     "data": {
      "text/plain": [
       "'England'"
      ]
     },
     "execution_count": 65,
     "metadata": {},
     "output_type": "execute_result"
    }
   ],
   "source": [
    "# Which nationality is the most frequent one?\n",
    "df.groupby('nationality_name').size().idxmax()"
   ]
  },
  {
   "cell_type": "code",
   "execution_count": 66,
   "id": "e9cd713f",
   "metadata": {},
   "outputs": [
    {
     "data": {
      "text/plain": [
       "England    1615\n",
       "Name: nationality_name, dtype: int64"
      ]
     },
     "execution_count": 66,
     "metadata": {},
     "output_type": "execute_result"
    }
   ],
   "source": [
    "# ...alternative solution:\n",
    "df['nationality_name'].value_counts()[:1]"
   ]
  },
  {
   "cell_type": "code",
   "execution_count": 67,
   "id": "f7119f27",
   "metadata": {},
   "outputs": [
    {
     "data": {
      "text/plain": [
       "25.267138964577658"
      ]
     },
     "execution_count": 67,
     "metadata": {},
     "output_type": "execute_result"
    }
   ],
   "source": [
    "# What is the average player age?\n",
    "df['age'].mean()"
   ]
  },
  {
   "cell_type": "code",
   "execution_count": 68,
   "id": "af836fdd",
   "metadata": {},
   "outputs": [
    {
     "data": {
      "text/plain": [
       "short_name                        S. Lukić\n",
       "age                                     43\n",
       "nationality_name    Bosnia and Herzegovina\n",
       "club_name                     Varberg BoIS\n",
       "Name: 14451, dtype: object"
      ]
     },
     "execution_count": 68,
     "metadata": {},
     "output_type": "execute_result"
    }
   ],
   "source": [
    "# Who is the oldest player?\n",
    "columns = ['short_name', 'age', 'nationality_name', 'club_name']\n",
    "df.loc[df['age'].idxmax()][columns]"
   ]
  },
  {
   "cell_type": "code",
   "execution_count": 69,
   "id": "a3bc9ded",
   "metadata": {},
   "outputs": [
    {
     "data": {
      "text/html": [
       "<div>\n",
       "<style scoped>\n",
       "    .dataframe tbody tr th:only-of-type {\n",
       "        vertical-align: middle;\n",
       "    }\n",
       "\n",
       "    .dataframe tbody tr th {\n",
       "        vertical-align: top;\n",
       "    }\n",
       "\n",
       "    .dataframe thead th {\n",
       "        text-align: right;\n",
       "    }\n",
       "</style>\n",
       "<table border=\"1\" class=\"dataframe\">\n",
       "  <thead>\n",
       "    <tr style=\"text-align: right;\">\n",
       "      <th></th>\n",
       "      <th>short_name</th>\n",
       "      <th>age</th>\n",
       "      <th>nationality_name</th>\n",
       "      <th>club_name</th>\n",
       "    </tr>\n",
       "  </thead>\n",
       "  <tbody>\n",
       "    <tr>\n",
       "      <th>14451</th>\n",
       "      <td>S. Lukić</td>\n",
       "      <td>43</td>\n",
       "      <td>Bosnia and Herzegovina</td>\n",
       "      <td>Varberg BoIS</td>\n",
       "    </tr>\n",
       "  </tbody>\n",
       "</table>\n",
       "</div>"
      ],
      "text/plain": [
       "      short_name  age        nationality_name     club_name\n",
       "14451   S. Lukić   43  Bosnia and Herzegovina  Varberg BoIS"
      ]
     },
     "execution_count": 69,
     "metadata": {},
     "output_type": "execute_result"
    }
   ],
   "source": [
    "# ...alternative solution that is able to give multiple results:\n",
    "columns = ['short_name', 'age', 'nationality_name', 'club_name']\n",
    "df[df['age'] == df['age'].max()][columns]"
   ]
  },
  {
   "cell_type": "code",
   "execution_count": 70,
   "id": "5284df63",
   "metadata": {},
   "outputs": [
    {
     "data": {
      "text/html": [
       "<div>\n",
       "<style scoped>\n",
       "    .dataframe tbody tr th:only-of-type {\n",
       "        vertical-align: middle;\n",
       "    }\n",
       "\n",
       "    .dataframe tbody tr th {\n",
       "        vertical-align: top;\n",
       "    }\n",
       "\n",
       "    .dataframe thead th {\n",
       "        text-align: right;\n",
       "    }\n",
       "</style>\n",
       "<table border=\"1\" class=\"dataframe\">\n",
       "  <thead>\n",
       "    <tr style=\"text-align: right;\">\n",
       "      <th></th>\n",
       "      <th>short_name</th>\n",
       "      <th>age</th>\n",
       "      <th>nationality_name</th>\n",
       "      <th>club_name</th>\n",
       "      <th>movement_sprint_speed</th>\n",
       "    </tr>\n",
       "  </thead>\n",
       "  <tbody>\n",
       "    <tr>\n",
       "      <th>0</th>\n",
       "      <td>K. Mbappé</td>\n",
       "      <td>24</td>\n",
       "      <td>France</td>\n",
       "      <td>Paris Saint Germain</td>\n",
       "      <td>97</td>\n",
       "    </tr>\n",
       "    <tr>\n",
       "      <th>366</th>\n",
       "      <td>K. Adeyemi</td>\n",
       "      <td>21</td>\n",
       "      <td>Germany</td>\n",
       "      <td>Borussia Dortmund</td>\n",
       "      <td>96</td>\n",
       "    </tr>\n",
       "    <tr>\n",
       "      <th>918</th>\n",
       "      <td>J. St. Juste</td>\n",
       "      <td>26</td>\n",
       "      <td>Netherlands</td>\n",
       "      <td>Sporting CP</td>\n",
       "      <td>96</td>\n",
       "    </tr>\n",
       "    <tr>\n",
       "      <th>94</th>\n",
       "      <td>M. Diaby</td>\n",
       "      <td>23</td>\n",
       "      <td>France</td>\n",
       "      <td>Aston Villa</td>\n",
       "      <td>95</td>\n",
       "    </tr>\n",
       "    <tr>\n",
       "      <th>145</th>\n",
       "      <td>A. Davies</td>\n",
       "      <td>22</td>\n",
       "      <td>Canada</td>\n",
       "      <td>FC Bayern München</td>\n",
       "      <td>95</td>\n",
       "    </tr>\n",
       "    <tr>\n",
       "      <th>812</th>\n",
       "      <td>S. Becker</td>\n",
       "      <td>28</td>\n",
       "      <td>Suriname</td>\n",
       "      <td>FC Union Berlin</td>\n",
       "      <td>95</td>\n",
       "    </tr>\n",
       "    <tr>\n",
       "      <th>8</th>\n",
       "      <td>Vini Jr.</td>\n",
       "      <td>22</td>\n",
       "      <td>Brazil</td>\n",
       "      <td>Real Madrid</td>\n",
       "      <td>95</td>\n",
       "    </tr>\n",
       "    <tr>\n",
       "      <th>6814</th>\n",
       "      <td>S. Conteh</td>\n",
       "      <td>26</td>\n",
       "      <td>Germany</td>\n",
       "      <td>Paderborn</td>\n",
       "      <td>95</td>\n",
       "    </tr>\n",
       "    <tr>\n",
       "      <th>2893</th>\n",
       "      <td>K. Schade</td>\n",
       "      <td>21</td>\n",
       "      <td>Germany</td>\n",
       "      <td>Brentford</td>\n",
       "      <td>94</td>\n",
       "    </tr>\n",
       "    <tr>\n",
       "      <th>11665</th>\n",
       "      <td>M. Ajani</td>\n",
       "      <td>29</td>\n",
       "      <td>Germany</td>\n",
       "      <td>Hallescher FC</td>\n",
       "      <td>94</td>\n",
       "    </tr>\n",
       "  </tbody>\n",
       "</table>\n",
       "</div>"
      ],
      "text/plain": [
       "         short_name  age nationality_name            club_name  \\\n",
       "0         K. Mbappé   24           France  Paris Saint Germain   \n",
       "366      K. Adeyemi   21          Germany    Borussia Dortmund   \n",
       "918    J. St. Juste   26      Netherlands          Sporting CP   \n",
       "94         M. Diaby   23           France          Aston Villa   \n",
       "145       A. Davies   22           Canada    FC Bayern München   \n",
       "812       S. Becker   28         Suriname      FC Union Berlin   \n",
       "8          Vini Jr.   22           Brazil          Real Madrid   \n",
       "6814      S. Conteh   26          Germany            Paderborn   \n",
       "2893      K. Schade   21          Germany            Brentford   \n",
       "11665      M. Ajani   29          Germany        Hallescher FC   \n",
       "\n",
       "       movement_sprint_speed  \n",
       "0                         97  \n",
       "366                       96  \n",
       "918                       96  \n",
       "94                        95  \n",
       "145                       95  \n",
       "812                       95  \n",
       "8                         95  \n",
       "6814                      95  \n",
       "2893                      94  \n",
       "11665                     94  "
      ]
     },
     "execution_count": 70,
     "metadata": {},
     "output_type": "execute_result"
    }
   ],
   "source": [
    "# Who are the 10 fastest players (based on the \"movement_sprint_speed\" attribute)?\n",
    "sp = 'movement_sprint_speed'\n",
    "df.sort_values(sp, ascending=False)[:10][columns + [sp]]"
   ]
  },
  {
   "cell_type": "code",
   "execution_count": 71,
   "id": "bea4df19",
   "metadata": {},
   "outputs": [
    {
     "data": {
      "text/plain": [
       "'Fulham'"
      ]
     },
     "execution_count": 71,
     "metadata": {},
     "output_type": "execute_result"
    }
   ],
   "source": [
    "# Which is the team with the highest number of nationalities among its players?\n",
    "df.groupby('club_name')['nationality_name'].nunique().idxmax()"
   ]
  },
  {
   "cell_type": "code",
   "execution_count": 72,
   "id": "6f91cafe",
   "metadata": {},
   "outputs": [
    {
     "data": {
      "text/plain": [
       "nationality_name\n",
       "England                5\n",
       "Brazil                 4\n",
       "Australia              2\n",
       "Nigeria                2\n",
       "United States          2\n",
       "Scotland               2\n",
       "Wales                  2\n",
       "Germany                2\n",
       "Mexico                 1\n",
       "Netherlands            1\n",
       "Jamaica                1\n",
       "Belgium                1\n",
       "Republic of Ireland    1\n",
       "Senegal                1\n",
       "Serbia                 1\n",
       "Slovakia               1\n",
       "Spain                  1\n",
       "Switzerland            1\n",
       "France                 1\n",
       "Portugal               1\n",
       "dtype: int64"
      ]
     },
     "execution_count": 72,
     "metadata": {},
     "output_type": "execute_result"
    }
   ],
   "source": [
    "# What is the number of players per nationality in Fulham?\n",
    "df[df['club_name'] == 'Fulham'].value_counts('nationality_name')"
   ]
  },
  {
   "cell_type": "code",
   "execution_count": 73,
   "id": "e5c79d45",
   "metadata": {},
   "outputs": [
    {
     "data": {
      "text/plain": [
       "43"
      ]
     },
     "execution_count": 73,
     "metadata": {},
     "output_type": "execute_result"
    }
   ],
   "source": [
    "# How many Hungarian players are there in the data set?\n",
    "(df['nationality_name'] == 'Hungary').sum()"
   ]
  },
  {
   "cell_type": "code",
   "execution_count": 74,
   "id": "1c79a877",
   "metadata": {},
   "outputs": [
    {
     "data": {
      "text/html": [
       "<div>\n",
       "<style scoped>\n",
       "    .dataframe tbody tr th:only-of-type {\n",
       "        vertical-align: middle;\n",
       "    }\n",
       "\n",
       "    .dataframe tbody tr th {\n",
       "        vertical-align: top;\n",
       "    }\n",
       "\n",
       "    .dataframe thead th {\n",
       "        text-align: right;\n",
       "    }\n",
       "</style>\n",
       "<table border=\"1\" class=\"dataframe\">\n",
       "  <thead>\n",
       "    <tr style=\"text-align: right;\">\n",
       "      <th></th>\n",
       "      <th>short_name</th>\n",
       "      <th>age</th>\n",
       "      <th>nationality_name</th>\n",
       "      <th>club_name</th>\n",
       "      <th>overall</th>\n",
       "    </tr>\n",
       "  </thead>\n",
       "  <tbody>\n",
       "    <tr>\n",
       "      <th>119</th>\n",
       "      <td>P. Gulácsi</td>\n",
       "      <td>33</td>\n",
       "      <td>Hungary</td>\n",
       "      <td>RB Leipzig</td>\n",
       "      <td>84</td>\n",
       "    </tr>\n",
       "    <tr>\n",
       "      <th>182</th>\n",
       "      <td>W. Orban</td>\n",
       "      <td>30</td>\n",
       "      <td>Hungary</td>\n",
       "      <td>RB Leipzig</td>\n",
       "      <td>83</td>\n",
       "    </tr>\n",
       "    <tr>\n",
       "      <th>211</th>\n",
       "      <td>D. Szoboszlai</td>\n",
       "      <td>22</td>\n",
       "      <td>Hungary</td>\n",
       "      <td>Liverpool</td>\n",
       "      <td>82</td>\n",
       "    </tr>\n",
       "    <tr>\n",
       "      <th>1164</th>\n",
       "      <td>A. Szalai</td>\n",
       "      <td>25</td>\n",
       "      <td>Hungary</td>\n",
       "      <td>TSG Hoffenheim</td>\n",
       "      <td>76</td>\n",
       "    </tr>\n",
       "    <tr>\n",
       "      <th>1231</th>\n",
       "      <td>R. Sallai</td>\n",
       "      <td>26</td>\n",
       "      <td>Hungary</td>\n",
       "      <td>SC Freiburg</td>\n",
       "      <td>76</td>\n",
       "    </tr>\n",
       "  </tbody>\n",
       "</table>\n",
       "</div>"
      ],
      "text/plain": [
       "         short_name  age nationality_name       club_name  overall\n",
       "119      P. Gulácsi   33          Hungary      RB Leipzig       84\n",
       "182        W. Orban   30          Hungary      RB Leipzig       83\n",
       "211   D. Szoboszlai   22          Hungary       Liverpool       82\n",
       "1164      A. Szalai   25          Hungary  TSG Hoffenheim       76\n",
       "1231      R. Sallai   26          Hungary     SC Freiburg       76"
      ]
     },
     "execution_count": 74,
     "metadata": {},
     "output_type": "execute_result"
    }
   ],
   "source": [
    "# Who are the top 5 Hungarian players (based on the \"overall\" attribute)?\n",
    "ov = 'overall'\n",
    "df[df['nationality_name'] == 'Hungary'].sort_values(ov, ascending=False)[:5][columns + [ov]]"
   ]
  },
  {
   "cell_type": "code",
   "execution_count": 75,
   "id": "0d1ae4b7",
   "metadata": {},
   "outputs": [
    {
     "data": {
      "text/plain": [
       "club_name\n",
       "Real Madrid            3852000.0\n",
       "Manchester City        3611000.0\n",
       "FC Barcelona           3106350.0\n",
       "Manchester United      3106000.0\n",
       "Liverpool              2796100.0\n",
       "Arsenal                2557000.0\n",
       "Newcastle United       2442000.0\n",
       "Paris Saint Germain    2238650.0\n",
       "Chelsea                2119000.0\n",
       "Juventus               1986000.0\n",
       "Name: wage_eur, dtype: float64"
      ]
     },
     "execution_count": 75,
     "metadata": {},
     "output_type": "execute_result"
    }
   ],
   "source": [
    "# Which 10 teams spend the most on wages?\n",
    "df.groupby('club_name')['wage_eur'].sum().sort_values(ascending=False)[:10]"
   ]
  },
  {
   "cell_type": "markdown",
   "id": "27e93dfd",
   "metadata": {},
   "source": [
    "### Largest Palindrome Product (Problem 4)\n",
    "\n",
    "<p>A palindromic number reads the same both ways. The largest palindrome made from the product of two $2$-digit numbers is $9009 = 91 \\times 99$.</p>\n",
    "<p>Find the largest palindrome made from the product of two $3$-digit numbers.</p>"
   ]
  },
  {
   "cell_type": "code",
   "execution_count": 76,
   "id": "92c48ff6",
   "metadata": {},
   "outputs": [
    {
     "data": {
      "text/plain": [
       "(906609, 993, 913)"
      ]
     },
     "execution_count": 76,
     "metadata": {},
     "output_type": "execute_result"
    }
   ],
   "source": [
    "# solution 1\n",
    "cand = []\n",
    "for i in range(100, 1000):\n",
    "    for j in range(100, 1000):\n",
    "        n = i * j\n",
    "        if str(n) == str(n)[::-1]:\n",
    "            cand.append((n, i, j))\n",
    "max(cand)"
   ]
  },
  {
   "cell_type": "code",
   "execution_count": 77,
   "id": "7a3e5585",
   "metadata": {},
   "outputs": [
    {
     "data": {
      "text/plain": [
       "906609"
      ]
     },
     "execution_count": 77,
     "metadata": {},
     "output_type": "execute_result"
    }
   ],
   "source": [
    "# solution 2\n",
    "from itertools import product\n",
    "max(i * j for i, j in product(*([range(100, 1000)] * 2)) if str(i * j) == str(i * j)[::-1]) "
   ]
  }
 ],
 "metadata": {
  "kernelspec": {
   "display_name": "Python 3 (ipykernel)",
   "language": "python",
   "name": "python3"
  },
  "language_info": {
   "codemirror_mode": {
    "name": "ipython",
    "version": 3
   },
   "file_extension": ".py",
   "mimetype": "text/x-python",
   "name": "python",
   "nbconvert_exporter": "python",
   "pygments_lexer": "ipython3",
   "version": "3.8.0"
  }
 },
 "nbformat": 4,
 "nbformat_minor": 5
}
