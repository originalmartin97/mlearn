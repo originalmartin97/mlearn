{
 "cells": [
  {
   "cell_type": "markdown",
   "metadata": {},
   "source": [
    "## [Comprehensions](https://python-3-patterns-idioms-test.readthedocs.io/en/latest/Comprehensions.html)\n",
    "\n",
    "Comprehension is a language element that enables the concise definition of sequences. Comprehension is somewhat similar to [set builder notation](https://en.wikipedia.org/wiki/Set-builder_notation) used in mathematics (example: the set of odd numbers can be given as $\\{2k + 1\\ |\\ k \\in \\mathbb{Z}\\}$)."
   ]
  },
  {
   "cell_type": "markdown",
   "metadata": {},
   "source": [
    "### Unconditional comprehension"
   ]
  },
  {
   "cell_type": "code",
   "execution_count": 1,
   "metadata": {},
   "outputs": [
    {
     "data": {
      "text/plain": [
       "[1, 4, 9, 16, 25, 36, 49, 64, 81, 100]"
      ]
     },
     "execution_count": 1,
     "metadata": {},
     "output_type": "execute_result"
    }
   ],
   "source": [
    "# Prepare the list of the first 10 square numbers using an accumulator variable!\n",
    "l = []\n",
    "for i in range(1, 11):\n",
    "    l.append(i**2)\n",
    "l"
   ]
  },
  {
   "cell_type": "code",
   "execution_count": 2,
   "metadata": {},
   "outputs": [
    {
     "data": {
      "text/plain": [
       "[1, 4, 9, 16, 25, 36, 49, 64, 81, 100]"
      ]
     },
     "execution_count": 2,
     "metadata": {},
     "output_type": "execute_result"
    }
   ],
   "source": [
    "# The same with a list comprehension:\n",
    "l = [i**2 for i in range(1, 11)]\n",
    "l"
   ]
  },
  {
   "cell_type": "code",
   "execution_count": 3,
   "metadata": {},
   "outputs": [
    {
     "data": {
      "text/plain": [
       "{1, 4, 9, 16, 25, 36, 49, 64, 81, 100}"
      ]
     },
     "execution_count": 3,
     "metadata": {},
     "output_type": "execute_result"
    }
   ],
   "source": [
    "# Prepare the set of the first 10 square numbers using an accumulator variable!\n",
    "s = set()\n",
    "for i in range(1, 11):\n",
    "    s.add(i**2)\n",
    "s"
   ]
  },
  {
   "cell_type": "code",
   "execution_count": 4,
   "metadata": {},
   "outputs": [
    {
     "data": {
      "text/plain": [
       "{1, 4, 9, 16, 25, 36, 49, 64, 81, 100}"
      ]
     },
     "execution_count": 4,
     "metadata": {},
     "output_type": "execute_result"
    }
   ],
   "source": [
    "# The same with a set comprehension:\n",
    "s = {i**2 for i in range(1, 11)}\n",
    "s"
   ]
  },
  {
   "cell_type": "code",
   "execution_count": 5,
   "metadata": {},
   "outputs": [
    {
     "data": {
      "text/plain": [
       "{'a': 97, 'e': 101, 'i': 105, 'o': 111, 'u': 117}"
      ]
     },
     "execution_count": 5,
     "metadata": {},
     "output_type": "execute_result"
    }
   ],
   "source": [
    "# Prepare a dict that assigns their ASCII code to lowercase vowels!\n",
    "# Use an accumulator variable!\n",
    "d = {}\n",
    "for c in 'aeiou':\n",
    "    d[c] = ord(c)\n",
    "d"
   ]
  },
  {
   "cell_type": "code",
   "execution_count": 6,
   "metadata": {},
   "outputs": [
    {
     "data": {
      "text/plain": [
       "{'a': 97, 'e': 101, 'i': 105, 'o': 111, 'u': 117}"
      ]
     },
     "execution_count": 6,
     "metadata": {},
     "output_type": "execute_result"
    }
   ],
   "source": [
    "# The same with a dict comprehension:\n",
    "d = {c: ord(c) for c in 'aeiou'}\n",
    "d"
   ]
  },
  {
   "cell_type": "code",
   "execution_count": 7,
   "metadata": {},
   "outputs": [
    {
     "data": {
      "text/plain": [
       "[(10, 'apple'), (20, 'pear'), (30, 'peach')]"
      ]
     },
     "execution_count": 7,
     "metadata": {},
     "output_type": "execute_result"
    }
   ],
   "source": [
    "# Exercise: Swap pair members in a list of pairs.\n",
    "pairs = [('apple', 10), ('pear', 20), ('peach', 30)]\n",
    "# => [(10 'apple'), (20, 'pear'), (30, 'peach')]\n",
    "\n",
    "[(p[1], p[0]) for p in pairs]"
   ]
  },
  {
   "cell_type": "code",
   "execution_count": 8,
   "metadata": {},
   "outputs": [
    {
     "data": {
      "text/plain": [
       "[(10, 'apple'), (20, 'pear'), (30, 'peach')]"
      ]
     },
     "execution_count": 8,
     "metadata": {},
     "output_type": "execute_result"
    }
   ],
   "source": [
    "# (Alternative solution using unpacking that we will learn later:)\n",
    "[(y, x) for x, y in pairs]"
   ]
  },
  {
   "cell_type": "code",
   "execution_count": 9,
   "metadata": {},
   "outputs": [],
   "source": [
    "# There is no tuple comprehension in Python!\n",
    "g = (i**2 for i in range(1, 11))\n",
    "# This is a generator object we can iterate over."
   ]
  },
  {
   "cell_type": "code",
   "execution_count": 10,
   "metadata": {},
   "outputs": [
    {
     "name": "stdout",
     "output_type": "stream",
     "text": [
      "1\n",
      "4\n",
      "9\n",
      "16\n",
      "25\n",
      "36\n",
      "49\n",
      "64\n",
      "81\n",
      "100\n"
     ]
    }
   ],
   "source": [
    "for j in g:\n",
    "    print(j)"
   ]
  },
  {
   "cell_type": "markdown",
   "metadata": {},
   "source": [
    "### Conditional comprehension"
   ]
  },
  {
   "cell_type": "code",
   "execution_count": 11,
   "metadata": {},
   "outputs": [
    {
     "data": {
      "text/plain": [
       "[4, 16, 36, 64, 100]"
      ]
     },
     "execution_count": 11,
     "metadata": {},
     "output_type": "execute_result"
    }
   ],
   "source": [
    "# Conditional list comprehension.\n",
    "[i**2 for i in range(1, 11) if i % 2 == 0]"
   ]
  },
  {
   "cell_type": "code",
   "execution_count": 12,
   "metadata": {},
   "outputs": [
    {
     "data": {
      "text/plain": [
       "{4, 16, 36, 64, 100}"
      ]
     },
     "execution_count": 12,
     "metadata": {},
     "output_type": "execute_result"
    }
   ],
   "source": [
    "# Conditional set comprehension.\n",
    "{i**2 for i in range(1, 11) if i % 2 == 0}"
   ]
  },
  {
   "cell_type": "code",
   "execution_count": 13,
   "metadata": {},
   "outputs": [
    {
     "data": {
      "text/plain": [
       "{'a': 97, 'e': 101, 'i': 105, 'u': 117}"
      ]
     },
     "execution_count": 13,
     "metadata": {},
     "output_type": "execute_result"
    }
   ],
   "source": [
    "# Conditional dict comprehension.\n",
    "{c: ord(c) for c in 'aeiou' if c != 'o'}"
   ]
  },
  {
   "cell_type": "markdown",
   "metadata": {},
   "source": [
    "## Sorting"
   ]
  },
  {
   "cell_type": "code",
   "execution_count": 14,
   "metadata": {},
   "outputs": [],
   "source": [
    "# Sorting a list in place.\n",
    "l = [2, 10, 5, 11, 7]\n",
    "l.sort()"
   ]
  },
  {
   "cell_type": "code",
   "execution_count": 15,
   "metadata": {},
   "outputs": [
    {
     "data": {
      "text/plain": [
       "[2, 5, 7, 10, 11]"
      ]
     },
     "execution_count": 15,
     "metadata": {},
     "output_type": "execute_result"
    }
   ],
   "source": [
    "l"
   ]
  },
  {
   "cell_type": "markdown",
   "metadata": {},
   "source": [
    "- Python uses the Timsort algorithm for sorting (named after Tim Peters).\n",
    "- Time requirement: O(n×log(n)).\n",
    "The sorting algorithm is stable (it preserves the original order of identical elements)."
   ]
  },
  {
   "cell_type": "code",
   "execution_count": 16,
   "metadata": {},
   "outputs": [
    {
     "data": {
      "text/plain": [
       "[11, 10, 7, 5, 2]"
      ]
     },
     "execution_count": 16,
     "metadata": {},
     "output_type": "execute_result"
    }
   ],
   "source": [
    "# Sorting to descending order.\n",
    "l = [2, 10, 5, 11, 7]\n",
    "l.sort(reverse=True)\n",
    "l"
   ]
  },
  {
   "cell_type": "code",
   "execution_count": 17,
   "metadata": {},
   "outputs": [
    {
     "ename": "TypeError",
     "evalue": "'<' not supported between instances of 'str' and 'int'",
     "output_type": "error",
     "traceback": [
      "\u001b[0;31m---------------------------------------------------------------------------\u001b[0m",
      "\u001b[0;31mTypeError\u001b[0m                                 Traceback (most recent call last)",
      "Input \u001b[0;32mIn [17]\u001b[0m, in \u001b[0;36m<cell line: 3>\u001b[0;34m()\u001b[0m\n\u001b[1;32m      1\u001b[0m \u001b[38;5;66;03m# The list items have to be comparable!\u001b[39;00m\n\u001b[1;32m      2\u001b[0m l \u001b[38;5;241m=\u001b[39m [\u001b[38;5;241m2\u001b[39m, \u001b[38;5;241m10\u001b[39m, \u001b[38;5;241m5\u001b[39m, \u001b[38;5;241m11\u001b[39m, \u001b[38;5;241m7\u001b[39m, \u001b[38;5;124m'\u001b[39m\u001b[38;5;124mfoo\u001b[39m\u001b[38;5;124m'\u001b[39m]\n\u001b[0;32m----> 3\u001b[0m \u001b[43ml\u001b[49m\u001b[38;5;241;43m.\u001b[39;49m\u001b[43msort\u001b[49m\u001b[43m(\u001b[49m\u001b[43m)\u001b[49m\n",
      "\u001b[0;31mTypeError\u001b[0m: '<' not supported between instances of 'str' and 'int'"
     ]
    }
   ],
   "source": [
    "# The list items have to be comparable!\n",
    "l = [2, 10, 5, 11, 7, 'foo']\n",
    "l.sort()"
   ]
  },
  {
   "cell_type": "code",
   "execution_count": 18,
   "metadata": {},
   "outputs": [
    {
     "data": {
      "text/plain": [
       "['bar', 'baz', 'foo']"
      ]
     },
     "execution_count": 18,
     "metadata": {},
     "output_type": "execute_result"
    }
   ],
   "source": [
    "# Sorting a list of strings.\n",
    "l = ['baz', 'foo', 'bar']\n",
    "l.sort()\n",
    "l"
   ]
  },
  {
   "cell_type": "code",
   "execution_count": 19,
   "metadata": {},
   "outputs": [
    {
     "ename": "AttributeError",
     "evalue": "'tuple' object has no attribute 'sort'",
     "output_type": "error",
     "traceback": [
      "\u001b[0;31m---------------------------------------------------------------------------\u001b[0m",
      "\u001b[0;31mAttributeError\u001b[0m                            Traceback (most recent call last)",
      "Input \u001b[0;32mIn [19]\u001b[0m, in \u001b[0;36m<cell line: 2>\u001b[0;34m()\u001b[0m\n\u001b[1;32m      1\u001b[0m t \u001b[38;5;241m=\u001b[39m (\u001b[38;5;241m2\u001b[39m, \u001b[38;5;241m10\u001b[39m, \u001b[38;5;241m5\u001b[39m)\n\u001b[0;32m----> 2\u001b[0m \u001b[43mt\u001b[49m\u001b[38;5;241;43m.\u001b[39;49m\u001b[43msort\u001b[49m()\n",
      "\u001b[0;31mAttributeError\u001b[0m: 'tuple' object has no attribute 'sort'"
     ]
    }
   ],
   "source": [
    "# A tuple cannot be sorted in place because it is immutable.\n",
    "t = (2, 10, 5)\n",
    "t.sort()"
   ]
  },
  {
   "cell_type": "code",
   "execution_count": 20,
   "metadata": {},
   "outputs": [
    {
     "name": "stdout",
     "output_type": "stream",
     "text": [
      "[2, 10, 5, 11, 7] [2, 5, 7, 10, 11]\n"
     ]
    }
   ],
   "source": [
    "# Sorting a list into a new list.\n",
    "l1 = [2, 10, 5, 11, 7]\n",
    "l2 = sorted(l1)\n",
    "print(l1, l2)"
   ]
  },
  {
   "cell_type": "code",
   "execution_count": 21,
   "metadata": {},
   "outputs": [
    {
     "data": {
      "text/plain": [
       "[2, 5, 10]"
      ]
     },
     "execution_count": 21,
     "metadata": {},
     "output_type": "execute_result"
    }
   ],
   "source": [
    "# A tuple can also be sorted into a new list.\n",
    "t = (2, 10, 5)\n",
    "sorted(t)"
   ]
  },
  {
   "cell_type": "code",
   "execution_count": 22,
   "metadata": {},
   "outputs": [
    {
     "data": {
      "text/plain": [
       "[2, 5, 10]"
      ]
     },
     "execution_count": 22,
     "metadata": {},
     "output_type": "execute_result"
    }
   ],
   "source": [
    "# ...and a set too.\n",
    "s = {2, 10, 5}\n",
    "sorted(s)"
   ]
  },
  {
   "cell_type": "code",
   "execution_count": 23,
   "metadata": {},
   "outputs": [
    {
     "data": {
      "text/plain": [
       "['a', 'b']"
      ]
     },
     "execution_count": 23,
     "metadata": {},
     "output_type": "execute_result"
    }
   ],
   "source": [
    "# For a dict, the keys will be sorted.\n",
    "sorted({'b': 10, 'a': 20})"
   ]
  },
  {
   "cell_type": "code",
   "execution_count": 24,
   "metadata": {},
   "outputs": [
    {
     "data": {
      "text/plain": [
       "['a', 'b', 'r']"
      ]
     },
     "execution_count": 24,
     "metadata": {},
     "output_type": "execute_result"
    }
   ],
   "source": [
    "sorted('bar')"
   ]
  },
  {
   "cell_type": "code",
   "execution_count": 25,
   "metadata": {},
   "outputs": [
    {
     "data": {
      "text/plain": [
       "[(10, 'xyz'), (20, 'bar'), (20, 'foo')]"
      ]
     },
     "execution_count": 25,
     "metadata": {},
     "output_type": "execute_result"
    }
   ],
   "source": [
    "# Sorting a list of pairs (lexicographically).\n",
    "pairs = [(20, 'foo'), (10, 'xyz'), (20, 'bar')]\n",
    "sorted(pairs)"
   ]
  },
  {
   "cell_type": "markdown",
   "metadata": {},
   "source": [
    "## [File handling](https://docs.python.org/3/tutorial/inputoutput.html#reading-and-writing-files)\n",
    "\n",
    "- A file is a collection of data stored in one unit.\n",
    "- The life cycle of a file looks like as follows:\n",
    "  1. opening\n",
    "  2. reading, writing, positioning, ...\n",
    "  3. closing"
   ]
  },
  {
   "cell_type": "code",
   "execution_count": 26,
   "metadata": {},
   "outputs": [],
   "source": [
    "# Opening the file called example_file.txt.\n",
    "f = open('example_file.txt')"
   ]
  },
  {
   "cell_type": "code",
   "execution_count": 27,
   "metadata": {},
   "outputs": [
    {
     "data": {
      "text/plain": [
       "<_io.TextIOWrapper name='example_file.txt' mode='r' encoding='UTF-8'>"
      ]
     },
     "execution_count": 27,
     "metadata": {},
     "output_type": "execute_result"
    }
   ],
   "source": [
    "f"
   ]
  },
  {
   "cell_type": "code",
   "execution_count": 28,
   "metadata": {},
   "outputs": [
    {
     "data": {
      "text/plain": [
       "_io.TextIOWrapper"
      ]
     },
     "execution_count": 28,
     "metadata": {},
     "output_type": "execute_result"
    }
   ],
   "source": [
    "type(f)"
   ]
  },
  {
   "cell_type": "code",
   "execution_count": 29,
   "metadata": {},
   "outputs": [],
   "source": [
    "# Closing the file.\n",
    "f.close()"
   ]
  },
  {
   "cell_type": "code",
   "execution_count": 30,
   "metadata": {},
   "outputs": [
    {
     "data": {
      "text/plain": [
       "'# example data\\napple,10\\npear,20\\ncherry,30\\n'"
      ]
     },
     "execution_count": 30,
     "metadata": {},
     "output_type": "execute_result"
    }
   ],
   "source": [
    "# Reading the content of the file into a string.\n",
    "f = open('example_file.txt')\n",
    "s = f.read()\n",
    "f.close()\n",
    "s"
   ]
  },
  {
   "cell_type": "code",
   "execution_count": 31,
   "metadata": {},
   "outputs": [
    {
     "data": {
      "text/plain": [
       "'# example data\\napple,10\\npear,20\\ncherry,30\\n'"
      ]
     },
     "execution_count": 31,
     "metadata": {},
     "output_type": "execute_result"
    }
   ],
   "source": [
    "# ...shorter version of the same:\n",
    "s = open('example_file.txt').read()\n",
    "s"
   ]
  },
  {
   "cell_type": "code",
   "execution_count": 1,
   "metadata": {},
   "outputs": [
    {
     "data": {
      "text/plain": [
       "'# example data\\napple,10\\npear,20\\ncherry,30\\n'"
      ]
     },
     "execution_count": 1,
     "metadata": {},
     "output_type": "execute_result"
    }
   ],
   "source": [
    "with open('example_file.txt') as f:\n",
    "s = f.read()\n",
    "s"
   ]
  },
  {
   "cell_type": "code",
   "execution_count": 33,
   "metadata": {},
   "outputs": [
    {
     "name": "stdout",
     "output_type": "stream",
     "text": [
      "# example data\n",
      " apple,10\n",
      "\n"
     ]
    }
   ],
   "source": [
    "# Reading the first 2 lines.\n",
    "f = open('example_file.txt')\n",
    "l1 = f.readline()\n",
    "l2 = f.readline()\n",
    "f.close()\n",
    "print(l1, l2)"
   ]
  },
  {
   "cell_type": "code",
   "execution_count": 34,
   "metadata": {},
   "outputs": [
    {
     "data": {
      "text/plain": [
       "'# example data\\n'"
      ]
     },
     "execution_count": 34,
     "metadata": {},
     "output_type": "execute_result"
    }
   ],
   "source": [
    "# Remark: readline puts the line break too into the result.\n",
    "l1"
   ]
  },
  {
   "cell_type": "code",
   "execution_count": 35,
   "metadata": {},
   "outputs": [
    {
     "data": {
      "text/plain": [
       "'# example data'"
      ]
     },
     "execution_count": 35,
     "metadata": {},
     "output_type": "execute_result"
    }
   ],
   "source": [
    "# The line break can be removed using strip().\n",
    "l1.strip()"
   ]
  },
  {
   "cell_type": "code",
   "execution_count": 36,
   "metadata": {},
   "outputs": [
    {
     "name": "stdout",
     "output_type": "stream",
     "text": [
      "# example data\n",
      "\n",
      "apple,10\n",
      "\n",
      "pear,20\n",
      "\n",
      "cherry,30\n",
      "\n"
     ]
    }
   ],
   "source": [
    "# Reading the lines of a file into a string list.\n",
    "lines = open('example_file.txt').readlines()\n",
    "for line in lines:\n",
    "    print(line)"
   ]
  },
  {
   "cell_type": "code",
   "execution_count": 37,
   "metadata": {},
   "outputs": [
    {
     "name": "stdout",
     "output_type": "stream",
     "text": [
      "# example data\n",
      "\n",
      "apple,10\n",
      "\n",
      "pear,20\n",
      "\n",
      "cherry,30\n",
      "\n"
     ]
    }
   ],
   "source": [
    "# Iterating over the lines of a text file.\n",
    "for line in open('example_file.txt'):\n",
    "    print(line)"
   ]
  },
  {
   "cell_type": "code",
   "execution_count": 38,
   "metadata": {},
   "outputs": [
    {
     "data": {
      "text/plain": [
       "['cherry', '30\\n']"
      ]
     },
     "execution_count": 38,
     "metadata": {},
     "output_type": "execute_result"
    }
   ],
   "source": [
    "# Splitting a string along a delimiter sequence (tokenization).\n",
    "line.split(',')"
   ]
  },
  {
   "cell_type": "markdown",
   "metadata": {},
   "source": [
    "<small><u>Remark</u>: If split() is called without a parameter, the string is split by any whitespace characters (spaces, tabs, newlines),\n",
    "and consecutive whitespace is treated as a single delimiter. Empty strings are automatically removed from the result.</small>"
   ]
  },
  {
   "cell_type": "code",
   "execution_count": 39,
   "metadata": {},
   "outputs": [
    {
     "data": {
      "text/plain": [
       "[('apple', 10), ('pear', 20), ('cherry', 30)]"
      ]
     },
     "execution_count": 39,
     "metadata": {},
     "output_type": "execute_result"
    }
   ],
   "source": [
    "# Skipping the first line of the file and processing further lines.\n",
    "data = []\n",
    "\n",
    "f = open('example_file.txt')\n",
    "f.readline()\n",
    "for line in f:\n",
    "    tok = line.split(',')\n",
    "    data.append((tok[0], int(tok[1])))\n",
    "f.close()\n",
    "\n",
    "data"
   ]
  },
  {
   "cell_type": "code",
   "execution_count": 40,
   "metadata": {},
   "outputs": [],
   "source": [
    "# Writing a string into file.\n",
    "f = open('example_file_2.txt', 'w')\n",
    "f.write('hello\\n')\n",
    "f.close()"
   ]
  },
  {
   "cell_type": "code",
   "execution_count": 41,
   "metadata": {},
   "outputs": [
    {
     "data": {
      "text/plain": [
       "6"
      ]
     },
     "execution_count": 41,
     "metadata": {},
     "output_type": "execute_result"
    }
   ],
   "source": [
    "# ...a shorter version of the same:\n",
    "open('example_file_2.txt', 'w').write('hello\\n')"
   ]
  },
  {
   "cell_type": "markdown",
   "metadata": {},
   "source": [
    "<small>\n",
    "    <u>Remark</u>: The CPython interpreter closes the file immediately, as there is no more references to it.\n",
    "</small>"
   ]
  },
  {
   "cell_type": "code",
   "execution_count": 42,
   "metadata": {},
   "outputs": [],
   "source": [
    "# Professional solution, using the with statement.\n",
    "with open('example_file_2.txt', 'w') as f:\n",
    "    f.write('hello\\n')"
   ]
  },
  {
   "cell_type": "code",
   "execution_count": 43,
   "metadata": {},
   "outputs": [],
   "source": [
    "# Preparing a file that contains a Celsius-Fahrenheit table.\n",
    "# [°F] = [°C] · 1.8 + 32\n",
    "\n",
    "file = open('celsius_fahrenheit.txt', 'w')\n",
    "file.write(f'     °C     °F\\n')\n",
    "for c in range(-20, 41, 5):\n",
    "    f = int(c * 1.8 + 32 + 0.5)\n",
    "    file.write(f'{c:7}{f:7}\\n')\n",
    "file.close()"
   ]
  },
  {
   "cell_type": "code",
   "execution_count": 44,
   "metadata": {},
   "outputs": [
    {
     "data": {
      "text/plain": [
       "{'accounting',\n",
       " 'all',\n",
       " 'artificial',\n",
       " 'at',\n",
       " 'do',\n",
       " 'fortran',\n",
       " 'if',\n",
       " 'in',\n",
       " 'intelligence',\n",
       " 'it',\n",
       " 'list',\n",
       " 'manipulation',\n",
       " 'processing',\n",
       " 'programmers',\n",
       " 'programs',\n",
       " 'real',\n",
       " 'string',\n",
       " 'they'}"
      ]
     },
     "execution_count": 44,
     "metadata": {},
     "output_type": "execute_result"
    }
   ],
   "source": [
    "# Determine the set of words contained in the text file real_programmers.txt!\n",
    "words = set()\n",
    "for line in open('real_programmers.txt'):\n",
    "    words.add(line.strip())\n",
    "words"
   ]
  },
  {
   "cell_type": "code",
   "execution_count": 45,
   "metadata": {},
   "outputs": [
    {
     "data": {
      "text/plain": [
       "{'accounting',\n",
       " 'all',\n",
       " 'artificial',\n",
       " 'at',\n",
       " 'do',\n",
       " 'fortran',\n",
       " 'if',\n",
       " 'in',\n",
       " 'intelligence',\n",
       " 'it',\n",
       " 'list',\n",
       " 'manipulation',\n",
       " 'processing',\n",
       " 'programmers',\n",
       " 'programs',\n",
       " 'real',\n",
       " 'string',\n",
       " 'they'}"
      ]
     },
     "execution_count": 45,
     "metadata": {},
     "output_type": "execute_result"
    }
   ],
   "source": [
    "# ...the same with a one-liner:\n",
    "{line.strip() for line in open('real_programmers.txt')}"
   ]
  },
  {
   "cell_type": "code",
   "execution_count": 46,
   "metadata": {},
   "outputs": [
    {
     "data": {
      "text/plain": [
       "[[0, 1, 1, 0, 1, 0, 1, 1, 0, 1],\n",
       " [0, 0, 1, 0, 1, 1, 0, 1, 0, 1],\n",
       " [0, 0, 1, 0, 0, 0, 1, 1, 0, 0],\n",
       " [0, 1, 0, 0, 1, 0, 1, 1, 0, 0],\n",
       " [1, 0, 1, 1, 0, 0, 1, 0, 1, 1],\n",
       " [1, 0, 1, 0, 0, 1, 1, 0, 1, 0],\n",
       " [1, 1, 1, 0, 1, 1, 1, 0, 1, 1],\n",
       " [0, 0, 0, 0, 0, 1, 0, 1, 0, 1],\n",
       " [1, 1, 0, 1, 0, 1, 1, 1, 0, 0],\n",
       " [1, 0, 1, 0, 1, 0, 0, 1, 0, 1]]"
      ]
     },
     "execution_count": 46,
     "metadata": {},
     "output_type": "execute_result"
    }
   ],
   "source": [
    "# Read the content of matrix.txt into a list of int lists!\n",
    "matrix = []\n",
    "for line in open('matrix.txt'):\n",
    "    row = [int(s) for s in line.split()]\n",
    "    matrix.append(row)\n",
    "matrix"
   ]
  },
  {
   "cell_type": "code",
   "execution_count": null,
   "metadata": {},
   "outputs": [],
   "source": [
    "# ...the same using a double comprehension:\n",
    "[[int(s) for s in line.split()] for line in open('matrix.txt')]"
   ]
  },
  {
   "cell_type": "markdown",
   "metadata": {},
   "source": [
    "## Exercise: Word statistics in Hamlet\n",
    "\n",
    "The file [hamlet.txt](hamlet.txt) contains the full text of [Hamlet](https://en.wikipedia.org/wiki/Hamlet). Write a program that computes and prints the 30 most frequent words in the text. Use the following definitions and conditions:\n",
    "\n",
    "- A word is defined as a sequence of characters separated by any whitespace (spaces, tabs, or line breaks).\n",
    "- The comparison of words should be case-insensitive (i.e., treat lowercase and uppercase letters as equivalent).\n",
    "- Remove any leading or trailing punctuation characters (such as periods, commas, exclamation points, etc.) from each word before counting its occurrences."
   ]
  },
  {
   "cell_type": "code",
   "execution_count": 47,
   "metadata": {},
   "outputs": [],
   "source": [
    "# Read the text and split it into lowercase words.\n",
    "words = open('hamlet.txt').read().lower().split()"
   ]
  },
  {
   "cell_type": "code",
   "execution_count": 48,
   "metadata": {},
   "outputs": [],
   "source": [
    "# Remove leading and trailing punctuation characters.\n",
    "import string\n",
    "words = [word.strip(string.punctuation) for word in words]"
   ]
  },
  {
   "cell_type": "code",
   "execution_count": 49,
   "metadata": {},
   "outputs": [],
   "source": [
    "# We need a dict to count word frequencies. Keys are words, values are word counts.\n",
    "# We will loop over the words. For each word, we increment the the counter if it is present\n",
    "# in the dict, otherwise we put the word into the dict with count 1.\n",
    "\n",
    "word_counts = {}\n",
    "for word in words:\n",
    "    if word in word_counts: word_counts[word] += 1\n",
    "    else: word_counts[word] = 1"
   ]
  },
  {
   "cell_type": "code",
   "execution_count": 50,
   "metadata": {},
   "outputs": [],
   "source": [
    "# Sort by ascending count values.\n",
    "result = sorted([(p[1], p[0]) for p in word_counts.items()], reverse=True)"
   ]
  },
  {
   "cell_type": "code",
   "execution_count": 51,
   "metadata": {},
   "outputs": [
    {
     "name": "stdout",
     "output_type": "stream",
     "text": [
      "(1145, 'the')\n",
      "(973, 'and')\n",
      "(736, 'to')\n",
      "(674, 'of')\n",
      "(565, 'i')\n",
      "(539, 'you')\n",
      "(534, 'a')\n",
      "(513, 'my')\n",
      "(431, 'in')\n",
      "(409, 'it')\n",
      "(381, 'that')\n",
      "(358, 'ham')\n",
      "(339, 'is')\n",
      "(310, 'not')\n",
      "(297, 'this')\n",
      "(297, 'his')\n",
      "(268, 'with')\n",
      "(258, 'but')\n",
      "(248, 'for')\n",
      "(241, 'your')\n",
      "(231, 'me')\n",
      "(223, 'lord')\n",
      "(219, 'as')\n",
      "(216, 'be')\n",
      "(213, 'he')\n",
      "(200, 'what')\n",
      "(195, 'king')\n",
      "(195, 'him')\n",
      "(194, 'so')\n",
      "(180, 'have')\n"
     ]
    }
   ],
   "source": [
    "# Display most common 30 words.\n",
    "for i in range(30):\n",
    "    print(result[i])"
   ]
  },
  {
   "cell_type": "code",
   "execution_count": 56,
   "metadata": {},
   "outputs": [
    {
     "data": {
      "text/plain": [
       "[('the', 1145),\n",
       " ('and', 973),\n",
       " ('to', 736),\n",
       " ('of', 674),\n",
       " ('i', 565),\n",
       " ('you', 539),\n",
       " ('a', 534),\n",
       " ('my', 513),\n",
       " ('in', 431),\n",
       " ('it', 409),\n",
       " ('that', 381),\n",
       " ('ham', 358),\n",
       " ('is', 339),\n",
       " ('not', 310),\n",
       " ('his', 297),\n",
       " ('this', 297),\n",
       " ('with', 268),\n",
       " ('but', 258),\n",
       " ('for', 248),\n",
       " ('your', 241),\n",
       " ('me', 231),\n",
       " ('lord', 223),\n",
       " ('as', 219),\n",
       " ('be', 216),\n",
       " ('he', 213),\n",
       " ('what', 200),\n",
       " ('king', 195),\n",
       " ('him', 195),\n",
       " ('so', 194),\n",
       " ('have', 180)]"
      ]
     },
     "execution_count": 56,
     "metadata": {},
     "output_type": "execute_result"
    }
   ],
   "source": [
    "# (Alternative solution using the key parameter and a lambda expression.)\n",
    "sorted(word_counts.items(), key=lambda p: -p[1])[:30]"
   ]
  },
  {
   "cell_type": "code",
   "execution_count": null,
   "metadata": {},
   "outputs": [],
   "source": [
    "# Alternative solution using the get() method.\n",
    "sorted(word_counts, key=word_counts.get, reverse=True)[:30]"
   ]
  },
  {
   "cell_type": "code",
   "execution_count": 54,
   "metadata": {},
   "outputs": [
    {
     "data": {
      "text/plain": [
       "0"
      ]
     },
     "execution_count": 54,
     "metadata": {},
     "output_type": "execute_result"
    }
   ],
   "source": [
    "word_counts.get('queen2', 0)"
   ]
  },
  {
   "cell_type": "code",
   "execution_count": 55,
   "metadata": {},
   "outputs": [
    {
     "ename": "KeyError",
     "evalue": "'queen2'",
     "output_type": "error",
     "traceback": [
      "\u001b[0;31m---------------------------------------------------------------------------\u001b[0m",
      "\u001b[0;31mKeyError\u001b[0m                                  Traceback (most recent call last)",
      "Input \u001b[0;32mIn [55]\u001b[0m, in \u001b[0;36m<cell line: 1>\u001b[0;34m()\u001b[0m\n\u001b[0;32m----> 1\u001b[0m \u001b[43mword_counts\u001b[49m\u001b[43m[\u001b[49m\u001b[38;5;124;43m'\u001b[39;49m\u001b[38;5;124;43mqueen2\u001b[39;49m\u001b[38;5;124;43m'\u001b[39;49m\u001b[43m]\u001b[49m\n",
      "\u001b[0;31mKeyError\u001b[0m: 'queen2'"
     ]
    }
   ],
   "source": [
    "word_counts['queen2']"
   ]
  }
 ],
 "metadata": {
  "kernelspec": {
   "display_name": "Python 3 (ipykernel)",
   "language": "python",
   "name": "python3"
  },
  "language_info": {
   "codemirror_mode": {
    "name": "ipython",
    "version": 3
   },
   "file_extension": ".py",
   "mimetype": "text/x-python",
   "name": "python",
   "nbconvert_exporter": "python",
   "pygments_lexer": "ipython3",
   "version": "3.8.0"
  }
 },
 "nbformat": 4,
 "nbformat_minor": 4
}
