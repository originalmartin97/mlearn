{
 "cells": [
  {
   "cell_type": "markdown",
   "metadata": {},
   "source": [
    "## Ensemble Methods\n",
    "\n",
    "- ensemble estimate: $\\bar{y} = \\frac{1}{K} \\sum_{k=1}^K \\hat{y}_k$\n",
    "- squared error of the ensemble estimate: $\\left(\\bar{y} - y\\right)^2$\n",
    "- decomposition into an accuracy and diversity term: $\\left(\\bar{y} - y\\right)^2 = \\frac{1}{K} \\sum_{k=1}^K (\\hat{y}_k - y)^2 - \\frac{1}{K}\\sum_{k=1}^K (\\hat{y}_k - \\bar{y})^2$\n",
    "- the ensemble will work well, if the members are diverse and individually accurate"
   ]
  },
  {
   "cell_type": "markdown",
   "metadata": {},
   "source": [
    "<img src=\"../_img/ensemble.jpg\" width=\"350px\" align=\"left\">"
   ]
  },
  {
   "cell_type": "markdown",
   "metadata": {},
   "source": [
    "## Random Forest\n",
    "\n",
    "[Random forest](https://en.wikipedia.org/wiki/Random_forest) is a tree based algorithm for classification and regression. It can be viewed as a \"parallel circuit\" of decision trees. The output of the forest is the average output of its trees. Some methods to grow an accurate and diverse set of trees are as follows:\n",
    "\n",
    "- [Bootstrapping](https://en.wikipedia.org/wiki/Bootstrap_aggregating): Each tree is trained on a data set that was sampled from the original data with replacement.\n",
    "\n",
    "\n",
    "- [Feature bagging](https://en.wikipedia.org/wiki/Random_subspace_method): Each tree is trained on a random subset of the features.\n",
    "\n",
    "\n",
    "- [Extreme randomization](https://en.wikipedia.org/wiki/Random_forest#ExtraTrees): For each feature, a random split value is used instead of the optimal one."
   ]
  },
  {
   "cell_type": "markdown",
   "metadata": {},
   "source": [
    "**Exercise 1**: Implement a bootstrapping based random forest regressor and evaluate it on the Boston Housing data set using 3-fold cross-validation! The evaluation metric should be RMSE!"
   ]
  },
  {
   "cell_type": "code",
   "execution_count": 38,
   "metadata": {},
   "outputs": [],
   "source": [
    "# Load the data to DataFrame.\n",
    "import pandas as pd\n",
    "names = ['CRIM', 'ZN', 'INDUS', 'CHAS', 'NOX', 'RM', 'AGE',\n",
    "         'DIS', 'RAD', 'TAX', 'PTRATIO', 'LSTAT', 'MEDV']\n",
    "df = pd.read_csv('../_data/housing_data.txt', delim_whitespace=True, names=names)\n",
    "df = df.sample(len(df), random_state=42) # shuffle the data\n",
    "X = df[df.columns[:-1]].values           # input matrix\n",
    "y = df['MEDV'].values                    # target vector"
   ]
  },
  {
   "cell_type": "code",
   "execution_count": 39,
   "metadata": {},
   "outputs": [
    {
     "data": {
      "text/plain": [
       "((506, 12), (506,))"
      ]
     },
     "execution_count": 39,
     "metadata": {},
     "output_type": "execute_result"
    }
   ],
   "source": [
    "X.shape, y.shape"
   ]
  },
  {
   "cell_type": "code",
   "execution_count": 40,
   "metadata": {},
   "outputs": [],
   "source": [
    "import numpy as np\n",
    "from sklearn.tree import DecisionTreeRegressor\n",
    "\n",
    "\n",
    "class SimpleRandomForest:\n",
    "    def __init__(self, n_trees=100):\n",
    "        self.n_trees = n_trees\n",
    "    \n",
    "    def fit(self, X, y):\n",
    "        n = X.shape[0]\n",
    "        rs = np.random.RandomState(42)\n",
    "        \n",
    "        self.trees = []\n",
    "        for k in range(self.n_trees):\n",
    "            idxs = rs.randint(n, size=n)\n",
    "            tree = DecisionTreeRegressor(random_state=42)\n",
    "            tree.fit(X[idxs], y[idxs]) # train tree on bootstrap sample\n",
    "            self.trees.append(tree)\n",
    "            \n",
    "    def predict(self, X):\n",
    "        yhat = np.zeros(X.shape[0])\n",
    "        for tree in self.trees:\n",
    "            yhat += tree.predict(X)\n",
    "        yhat /= len(self.trees)\n",
    "        return yhat\n",
    "            "
   ]
  },
  {
   "cell_type": "code",
   "execution_count": 41,
   "metadata": {},
   "outputs": [],
   "source": [
    "from sklearn.model_selection import KFold\n",
    "from sklearn.metrics import mean_squared_error\n",
    "\n",
    "def evaluate(re, X, y):\n",
    "    cv = KFold(3, shuffle=True, random_state=42)\n",
    "    scores = []\n",
    "    for tr, te in cv.split(X):\n",
    "        re.fit(X[tr], y[tr])\n",
    "        yhat = re.predict(X)\n",
    "        score = mean_squared_error(y[te], yhat[te])**0.5\n",
    "        scores.append(score)\n",
    "    return np.mean(scores)"
   ]
  },
  {
   "cell_type": "code",
   "execution_count": 42,
   "metadata": {},
   "outputs": [
    {
     "data": {
      "text/plain": [
       "3.562571926543196"
      ]
     },
     "execution_count": 42,
     "metadata": {},
     "output_type": "execute_result"
    }
   ],
   "source": [
    "evaluate(SimpleRandomForest(), X, y)"
   ]
  },
  {
   "cell_type": "code",
   "execution_count": 43,
   "metadata": {},
   "outputs": [
    {
     "data": {
      "text/plain": [
       "4.867211481330203"
      ]
     },
     "execution_count": 43,
     "metadata": {},
     "output_type": "execute_result"
    }
   ],
   "source": [
    "evaluate(DecisionTreeRegressor(random_state=42), X, y)"
   ]
  },
  {
   "cell_type": "code",
   "execution_count": 44,
   "metadata": {},
   "outputs": [
    {
     "data": {
      "text/plain": [
       "4.927289718141437"
      ]
     },
     "execution_count": 44,
     "metadata": {},
     "output_type": "execute_result"
    }
   ],
   "source": [
    "from sklearn.linear_model import Ridge\n",
    "evaluate(Ridge(), X, y)"
   ]
  },
  {
   "cell_type": "markdown",
   "metadata": {},
   "source": [
    "**Exercise 2**: Implement a feature bagging based random forest regressor and evaluate it on the Boston Housing data set using 3-fold cross-validation!"
   ]
  },
  {
   "cell_type": "markdown",
   "metadata": {},
   "source": [
    "Feature bagging strategy: We select a random 50% of the columns without replacement."
   ]
  },
  {
   "cell_type": "code",
   "execution_count": 45,
   "metadata": {},
   "outputs": [],
   "source": [
    "from numpy import random\n",
    "import numpy as np\n",
    "from sklearn.tree import DecisionTreeRegressor\n",
    "\n",
    "class SimpleRandomForest:\n",
    "    def __init__(self, n_trees=100, bootstrap=True, feature_bagging=False):\n",
    "        self.n_trees = n_trees\n",
    "        self.bootstrap = bootstrap\n",
    "        self.feature_bagging = feature_bagging\n",
    "        \n",
    "    def fit(self, X, y):\n",
    "        n, d = X.shape\n",
    "        rs = np.random.RandomState(42)\n",
    "        \n",
    "        self.trees = []\n",
    "        for k in range(self.n_trees):\n",
    "            X2, y2 = X, y\n",
    "            cols = np.arange(d)\n",
    "            if self.bootstrap:\n",
    "                idxs = rs.randint(n, size=n) # sample rows\n",
    "                X2, y2 = X2[idxs], y2[idxs]\n",
    "            if self.feature_bagging:\n",
    "                cols = rs.permutation(d)[:d // 2] # sample columns\n",
    "                X2 = X2[:, cols]\n",
    "                \n",
    "            tree = DecisionTreeRegressor(random_state=42)\n",
    "            tree.fit(X2, y2)\n",
    "            self.trees.append((tree, cols))\n",
    "            \n",
    "    def predict(self, X):\n",
    "        yhat = np.zeros(X.shape[0])\n",
    "        for tree, cols in self.trees:\n",
    "            yhat += tree.predict(X[:, cols])\n",
    "        yhat /= len(self.trees)\n",
    "        return yhat"
   ]
  },
  {
   "cell_type": "code",
   "execution_count": 46,
   "metadata": {},
   "outputs": [
    {
     "data": {
      "text/plain": [
       "3.562571926543196"
      ]
     },
     "execution_count": 46,
     "metadata": {},
     "output_type": "execute_result"
    }
   ],
   "source": [
    "# bootstrapping\n",
    "evaluate(SimpleRandomForest(), X, y)"
   ]
  },
  {
   "cell_type": "code",
   "execution_count": 47,
   "metadata": {},
   "outputs": [
    {
     "data": {
      "text/plain": [
       "3.857511376178318"
      ]
     },
     "execution_count": 47,
     "metadata": {},
     "output_type": "execute_result"
    }
   ],
   "source": [
    "# feature bagging\n",
    "evaluate(SimpleRandomForest(bootstrap=False, feature_bagging=True), X, y)"
   ]
  },
  {
   "cell_type": "code",
   "execution_count": 48,
   "metadata": {},
   "outputs": [
    {
     "data": {
      "text/plain": [
       "3.8680728197805725"
      ]
     },
     "execution_count": 48,
     "metadata": {},
     "output_type": "execute_result"
    }
   ],
   "source": [
    "# bootstrapping + feature bagging\n",
    "evaluate(SimpleRandomForest(bootstrap=True, feature_bagging=True), X, y)"
   ]
  },
  {
   "cell_type": "markdown",
   "metadata": {},
   "source": [
    "**Exercise 3**: Repeat the previous experiments using scikit-learn's RandomForestRegressor class!"
   ]
  },
  {
   "cell_type": "code",
   "execution_count": 49,
   "metadata": {},
   "outputs": [
    {
     "data": {
      "text/plain": [
       "3.578281219483339"
      ]
     },
     "execution_count": 49,
     "metadata": {},
     "output_type": "execute_result"
    }
   ],
   "source": [
    "from sklearn.ensemble import RandomForestRegressor\n",
    "\n",
    "evaluate(RandomForestRegressor(random_state=42), X, y)"
   ]
  },
  {
   "cell_type": "code",
   "execution_count": 50,
   "metadata": {},
   "outputs": [
    {
     "data": {
      "text/plain": [
       "3.432009311114937"
      ]
     },
     "execution_count": 50,
     "metadata": {},
     "output_type": "execute_result"
    }
   ],
   "source": [
    "evaluate(RandomForestRegressor(random_state=42, bootstrap=False, max_features=.5), X, y)"
   ]
  },
  {
   "cell_type": "code",
   "execution_count": 51,
   "metadata": {},
   "outputs": [
    {
     "data": {
      "text/plain": [
       "3.464869293320867"
      ]
     },
     "execution_count": 51,
     "metadata": {},
     "output_type": "execute_result"
    }
   ],
   "source": [
    "evaluate(RandomForestRegressor(random_state=42, max_features=.5), X, y)"
   ]
  },
  {
   "cell_type": "markdown",
   "metadata": {},
   "source": [
    "**Exercise 4**: Plot the training and the test RMSE as a function of the number of trees!"
   ]
  },
  {
   "cell_type": "code",
   "execution_count": 52,
   "metadata": {},
   "outputs": [],
   "source": [
    "def evaluate(re, X, y):\n",
    "    cv = KFold(3, shuffle=True, random_state=42)\n",
    "    scores_tr, scores_te = [], []\n",
    "    for tr, te in cv.split(X):\n",
    "        re.fit(X[tr], y[tr])\n",
    "        yhat = re.predict(X)\n",
    "        scores_tr.append(mean_squared_error(y[tr], yhat[tr])**0.5)\n",
    "        scores_te.append(mean_squared_error(y[te], yhat[te])**0.5)        \n",
    "    return {'rmse_tr': np.mean(scores_tr), 'rmse_te': np.mean(scores_te)}"
   ]
  },
  {
   "cell_type": "code",
   "execution_count": 53,
   "metadata": {},
   "outputs": [
    {
     "name": "stdout",
     "output_type": "stream",
     "text": [
      "1 2 3 4 5 6 7 8 9 10 11 12 13 14 15 16 17 18 19 20 21 22 23 24 25 26 27 28 29 30 31 32 33 34 35 36 37 38 39 40 "
     ]
    },
    {
     "data": {
      "text/plain": [
       "<AxesSubplot: xlabel='n_estimators'>"
      ]
     },
     "execution_count": 53,
     "metadata": {},
     "output_type": "execute_result"
    },
    {
     "data": {
      "image/png": "[encoded data removed]",
      "text/plain": [
       "<Figure size 432x288 with 1 Axes>"
      ]
     },
     "metadata": {
      "needs_background": "light"
     },
     "output_type": "display_data"
    }
   ],
   "source": [
    "res = []\n",
    "for n_estimators in range(1, 41):\n",
    "    print(n_estimators, end=' ')\n",
    "    re = RandomForestRegressor(n_estimators=n_estimators, random_state=42)\n",
    "    r = evaluate(re, X, y)\n",
    "    r['n_estimators'] = n_estimators\n",
    "    res.append(r)\n",
    "pd.DataFrame(res).set_index('n_estimators').plot(grid=True)"
   ]
  },
  {
   "cell_type": "markdown",
   "metadata": {},
   "source": [
    "**Exercise 5**: Repeat the previous experiment using the \"extreme randomization\" strategy!"
   ]
  },
  {
   "cell_type": "markdown",
   "metadata": {},
   "source": [
    "- extreme randomization:\n",
    "    + for each feature select random split value (between the minimal ad maximal feature value)\n",
    "    + select the split that gives the lowest error"
   ]
  },
  {
   "cell_type": "code",
   "execution_count": 54,
   "metadata": {},
   "outputs": [],
   "source": [
    "from sklearn.ensemble import ExtraTreesRegressor"
   ]
  },
  {
   "cell_type": "code",
   "execution_count": 59,
   "metadata": {},
   "outputs": [
    {
     "name": "stdout",
     "output_type": "stream",
     "text": [
      "1 2 3 4 5 6 7 8 9 10 11 12 13 14 15 16 17 18 19 20 21 22 23 24 25 26 27 28 29 30 31 32 33 34 35 36 37 38 39 40 "
     ]
    },
    {
     "data": {
      "text/plain": [
       "<AxesSubplot: xlabel='n_estimators'>"
      ]
     },
     "execution_count": 59,
     "metadata": {},
     "output_type": "execute_result"
    },
    {
     "data": {
      "image/png": "[encoded data removed]",
      "text/plain": [
       "<Figure size 432x288 with 1 Axes>"
      ]
     },
     "metadata": {
      "needs_background": "light"
     },
     "output_type": "display_data"
    }
   ],
   "source": [
    "res = []\n",
    "for n_estimators in range(1, 41):\n",
    "    print(n_estimators, end=' ')\n",
    "    re = ExtraTreesRegressor(n_estimators=n_estimators, random_state=42)\n",
    "    r = evaluate(re, X, y)\n",
    "    r['n_estimators'] = n_estimators\n",
    "    res.append(r)\n",
    "pd.DataFrame(res).set_index('n_estimators').plot(grid=True)"
   ]
  }
 ],
 "metadata": {
  "kernelspec": {
   "display_name": "Python 3 (ipykernel)",
   "language": "python",
   "name": "python3"
  },
  "language_info": {
   "codemirror_mode": {
    "name": "ipython",
    "version": 3
   },
   "file_extension": ".py",
   "mimetype": "text/x-python",
   "name": "python",
   "nbconvert_exporter": "python",
   "pygments_lexer": "ipython3",
   "version": "3.8.0"
  }
 },
 "nbformat": 4,
 "nbformat_minor": 4
}
