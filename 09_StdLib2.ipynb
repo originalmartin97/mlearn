{
 "cells": [
  {
   "cell_type": "markdown",
   "metadata": {},
   "source": [
    "## Elements of the [standard library](https://docs.python.org/3/library/index.html) II."
   ]
  },
  {
   "cell_type": "markdown",
   "metadata": {},
   "source": [
    "#### [collections](https://docs.python.org/3/library/collections.html)\n",
    "- Provides specialized container data types."
   ]
  },
  {
   "cell_type": "code",
   "execution_count": 1,
   "metadata": {},
   "outputs": [],
   "source": [
    "import collections"
   ]
  },
  {
   "cell_type": "code",
   "execution_count": 2,
   "metadata": {},
   "outputs": [
    {
     "data": {
      "text/plain": [
       "Counter({1: 3, 2: 2, 3: 1})"
      ]
     },
     "execution_count": 2,
     "metadata": {},
     "output_type": "execute_result"
    }
   ],
   "source": [
    "# Dictionary for counting hashable objects.\n",
    "c = collections.Counter([1, 1, 2, 1, 3, 2])\n",
    "c"
   ]
  },
  {
   "cell_type": "code",
   "execution_count": 3,
   "metadata": {},
   "outputs": [
    {
     "data": {
      "text/plain": [
       "3"
      ]
     },
     "execution_count": 3,
     "metadata": {},
     "output_type": "execute_result"
    }
   ],
   "source": [
    "c[1]"
   ]
  },
  {
   "cell_type": "code",
   "execution_count": 4,
   "metadata": {},
   "outputs": [
    {
     "data": {
      "text/plain": [
       "[('the', 1145),\n",
       " ('and', 973),\n",
       " ('to', 736),\n",
       " ('of', 674),\n",
       " ('i', 565),\n",
       " ('you', 539),\n",
       " ('a', 534),\n",
       " ('my', 513),\n",
       " ('in', 431),\n",
       " ('it', 409),\n",
       " ('that', 381),\n",
       " ('ham', 358),\n",
       " ('is', 339),\n",
       " ('not', 310),\n",
       " ('his', 297),\n",
       " ('this', 297),\n",
       " ('with', 268),\n",
       " ('but', 258),\n",
       " ('for', 248),\n",
       " ('your', 241),\n",
       " ('me', 231),\n",
       " ('lord', 223),\n",
       " ('as', 219),\n",
       " ('be', 216),\n",
       " ('he', 213),\n",
       " ('what', 200),\n",
       " ('king', 195),\n",
       " ('him', 195),\n",
       " ('so', 194),\n",
       " ('have', 180)]"
      ]
     },
     "execution_count": 4,
     "metadata": {},
     "output_type": "execute_result"
    }
   ],
   "source": [
    "# Word frequencies in Hamlet, computed with a Counter.\n",
    "import string\n",
    "words = open('hamlet.txt').read().lower().split()\n",
    "words = [word.strip(string.punctuation) for word in words]\n",
    "word_counts = collections.Counter(words)\n",
    "word_counts.most_common(30)"
   ]
  },
  {
   "cell_type": "code",
   "execution_count": 5,
   "metadata": {},
   "outputs": [
    {
     "data": {
      "text/plain": [
       "defaultdict(int, {})"
      ]
     },
     "execution_count": 5,
     "metadata": {},
     "output_type": "execute_result"
    }
   ],
   "source": [
    "# Dictionary with default values.\n",
    "dd = collections.defaultdict(int)\n",
    "dd"
   ]
  },
  {
   "cell_type": "code",
   "execution_count": 6,
   "metadata": {},
   "outputs": [
    {
     "data": {
      "text/plain": [
       "defaultdict(int, {'foo': 10})"
      ]
     },
     "execution_count": 6,
     "metadata": {},
     "output_type": "execute_result"
    }
   ],
   "source": [
    "# Adding a new key-value pair.\n",
    "dd['foo'] = 10\n",
    "dd"
   ]
  },
  {
   "cell_type": "code",
   "execution_count": 7,
   "metadata": {},
   "outputs": [
    {
     "data": {
      "text/plain": [
       "0"
      ]
     },
     "execution_count": 7,
     "metadata": {},
     "output_type": "execute_result"
    }
   ],
   "source": [
    "# Acessing a non-existent key.\n",
    "# This will not raise an error, but assigns the default value to the key.\n",
    "# The default value is created by the function call int().\n",
    "dd['bar']"
   ]
  },
  {
   "cell_type": "code",
   "execution_count": 8,
   "metadata": {},
   "outputs": [
    {
     "data": {
      "text/plain": [
       "0"
      ]
     },
     "execution_count": 8,
     "metadata": {},
     "output_type": "execute_result"
    }
   ],
   "source": [
    "int()"
   ]
  },
  {
   "cell_type": "code",
   "execution_count": 18,
   "metadata": {},
   "outputs": [
    {
     "data": {
      "text/plain": [
       "defaultdict(int, {'foo': 10, 'bar': 0})"
      ]
     },
     "execution_count": 18,
     "metadata": {},
     "output_type": "execute_result"
    }
   ],
   "source": [
    "dd"
   ]
  },
  {
   "cell_type": "code",
   "execution_count": 19,
   "metadata": {},
   "outputs": [
    {
     "data": {
      "text/plain": [
       "defaultdict(list, {'apple': [42]})"
      ]
     },
     "execution_count": 19,
     "metadata": {},
     "output_type": "execute_result"
    }
   ],
   "source": [
    "# Accessing a non-existent key, then appending an item.\n",
    "dd2 = collections.defaultdict(list)\n",
    "dd2['apple'].append(42)\n",
    "dd2"
   ]
  },
  {
   "cell_type": "code",
   "execution_count": 20,
   "metadata": {},
   "outputs": [
    {
     "data": {
      "text/plain": [
       "[]"
      ]
     },
     "execution_count": 20,
     "metadata": {},
     "output_type": "execute_result"
    }
   ],
   "source": [
    "list()"
   ]
  },
  {
   "cell_type": "code",
   "execution_count": 23,
   "metadata": {},
   "outputs": [
    {
     "data": {
      "text/plain": [
       "{'apple': [42]}"
      ]
     },
     "execution_count": 23,
     "metadata": {},
     "output_type": "execute_result"
    }
   ],
   "source": [
    "# Convertsion to an ordinary dict.\n",
    "d = dict(dd2)\n",
    "d"
   ]
  },
  {
   "cell_type": "code",
   "execution_count": 26,
   "metadata": {},
   "outputs": [],
   "source": [
    "# Tuple with named items.\n",
    "Point = collections.namedtuple('Point', ['x', 'y'])"
   ]
  },
  {
   "cell_type": "code",
   "execution_count": 31,
   "metadata": {},
   "outputs": [
    {
     "data": {
      "text/plain": [
       "Point(x=10, y=20)"
      ]
     },
     "execution_count": 31,
     "metadata": {},
     "output_type": "execute_result"
    }
   ],
   "source": [
    "p1 = Point(10, 20)\n",
    "p1"
   ]
  },
  {
   "cell_type": "code",
   "execution_count": 32,
   "metadata": {},
   "outputs": [
    {
     "data": {
      "text/plain": [
       "Point(x=11, y=22)"
      ]
     },
     "execution_count": 32,
     "metadata": {},
     "output_type": "execute_result"
    }
   ],
   "source": [
    "p2 = Point(x=11, y=22)\n",
    "p2"
   ]
  },
  {
   "cell_type": "code",
   "execution_count": 34,
   "metadata": {},
   "outputs": [
    {
     "name": "stdout",
     "output_type": "stream",
     "text": [
      "10 20\n"
     ]
    }
   ],
   "source": [
    "# Tuple style usage.\n",
    "print(p1[0], p1[1])"
   ]
  },
  {
   "cell_type": "code",
   "execution_count": 35,
   "metadata": {},
   "outputs": [
    {
     "name": "stdout",
     "output_type": "stream",
     "text": [
      "10 20\n"
     ]
    }
   ],
   "source": [
    "# Struct style usage.\n",
    "print(p1.x, p1.y)"
   ]
  },
  {
   "cell_type": "code",
   "execution_count": 36,
   "metadata": {},
   "outputs": [
    {
     "data": {
      "text/plain": [
       "{Point(x=10, y=20): 'foo', Point(x=11, y=22): 'bar'}"
      ]
     },
     "execution_count": 36,
     "metadata": {},
     "output_type": "execute_result"
    }
   ],
   "source": [
    "# namedtuple objects can be used as a dictionary keys.\n",
    "{p1: 'foo', p2: 'bar'}"
   ]
  },
  {
   "cell_type": "code",
   "execution_count": 37,
   "metadata": {},
   "outputs": [
    {
     "ename": "TypeError",
     "evalue": "'Point' object does not support item assignment",
     "output_type": "error",
     "traceback": [
      "\u001b[0;31m---------------------------------------------------------------------------\u001b[0m",
      "\u001b[0;31mTypeError\u001b[0m                                 Traceback (most recent call last)",
      "Input \u001b[0;32mIn [37]\u001b[0m, in \u001b[0;36m<cell line: 2>\u001b[0;34m()\u001b[0m\n\u001b[1;32m      1\u001b[0m \u001b[38;5;66;03m# Can we change items of a namedtuple?\u001b[39;00m\n\u001b[0;32m----> 2\u001b[0m p1[\u001b[38;5;241m0\u001b[39m] \u001b[38;5;241m=\u001b[39m \u001b[38;5;241m100\u001b[39m\n",
      "\u001b[0;31mTypeError\u001b[0m: 'Point' object does not support item assignment"
     ]
    }
   ],
   "source": [
    "# Can we change items of a namedtuple?\n",
    "p1[0] = 100"
   ]
  },
  {
   "cell_type": "code",
   "execution_count": 42,
   "metadata": {},
   "outputs": [
    {
     "data": {
      "text/plain": [
       "Game(round=10, hteam='Liverpool', ateam='Chelsea', hgoals=2, agoals=1)"
      ]
     },
     "execution_count": 42,
     "metadata": {},
     "output_type": "execute_result"
    }
   ],
   "source": [
    "# Using a namedtuple to store a football game result.\n",
    "Game = collections.namedtuple('Game', ['round', 'hteam', 'ateam', 'hgoals', 'agoals'])\n",
    "g = Game(10, 'Liverpool', 'Chelsea', 2, 1)\n",
    "g"
   ]
  },
  {
   "cell_type": "code",
   "execution_count": 43,
   "metadata": {},
   "outputs": [
    {
     "data": {
      "text/plain": [
       "'Liverpool'"
      ]
     },
     "execution_count": 43,
     "metadata": {},
     "output_type": "execute_result"
    }
   ],
   "source": [
    "g.hteam"
   ]
  },
  {
   "cell_type": "code",
   "execution_count": 54,
   "metadata": {},
   "outputs": [
    {
     "name": "stdout",
     "output_type": "stream",
     "text": [
      "2 2785\n",
      "3 5527\n",
      "4 8350\n",
      "5 11136\n",
      "6 13939\n",
      "7 16487\n",
      "8 13840\n",
      "9 11144\n",
      "10 8431\n",
      "11 5564\n",
      "12 2797\n"
     ]
    }
   ],
   "source": [
    "# Exercise: Write a program that simulates n rolls with 2 dice,\n",
    "# then prints how many times the sum of rolls was 2, 3, ..., 12!\n",
    "\n",
    "from random import randint\n",
    "\n",
    "n = 100_000\n",
    "results = [randint(1, 6) + randint(1, 6) for _ in range(n)]\n",
    "freq = collections.Counter(results)\n",
    "for r in range(2, 13):\n",
    "    print(r, freq[r])"
   ]
  },
  {
   "cell_type": "code",
   "execution_count": 55,
   "metadata": {},
   "outputs": [
    {
     "name": "stdout",
     "output_type": "stream",
     "text": [
      "2 2876\n",
      "3 5448\n",
      "4 8412\n",
      "5 11042\n",
      "6 13795\n",
      "7 16596\n",
      "8 14051\n",
      "9 11017\n",
      "10 8402\n",
      "11 5498\n",
      "12 2863\n"
     ]
    }
   ],
   "source": [
    "# solution 2 (without a comprehension)\n",
    "n = 100_000\n",
    "\n",
    "results = []\n",
    "for _ in range(n):\n",
    "    result = randint(1, 6) + randint(1, 6)\n",
    "    results.append(result)\n",
    "\n",
    "freq = collections.Counter(results)\n",
    "for r in range(2, 13):\n",
    "    print(r, freq[r])"
   ]
  },
  {
   "cell_type": "code",
   "execution_count": 57,
   "metadata": {},
   "outputs": [
    {
     "data": {
      "text/plain": [
       "[2784, 5735, 8423, 11112, 13912, 16657, 13968, 11057, 8199, 5492, 2661]"
      ]
     },
     "execution_count": 57,
     "metadata": {},
     "output_type": "execute_result"
    }
   ],
   "source": [
    "# solution 3 (using a list for counting)\n",
    "n = 100_000\n",
    "results = [randint(1, 6) + randint(1, 6) for _ in range(n)]\n",
    "freq = [0] * 13 # we use a list data structure to count frequencies\n",
    "for r in results:\n",
    "    freq[r] += 1\n",
    "freq[2:]"
   ]
  },
  {
   "cell_type": "code",
   "execution_count": 63,
   "metadata": {},
   "outputs": [
    {
     "name": "stdout",
     "output_type": "stream",
     "text": [
      "2 2759\n",
      "3 5638\n",
      "4 8696\n",
      "5 11069\n",
      "6 13853\n",
      "7 16643\n",
      "8 13773\n",
      "9 11040\n",
      "10 8272\n",
      "11 5518\n",
      "12 2739\n"
     ]
    }
   ],
   "source": [
    "# solution 4 (applying Counter on-the-fly)\n",
    "n = 100_000\n",
    "freq = collections.Counter() # empty counter\n",
    "for _ in range(n):\n",
    "    r = randint(1, 6) + randint(1, 6)\n",
    "    freq.update([r]) # update the counter\n",
    "for r in range(2, 13):\n",
    "    print(r, freq[r])"
   ]
  },
  {
   "cell_type": "code",
   "execution_count": 64,
   "metadata": {},
   "outputs": [
    {
     "name": "stdout",
     "output_type": "stream",
     "text": [
      "2 2774\n",
      "3 5625\n",
      "4 8409\n",
      "5 10996\n",
      "6 13949\n",
      "7 16585\n",
      "8 13791\n",
      "9 11186\n",
      "10 8269\n",
      "11 5567\n",
      "12 2849\n"
     ]
    }
   ],
   "source": [
    "# solution 5 (like solution 1, but in a memory efficient way)\n",
    "n = 100_000\n",
    "results = (randint(1, 6) + randint(1, 6) for _ in range(n)) # create a generator object instead of list\n",
    "freq = collections.Counter(results)\n",
    "for r in range(2, 13):\n",
    "    print(r, freq[r])"
   ]
  },
  {
   "cell_type": "markdown",
   "metadata": {},
   "source": [
    "#### [copy](https://docs.python.org/3/library/copy.html)\n",
    "- Contains a shallow and a deep copy function."
   ]
  },
  {
   "cell_type": "code",
   "execution_count": 65,
   "metadata": {},
   "outputs": [],
   "source": [
    "import copy"
   ]
  },
  {
   "cell_type": "code",
   "execution_count": 68,
   "metadata": {},
   "outputs": [
    {
     "name": "stdout",
     "output_type": "stream",
     "text": [
      "[100, 2, 3] [100, 2, 3]\n"
     ]
    }
   ],
   "source": [
    "# In Python, assignment does NOT copy, it only creates a reference.\n",
    "a = [1, 2, 3]\n",
    "b = a\n",
    "b[0] = 100\n",
    "print(a, b)"
   ]
  },
  {
   "cell_type": "code",
   "execution_count": 69,
   "metadata": {},
   "outputs": [
    {
     "name": "stdout",
     "output_type": "stream",
     "text": [
      "[1, 2, 3] [100, 2, 3]\n"
     ]
    }
   ],
   "source": [
    "# Making a shallow copy.\n",
    "a = [1, 2, 3]\n",
    "b = copy.copy(a)\n",
    "b[0] = 100\n",
    "print(a, b)"
   ]
  },
  {
   "cell_type": "code",
   "execution_count": 70,
   "metadata": {},
   "outputs": [
    {
     "name": "stdout",
     "output_type": "stream",
     "text": [
      "[[100], [2], [3]] [[100], [2], [3]]\n"
     ]
    }
   ],
   "source": [
    "# Making a shallow copy of a list of lists object.\n",
    "# Shallow copy only copies at the highest level of the data structure!\n",
    "\n",
    "a = [[1], [2], [3]]\n",
    "b = copy.copy(a) # only a shallow copy is made\n",
    "b[0][0] = 100\n",
    "print(a, b)"
   ]
  },
  {
   "cell_type": "code",
   "execution_count": 71,
   "metadata": {},
   "outputs": [
    {
     "name": "stdout",
     "output_type": "stream",
     "text": [
      "[[1], [2], [3]] [[100], [2], [3]]\n"
     ]
    }
   ],
   "source": [
    "# Making a deep copy of a list of lists object.\n",
    "a = [[1], [2], [3]]\n",
    "b = copy.deepcopy(a)\n",
    "b[0][0] = 100\n",
    "print(a, b)"
   ]
  },
  {
   "cell_type": "markdown",
   "metadata": {},
   "source": [
    "#### [glob](https://docs.python.org/3/library/glob.html)\n",
    "- Provides a function for collecting file names matching a given pattern."
   ]
  },
  {
   "cell_type": "code",
   "execution_count": 72,
   "metadata": {},
   "outputs": [],
   "source": [
    "import glob"
   ]
  },
  {
   "cell_type": "code",
   "execution_count": 73,
   "metadata": {},
   "outputs": [
    {
     "data": {
      "text/plain": [
       "['celsius_fahrenheit.txt',\n",
       " 'pl.txt',\n",
       " 'example_file_2.txt',\n",
       " 'real_programmers.txt',\n",
       " 'baseball.txt',\n",
       " 'example_file.txt',\n",
       " 'matrix.txt',\n",
       " 'hamlet.txt']"
      ]
     },
     "execution_count": 73,
     "metadata": {},
     "output_type": "execute_result"
    }
   ],
   "source": [
    "# The files of the current directory with extension \".txt\".\n",
    "glob.glob('*.txt')"
   ]
  },
  {
   "cell_type": "code",
   "execution_count": 74,
   "metadata": {},
   "outputs": [
    {
     "data": {
      "text/plain": [
       "['baseball.txt',\n",
       " 'celsius_fahrenheit.txt',\n",
       " 'example_file.txt',\n",
       " 'example_file_2.txt',\n",
       " 'hamlet.txt',\n",
       " 'matrix.txt',\n",
       " 'pl.txt',\n",
       " 'real_programmers.txt']"
      ]
     },
     "execution_count": 74,
     "metadata": {},
     "output_type": "execute_result"
    }
   ],
   "source": [
    "# Sorting the file names.\n",
    "sorted(glob.glob('*.txt'))"
   ]
  },
  {
   "cell_type": "markdown",
   "metadata": {},
   "source": [
    "#### [gzip](https://docs.python.org/3/library/gzip.html)\n",
    "\n",
    "- Provides tools for reading and writing GZIP archives.\n",
    "- Remark: The standard library supports other formats too (e.g. BZ2, LZMA, ZIP, TAR)."
   ]
  },
  {
   "cell_type": "code",
   "execution_count": 75,
   "metadata": {},
   "outputs": [],
   "source": [
    "import gzip"
   ]
  },
  {
   "cell_type": "code",
   "execution_count": 78,
   "metadata": {},
   "outputs": [
    {
     "data": {
      "text/plain": [
       "600000"
      ]
     },
     "execution_count": 78,
     "metadata": {},
     "output_type": "execute_result"
    }
   ],
   "source": [
    "# Writing a GZIP file.\n",
    "gzip.open('foo.gz', 'wt').write('orange' * 100_000)"
   ]
  },
  {
   "cell_type": "code",
   "execution_count": 81,
   "metadata": {},
   "outputs": [
    {
     "data": {
      "text/plain": [
       "'orangeorangeorangeorangeorangeorangeorangeorangeorangeorangeorangeorangeorangeorangeorangeorangeorangeorangeorangeorangeorangeorangeorangeorangeorangeorangeorangeorangeorangeorangeorangeorangeorangeorangeorangeorangeorangeorangeorangeorangeorangeorangeorangeorangeorangeorangeorangeorangeorangeorangeorangeorangeorangeorangeorangeorangeorangeorangeorangeorangeorangeorangeorangeorangeorangeorangeorangeorangeorangeorangeorangeorangeorangeorangeorangeorangeorangeorangeorangeorangeorangeorangeorangeorangeorangeorangeorangeorangeorangeorangeorangeorangeorangeorangeorangeorangeorangeorangeorangeorangeorangeorangeorangeorangeorangeorangeorangeorangeorangeorangeorangeorangeorangeorangeorangeorangeorangeorangeorangeorangeorangeorangeorangeorangeorangeorangeorangeorangeorangeorangeorangeorangeorangeorangeorangeorangeorangeorangeorangeorangeorangeorangeorangeorangeorangeorangeorangeorangeorangeorangeorangeorangeorangeorangeorangeorangeorangeorangeorangeorangeorangeorangeorangeorangeorangeorangeoran'"
      ]
     },
     "execution_count": 81,
     "metadata": {},
     "output_type": "execute_result"
    }
   ],
   "source": [
    "# Reading a GZIP file.\n",
    "gzip.open('foo.gz', 'rt').read()[:1000]"
   ]
  },
  {
   "cell_type": "markdown",
   "metadata": {},
   "source": [
    "#### [os](https://docs.python.org/3/library/os.html)\n",
    "\n",
    "- Provides access to certain services of the operating system."
   ]
  },
  {
   "cell_type": "code",
   "execution_count": 84,
   "metadata": {},
   "outputs": [],
   "source": [
    "import os"
   ]
  },
  {
   "cell_type": "code",
   "execution_count": 86,
   "metadata": {},
   "outputs": [],
   "source": [
    "# Executing a command.\n",
    "# os.system('ls *.txt')"
   ]
  },
  {
   "cell_type": "code",
   "execution_count": null,
   "metadata": {},
   "outputs": [],
   "source": [
    "# What type of file can be found at a given file path?\n",
    "# os.path.isdir('/tmp')\n",
    "# os.path.isfile('/tmp')"
   ]
  },
  {
   "cell_type": "code",
   "execution_count": null,
   "metadata": {},
   "outputs": [],
   "source": [
    "# Extracting the directory name from a path.\n",
    "# os.path.dirname('/tmp/a/bbb.txt')"
   ]
  },
  {
   "cell_type": "code",
   "execution_count": null,
   "metadata": {},
   "outputs": [],
   "source": [
    "# Accessing environment variables.\n",
    "# os.environ['LANG']"
   ]
  },
  {
   "cell_type": "markdown",
   "metadata": {},
   "source": [
    "#### [pickle](https://docs.python.org/3/library/pickle.html)\n",
    "\n",
    "- Provides a solution for the serialization of Python data structures (transformation to bytes), and for deserialization."
   ]
  },
  {
   "cell_type": "code",
   "execution_count": 88,
   "metadata": {},
   "outputs": [],
   "source": [
    "import pickle"
   ]
  },
  {
   "cell_type": "code",
   "execution_count": 91,
   "metadata": {},
   "outputs": [],
   "source": [
    "# Serializing a complex data structure to file.\n",
    "data = {'foo': 10, 'bar': [1.5, 2.5]}\n",
    "pickle.dump(data, open('data.pkl', 'wb'))"
   ]
  },
  {
   "cell_type": "code",
   "execution_count": 92,
   "metadata": {},
   "outputs": [
    {
     "data": {
      "text/plain": [
       "{'foo': 10, 'bar': [1.5, 2.5]}"
      ]
     },
     "execution_count": 92,
     "metadata": {},
     "output_type": "execute_result"
    }
   ],
   "source": [
    "# Deserialization.\n",
    "data2 = pickle.load(open('data.pkl', 'rb'))\n",
    "data2"
   ]
  },
  {
   "cell_type": "code",
   "execution_count": 94,
   "metadata": {},
   "outputs": [
    {
     "data": {
      "text/plain": [
       "b'\\x80\\x04\\x95)\\x00\\x00\\x00\\x00\\x00\\x00\\x00}\\x94(\\x8c\\x03foo\\x94K\\n\\x8c\\x03bar\\x94]\\x94(G?\\xf8\\x00\\x00\\x00\\x00\\x00\\x00G@\\x04\\x00\\x00\\x00\\x00\\x00\\x00eu.'"
      ]
     },
     "execution_count": 94,
     "metadata": {},
     "output_type": "execute_result"
    }
   ],
   "source": [
    "# Serialization to string.\n",
    "data = {'foo': 10, 'bar': [1.5, 2.5]}\n",
    "p = pickle.dumps(data)\n",
    "p"
   ]
  },
  {
   "cell_type": "code",
   "execution_count": 96,
   "metadata": {},
   "outputs": [
    {
     "data": {
      "text/plain": [
       "{'foo': 10, 'bar': [1.5, 2.5]}"
      ]
     },
     "execution_count": 96,
     "metadata": {},
     "output_type": "execute_result"
    }
   ],
   "source": [
    "# Deserialization.\n",
    "data2 = pickle.loads(p)\n",
    "data2"
   ]
  },
  {
   "cell_type": "code",
   "execution_count": 97,
   "metadata": {},
   "outputs": [],
   "source": [
    "# Two handy utility functions.\n",
    "\n",
    "def to_pickle(obj, fname, protocol=4):\n",
    "    '''Serialize object to file.'''\n",
    "    pickle.dump(obj, open(fname, 'wb'), protocol)\n",
    "    \n",
    "def from_pickle(fname):\n",
    "    '''Deserialize object from file.'''\n",
    "    return pickle.load(open(fname, 'rb'))"
   ]
  },
  {
   "cell_type": "code",
   "execution_count": 98,
   "metadata": {},
   "outputs": [],
   "source": [
    "to_pickle(data, 'data.pkl')"
   ]
  },
  {
   "cell_type": "code",
   "execution_count": 99,
   "metadata": {},
   "outputs": [
    {
     "data": {
      "text/plain": [
       "{'foo': 10, 'bar': [1.5, 2.5]}"
      ]
     },
     "execution_count": 99,
     "metadata": {},
     "output_type": "execute_result"
    }
   ],
   "source": [
    "from_pickle('data.pkl')"
   ]
  },
  {
   "cell_type": "markdown",
   "metadata": {},
   "source": [
    "#### [subprocess](https://docs.python.org/3/library/subprocess.html)\n",
    "\n",
    "- Provides tools for starting and controlling subprocesses."
   ]
  },
  {
   "cell_type": "code",
   "execution_count": 100,
   "metadata": {},
   "outputs": [],
   "source": [
    "import subprocess"
   ]
  },
  {
   "cell_type": "code",
   "execution_count": 102,
   "metadata": {},
   "outputs": [],
   "source": [
    "# Starting a process and obtaining the standard output as a string.\n",
    "# subprocess.getoutput('ls *.txt')"
   ]
  },
  {
   "cell_type": "code",
   "execution_count": null,
   "metadata": {},
   "outputs": [],
   "source": [
    "# Controlling an interactive command line program.\n",
    "# p = subprocess.Popen(['python', '-i'], stdin=subprocess.PIPE, stdout=subprocess.PIPE)\n",
    "# p.stdin.write('1 + 1\\n'.encode('utf-8'))\n",
    "# p.stdin.flush()\n",
    "# p.stdout.readline().decode('utf-8')"
   ]
  },
  {
   "cell_type": "markdown",
   "metadata": {},
   "source": [
    "#### [urllib](https://docs.python.org/3/library/urllib.html)\n",
    "\n",
    "- A package for opening, reading and handling web addresses ([URL](https://en.wikipedia.org/wiki/URL)s)."
   ]
  },
  {
   "cell_type": "code",
   "execution_count": 103,
   "metadata": {},
   "outputs": [],
   "source": [
    "from urllib.request import urlopen"
   ]
  },
  {
   "cell_type": "code",
   "execution_count": 111,
   "metadata": {},
   "outputs": [],
   "source": [
    "# Exercise: Write a program that downloads the web page found at\n",
    "# https://hu.exchange-rates.org/Rate/USD/HUF\n",
    "# and extracts the USD-HUF exchange rate from it.\n",
    "\n",
    "url = 'https://www.x-rates.com/calculator/?from=USD&to=HUF&amount=1'\n",
    "data = urlopen(url).read().decode('utf-8')"
   ]
  },
  {
   "cell_type": "code",
   "execution_count": 119,
   "metadata": {},
   "outputs": [
    {
     "data": {
      "text/plain": [
       "375.22"
      ]
     },
     "execution_count": 119,
     "metadata": {},
     "output_type": "execute_result"
    }
   ],
   "source": [
    "pattern = '<span class=\"ccOutputRslt\">'\n",
    "idx = data.find(pattern)\n",
    "float(data[idx + len(pattern):].split('<')[0])"
   ]
  },
  {
   "cell_type": "code",
   "execution_count": 120,
   "metadata": {},
   "outputs": [],
   "source": [
    "# Package the solution to a function!\n",
    "def get_usd_huf():\n",
    "    url = 'https://www.x-rates.com/calculator/?from=USD&to=HUF&amount=1'\n",
    "    data = urlopen(url).read().decode('utf-8')\n",
    "    pattern = '<span class=\"ccOutputRslt\">'\n",
    "    idx = data.find(pattern)\n",
    "    return float(data[idx + len(pattern):].split('<')[0])"
   ]
  },
  {
   "cell_type": "code",
   "execution_count": 121,
   "metadata": {},
   "outputs": [
    {
     "data": {
      "text/plain": [
       "375.31"
      ]
     },
     "execution_count": 121,
     "metadata": {},
     "output_type": "execute_result"
    }
   ],
   "source": [
    "get_usd_huf()"
   ]
  },
  {
   "cell_type": "code",
   "execution_count": 127,
   "metadata": {},
   "outputs": [
    {
     "name": "stdout",
     "output_type": "stream",
     "text": [
      "2024-10-30 11:03:47.647600 376.16\n"
     ]
    }
   ],
   "source": [
    "import datetime\n",
    "print(datetime.datetime.now(), get_usd_huf())"
   ]
  },
  {
   "cell_type": "code",
   "execution_count": 124,
   "metadata": {},
   "outputs": [
    {
     "data": {
      "text/plain": [
       "'https%3A//hu.wikipedia.org/wiki/Mesters%C3%A9ges_intelligencia'"
      ]
     },
     "execution_count": 124,
     "metadata": {},
     "output_type": "execute_result"
    }
   ],
   "source": [
    "# URL encoding and decoding.\n",
    "from urllib.request import quote, unquote\n",
    "\n",
    "quote('https://hu.wikipedia.org/wiki/Mesterséges_intelligencia')"
   ]
  },
  {
   "cell_type": "code",
   "execution_count": 125,
   "metadata": {},
   "outputs": [
    {
     "data": {
      "text/plain": [
       "'https://hu.wikipedia.org/wiki/Mesterséges_intelligencia'"
      ]
     },
     "execution_count": 125,
     "metadata": {},
     "output_type": "execute_result"
    }
   ],
   "source": [
    "unquote('https%3A//hu.wikipedia.org/wiki/Mesters%C3%A9ges_intelligencia')"
   ]
  },
  {
   "cell_type": "markdown",
   "metadata": {},
   "source": [
    "## Exercise: Conway's Game of Life\n",
    "\n",
    "Write a program that implements [Conway's Game of Life](https://en.wikipedia.org/wiki/Conway%27s_Game_of_Life)!"
   ]
  },
  {
   "cell_type": "markdown",
   "metadata": {},
   "source": [
    "DESIGN CHOICES:\n",
    "- the world will be stored in a finite, 2-D numpy array of characters\n",
    "- the initial state will be read from a string\n",
    "- border handling: the bordering rows and columns will never change state"
   ]
  },
  {
   "cell_type": "code",
   "execution_count": 9,
   "metadata": {},
   "outputs": [],
   "source": [
    "# Let's specify the initial state in a string!\n",
    "# (We could read it from file too, but let's just use a string for simplicity!)\n",
    "\n",
    "worldstr = '''\n",
    "🤢🤢🤢🤢🤢🤢🤢🤢🤢🤢🤢🤢🤢🤢🤢🤢🤢🤢🤢🤢\n",
    "🤢🤢🤢🤢🤢🤢🤢🤢🤢🤢🤢🤢🤢🤢🤢🤢🤢🤢🤢🤢\n",
    "🤢🤢🤢🤢🤢🤢🤢🤢🤢🤢🤢🤢🤢🤢🤢🤢🤢🤢🤢🤢\n",
    "🤢🤢🤢🤢🤢🤢🤢🤢🤢🤢🤢🤢🤢🤢🤢🤢🤢🤢🤢🤢\n",
    "🤢🤢🤢🤢🤢🤢🤢🤢🤢🤢🤢🤢🤢🤢🤢🤢🤢🤢🤢🤢\n",
    "🤢🤢🤢🤢🤢🤢🤢🤢🤢🤢🤢🤢🤢🤢🤢🤢🤢🤢🤢🤢\n",
    "🤢🤢🤢🤢🤢🤢🤢🤢🤢🤢🤢🤢🤢🤢🤢🤢🤢🤢🤢🤢\n",
    "🤢🤢🤢🤢🤢🤢🤢🤢🤢🤢🤢🤢🤢🤢🤢🤢🤢🤢🤢🤢\n",
    "🤢🤢🤢🤢🤢🤢🤢🤢🤢😎😎🤢🤢🤢🤢🤢🤢🤢🤢🤢\n",
    "🤢🤢🤢🤢🤢🤢🤢🤢😎😎🤢🤢🤢🤢🤢🤢🤢🤢🤢🤢\n",
    "🤢🤢🤢🤢🤢🤢🤢🤢🤢😎🤢🤢🤢🤢🤢🤢🤢🤢🤢🤢\n",
    "🤢🤢🤢🤢🤢🤢🤢🤢🤢🤢🤢🤢🤢🤢🤢🤢🤢🤢🤢🤢\n",
    "🤢🤢🤢🤢🤢🤢🤢🤢🤢🤢🤢🤢🤢🤢🤢🤢🤢🤢🤢🤢\n",
    "🤢🤢🤢🤢🤢🤢🤢🤢🤢🤢🤢🤢🤢🤢🤢🤢🤢🤢🤢🤢\n",
    "🤢🤢🤢🤢🤢🤢🤢🤢🤢🤢🤢🤢🤢🤢🤢🤢🤢🤢🤢🤢\n",
    "🤢🤢🤢🤢🤢🤢🤢🤢🤢🤢🤢🤢🤢🤢🤢🤢🤢🤢🤢🤢\n",
    "🤢🤢🤢🤢🤢🤢🤢🤢🤢🤢🤢🤢🤢🤢🤢🤢🤢🤢🤢🤢\n",
    "🤢🤢🤢🤢🤢🤢🤢🤢🤢🤢🤢🤢🤢🤢🤢🤢🤢🤢🤢🤢\n",
    "🤢🤢🤢🤢🤢🤢🤢🤢🤢🤢🤢🤢🤢🤢🤢🤢🤢🤢🤢🤢\n",
    "🤢🤢🤢🤢🤢🤢🤢🤢🤢🤢🤢🤢🤢🤢🤢🤢🤢🤢🤢🤢\n",
    "'''.strip()"
   ]
  },
  {
   "cell_type": "code",
   "execution_count": 10,
   "metadata": {},
   "outputs": [],
   "source": [
    "# Read initial state to 2-D numpy array.\n",
    "import numpy as np\n",
    "\n",
    "def init_world(worldstr):\n",
    "    return np.array([list(row) for row in worldstr.split('\\n')])"
   ]
  },
  {
   "cell_type": "code",
   "execution_count": 11,
   "metadata": {},
   "outputs": [],
   "source": [
    "# Helper function to display a given state of the world.\n",
    "def display_world(world):\n",
    "    for row in world:\n",
    "        print(''.join(row))"
   ]
  },
  {
   "cell_type": "code",
   "execution_count": 12,
   "metadata": {},
   "outputs": [],
   "source": [
    "def update_world(world):\n",
    "    nrows, ncols = world.shape\n",
    "    new_world = world.copy() # make copy of the world\n",
    "    \n",
    "    # iterate over inner positions\n",
    "    for i in range(1, nrows - 1):\n",
    "        for j in range(1, ncols - 1):\n",
    "            nbs = world[i - 1:i + 2, j - 1:j + 2] # select 3x3 neighborhood\n",
    "            nlive = (nbs == '😎').sum() - (nbs[1, 1] == '😎') # count live neighbors\n",
    "\n",
    "            # update cell state\n",
    "            if nlive < 2 or nlive > 3:\n",
    "                new_world[i, j] = '🤢'\n",
    "            elif nlive == 3:\n",
    "                new_world[i, j] = '😎'\n",
    "    \n",
    "    return new_world"
   ]
  },
  {
   "cell_type": "code",
   "execution_count": 15,
   "metadata": {},
   "outputs": [
    {
     "name": "stdout",
     "output_type": "stream",
     "text": [
      "🤢🤢🤢🤢🤢🤢🤢🤢🤢🤢🤢🤢🤢🤢🤢🤢🤢🤢🤢🤢\n",
      "🤢🤢🤢🤢🤢🤢🤢🤢🤢🤢🤢🤢🤢🤢🤢🤢🤢🤢🤢🤢\n",
      "🤢🤢🤢🤢🤢🤢🤢🤢🤢🤢🤢🤢🤢🤢🤢🤢🤢🤢🤢🤢\n",
      "🤢🤢🤢🤢🤢🤢🤢🤢🤢🤢🤢🤢🤢🤢🤢🤢🤢🤢🤢🤢\n",
      "🤢🤢🤢🤢🤢🤢🤢🤢🤢🤢🤢🤢🤢🤢🤢🤢🤢🤢🤢🤢\n",
      "🤢🤢🤢🤢🤢🤢🤢🤢🤢🤢🤢🤢🤢🤢🤢🤢🤢🤢🤢🤢\n",
      "🤢🤢🤢🤢🤢🤢🤢🤢🤢🤢🤢🤢🤢🤢🤢🤢🤢🤢🤢🤢\n",
      "🤢🤢🤢🤢🤢🤢🤢🤢🤢🤢🤢🤢🤢🤢🤢🤢🤢🤢🤢🤢\n",
      "🤢🤢🤢🤢🤢🤢🤢🤢🤢😎😎🤢🤢🤢🤢🤢🤢🤢🤢🤢\n",
      "🤢🤢🤢🤢🤢🤢🤢🤢😎😎🤢🤢🤢🤢🤢🤢🤢🤢🤢🤢\n",
      "🤢🤢🤢🤢🤢🤢🤢🤢🤢😎🤢🤢🤢🤢🤢🤢🤢🤢🤢🤢\n",
      "🤢🤢🤢🤢🤢🤢🤢🤢🤢🤢🤢🤢🤢🤢🤢🤢🤢🤢🤢🤢\n",
      "🤢🤢🤢🤢🤢🤢🤢🤢🤢🤢🤢🤢🤢🤢🤢🤢🤢🤢🤢🤢\n",
      "🤢🤢🤢🤢🤢🤢🤢🤢🤢🤢🤢🤢🤢🤢🤢🤢🤢🤢🤢🤢\n",
      "🤢🤢🤢🤢🤢🤢🤢🤢🤢🤢🤢🤢🤢🤢🤢🤢🤢🤢🤢🤢\n",
      "🤢🤢🤢🤢🤢🤢🤢🤢🤢🤢🤢🤢🤢🤢🤢🤢🤢🤢🤢🤢\n",
      "🤢🤢🤢🤢🤢🤢🤢🤢🤢🤢🤢🤢🤢🤢🤢🤢🤢🤢🤢🤢\n",
      "🤢🤢🤢🤢🤢🤢🤢🤢🤢🤢🤢🤢🤢🤢🤢🤢🤢🤢🤢🤢\n",
      "🤢🤢🤢🤢🤢🤢🤢🤢🤢🤢🤢🤢🤢🤢🤢🤢🤢🤢🤢🤢\n",
      "🤢🤢🤢🤢🤢🤢🤢🤢🤢🤢🤢🤢🤢🤢🤢🤢🤢🤢🤢🤢\n",
      "\n",
      "🤢🤢🤢🤢🤢🤢🤢🤢🤢🤢🤢🤢🤢🤢🤢🤢🤢🤢🤢🤢\n",
      "🤢🤢🤢🤢🤢🤢🤢🤢🤢🤢🤢🤢🤢🤢🤢🤢🤢🤢🤢🤢\n",
      "🤢🤢🤢🤢🤢🤢🤢🤢🤢🤢🤢🤢🤢🤢🤢🤢🤢🤢🤢🤢\n",
      "🤢🤢🤢🤢🤢🤢🤢🤢🤢🤢🤢🤢🤢🤢🤢🤢🤢🤢🤢🤢\n",
      "🤢🤢🤢🤢🤢🤢🤢🤢🤢🤢🤢🤢🤢🤢🤢🤢🤢🤢🤢🤢\n",
      "🤢🤢🤢🤢🤢🤢🤢🤢🤢🤢🤢🤢🤢🤢🤢🤢🤢🤢🤢🤢\n",
      "🤢🤢🤢🤢🤢🤢🤢🤢🤢🤢🤢🤢🤢🤢🤢🤢🤢🤢🤢🤢\n",
      "🤢🤢🤢🤢🤢🤢🤢🤢🤢🤢🤢🤢🤢🤢🤢🤢🤢🤢🤢🤢\n",
      "🤢🤢🤢🤢🤢🤢🤢🤢😎😎😎🤢🤢🤢🤢🤢🤢🤢🤢🤢\n",
      "🤢🤢🤢🤢🤢🤢🤢🤢😎🤢🤢🤢🤢🤢🤢🤢🤢🤢🤢🤢\n",
      "🤢🤢🤢🤢🤢🤢🤢🤢😎😎🤢🤢🤢🤢🤢🤢🤢🤢🤢🤢\n",
      "🤢🤢🤢🤢🤢🤢🤢🤢🤢🤢🤢🤢🤢🤢🤢🤢🤢🤢🤢🤢\n",
      "🤢🤢🤢🤢🤢🤢🤢🤢🤢🤢🤢🤢🤢🤢🤢🤢🤢🤢🤢🤢\n",
      "🤢🤢🤢🤢🤢🤢🤢🤢🤢🤢🤢🤢🤢🤢🤢🤢🤢🤢🤢🤢\n",
      "🤢🤢🤢🤢🤢🤢🤢🤢🤢🤢🤢🤢🤢🤢🤢🤢🤢🤢🤢🤢\n",
      "🤢🤢🤢🤢🤢🤢🤢🤢🤢🤢🤢🤢🤢🤢🤢🤢🤢🤢🤢🤢\n",
      "🤢🤢🤢🤢🤢🤢🤢🤢🤢🤢🤢🤢🤢🤢🤢🤢🤢🤢🤢🤢\n",
      "🤢🤢🤢🤢🤢🤢🤢🤢🤢🤢🤢🤢🤢🤢🤢🤢🤢🤢🤢🤢\n",
      "🤢🤢🤢🤢🤢🤢🤢🤢🤢🤢🤢🤢🤢🤢🤢🤢🤢🤢🤢🤢\n",
      "🤢🤢🤢🤢🤢🤢🤢🤢🤢🤢🤢🤢🤢🤢🤢🤢🤢🤢🤢🤢\n",
      "\n",
      "🤢🤢🤢🤢🤢🤢🤢🤢🤢🤢🤢🤢🤢🤢🤢🤢🤢🤢🤢🤢\n",
      "🤢🤢🤢🤢🤢🤢🤢🤢🤢🤢🤢🤢🤢🤢🤢🤢🤢🤢🤢🤢\n",
      "🤢🤢🤢🤢🤢🤢🤢🤢🤢🤢🤢🤢🤢🤢🤢🤢🤢🤢🤢🤢\n",
      "🤢🤢🤢🤢🤢🤢🤢🤢🤢🤢🤢🤢🤢🤢🤢🤢🤢🤢🤢🤢\n",
      "🤢🤢🤢🤢🤢🤢🤢🤢🤢🤢🤢🤢🤢🤢🤢🤢🤢🤢🤢🤢\n",
      "🤢🤢🤢🤢🤢🤢🤢🤢🤢🤢🤢🤢🤢🤢🤢🤢🤢🤢🤢🤢\n",
      "🤢🤢🤢🤢🤢🤢🤢🤢🤢🤢🤢🤢🤢🤢🤢🤢🤢🤢🤢🤢\n",
      "🤢🤢🤢🤢🤢🤢🤢🤢🤢😎🤢🤢🤢🤢🤢🤢🤢🤢🤢🤢\n",
      "🤢🤢🤢🤢🤢🤢🤢🤢😎😎🤢🤢🤢🤢🤢🤢🤢🤢🤢🤢\n",
      "🤢🤢🤢🤢🤢🤢🤢😎🤢🤢😎🤢🤢🤢🤢🤢🤢🤢🤢🤢\n",
      "🤢🤢🤢🤢🤢🤢🤢🤢😎😎🤢🤢🤢🤢🤢🤢🤢🤢🤢🤢\n",
      "🤢🤢🤢🤢🤢🤢🤢🤢🤢🤢🤢🤢🤢🤢🤢🤢🤢🤢🤢🤢\n",
      "🤢🤢🤢🤢🤢🤢🤢🤢🤢🤢🤢🤢🤢🤢🤢🤢🤢🤢🤢🤢\n",
      "🤢🤢🤢🤢🤢🤢🤢🤢🤢🤢🤢🤢🤢🤢🤢🤢🤢🤢🤢🤢\n",
      "🤢🤢🤢🤢🤢🤢🤢🤢🤢🤢🤢🤢🤢🤢🤢🤢🤢🤢🤢🤢\n",
      "🤢🤢🤢🤢🤢🤢🤢🤢🤢🤢🤢🤢🤢🤢🤢🤢🤢🤢🤢🤢\n",
      "🤢🤢🤢🤢🤢🤢🤢🤢🤢🤢🤢🤢🤢🤢🤢🤢🤢🤢🤢🤢\n",
      "🤢🤢🤢🤢🤢🤢🤢🤢🤢🤢🤢🤢🤢🤢🤢🤢🤢🤢🤢🤢\n",
      "🤢🤢🤢🤢🤢🤢🤢🤢🤢🤢🤢🤢🤢🤢🤢🤢🤢🤢🤢🤢\n",
      "🤢🤢🤢🤢🤢🤢🤢🤢🤢🤢🤢🤢🤢🤢🤢🤢🤢🤢🤢🤢\n",
      "\n",
      "🤢🤢🤢🤢🤢🤢🤢🤢🤢🤢🤢🤢🤢🤢🤢🤢🤢🤢🤢🤢\n",
      "🤢🤢🤢🤢🤢🤢🤢🤢🤢🤢🤢🤢🤢🤢🤢🤢🤢🤢🤢🤢\n",
      "🤢🤢🤢🤢🤢🤢🤢🤢🤢🤢🤢🤢🤢🤢🤢🤢🤢🤢🤢🤢\n",
      "🤢🤢🤢🤢🤢🤢🤢🤢🤢🤢🤢🤢🤢🤢🤢🤢🤢🤢🤢🤢\n",
      "🤢🤢🤢🤢🤢🤢🤢🤢🤢🤢🤢🤢🤢🤢🤢🤢🤢🤢🤢🤢\n",
      "🤢🤢🤢🤢🤢🤢🤢🤢🤢🤢🤢🤢🤢🤢🤢🤢🤢🤢🤢🤢\n",
      "🤢🤢🤢🤢🤢🤢🤢🤢🤢🤢🤢🤢🤢🤢🤢🤢🤢🤢🤢🤢\n",
      "🤢🤢🤢🤢🤢🤢🤢🤢😎😎🤢🤢🤢🤢🤢🤢🤢🤢🤢🤢\n",
      "🤢🤢🤢🤢🤢🤢🤢🤢😎😎😎🤢🤢🤢🤢🤢🤢🤢🤢🤢\n",
      "🤢🤢🤢🤢🤢🤢🤢😎🤢🤢😎🤢🤢🤢🤢🤢🤢🤢🤢🤢\n",
      "🤢🤢🤢🤢🤢🤢🤢🤢😎😎🤢🤢🤢🤢🤢🤢🤢🤢🤢🤢\n",
      "🤢🤢🤢🤢🤢🤢🤢🤢🤢🤢🤢🤢🤢🤢🤢🤢🤢🤢🤢🤢\n",
      "🤢🤢🤢🤢🤢🤢🤢🤢🤢🤢🤢🤢🤢🤢🤢🤢🤢🤢🤢🤢\n",
      "🤢🤢🤢🤢🤢🤢🤢🤢🤢🤢🤢🤢🤢🤢🤢🤢🤢🤢🤢🤢\n",
      "🤢🤢🤢🤢🤢🤢🤢🤢🤢🤢🤢🤢🤢🤢🤢🤢🤢🤢🤢🤢\n",
      "🤢🤢🤢🤢🤢🤢🤢🤢🤢🤢🤢🤢🤢🤢🤢🤢🤢🤢🤢🤢\n",
      "🤢🤢🤢🤢🤢🤢🤢🤢🤢🤢🤢🤢🤢🤢🤢🤢🤢🤢🤢🤢\n",
      "🤢🤢🤢🤢🤢🤢🤢🤢🤢🤢🤢🤢🤢🤢🤢🤢🤢🤢🤢🤢\n",
      "🤢🤢🤢🤢🤢🤢🤢🤢🤢🤢🤢🤢🤢🤢🤢🤢🤢🤢🤢🤢\n",
      "🤢🤢🤢🤢🤢🤢🤢🤢🤢🤢🤢🤢🤢🤢🤢🤢🤢🤢🤢🤢\n",
      "\n",
      "🤢🤢🤢🤢🤢🤢🤢🤢🤢🤢🤢🤢🤢🤢🤢🤢🤢🤢🤢🤢\n",
      "🤢🤢🤢🤢🤢🤢🤢🤢🤢🤢🤢🤢🤢🤢🤢🤢🤢🤢🤢🤢\n",
      "🤢🤢🤢🤢🤢🤢🤢🤢🤢🤢🤢🤢🤢🤢🤢🤢🤢🤢🤢🤢\n",
      "🤢🤢🤢🤢🤢🤢🤢🤢🤢🤢🤢🤢🤢🤢🤢🤢🤢🤢🤢🤢\n",
      "🤢🤢🤢🤢🤢🤢🤢🤢🤢🤢🤢🤢🤢🤢🤢🤢🤢🤢🤢🤢\n",
      "🤢🤢🤢🤢🤢🤢🤢🤢🤢🤢🤢🤢🤢🤢🤢🤢🤢🤢🤢🤢\n",
      "🤢🤢🤢🤢🤢🤢🤢🤢🤢🤢🤢🤢🤢🤢🤢🤢🤢🤢🤢🤢\n",
      "🤢🤢🤢🤢🤢🤢🤢🤢😎🤢😎🤢🤢🤢🤢🤢🤢🤢🤢🤢\n",
      "🤢🤢🤢🤢🤢🤢🤢😎🤢🤢😎🤢🤢🤢🤢🤢🤢🤢🤢🤢\n",
      "🤢🤢🤢🤢🤢🤢🤢😎🤢🤢😎🤢🤢🤢🤢🤢🤢🤢🤢🤢\n",
      "🤢🤢🤢🤢🤢🤢🤢🤢😎😎🤢🤢🤢🤢🤢🤢🤢🤢🤢🤢\n",
      "🤢🤢🤢🤢🤢🤢🤢🤢🤢🤢🤢🤢🤢🤢🤢🤢🤢🤢🤢🤢\n",
      "🤢🤢🤢🤢🤢🤢🤢🤢🤢🤢🤢🤢🤢🤢🤢🤢🤢🤢🤢🤢\n",
      "🤢🤢🤢🤢🤢🤢🤢🤢🤢🤢🤢🤢🤢🤢🤢🤢🤢🤢🤢🤢\n",
      "🤢🤢🤢🤢🤢🤢🤢🤢🤢🤢🤢🤢🤢🤢🤢🤢🤢🤢🤢🤢\n",
      "🤢🤢🤢🤢🤢🤢🤢🤢🤢🤢🤢🤢🤢🤢🤢🤢🤢🤢🤢🤢\n",
      "🤢🤢🤢🤢🤢🤢🤢🤢🤢🤢🤢🤢🤢🤢🤢🤢🤢🤢🤢🤢\n",
      "🤢🤢🤢🤢🤢🤢🤢🤢🤢🤢🤢🤢🤢🤢🤢🤢🤢🤢🤢🤢\n",
      "🤢🤢🤢🤢🤢🤢🤢🤢🤢🤢🤢🤢🤢🤢🤢🤢🤢🤢🤢🤢\n",
      "🤢🤢🤢🤢🤢🤢🤢🤢🤢🤢🤢🤢🤢🤢🤢🤢🤢🤢🤢🤢\n",
      "\n",
      "🤢🤢🤢🤢🤢🤢🤢🤢🤢🤢🤢🤢🤢🤢🤢🤢🤢🤢🤢🤢\n",
      "🤢🤢🤢🤢🤢🤢🤢🤢🤢🤢🤢🤢🤢🤢🤢🤢🤢🤢🤢🤢\n",
      "🤢🤢🤢🤢🤢🤢🤢🤢🤢🤢🤢🤢🤢🤢🤢🤢🤢🤢🤢🤢\n",
      "🤢🤢🤢🤢🤢🤢🤢🤢🤢🤢🤢🤢🤢🤢🤢🤢🤢🤢🤢🤢\n",
      "🤢🤢🤢🤢🤢🤢🤢🤢🤢🤢🤢🤢🤢🤢🤢🤢🤢🤢🤢🤢\n",
      "🤢🤢🤢🤢🤢🤢🤢🤢🤢🤢🤢🤢🤢🤢🤢🤢🤢🤢🤢🤢\n",
      "🤢🤢🤢🤢🤢🤢🤢🤢🤢🤢🤢🤢🤢🤢🤢🤢🤢🤢🤢🤢\n",
      "🤢🤢🤢🤢🤢🤢🤢🤢🤢😎🤢🤢🤢🤢🤢🤢🤢🤢🤢🤢\n",
      "🤢🤢🤢🤢🤢🤢🤢😎😎🤢😎😎🤢🤢🤢🤢🤢🤢🤢🤢\n",
      "🤢🤢🤢🤢🤢🤢🤢😎🤢🤢😎🤢🤢🤢🤢🤢🤢🤢🤢🤢\n",
      "🤢🤢🤢🤢🤢🤢🤢🤢😎😎🤢🤢🤢🤢🤢🤢🤢🤢🤢🤢\n",
      "🤢🤢🤢🤢🤢🤢🤢🤢🤢🤢🤢🤢🤢🤢🤢🤢🤢🤢🤢🤢\n",
      "🤢🤢🤢🤢🤢🤢🤢🤢🤢🤢🤢🤢🤢🤢🤢🤢🤢🤢🤢🤢\n",
      "🤢🤢🤢🤢🤢🤢🤢🤢🤢🤢🤢🤢🤢🤢🤢🤢🤢🤢🤢🤢\n",
      "🤢🤢🤢🤢🤢🤢🤢🤢🤢🤢🤢🤢🤢🤢🤢🤢🤢🤢🤢🤢\n",
      "🤢🤢🤢🤢🤢🤢🤢🤢🤢🤢🤢🤢🤢🤢🤢🤢🤢🤢🤢🤢\n",
      "🤢🤢🤢🤢🤢🤢🤢🤢🤢🤢🤢🤢🤢🤢🤢🤢🤢🤢🤢🤢\n",
      "🤢🤢🤢🤢🤢🤢🤢🤢🤢🤢🤢🤢🤢🤢🤢🤢🤢🤢🤢🤢\n",
      "🤢🤢🤢🤢🤢🤢🤢🤢🤢🤢🤢🤢🤢🤢🤢🤢🤢🤢🤢🤢\n",
      "🤢🤢🤢🤢🤢🤢🤢🤢🤢🤢🤢🤢🤢🤢🤢🤢🤢🤢🤢🤢\n",
      "\n",
      "🤢🤢🤢🤢🤢🤢🤢🤢🤢🤢🤢🤢🤢🤢🤢🤢🤢🤢🤢🤢\n",
      "🤢🤢🤢🤢🤢🤢🤢🤢🤢🤢🤢🤢🤢🤢🤢🤢🤢🤢🤢🤢\n",
      "🤢🤢🤢🤢🤢🤢🤢🤢🤢🤢🤢🤢🤢🤢🤢🤢🤢🤢🤢🤢\n",
      "🤢🤢🤢🤢🤢🤢🤢🤢🤢🤢🤢🤢🤢🤢🤢🤢🤢🤢🤢🤢\n",
      "🤢🤢🤢🤢🤢🤢🤢🤢🤢🤢🤢🤢🤢🤢🤢🤢🤢🤢🤢🤢\n",
      "🤢🤢🤢🤢🤢🤢🤢🤢🤢🤢🤢🤢🤢🤢🤢🤢🤢🤢🤢🤢\n",
      "🤢🤢🤢🤢🤢🤢🤢🤢🤢🤢🤢🤢🤢🤢🤢🤢🤢🤢🤢🤢\n",
      "🤢🤢🤢🤢🤢🤢🤢🤢😎😎😎🤢🤢🤢🤢🤢🤢🤢🤢🤢\n",
      "🤢🤢🤢🤢🤢🤢🤢😎😎🤢😎😎🤢🤢🤢🤢🤢🤢🤢🤢\n",
      "🤢🤢🤢🤢🤢🤢🤢😎🤢🤢😎😎🤢🤢🤢🤢🤢🤢🤢🤢\n",
      "🤢🤢🤢🤢🤢🤢🤢🤢😎😎🤢🤢🤢🤢🤢🤢🤢🤢🤢🤢\n",
      "🤢🤢🤢🤢🤢🤢🤢🤢🤢🤢🤢🤢🤢🤢🤢🤢🤢🤢🤢🤢\n",
      "🤢🤢🤢🤢🤢🤢🤢🤢🤢🤢🤢🤢🤢🤢🤢🤢🤢🤢🤢🤢\n",
      "🤢🤢🤢🤢🤢🤢🤢🤢🤢🤢🤢🤢🤢🤢🤢🤢🤢🤢🤢🤢\n",
      "🤢🤢🤢🤢🤢🤢🤢🤢🤢🤢🤢🤢🤢🤢🤢🤢🤢🤢🤢🤢\n",
      "🤢🤢🤢🤢🤢🤢🤢🤢🤢🤢🤢🤢🤢🤢🤢🤢🤢🤢🤢🤢\n",
      "🤢🤢🤢🤢🤢🤢🤢🤢🤢🤢🤢🤢🤢🤢🤢🤢🤢🤢🤢🤢\n",
      "🤢🤢🤢🤢🤢🤢🤢🤢🤢🤢🤢🤢🤢🤢🤢🤢🤢🤢🤢🤢\n",
      "🤢🤢🤢🤢🤢🤢🤢🤢🤢🤢🤢🤢🤢🤢🤢🤢🤢🤢🤢🤢\n",
      "🤢🤢🤢🤢🤢🤢🤢🤢🤢🤢🤢🤢🤢🤢🤢🤢🤢🤢🤢🤢\n",
      "\n",
      "🤢🤢🤢🤢🤢🤢🤢🤢🤢🤢🤢🤢🤢🤢🤢🤢🤢🤢🤢🤢\n",
      "🤢🤢🤢🤢🤢🤢🤢🤢🤢🤢🤢🤢🤢🤢🤢🤢🤢🤢🤢🤢\n",
      "🤢🤢🤢🤢🤢🤢🤢🤢🤢🤢🤢🤢🤢🤢🤢🤢🤢🤢🤢🤢\n",
      "🤢🤢🤢🤢🤢🤢🤢🤢🤢🤢🤢🤢🤢🤢🤢🤢🤢🤢🤢🤢\n",
      "🤢🤢🤢🤢🤢🤢🤢🤢🤢🤢🤢🤢🤢🤢🤢🤢🤢🤢🤢🤢\n",
      "🤢🤢🤢🤢🤢🤢🤢🤢🤢🤢🤢🤢🤢🤢🤢🤢🤢🤢🤢🤢\n",
      "🤢🤢🤢🤢🤢🤢🤢🤢🤢😎🤢🤢🤢🤢🤢🤢🤢🤢🤢🤢\n",
      "🤢🤢🤢🤢🤢🤢🤢😎😎🤢😎😎🤢🤢🤢🤢🤢🤢🤢🤢\n",
      "🤢🤢🤢🤢🤢🤢🤢😎🤢🤢🤢🤢🤢🤢🤢🤢🤢🤢🤢🤢\n",
      "🤢🤢🤢🤢🤢🤢🤢😎🤢🤢🤢😎🤢🤢🤢🤢🤢🤢🤢🤢\n",
      "🤢🤢🤢🤢🤢🤢🤢🤢😎😎😎🤢🤢🤢🤢🤢🤢🤢🤢🤢\n",
      "🤢🤢🤢🤢🤢🤢🤢🤢🤢🤢🤢🤢🤢🤢🤢🤢🤢🤢🤢🤢\n",
      "🤢🤢🤢🤢🤢🤢🤢🤢🤢🤢🤢🤢🤢🤢🤢🤢🤢🤢🤢🤢\n",
      "🤢🤢🤢🤢🤢🤢🤢🤢🤢🤢🤢🤢🤢🤢🤢🤢🤢🤢🤢🤢\n",
      "🤢🤢🤢🤢🤢🤢🤢🤢🤢🤢🤢🤢🤢🤢🤢🤢🤢🤢🤢🤢\n",
      "🤢🤢🤢🤢🤢🤢🤢🤢🤢🤢🤢🤢🤢🤢🤢🤢🤢🤢🤢🤢\n",
      "🤢🤢🤢🤢🤢🤢🤢🤢🤢🤢🤢🤢🤢🤢🤢🤢🤢🤢🤢🤢\n",
      "🤢🤢🤢🤢🤢🤢🤢🤢🤢🤢🤢🤢🤢🤢🤢🤢🤢🤢🤢🤢\n",
      "🤢🤢🤢🤢🤢🤢🤢🤢🤢🤢🤢🤢🤢🤢🤢🤢🤢🤢🤢🤢\n",
      "🤢🤢🤢🤢🤢🤢🤢🤢🤢🤢🤢🤢🤢🤢🤢🤢🤢🤢🤢🤢\n",
      "\n",
      "🤢🤢🤢🤢🤢🤢🤢🤢🤢🤢🤢🤢🤢🤢🤢🤢🤢🤢🤢🤢\n",
      "🤢🤢🤢🤢🤢🤢🤢🤢🤢🤢🤢🤢🤢🤢🤢🤢🤢🤢🤢🤢\n",
      "🤢🤢🤢🤢🤢🤢🤢🤢🤢🤢🤢🤢🤢🤢🤢🤢🤢🤢🤢🤢\n",
      "🤢🤢🤢🤢🤢🤢🤢🤢🤢🤢🤢🤢🤢🤢🤢🤢🤢🤢🤢🤢\n",
      "🤢🤢🤢🤢🤢🤢🤢🤢🤢🤢🤢🤢🤢🤢🤢🤢🤢🤢🤢🤢\n",
      "🤢🤢🤢🤢🤢🤢🤢🤢🤢🤢🤢🤢🤢🤢🤢🤢🤢🤢🤢🤢\n",
      "🤢🤢🤢🤢🤢🤢🤢🤢😎😎😎🤢🤢🤢🤢🤢🤢🤢🤢🤢\n",
      "🤢🤢🤢🤢🤢🤢🤢😎😎😎😎🤢🤢🤢🤢🤢🤢🤢🤢🤢\n",
      "🤢🤢🤢🤢🤢🤢😎😎🤢🤢😎😎🤢🤢🤢🤢🤢🤢🤢🤢\n",
      "🤢🤢🤢🤢🤢🤢🤢😎🤢😎😎🤢🤢🤢🤢🤢🤢🤢🤢🤢\n",
      "🤢🤢🤢🤢🤢🤢🤢🤢😎😎😎🤢🤢🤢🤢🤢🤢🤢🤢🤢\n",
      "🤢🤢🤢🤢🤢🤢🤢🤢🤢😎🤢🤢🤢🤢🤢🤢🤢🤢🤢🤢\n",
      "🤢🤢🤢🤢🤢🤢🤢🤢🤢🤢🤢🤢🤢🤢🤢🤢🤢🤢🤢🤢\n",
      "🤢🤢🤢🤢🤢🤢🤢🤢🤢🤢🤢🤢🤢🤢🤢🤢🤢🤢🤢🤢\n",
      "🤢🤢🤢🤢🤢🤢🤢🤢🤢🤢🤢🤢🤢🤢🤢🤢🤢🤢🤢🤢\n",
      "🤢🤢🤢🤢🤢🤢🤢🤢🤢🤢🤢🤢🤢🤢🤢🤢🤢🤢🤢🤢\n",
      "🤢🤢🤢🤢🤢🤢🤢🤢🤢🤢🤢🤢🤢🤢🤢🤢🤢🤢🤢🤢\n",
      "🤢🤢🤢🤢🤢🤢🤢🤢🤢🤢🤢🤢🤢🤢🤢🤢🤢🤢🤢🤢\n",
      "🤢🤢🤢🤢🤢🤢🤢🤢🤢🤢🤢🤢🤢🤢🤢🤢🤢🤢🤢🤢\n",
      "🤢🤢🤢🤢🤢🤢🤢🤢🤢🤢🤢🤢🤢🤢🤢🤢🤢🤢🤢🤢\n",
      "\n",
      "🤢🤢🤢🤢🤢🤢🤢🤢🤢🤢🤢🤢🤢🤢🤢🤢🤢🤢🤢🤢\n",
      "🤢🤢🤢🤢🤢🤢🤢🤢🤢🤢🤢🤢🤢🤢🤢🤢🤢🤢🤢🤢\n",
      "🤢🤢🤢🤢🤢🤢🤢🤢🤢🤢🤢🤢🤢🤢🤢🤢🤢🤢🤢🤢\n",
      "🤢🤢🤢🤢🤢🤢🤢🤢🤢🤢🤢🤢🤢🤢🤢🤢🤢🤢🤢🤢\n",
      "🤢🤢🤢🤢🤢🤢🤢🤢🤢🤢🤢🤢🤢🤢🤢🤢🤢🤢🤢🤢\n",
      "🤢🤢🤢🤢🤢🤢🤢🤢🤢😎🤢🤢🤢🤢🤢🤢🤢🤢🤢🤢\n",
      "🤢🤢🤢🤢🤢🤢🤢😎🤢🤢😎🤢🤢🤢🤢🤢🤢🤢🤢🤢\n",
      "🤢🤢🤢🤢🤢🤢😎🤢🤢🤢🤢🤢🤢🤢🤢🤢🤢🤢🤢🤢\n",
      "🤢🤢🤢🤢🤢🤢😎🤢🤢🤢🤢😎🤢🤢🤢🤢🤢🤢🤢🤢\n",
      "🤢🤢🤢🤢🤢🤢😎😎🤢🤢🤢🤢🤢🤢🤢🤢🤢🤢🤢🤢\n",
      "🤢🤢🤢🤢🤢🤢🤢🤢🤢🤢🤢🤢🤢🤢🤢🤢🤢🤢🤢🤢\n",
      "🤢🤢🤢🤢🤢🤢🤢🤢😎😎😎🤢🤢🤢🤢🤢🤢🤢🤢🤢\n",
      "🤢🤢🤢🤢🤢🤢🤢🤢🤢🤢🤢🤢🤢🤢🤢🤢🤢🤢🤢🤢\n",
      "🤢🤢🤢🤢🤢🤢🤢🤢🤢🤢🤢🤢🤢🤢🤢🤢🤢🤢🤢🤢\n",
      "🤢🤢🤢🤢🤢🤢🤢🤢🤢🤢🤢🤢🤢🤢🤢🤢🤢🤢🤢🤢\n",
      "🤢🤢🤢🤢🤢🤢🤢🤢🤢🤢🤢🤢🤢🤢🤢🤢🤢🤢🤢🤢\n",
      "🤢🤢🤢🤢🤢🤢🤢🤢🤢🤢🤢🤢🤢🤢🤢🤢🤢🤢🤢🤢\n",
      "🤢🤢🤢🤢🤢🤢🤢🤢🤢🤢🤢🤢🤢🤢🤢🤢🤢🤢🤢🤢\n",
      "🤢🤢🤢🤢🤢🤢🤢🤢🤢🤢🤢🤢🤢🤢🤢🤢🤢🤢🤢🤢\n",
      "🤢🤢🤢🤢🤢🤢🤢🤢🤢🤢🤢🤢🤢🤢🤢🤢🤢🤢🤢🤢\n",
      "\n",
      "🤢🤢🤢🤢🤢🤢🤢🤢🤢🤢🤢🤢🤢🤢🤢🤢🤢🤢🤢🤢\n",
      "🤢🤢🤢🤢🤢🤢🤢🤢🤢🤢🤢🤢🤢🤢🤢🤢🤢🤢🤢🤢\n",
      "🤢🤢🤢🤢🤢🤢🤢🤢🤢🤢🤢🤢🤢🤢🤢🤢🤢🤢🤢🤢\n",
      "🤢🤢🤢🤢🤢🤢🤢🤢🤢🤢🤢🤢🤢🤢🤢🤢🤢🤢🤢🤢\n",
      "🤢🤢🤢🤢🤢🤢🤢🤢🤢🤢🤢🤢🤢🤢🤢🤢🤢🤢🤢🤢\n",
      "🤢🤢🤢🤢🤢🤢🤢🤢🤢🤢🤢🤢🤢🤢🤢🤢🤢🤢🤢🤢\n",
      "🤢🤢🤢🤢🤢🤢🤢🤢🤢🤢🤢🤢🤢🤢🤢🤢🤢🤢🤢🤢\n",
      "🤢🤢🤢🤢🤢🤢😎😎🤢🤢🤢🤢🤢🤢🤢🤢🤢🤢🤢🤢\n",
      "🤢🤢🤢🤢🤢😎😎🤢🤢🤢🤢🤢🤢🤢🤢🤢🤢🤢🤢🤢\n",
      "🤢🤢🤢🤢🤢🤢😎😎🤢🤢🤢🤢🤢🤢🤢🤢🤢🤢🤢🤢\n",
      "🤢🤢🤢🤢🤢🤢🤢😎😎😎🤢🤢🤢🤢🤢🤢🤢🤢🤢🤢\n",
      "🤢🤢🤢🤢🤢🤢🤢🤢🤢😎🤢🤢🤢🤢🤢🤢🤢🤢🤢🤢\n",
      "🤢🤢🤢🤢🤢🤢🤢🤢🤢😎🤢🤢🤢🤢🤢🤢🤢🤢🤢🤢\n",
      "🤢🤢🤢🤢🤢🤢🤢🤢🤢🤢🤢🤢🤢🤢🤢🤢🤢🤢🤢🤢\n",
      "🤢🤢🤢🤢🤢🤢🤢🤢🤢🤢🤢🤢🤢🤢🤢🤢🤢🤢🤢🤢\n",
      "🤢🤢🤢🤢🤢🤢🤢🤢🤢🤢🤢🤢🤢🤢🤢🤢🤢🤢🤢🤢\n",
      "🤢🤢🤢🤢🤢🤢🤢🤢🤢🤢🤢🤢🤢🤢🤢🤢🤢🤢🤢🤢\n",
      "🤢🤢🤢🤢🤢🤢🤢🤢🤢🤢🤢🤢🤢🤢🤢🤢🤢🤢🤢🤢\n",
      "🤢🤢🤢🤢🤢🤢🤢🤢🤢🤢🤢🤢🤢🤢🤢🤢🤢🤢🤢🤢\n",
      "🤢🤢🤢🤢🤢🤢🤢🤢🤢🤢🤢🤢🤢🤢🤢🤢🤢🤢🤢🤢\n",
      "\n",
      "🤢🤢🤢🤢🤢🤢🤢🤢🤢🤢🤢🤢🤢🤢🤢🤢🤢🤢🤢🤢\n",
      "🤢🤢🤢🤢🤢🤢🤢🤢🤢🤢🤢🤢🤢🤢🤢🤢🤢🤢🤢🤢\n",
      "🤢🤢🤢🤢🤢🤢🤢🤢🤢🤢🤢🤢🤢🤢🤢🤢🤢🤢🤢🤢\n",
      "🤢🤢🤢🤢🤢🤢🤢🤢🤢🤢🤢🤢🤢🤢🤢🤢🤢🤢🤢🤢\n",
      "🤢🤢🤢🤢🤢🤢🤢🤢🤢🤢🤢🤢🤢🤢🤢🤢🤢🤢🤢🤢\n",
      "🤢🤢🤢🤢🤢🤢🤢🤢🤢🤢🤢🤢🤢🤢🤢🤢🤢🤢🤢🤢\n",
      "🤢🤢🤢🤢🤢🤢🤢🤢🤢🤢🤢🤢🤢🤢🤢🤢🤢🤢🤢🤢\n",
      "🤢🤢🤢🤢🤢😎😎😎🤢🤢🤢🤢🤢🤢🤢🤢🤢🤢🤢🤢\n",
      "🤢🤢🤢🤢🤢😎🤢🤢🤢🤢🤢🤢🤢🤢🤢🤢🤢🤢🤢🤢\n",
      "🤢🤢🤢🤢🤢😎🤢🤢🤢🤢🤢🤢🤢🤢🤢🤢🤢🤢🤢🤢\n",
      "🤢🤢🤢🤢🤢🤢😎😎🤢😎🤢🤢🤢🤢🤢🤢🤢🤢🤢🤢\n",
      "🤢🤢🤢🤢🤢🤢🤢🤢🤢😎😎🤢🤢🤢🤢🤢🤢🤢🤢🤢\n",
      "🤢🤢🤢🤢🤢🤢🤢🤢🤢🤢🤢🤢🤢🤢🤢🤢🤢🤢🤢🤢\n",
      "🤢🤢🤢🤢🤢🤢🤢🤢🤢🤢🤢🤢🤢🤢🤢🤢🤢🤢🤢🤢\n",
      "🤢🤢🤢🤢🤢🤢🤢🤢🤢🤢🤢🤢🤢🤢🤢🤢🤢🤢🤢🤢\n",
      "🤢🤢🤢🤢🤢🤢🤢🤢🤢🤢🤢🤢🤢🤢🤢🤢🤢🤢🤢🤢\n",
      "🤢🤢🤢🤢🤢🤢🤢🤢🤢🤢🤢🤢🤢🤢🤢🤢🤢🤢🤢🤢\n",
      "🤢🤢🤢🤢🤢🤢🤢🤢🤢🤢🤢🤢🤢🤢🤢🤢🤢🤢🤢🤢\n",
      "🤢🤢🤢🤢🤢🤢🤢🤢🤢🤢🤢🤢🤢🤢🤢🤢🤢🤢🤢🤢\n",
      "🤢🤢🤢🤢🤢🤢🤢🤢🤢🤢🤢🤢🤢🤢🤢🤢🤢🤢🤢🤢\n",
      "\n",
      "🤢🤢🤢🤢🤢🤢🤢🤢🤢🤢🤢🤢🤢🤢🤢🤢🤢🤢🤢🤢\n",
      "🤢🤢🤢🤢🤢🤢🤢🤢🤢🤢🤢🤢🤢🤢🤢🤢🤢🤢🤢🤢\n",
      "🤢🤢🤢🤢🤢🤢🤢🤢🤢🤢🤢🤢🤢🤢🤢🤢🤢🤢🤢🤢\n",
      "🤢🤢🤢🤢🤢🤢🤢🤢🤢🤢🤢🤢🤢🤢🤢🤢🤢🤢🤢🤢\n",
      "🤢🤢🤢🤢🤢🤢🤢🤢🤢🤢🤢🤢🤢🤢🤢🤢🤢🤢🤢🤢\n",
      "🤢🤢🤢🤢🤢🤢🤢🤢🤢🤢🤢🤢🤢🤢🤢🤢🤢🤢🤢🤢\n",
      "🤢🤢🤢🤢🤢🤢😎🤢🤢🤢🤢🤢🤢🤢🤢🤢🤢🤢🤢🤢\n",
      "🤢🤢🤢🤢🤢😎😎🤢🤢🤢🤢🤢🤢🤢🤢🤢🤢🤢🤢🤢\n",
      "🤢🤢🤢🤢😎😎🤢🤢🤢🤢🤢🤢🤢🤢🤢🤢🤢🤢🤢🤢\n",
      "🤢🤢🤢🤢🤢😎🤢🤢🤢🤢🤢🤢🤢🤢🤢🤢🤢🤢🤢🤢\n",
      "🤢🤢🤢🤢🤢🤢😎🤢😎😎😎🤢🤢🤢🤢🤢🤢🤢🤢🤢\n",
      "🤢🤢🤢🤢🤢🤢🤢🤢😎😎😎🤢🤢🤢🤢🤢🤢🤢🤢🤢\n",
      "🤢🤢🤢🤢🤢🤢🤢🤢🤢🤢🤢🤢🤢🤢🤢🤢🤢🤢🤢🤢\n",
      "🤢🤢🤢🤢🤢🤢🤢🤢🤢🤢🤢🤢🤢🤢🤢🤢🤢🤢🤢🤢\n",
      "🤢🤢🤢🤢🤢🤢🤢🤢🤢🤢🤢🤢🤢🤢🤢🤢🤢🤢🤢🤢\n",
      "🤢🤢🤢🤢🤢🤢🤢🤢🤢🤢🤢🤢🤢🤢🤢🤢🤢🤢🤢🤢\n",
      "🤢🤢🤢🤢🤢🤢🤢🤢🤢🤢🤢🤢🤢🤢🤢🤢🤢🤢🤢🤢\n",
      "🤢🤢🤢🤢🤢🤢🤢🤢🤢🤢🤢🤢🤢🤢🤢🤢🤢🤢🤢🤢\n",
      "🤢🤢🤢🤢🤢🤢🤢🤢🤢🤢🤢🤢🤢🤢🤢🤢🤢🤢🤢🤢\n",
      "🤢🤢🤢🤢🤢🤢🤢🤢🤢🤢🤢🤢🤢🤢🤢🤢🤢🤢🤢🤢\n",
      "\n",
      "🤢🤢🤢🤢🤢🤢🤢🤢🤢🤢🤢🤢🤢🤢🤢🤢🤢🤢🤢🤢\n",
      "🤢🤢🤢🤢🤢🤢🤢🤢🤢🤢🤢🤢🤢🤢🤢🤢🤢🤢🤢🤢\n",
      "🤢🤢🤢🤢🤢🤢🤢🤢🤢🤢🤢🤢🤢🤢🤢🤢🤢🤢🤢🤢\n",
      "🤢🤢🤢🤢🤢🤢🤢🤢🤢🤢🤢🤢🤢🤢🤢🤢🤢🤢🤢🤢\n",
      "🤢🤢🤢🤢🤢🤢🤢🤢🤢🤢🤢🤢🤢🤢🤢🤢🤢🤢🤢🤢\n",
      "🤢🤢🤢🤢🤢🤢🤢🤢🤢🤢🤢🤢🤢🤢🤢🤢🤢🤢🤢🤢\n",
      "🤢🤢🤢🤢🤢😎😎🤢🤢🤢🤢🤢🤢🤢🤢🤢🤢🤢🤢🤢\n",
      "🤢🤢🤢🤢😎🤢😎🤢🤢🤢🤢🤢🤢🤢🤢🤢🤢🤢🤢🤢\n",
      "🤢🤢🤢🤢😎🤢🤢🤢🤢🤢🤢🤢🤢🤢🤢🤢🤢🤢🤢🤢\n",
      "🤢🤢🤢🤢😎😎😎🤢🤢😎🤢🤢🤢🤢🤢🤢🤢🤢🤢🤢\n",
      "🤢🤢🤢🤢🤢🤢🤢😎😎🤢😎🤢🤢🤢🤢🤢🤢🤢🤢🤢\n",
      "🤢🤢🤢🤢🤢🤢🤢😎😎🤢😎🤢🤢🤢🤢🤢🤢🤢🤢🤢\n",
      "🤢🤢🤢🤢🤢🤢🤢🤢🤢😎🤢🤢🤢🤢🤢🤢🤢🤢🤢🤢\n",
      "🤢🤢🤢🤢🤢🤢🤢🤢🤢🤢🤢🤢🤢🤢🤢🤢🤢🤢🤢🤢\n",
      "🤢🤢🤢🤢🤢🤢🤢🤢🤢🤢🤢🤢🤢🤢🤢🤢🤢🤢🤢🤢\n",
      "🤢🤢🤢🤢🤢🤢🤢🤢🤢🤢🤢🤢🤢🤢🤢🤢🤢🤢🤢🤢\n",
      "🤢🤢🤢🤢🤢🤢🤢🤢🤢🤢🤢🤢🤢🤢🤢🤢🤢🤢🤢🤢\n",
      "🤢🤢🤢🤢🤢🤢🤢🤢🤢🤢🤢🤢🤢🤢🤢🤢🤢🤢🤢🤢\n",
      "🤢🤢🤢🤢🤢🤢🤢🤢🤢🤢🤢🤢🤢🤢🤢🤢🤢🤢🤢🤢\n",
      "🤢🤢🤢🤢🤢🤢🤢🤢🤢🤢🤢🤢🤢🤢🤢🤢🤢🤢🤢🤢\n",
      "\n",
      "🤢🤢🤢🤢🤢🤢🤢🤢🤢🤢🤢🤢🤢🤢🤢🤢🤢🤢🤢🤢\n",
      "🤢🤢🤢🤢🤢🤢🤢🤢🤢🤢🤢🤢🤢🤢🤢🤢🤢🤢🤢🤢\n",
      "🤢🤢🤢🤢🤢🤢🤢🤢🤢🤢🤢🤢🤢🤢🤢🤢🤢🤢🤢🤢\n",
      "🤢🤢🤢🤢🤢🤢🤢🤢🤢🤢🤢🤢🤢🤢🤢🤢🤢🤢🤢🤢\n",
      "🤢🤢🤢🤢🤢🤢🤢🤢🤢🤢🤢🤢🤢🤢🤢🤢🤢🤢🤢🤢\n",
      "🤢🤢🤢🤢🤢🤢🤢🤢🤢🤢🤢🤢🤢🤢🤢🤢🤢🤢🤢🤢\n",
      "🤢🤢🤢🤢🤢😎😎🤢🤢🤢🤢🤢🤢🤢🤢🤢🤢🤢🤢🤢\n",
      "🤢🤢🤢🤢😎🤢😎🤢🤢🤢🤢🤢🤢🤢🤢🤢🤢🤢🤢🤢\n",
      "🤢🤢🤢😎😎🤢😎🤢🤢🤢🤢🤢🤢🤢🤢🤢🤢🤢🤢🤢\n",
      "🤢🤢🤢🤢😎😎😎😎😎😎🤢🤢🤢🤢🤢🤢🤢🤢🤢🤢\n",
      "🤢🤢🤢🤢🤢😎🤢🤢🤢🤢😎🤢🤢🤢🤢🤢🤢🤢🤢🤢\n",
      "🤢🤢🤢🤢🤢🤢🤢😎🤢🤢😎🤢🤢🤢🤢🤢🤢🤢🤢🤢\n",
      "🤢🤢🤢🤢🤢🤢🤢🤢😎😎🤢🤢🤢🤢🤢🤢🤢🤢🤢🤢\n",
      "🤢🤢🤢🤢🤢🤢🤢🤢🤢🤢🤢🤢🤢🤢🤢🤢🤢🤢🤢🤢\n",
      "🤢🤢🤢🤢🤢🤢🤢🤢🤢🤢🤢🤢🤢🤢🤢🤢🤢🤢🤢🤢\n",
      "🤢🤢🤢🤢🤢🤢🤢🤢🤢🤢🤢🤢🤢🤢🤢🤢🤢🤢🤢🤢\n",
      "🤢🤢🤢🤢🤢🤢🤢🤢🤢🤢🤢🤢🤢🤢🤢🤢🤢🤢🤢🤢\n",
      "🤢🤢🤢🤢🤢🤢🤢🤢🤢🤢🤢🤢🤢🤢🤢🤢🤢🤢🤢🤢\n",
      "🤢🤢🤢🤢🤢🤢🤢🤢🤢🤢🤢🤢🤢🤢🤢🤢🤢🤢🤢🤢\n",
      "🤢🤢🤢🤢🤢🤢🤢🤢🤢🤢🤢🤢🤢🤢🤢🤢🤢🤢🤢🤢\n",
      "\n",
      "🤢🤢🤢🤢🤢🤢🤢🤢🤢🤢🤢🤢🤢🤢🤢🤢🤢🤢🤢🤢\n",
      "🤢🤢🤢🤢🤢🤢🤢🤢🤢🤢🤢🤢🤢🤢🤢🤢🤢🤢🤢🤢\n",
      "🤢🤢🤢🤢🤢🤢🤢🤢🤢🤢🤢🤢🤢🤢🤢🤢🤢🤢🤢🤢\n",
      "🤢🤢🤢🤢🤢🤢🤢🤢🤢🤢🤢🤢🤢🤢🤢🤢🤢🤢🤢🤢\n",
      "🤢🤢🤢🤢🤢🤢🤢🤢🤢🤢🤢🤢🤢🤢🤢🤢🤢🤢🤢🤢\n",
      "🤢🤢🤢🤢🤢🤢🤢🤢🤢🤢🤢🤢🤢🤢🤢🤢🤢🤢🤢🤢\n",
      "🤢🤢🤢🤢🤢😎😎🤢🤢🤢🤢🤢🤢🤢🤢🤢🤢🤢🤢🤢\n",
      "🤢🤢🤢😎😎🤢😎😎🤢🤢🤢🤢🤢🤢🤢🤢🤢🤢🤢🤢\n",
      "🤢🤢🤢😎🤢🤢🤢🤢😎🤢🤢🤢🤢🤢🤢🤢🤢🤢🤢🤢\n",
      "🤢🤢🤢😎🤢🤢🤢😎😎😎🤢🤢🤢🤢🤢🤢🤢🤢🤢🤢\n",
      "🤢🤢🤢🤢😎😎🤢🤢🤢🤢😎🤢🤢🤢🤢🤢🤢🤢🤢🤢\n",
      "🤢🤢🤢🤢🤢🤢🤢🤢😎🤢😎🤢🤢🤢🤢🤢🤢🤢🤢🤢\n",
      "🤢🤢🤢🤢🤢🤢🤢🤢😎😎🤢🤢🤢🤢🤢🤢🤢🤢🤢🤢\n",
      "🤢🤢🤢🤢🤢🤢🤢🤢🤢🤢🤢🤢🤢🤢🤢🤢🤢🤢🤢🤢\n",
      "🤢🤢🤢🤢🤢🤢🤢🤢🤢🤢🤢🤢🤢🤢🤢🤢🤢🤢🤢🤢\n",
      "🤢🤢🤢🤢🤢🤢🤢🤢🤢🤢🤢🤢🤢🤢🤢🤢🤢🤢🤢🤢\n",
      "🤢🤢🤢🤢🤢🤢🤢🤢🤢🤢🤢🤢🤢🤢🤢🤢🤢🤢🤢🤢\n",
      "🤢🤢🤢🤢🤢🤢🤢🤢🤢🤢🤢🤢🤢🤢🤢🤢🤢🤢🤢🤢\n",
      "🤢🤢🤢🤢🤢🤢🤢🤢🤢🤢🤢🤢🤢🤢🤢🤢🤢🤢🤢🤢\n",
      "🤢🤢🤢🤢🤢🤢🤢🤢🤢🤢🤢🤢🤢🤢🤢🤢🤢🤢🤢🤢\n",
      "\n",
      "🤢🤢🤢🤢🤢🤢🤢🤢🤢🤢🤢🤢🤢🤢🤢🤢🤢🤢🤢🤢\n",
      "🤢🤢🤢🤢🤢🤢🤢🤢🤢🤢🤢🤢🤢🤢🤢🤢🤢🤢🤢🤢\n",
      "🤢🤢🤢🤢🤢🤢🤢🤢🤢🤢🤢🤢🤢🤢🤢🤢🤢🤢🤢🤢\n",
      "🤢🤢🤢🤢🤢🤢🤢🤢🤢🤢🤢🤢🤢🤢🤢🤢🤢🤢🤢🤢\n",
      "🤢🤢🤢🤢🤢🤢🤢🤢🤢🤢🤢🤢🤢🤢🤢🤢🤢🤢🤢🤢\n",
      "🤢🤢🤢🤢🤢🤢🤢🤢🤢🤢🤢🤢🤢🤢🤢🤢🤢🤢🤢🤢\n",
      "🤢🤢🤢🤢😎😎😎😎🤢🤢🤢🤢🤢🤢🤢🤢🤢🤢🤢🤢\n",
      "🤢🤢🤢😎😎🤢😎😎🤢🤢🤢🤢🤢🤢🤢🤢🤢🤢🤢🤢\n",
      "🤢🤢😎😎🤢🤢😎🤢🤢😎🤢🤢🤢🤢🤢🤢🤢🤢🤢🤢\n",
      "🤢🤢🤢😎🤢🤢🤢😎😎😎🤢🤢🤢🤢🤢🤢🤢🤢🤢🤢\n",
      "🤢🤢🤢🤢😎🤢🤢😎🤢🤢😎🤢🤢🤢🤢🤢🤢🤢🤢🤢\n",
      "🤢🤢🤢🤢🤢🤢🤢🤢😎🤢😎🤢🤢🤢🤢🤢🤢🤢🤢🤢\n",
      "🤢🤢🤢🤢🤢🤢🤢🤢😎😎🤢🤢🤢🤢🤢🤢🤢🤢🤢🤢\n",
      "🤢🤢🤢🤢🤢🤢🤢🤢🤢🤢🤢🤢🤢🤢🤢🤢🤢🤢🤢🤢\n",
      "🤢🤢🤢🤢🤢🤢🤢🤢🤢🤢🤢🤢🤢🤢🤢🤢🤢🤢🤢🤢\n",
      "🤢🤢🤢🤢🤢🤢🤢🤢🤢🤢🤢🤢🤢🤢🤢🤢🤢🤢🤢🤢\n",
      "🤢🤢🤢🤢🤢🤢🤢🤢🤢🤢🤢🤢🤢🤢🤢🤢🤢🤢🤢🤢\n",
      "🤢🤢🤢🤢🤢🤢🤢🤢🤢🤢🤢🤢🤢🤢🤢🤢🤢🤢🤢🤢\n",
      "🤢🤢🤢🤢🤢🤢🤢🤢🤢🤢🤢🤢🤢🤢🤢🤢🤢🤢🤢🤢\n",
      "🤢🤢🤢🤢🤢🤢🤢🤢🤢🤢🤢🤢🤢🤢🤢🤢🤢🤢🤢🤢\n",
      "\n",
      "🤢🤢🤢🤢🤢🤢🤢🤢🤢🤢🤢🤢🤢🤢🤢🤢🤢🤢🤢🤢\n",
      "🤢🤢🤢🤢🤢🤢🤢🤢🤢🤢🤢🤢🤢🤢🤢🤢🤢🤢🤢🤢\n",
      "🤢🤢🤢🤢🤢🤢🤢🤢🤢🤢🤢🤢🤢🤢🤢🤢🤢🤢🤢🤢\n",
      "🤢🤢🤢🤢🤢🤢🤢🤢🤢🤢🤢🤢🤢🤢🤢🤢🤢🤢🤢🤢\n",
      "🤢🤢🤢🤢🤢🤢🤢🤢🤢🤢🤢🤢🤢🤢🤢🤢🤢🤢🤢🤢\n",
      "🤢🤢🤢🤢🤢😎😎🤢🤢🤢🤢🤢🤢🤢🤢🤢🤢🤢🤢🤢\n",
      "🤢🤢🤢😎😎🤢🤢😎🤢🤢🤢🤢🤢🤢🤢🤢🤢🤢🤢🤢\n",
      "🤢🤢😎🤢🤢🤢🤢🤢😎🤢🤢🤢🤢🤢🤢🤢🤢🤢🤢🤢\n",
      "🤢🤢😎🤢🤢😎😎🤢🤢😎🤢🤢🤢🤢🤢🤢🤢🤢🤢🤢\n",
      "🤢🤢😎😎😎🤢😎😎🤢😎😎🤢🤢🤢🤢🤢🤢🤢🤢🤢\n",
      "🤢🤢🤢🤢🤢🤢🤢😎🤢🤢😎🤢🤢🤢🤢🤢🤢🤢🤢🤢\n",
      "🤢🤢🤢🤢🤢🤢🤢😎😎🤢😎🤢🤢🤢🤢🤢🤢🤢🤢🤢\n",
      "🤢🤢🤢🤢🤢🤢🤢🤢😎😎🤢🤢🤢🤢🤢🤢🤢🤢🤢🤢\n",
      "🤢🤢🤢🤢🤢🤢🤢🤢🤢🤢🤢🤢🤢🤢🤢🤢🤢🤢🤢🤢\n",
      "🤢🤢🤢🤢🤢🤢🤢🤢🤢🤢🤢🤢🤢🤢🤢🤢🤢🤢🤢🤢\n",
      "🤢🤢🤢🤢🤢🤢🤢🤢🤢🤢🤢🤢🤢🤢🤢🤢🤢🤢🤢🤢\n",
      "🤢🤢🤢🤢🤢🤢🤢🤢🤢🤢🤢🤢🤢🤢🤢🤢🤢🤢🤢🤢\n",
      "🤢🤢🤢🤢🤢🤢🤢🤢🤢🤢🤢🤢🤢🤢🤢🤢🤢🤢🤢🤢\n",
      "🤢🤢🤢🤢🤢🤢🤢🤢🤢🤢🤢🤢🤢🤢🤢🤢🤢🤢🤢🤢\n",
      "🤢🤢🤢🤢🤢🤢🤢🤢🤢🤢🤢🤢🤢🤢🤢🤢🤢🤢🤢🤢\n",
      "\n",
      "🤢🤢🤢🤢🤢🤢🤢🤢🤢🤢🤢🤢🤢🤢🤢🤢🤢🤢🤢🤢\n",
      "🤢🤢🤢🤢🤢🤢🤢🤢🤢🤢🤢🤢🤢🤢🤢🤢🤢🤢🤢🤢\n",
      "🤢🤢🤢🤢🤢🤢🤢🤢🤢🤢🤢🤢🤢🤢🤢🤢🤢🤢🤢🤢\n",
      "🤢🤢🤢🤢🤢🤢🤢🤢🤢🤢🤢🤢🤢🤢🤢🤢🤢🤢🤢🤢\n",
      "🤢🤢🤢🤢🤢🤢🤢🤢🤢🤢🤢🤢🤢🤢🤢🤢🤢🤢🤢🤢\n",
      "🤢🤢🤢🤢😎😎😎🤢🤢🤢🤢🤢🤢🤢🤢🤢🤢🤢🤢🤢\n",
      "🤢🤢🤢😎😎😎😎😎🤢🤢🤢🤢🤢🤢🤢🤢🤢🤢🤢🤢\n",
      "🤢🤢😎🤢😎😎😎😎😎🤢🤢🤢🤢🤢🤢🤢🤢🤢🤢🤢\n",
      "🤢😎😎🤢😎😎😎🤢🤢😎😎🤢🤢🤢🤢🤢🤢🤢🤢🤢\n",
      "🤢🤢😎😎😎🤢🤢😎🤢😎😎🤢🤢🤢🤢🤢🤢🤢🤢🤢\n",
      "🤢🤢🤢😎🤢🤢🤢🤢🤢🤢😎😎🤢🤢🤢🤢🤢🤢🤢🤢\n",
      "🤢🤢🤢🤢🤢🤢🤢😎🤢🤢😎🤢🤢🤢🤢🤢🤢🤢🤢🤢\n",
      "🤢🤢🤢🤢🤢🤢🤢😎😎😎🤢🤢🤢🤢🤢🤢🤢🤢🤢🤢\n",
      "🤢🤢🤢🤢🤢🤢🤢🤢🤢🤢🤢🤢🤢🤢🤢🤢🤢🤢🤢🤢\n",
      "🤢🤢🤢🤢🤢🤢🤢🤢🤢🤢🤢🤢🤢🤢🤢🤢🤢🤢🤢🤢\n",
      "🤢🤢🤢🤢🤢🤢🤢🤢🤢🤢🤢🤢🤢🤢🤢🤢🤢🤢🤢🤢\n",
      "🤢🤢🤢🤢🤢🤢🤢🤢🤢🤢🤢🤢🤢🤢🤢🤢🤢🤢🤢🤢\n",
      "🤢🤢🤢🤢🤢🤢🤢🤢🤢🤢🤢🤢🤢🤢🤢🤢🤢🤢🤢🤢\n",
      "🤢🤢🤢🤢🤢🤢🤢🤢🤢🤢🤢🤢🤢🤢🤢🤢🤢🤢🤢🤢\n",
      "🤢🤢🤢🤢🤢🤢🤢🤢🤢🤢🤢🤢🤢🤢🤢🤢🤢🤢🤢🤢\n",
      "\n",
      "🤢🤢🤢🤢🤢🤢🤢🤢🤢🤢🤢🤢🤢🤢🤢🤢🤢🤢🤢🤢\n",
      "🤢🤢🤢🤢🤢🤢🤢🤢🤢🤢🤢🤢🤢🤢🤢🤢🤢🤢🤢🤢\n",
      "🤢🤢🤢🤢🤢🤢🤢🤢🤢🤢🤢🤢🤢🤢🤢🤢🤢🤢🤢🤢\n",
      "🤢🤢🤢🤢🤢🤢🤢🤢🤢🤢🤢🤢🤢🤢🤢🤢🤢🤢🤢🤢\n",
      "🤢🤢🤢🤢🤢😎🤢🤢🤢🤢🤢🤢🤢🤢🤢🤢🤢🤢🤢🤢\n",
      "🤢🤢🤢😎🤢🤢🤢😎🤢🤢🤢🤢🤢🤢🤢🤢🤢🤢🤢🤢\n",
      "🤢🤢🤢🤢🤢🤢🤢🤢😎🤢🤢🤢🤢🤢🤢🤢🤢🤢🤢🤢\n",
      "🤢😎😎🤢🤢🤢🤢🤢😎😎🤢🤢🤢🤢🤢🤢🤢🤢🤢🤢\n",
      "🤢😎🤢🤢🤢🤢🤢🤢🤢🤢😎🤢🤢🤢🤢🤢🤢🤢🤢🤢\n",
      "🤢😎🤢🤢🤢🤢😎🤢😎🤢🤢🤢🤢🤢🤢🤢🤢🤢🤢🤢\n",
      "🤢🤢😎😎😎🤢🤢🤢😎🤢🤢😎🤢🤢🤢🤢🤢🤢🤢🤢\n",
      "🤢🤢🤢🤢🤢🤢🤢😎🤢🤢😎😎🤢🤢🤢🤢🤢🤢🤢🤢\n",
      "🤢🤢🤢🤢🤢🤢🤢😎😎😎🤢🤢🤢🤢🤢🤢🤢🤢🤢🤢\n",
      "🤢🤢🤢🤢🤢🤢🤢🤢😎🤢🤢🤢🤢🤢🤢🤢🤢🤢🤢🤢\n",
      "🤢🤢🤢🤢🤢🤢🤢🤢🤢🤢🤢🤢🤢🤢🤢🤢🤢🤢🤢🤢\n",
      "🤢🤢🤢🤢🤢🤢🤢🤢🤢🤢🤢🤢🤢🤢🤢🤢🤢🤢🤢🤢\n",
      "🤢🤢🤢🤢🤢🤢🤢🤢🤢🤢🤢🤢🤢🤢🤢🤢🤢🤢🤢🤢\n",
      "🤢🤢🤢🤢🤢🤢🤢🤢🤢🤢🤢🤢🤢🤢🤢🤢🤢🤢🤢🤢\n",
      "🤢🤢🤢🤢🤢🤢🤢🤢🤢🤢🤢🤢🤢🤢🤢🤢🤢🤢🤢🤢\n",
      "🤢🤢🤢🤢🤢🤢🤢🤢🤢🤢🤢🤢🤢🤢🤢🤢🤢🤢🤢🤢\n",
      "\n",
      "🤢🤢🤢🤢🤢🤢🤢🤢🤢🤢🤢🤢🤢🤢🤢🤢🤢🤢🤢🤢\n",
      "🤢🤢🤢🤢🤢🤢🤢🤢🤢🤢🤢🤢🤢🤢🤢🤢🤢🤢🤢🤢\n",
      "🤢🤢🤢🤢🤢🤢🤢🤢🤢🤢🤢🤢🤢🤢🤢🤢🤢🤢🤢🤢\n",
      "🤢🤢🤢🤢🤢🤢🤢🤢🤢🤢🤢🤢🤢🤢🤢🤢🤢🤢🤢🤢\n",
      "🤢🤢🤢🤢🤢🤢🤢🤢🤢🤢🤢🤢🤢🤢🤢🤢🤢🤢🤢🤢\n",
      "🤢🤢🤢🤢🤢🤢🤢🤢🤢🤢🤢🤢🤢🤢🤢🤢🤢🤢🤢🤢\n",
      "🤢🤢😎🤢🤢🤢🤢😎😎😎🤢🤢🤢🤢🤢🤢🤢🤢🤢🤢\n",
      "🤢😎😎🤢🤢🤢🤢🤢😎😎🤢🤢🤢🤢🤢🤢🤢🤢🤢🤢\n",
      "🤢😎🤢🤢🤢🤢🤢😎😎🤢🤢🤢🤢🤢🤢🤢🤢🤢🤢🤢\n",
      "🤢😎🤢😎🤢🤢🤢😎🤢😎🤢🤢🤢🤢🤢🤢🤢🤢🤢🤢\n",
      "🤢🤢😎😎🤢🤢🤢🤢😎😎😎😎🤢🤢🤢🤢🤢🤢🤢🤢\n",
      "🤢🤢🤢😎🤢🤢🤢😎🤢🤢😎😎🤢🤢🤢🤢🤢🤢🤢🤢\n",
      "🤢🤢🤢🤢🤢🤢🤢😎🤢😎😎🤢🤢🤢🤢🤢🤢🤢🤢🤢\n",
      "🤢🤢🤢🤢🤢🤢🤢😎😎😎🤢🤢🤢🤢🤢🤢🤢🤢🤢🤢\n",
      "🤢🤢🤢🤢🤢🤢🤢🤢🤢🤢🤢🤢🤢🤢🤢🤢🤢🤢🤢🤢\n",
      "🤢🤢🤢🤢🤢🤢🤢🤢🤢🤢🤢🤢🤢🤢🤢🤢🤢🤢🤢🤢\n",
      "🤢🤢🤢🤢🤢🤢🤢🤢🤢🤢🤢🤢🤢🤢🤢🤢🤢🤢🤢🤢\n",
      "🤢🤢🤢🤢🤢🤢🤢🤢🤢🤢🤢🤢🤢🤢🤢🤢🤢🤢🤢🤢\n",
      "🤢🤢🤢🤢🤢🤢🤢🤢🤢🤢🤢🤢🤢🤢🤢🤢🤢🤢🤢🤢\n",
      "🤢🤢🤢🤢🤢🤢🤢🤢🤢🤢🤢🤢🤢🤢🤢🤢🤢🤢🤢🤢\n",
      "\n",
      "🤢🤢🤢🤢🤢🤢🤢🤢🤢🤢🤢🤢🤢🤢🤢🤢🤢🤢🤢🤢\n",
      "🤢🤢🤢🤢🤢🤢🤢🤢🤢🤢🤢🤢🤢🤢🤢🤢🤢🤢🤢🤢\n",
      "🤢🤢🤢🤢🤢🤢🤢🤢🤢🤢🤢🤢🤢🤢🤢🤢🤢🤢🤢🤢\n",
      "🤢🤢🤢🤢🤢🤢🤢🤢🤢🤢🤢🤢🤢🤢🤢🤢🤢🤢🤢🤢\n",
      "🤢🤢🤢🤢🤢🤢🤢🤢🤢🤢🤢🤢🤢🤢🤢🤢🤢🤢🤢🤢\n",
      "🤢🤢🤢🤢🤢🤢🤢🤢😎🤢🤢🤢🤢🤢🤢🤢🤢🤢🤢🤢\n",
      "🤢😎😎🤢🤢🤢🤢😎🤢😎🤢🤢🤢🤢🤢🤢🤢🤢🤢🤢\n",
      "🤢😎😎🤢🤢🤢🤢🤢🤢🤢🤢🤢🤢🤢🤢🤢🤢🤢🤢🤢\n",
      "🤢😎🤢🤢🤢🤢🤢😎🤢🤢🤢🤢🤢🤢🤢🤢🤢🤢🤢🤢\n",
      "🤢😎🤢😎🤢🤢🤢😎🤢🤢🤢🤢🤢🤢🤢🤢🤢🤢🤢🤢\n",
      "🤢🤢🤢😎😎🤢🤢😎🤢🤢🤢😎🤢🤢🤢🤢🤢🤢🤢🤢\n",
      "🤢🤢😎😎🤢🤢🤢😎🤢🤢🤢🤢🤢🤢🤢🤢🤢🤢🤢🤢\n",
      "🤢🤢🤢🤢🤢🤢😎😎🤢🤢🤢😎🤢🤢🤢🤢🤢🤢🤢🤢\n",
      "🤢🤢🤢🤢🤢🤢🤢😎🤢😎😎🤢🤢🤢🤢🤢🤢🤢🤢🤢\n",
      "🤢🤢🤢🤢🤢🤢🤢🤢😎🤢🤢🤢🤢🤢🤢🤢🤢🤢🤢🤢\n",
      "🤢🤢🤢🤢🤢🤢🤢🤢🤢🤢🤢🤢🤢🤢🤢🤢🤢🤢🤢🤢\n",
      "🤢🤢🤢🤢🤢🤢🤢🤢🤢🤢🤢🤢🤢🤢🤢🤢🤢🤢🤢🤢\n",
      "🤢🤢🤢🤢🤢🤢🤢🤢🤢🤢🤢🤢🤢🤢🤢🤢🤢🤢🤢🤢\n",
      "🤢🤢🤢🤢🤢🤢🤢🤢🤢🤢🤢🤢🤢🤢🤢🤢🤢🤢🤢🤢\n",
      "🤢🤢🤢🤢🤢🤢🤢🤢🤢🤢🤢🤢🤢🤢🤢🤢🤢🤢🤢🤢\n",
      "\n",
      "🤢🤢🤢🤢🤢🤢🤢🤢🤢🤢🤢🤢🤢🤢🤢🤢🤢🤢🤢🤢\n",
      "🤢🤢🤢🤢🤢🤢🤢🤢🤢🤢🤢🤢🤢🤢🤢🤢🤢🤢🤢🤢\n",
      "🤢🤢🤢🤢🤢🤢🤢🤢🤢🤢🤢🤢🤢🤢🤢🤢🤢🤢🤢🤢\n",
      "🤢🤢🤢🤢🤢🤢🤢🤢🤢🤢🤢🤢🤢🤢🤢🤢🤢🤢🤢🤢\n",
      "🤢🤢🤢🤢🤢🤢🤢🤢🤢🤢🤢🤢🤢🤢🤢🤢🤢🤢🤢🤢\n",
      "🤢🤢🤢🤢🤢🤢🤢🤢😎🤢🤢🤢🤢🤢🤢🤢🤢🤢🤢🤢\n",
      "🤢😎😎🤢🤢🤢🤢🤢😎🤢🤢🤢🤢🤢🤢🤢🤢🤢🤢🤢\n",
      "🤢🤢🤢🤢🤢🤢🤢🤢😎🤢🤢🤢🤢🤢🤢🤢🤢🤢🤢🤢\n",
      "🤢😎🤢🤢🤢🤢🤢🤢🤢🤢🤢🤢🤢🤢🤢🤢🤢🤢🤢🤢\n",
      "🤢🤢🤢😎😎🤢😎😎😎🤢🤢🤢🤢🤢🤢🤢🤢🤢🤢🤢\n",
      "🤢🤢🤢🤢😎🤢😎😎😎🤢🤢🤢🤢🤢🤢🤢🤢🤢🤢🤢\n",
      "🤢🤢😎😎😎🤢🤢😎😎🤢🤢🤢🤢🤢🤢🤢🤢🤢🤢🤢\n",
      "🤢🤢🤢🤢🤢🤢😎😎🤢🤢😎🤢🤢🤢🤢🤢🤢🤢🤢🤢\n",
      "🤢🤢🤢🤢🤢🤢😎😎🤢😎😎🤢🤢🤢🤢🤢🤢🤢🤢🤢\n",
      "🤢🤢🤢🤢🤢🤢🤢🤢😎😎🤢🤢🤢🤢🤢🤢🤢🤢🤢🤢\n",
      "🤢🤢🤢🤢🤢🤢🤢🤢🤢🤢🤢🤢🤢🤢🤢🤢🤢🤢🤢🤢\n",
      "🤢🤢🤢🤢🤢🤢🤢🤢🤢🤢🤢🤢🤢🤢🤢🤢🤢🤢🤢🤢\n",
      "🤢🤢🤢🤢🤢🤢🤢🤢🤢🤢🤢🤢🤢🤢🤢🤢🤢🤢🤢🤢\n",
      "🤢🤢🤢🤢🤢🤢🤢🤢🤢🤢🤢🤢🤢🤢🤢🤢🤢🤢🤢🤢\n",
      "🤢🤢🤢🤢🤢🤢🤢🤢🤢🤢🤢🤢🤢🤢🤢🤢🤢🤢🤢🤢\n",
      "\n",
      "🤢🤢🤢🤢🤢🤢🤢🤢🤢🤢🤢🤢🤢🤢🤢🤢🤢🤢🤢🤢\n",
      "🤢🤢🤢🤢🤢🤢🤢🤢🤢🤢🤢🤢🤢🤢🤢🤢🤢🤢🤢🤢\n",
      "🤢🤢🤢🤢🤢🤢🤢🤢🤢🤢🤢🤢🤢🤢🤢🤢🤢🤢🤢🤢\n",
      "🤢🤢🤢🤢🤢🤢🤢🤢🤢🤢🤢🤢🤢🤢🤢🤢🤢🤢🤢🤢\n",
      "🤢🤢🤢🤢🤢🤢🤢🤢🤢🤢🤢🤢🤢🤢🤢🤢🤢🤢🤢🤢\n",
      "🤢🤢🤢🤢🤢🤢🤢🤢🤢🤢🤢🤢🤢🤢🤢🤢🤢🤢🤢🤢\n",
      "🤢🤢🤢🤢🤢🤢🤢😎😎😎🤢🤢🤢🤢🤢🤢🤢🤢🤢🤢\n",
      "🤢😎😎🤢🤢🤢🤢🤢🤢🤢🤢🤢🤢🤢🤢🤢🤢🤢🤢🤢\n",
      "🤢🤢🤢🤢🤢🤢🤢🤢😎🤢🤢🤢🤢🤢🤢🤢🤢🤢🤢🤢\n",
      "🤢🤢🤢😎😎🤢😎🤢😎🤢🤢🤢🤢🤢🤢🤢🤢🤢🤢🤢\n",
      "🤢🤢😎🤢🤢🤢🤢🤢🤢😎🤢🤢🤢🤢🤢🤢🤢🤢🤢🤢\n",
      "🤢🤢🤢😎😎🤢🤢🤢🤢😎🤢🤢🤢🤢🤢🤢🤢🤢🤢🤢\n",
      "🤢🤢🤢😎🤢😎🤢🤢🤢🤢😎🤢🤢🤢🤢🤢🤢🤢🤢🤢\n",
      "🤢🤢🤢🤢🤢🤢😎🤢🤢🤢😎🤢🤢🤢🤢🤢🤢🤢🤢🤢\n",
      "🤢🤢🤢🤢🤢🤢🤢😎😎😎😎🤢🤢🤢🤢🤢🤢🤢🤢🤢\n",
      "🤢🤢🤢🤢🤢🤢🤢🤢🤢🤢🤢🤢🤢🤢🤢🤢🤢🤢🤢🤢\n",
      "🤢🤢🤢🤢🤢🤢🤢🤢🤢🤢🤢🤢🤢🤢🤢🤢🤢🤢🤢🤢\n",
      "🤢🤢🤢🤢🤢🤢🤢🤢🤢🤢🤢🤢🤢🤢🤢🤢🤢🤢🤢🤢\n",
      "🤢🤢🤢🤢🤢🤢🤢🤢🤢🤢🤢🤢🤢🤢🤢🤢🤢🤢🤢🤢\n",
      "🤢🤢🤢🤢🤢🤢🤢🤢🤢🤢🤢🤢🤢🤢🤢🤢🤢🤢🤢🤢\n",
      "\n",
      "🤢🤢🤢🤢🤢🤢🤢🤢🤢🤢🤢🤢🤢🤢🤢🤢🤢🤢🤢🤢\n",
      "🤢🤢🤢🤢🤢🤢🤢🤢🤢🤢🤢🤢🤢🤢🤢🤢🤢🤢🤢🤢\n",
      "🤢🤢🤢🤢🤢🤢🤢🤢🤢🤢🤢🤢🤢🤢🤢🤢🤢🤢🤢🤢\n",
      "🤢🤢🤢🤢🤢🤢🤢🤢🤢🤢🤢🤢🤢🤢🤢🤢🤢🤢🤢🤢\n",
      "🤢🤢🤢🤢🤢🤢🤢🤢🤢🤢🤢🤢🤢🤢🤢🤢🤢🤢🤢🤢\n",
      "🤢🤢🤢🤢🤢🤢🤢🤢😎🤢🤢🤢🤢🤢🤢🤢🤢🤢🤢🤢\n",
      "🤢🤢🤢🤢🤢🤢🤢🤢😎🤢🤢🤢🤢🤢🤢🤢🤢🤢🤢🤢\n",
      "🤢🤢🤢🤢🤢🤢🤢😎🤢😎🤢🤢🤢🤢🤢🤢🤢🤢🤢🤢\n",
      "🤢🤢😎😎🤢🤢🤢😎🤢🤢🤢🤢🤢🤢🤢🤢🤢🤢🤢🤢\n",
      "🤢🤢🤢😎🤢🤢🤢😎😎😎🤢🤢🤢🤢🤢🤢🤢🤢🤢🤢\n",
      "🤢🤢😎🤢🤢😎🤢🤢😎😎🤢🤢🤢🤢🤢🤢🤢🤢🤢🤢\n",
      "🤢🤢😎😎😎🤢🤢🤢🤢😎😎🤢🤢🤢🤢🤢🤢🤢🤢🤢\n",
      "🤢🤢🤢😎🤢😎🤢🤢🤢😎😎🤢🤢🤢🤢🤢🤢🤢🤢🤢\n",
      "🤢🤢🤢🤢🤢🤢😎😎😎🤢😎😎🤢🤢🤢🤢🤢🤢🤢🤢\n",
      "🤢🤢🤢🤢🤢🤢🤢😎😎😎😎🤢🤢🤢🤢🤢🤢🤢🤢🤢\n",
      "🤢🤢🤢🤢🤢🤢🤢🤢😎😎🤢🤢🤢🤢🤢🤢🤢🤢🤢🤢\n",
      "🤢🤢🤢🤢🤢🤢🤢🤢🤢🤢🤢🤢🤢🤢🤢🤢🤢🤢🤢🤢\n",
      "🤢🤢🤢🤢🤢🤢🤢🤢🤢🤢🤢🤢🤢🤢🤢🤢🤢🤢🤢🤢\n",
      "🤢🤢🤢🤢🤢🤢🤢🤢🤢🤢🤢🤢🤢🤢🤢🤢🤢🤢🤢🤢\n",
      "🤢🤢🤢🤢🤢🤢🤢🤢🤢🤢🤢🤢🤢🤢🤢🤢🤢🤢🤢🤢\n",
      "\n",
      "🤢🤢🤢🤢🤢🤢🤢🤢🤢🤢🤢🤢🤢🤢🤢🤢🤢🤢🤢🤢\n",
      "🤢🤢🤢🤢🤢🤢🤢🤢🤢🤢🤢🤢🤢🤢🤢🤢🤢🤢🤢🤢\n",
      "🤢🤢🤢🤢🤢🤢🤢🤢🤢🤢🤢🤢🤢🤢🤢🤢🤢🤢🤢🤢\n",
      "🤢🤢🤢🤢🤢🤢🤢🤢🤢🤢🤢🤢🤢🤢🤢🤢🤢🤢🤢🤢\n",
      "🤢🤢🤢🤢🤢🤢🤢🤢🤢🤢🤢🤢🤢🤢🤢🤢🤢🤢🤢🤢\n",
      "🤢🤢🤢🤢🤢🤢🤢🤢🤢🤢🤢🤢🤢🤢🤢🤢🤢🤢🤢🤢\n",
      "🤢🤢🤢🤢🤢🤢🤢😎😎😎🤢🤢🤢🤢🤢🤢🤢🤢🤢🤢\n",
      "🤢🤢🤢🤢🤢🤢🤢😎🤢🤢🤢🤢🤢🤢🤢🤢🤢🤢🤢🤢\n",
      "🤢🤢😎😎🤢🤢😎😎🤢😎🤢🤢🤢🤢🤢🤢🤢🤢🤢🤢\n",
      "🤢🤢🤢😎😎🤢😎😎🤢😎🤢🤢🤢🤢🤢🤢🤢🤢🤢🤢\n",
      "🤢🤢😎🤢🤢🤢🤢😎🤢🤢🤢🤢🤢🤢🤢🤢🤢🤢🤢🤢\n",
      "🤢🤢😎🤢🤢😎🤢🤢🤢🤢🤢🤢🤢🤢🤢🤢🤢🤢🤢🤢\n",
      "🤢🤢😎😎🤢😎😎😎🤢🤢🤢🤢🤢🤢🤢🤢🤢🤢🤢🤢\n",
      "🤢🤢🤢🤢🤢🤢😎🤢🤢🤢🤢😎🤢🤢🤢🤢🤢🤢🤢🤢\n",
      "🤢🤢🤢🤢🤢🤢😎🤢🤢🤢🤢😎🤢🤢🤢🤢🤢🤢🤢🤢\n",
      "🤢🤢🤢🤢🤢🤢🤢😎🤢🤢😎🤢🤢🤢🤢🤢🤢🤢🤢🤢\n",
      "🤢🤢🤢🤢🤢🤢🤢🤢🤢🤢🤢🤢🤢🤢🤢🤢🤢🤢🤢🤢\n",
      "🤢🤢🤢🤢🤢🤢🤢🤢🤢🤢🤢🤢🤢🤢🤢🤢🤢🤢🤢🤢\n",
      "🤢🤢🤢🤢🤢🤢🤢🤢🤢🤢🤢🤢🤢🤢🤢🤢🤢🤢🤢🤢\n",
      "🤢🤢🤢🤢🤢🤢🤢🤢🤢🤢🤢🤢🤢🤢🤢🤢🤢🤢🤢🤢\n",
      "\n",
      "🤢🤢🤢🤢🤢🤢🤢🤢🤢🤢🤢🤢🤢🤢🤢🤢🤢🤢🤢🤢\n",
      "🤢🤢🤢🤢🤢🤢🤢🤢🤢🤢🤢🤢🤢🤢🤢🤢🤢🤢🤢🤢\n",
      "🤢🤢🤢🤢🤢🤢🤢🤢🤢🤢🤢🤢🤢🤢🤢🤢🤢🤢🤢🤢\n",
      "🤢🤢🤢🤢🤢🤢🤢🤢🤢🤢🤢🤢🤢🤢🤢🤢🤢🤢🤢🤢\n",
      "🤢🤢🤢🤢🤢🤢🤢🤢🤢🤢🤢🤢🤢🤢🤢🤢🤢🤢🤢🤢\n",
      "🤢🤢🤢🤢🤢🤢🤢🤢😎🤢🤢🤢🤢🤢🤢🤢🤢🤢🤢🤢\n",
      "🤢🤢🤢🤢🤢🤢🤢😎😎🤢🤢🤢🤢🤢🤢🤢🤢🤢🤢🤢\n",
      "🤢🤢🤢🤢🤢🤢🤢🤢🤢😎🤢🤢🤢🤢🤢🤢🤢🤢🤢🤢\n",
      "🤢🤢😎😎😎😎🤢🤢🤢🤢🤢🤢🤢🤢🤢🤢🤢🤢🤢🤢\n",
      "🤢🤢🤢🤢😎😎🤢🤢🤢🤢🤢🤢🤢🤢🤢🤢🤢🤢🤢🤢\n",
      "🤢🤢😎🤢😎😎🤢😎😎🤢🤢🤢🤢🤢🤢🤢🤢🤢🤢🤢\n",
      "🤢😎😎🤢😎😎🤢😎🤢🤢🤢🤢🤢🤢🤢🤢🤢🤢🤢🤢\n",
      "🤢🤢😎😎😎😎🤢😎🤢🤢🤢🤢🤢🤢🤢🤢🤢🤢🤢🤢\n",
      "🤢🤢🤢🤢🤢🤢🤢🤢🤢🤢🤢🤢🤢🤢🤢🤢🤢🤢🤢🤢\n",
      "🤢🤢🤢🤢🤢🤢😎😎🤢🤢😎😎🤢🤢🤢🤢🤢🤢🤢🤢\n",
      "🤢🤢🤢🤢🤢🤢🤢🤢🤢🤢🤢🤢🤢🤢🤢🤢🤢🤢🤢🤢\n",
      "🤢🤢🤢🤢🤢🤢🤢🤢🤢🤢🤢🤢🤢🤢🤢🤢🤢🤢🤢🤢\n",
      "🤢🤢🤢🤢🤢🤢🤢🤢🤢🤢🤢🤢🤢🤢🤢🤢🤢🤢🤢🤢\n",
      "🤢🤢🤢🤢🤢🤢🤢🤢🤢🤢🤢🤢🤢🤢🤢🤢🤢🤢🤢🤢\n",
      "🤢🤢🤢🤢🤢🤢🤢🤢🤢🤢🤢🤢🤢🤢🤢🤢🤢🤢🤢🤢\n",
      "\n",
      "🤢🤢🤢🤢🤢🤢🤢🤢🤢🤢🤢🤢🤢🤢🤢🤢🤢🤢🤢🤢\n",
      "🤢🤢🤢🤢🤢🤢🤢🤢🤢🤢🤢🤢🤢🤢🤢🤢🤢🤢🤢🤢\n",
      "🤢🤢🤢🤢🤢🤢🤢🤢🤢🤢🤢🤢🤢🤢🤢🤢🤢🤢🤢🤢\n",
      "🤢🤢🤢🤢🤢🤢🤢🤢🤢🤢🤢🤢🤢🤢🤢🤢🤢🤢🤢🤢\n",
      "🤢🤢🤢🤢🤢🤢🤢🤢🤢🤢🤢🤢🤢🤢🤢🤢🤢🤢🤢🤢\n",
      "🤢🤢🤢🤢🤢🤢🤢😎😎🤢🤢🤢🤢🤢🤢🤢🤢🤢🤢🤢\n",
      "🤢🤢🤢🤢🤢🤢🤢😎😎😎🤢🤢🤢🤢🤢🤢🤢🤢🤢🤢\n",
      "🤢🤢🤢😎😎🤢🤢🤢😎🤢🤢🤢🤢🤢🤢🤢🤢🤢🤢🤢\n",
      "🤢🤢🤢😎🤢😎🤢🤢🤢🤢🤢🤢🤢🤢🤢🤢🤢🤢🤢🤢\n",
      "🤢🤢😎🤢🤢🤢🤢🤢🤢🤢🤢🤢🤢🤢🤢🤢🤢🤢🤢🤢\n",
      "🤢😎😎🤢🤢🤢🤢😎😎🤢🤢🤢🤢🤢🤢🤢🤢🤢🤢🤢\n",
      "🤢😎🤢🤢🤢🤢🤢😎🤢🤢🤢🤢🤢🤢🤢🤢🤢🤢🤢🤢\n",
      "🤢😎😎🤢🤢😎🤢🤢🤢🤢🤢🤢🤢🤢🤢🤢🤢🤢🤢🤢\n",
      "🤢🤢🤢😎😎😎🤢😎🤢🤢🤢🤢🤢🤢🤢🤢🤢🤢🤢🤢\n",
      "🤢🤢🤢🤢🤢🤢🤢🤢🤢🤢🤢🤢🤢🤢🤢🤢🤢🤢🤢🤢\n",
      "🤢🤢🤢🤢🤢🤢🤢🤢🤢🤢🤢🤢🤢🤢🤢🤢🤢🤢🤢🤢\n",
      "🤢🤢🤢🤢🤢🤢🤢🤢🤢🤢🤢🤢🤢🤢🤢🤢🤢🤢🤢🤢\n",
      "🤢🤢🤢🤢🤢🤢🤢🤢🤢🤢🤢🤢🤢🤢🤢🤢🤢🤢🤢🤢\n",
      "🤢🤢🤢🤢🤢🤢🤢🤢🤢🤢🤢🤢🤢🤢🤢🤢🤢🤢🤢🤢\n",
      "🤢🤢🤢🤢🤢🤢🤢🤢🤢🤢🤢🤢🤢🤢🤢🤢🤢🤢🤢🤢\n",
      "\n",
      "🤢🤢🤢🤢🤢🤢🤢🤢🤢🤢🤢🤢🤢🤢🤢🤢🤢🤢🤢🤢\n",
      "🤢🤢🤢🤢🤢🤢🤢🤢🤢🤢🤢🤢🤢🤢🤢🤢🤢🤢🤢🤢\n",
      "🤢🤢🤢🤢🤢🤢🤢🤢🤢🤢🤢🤢🤢🤢🤢🤢🤢🤢🤢🤢\n",
      "🤢🤢🤢🤢🤢🤢🤢🤢🤢🤢🤢🤢🤢🤢🤢🤢🤢🤢🤢🤢\n",
      "🤢🤢🤢🤢🤢🤢🤢🤢🤢🤢🤢🤢🤢🤢🤢🤢🤢🤢🤢🤢\n",
      "🤢🤢🤢🤢🤢🤢🤢😎🤢😎🤢🤢🤢🤢🤢🤢🤢🤢🤢🤢\n",
      "🤢🤢🤢🤢🤢🤢🤢🤢🤢😎🤢🤢🤢🤢🤢🤢🤢🤢🤢🤢\n",
      "🤢🤢🤢😎😎🤢🤢😎😎😎🤢🤢🤢🤢🤢🤢🤢🤢🤢🤢\n",
      "🤢🤢😎😎🤢🤢🤢🤢🤢🤢🤢🤢🤢🤢🤢🤢🤢🤢🤢🤢\n",
      "🤢😎😎😎🤢🤢🤢🤢🤢🤢🤢🤢🤢🤢🤢🤢🤢🤢🤢🤢\n",
      "🤢😎😎🤢🤢🤢🤢😎😎🤢🤢🤢🤢🤢🤢🤢🤢🤢🤢🤢\n",
      "🤢🤢🤢🤢🤢🤢😎😎😎🤢🤢🤢🤢🤢🤢🤢🤢🤢🤢🤢\n",
      "🤢😎😎😎🤢😎🤢🤢🤢🤢🤢🤢🤢🤢🤢🤢🤢🤢🤢🤢\n",
      "🤢🤢😎😎😎😎😎🤢🤢🤢🤢🤢🤢🤢🤢🤢🤢🤢🤢🤢\n",
      "🤢🤢🤢🤢😎🤢🤢🤢🤢🤢🤢🤢🤢🤢🤢🤢🤢🤢🤢🤢\n",
      "🤢🤢🤢🤢🤢🤢🤢🤢🤢🤢🤢🤢🤢🤢🤢🤢🤢🤢🤢🤢\n",
      "🤢🤢🤢🤢🤢🤢🤢🤢🤢🤢🤢🤢🤢🤢🤢🤢🤢🤢🤢🤢\n",
      "🤢🤢🤢🤢🤢🤢🤢🤢🤢🤢🤢🤢🤢🤢🤢🤢🤢🤢🤢🤢\n",
      "🤢🤢🤢🤢🤢🤢🤢🤢🤢🤢🤢🤢🤢🤢🤢🤢🤢🤢🤢🤢\n",
      "🤢🤢🤢🤢🤢🤢🤢🤢🤢🤢🤢🤢🤢🤢🤢🤢🤢🤢🤢🤢\n",
      "\n",
      "🤢🤢🤢🤢🤢🤢🤢🤢🤢🤢🤢🤢🤢🤢🤢🤢🤢🤢🤢🤢\n",
      "🤢🤢🤢🤢🤢🤢🤢🤢🤢🤢🤢🤢🤢🤢🤢🤢🤢🤢🤢🤢\n",
      "🤢🤢🤢🤢🤢🤢🤢🤢🤢🤢🤢🤢🤢🤢🤢🤢🤢🤢🤢🤢\n",
      "🤢🤢🤢🤢🤢🤢🤢🤢🤢🤢🤢🤢🤢🤢🤢🤢🤢🤢🤢🤢\n",
      "🤢🤢🤢🤢🤢🤢🤢🤢🤢🤢🤢🤢🤢🤢🤢🤢🤢🤢🤢🤢\n",
      "🤢🤢🤢🤢🤢🤢🤢🤢😎🤢🤢🤢🤢🤢🤢🤢🤢🤢🤢🤢\n",
      "🤢🤢🤢🤢🤢🤢🤢😎🤢😎😎🤢🤢🤢🤢🤢🤢🤢🤢🤢\n",
      "🤢🤢😎😎😎🤢🤢🤢😎😎🤢🤢🤢🤢🤢🤢🤢🤢🤢🤢\n",
      "🤢😎🤢🤢🤢🤢🤢🤢😎🤢🤢🤢🤢🤢🤢🤢🤢🤢🤢🤢\n",
      "🤢🤢🤢🤢🤢🤢🤢🤢🤢🤢🤢🤢🤢🤢🤢🤢🤢🤢🤢🤢\n",
      "🤢😎🤢😎🤢🤢😎🤢😎🤢🤢🤢🤢🤢🤢🤢🤢🤢🤢🤢\n",
      "🤢🤢🤢😎🤢🤢😎🤢😎🤢🤢🤢🤢🤢🤢🤢🤢🤢🤢🤢\n",
      "🤢😎🤢🤢🤢🤢🤢🤢🤢🤢🤢🤢🤢🤢🤢🤢🤢🤢🤢🤢\n",
      "🤢😎🤢🤢🤢🤢😎🤢🤢🤢🤢🤢🤢🤢🤢🤢🤢🤢🤢🤢\n",
      "🤢🤢🤢🤢😎🤢🤢🤢🤢🤢🤢🤢🤢🤢🤢🤢🤢🤢🤢🤢\n",
      "🤢🤢🤢🤢🤢🤢🤢🤢🤢🤢🤢🤢🤢🤢🤢🤢🤢🤢🤢🤢\n",
      "🤢🤢🤢🤢🤢🤢🤢🤢🤢🤢🤢🤢🤢🤢🤢🤢🤢🤢🤢🤢\n",
      "🤢🤢🤢🤢🤢🤢🤢🤢🤢🤢🤢🤢🤢🤢🤢🤢🤢🤢🤢🤢\n",
      "🤢🤢🤢🤢🤢🤢🤢🤢🤢🤢🤢🤢🤢🤢🤢🤢🤢🤢🤢🤢\n",
      "🤢🤢🤢🤢🤢🤢🤢🤢🤢🤢🤢🤢🤢🤢🤢🤢🤢🤢🤢🤢\n",
      "\n",
      "🤢🤢🤢🤢🤢🤢🤢🤢🤢🤢🤢🤢🤢🤢🤢🤢🤢🤢🤢🤢\n",
      "🤢🤢🤢🤢🤢🤢🤢🤢🤢🤢🤢🤢🤢🤢🤢🤢🤢🤢🤢🤢\n",
      "🤢🤢🤢🤢🤢🤢🤢🤢🤢🤢🤢🤢🤢🤢🤢🤢🤢🤢🤢🤢\n",
      "🤢🤢🤢🤢🤢🤢🤢🤢🤢🤢🤢🤢🤢🤢🤢🤢🤢🤢🤢🤢\n",
      "🤢🤢🤢🤢🤢🤢🤢🤢🤢🤢🤢🤢🤢🤢🤢🤢🤢🤢🤢🤢\n",
      "🤢🤢🤢🤢🤢🤢🤢🤢😎😎🤢🤢🤢🤢🤢🤢🤢🤢🤢🤢\n",
      "🤢🤢🤢😎🤢🤢🤢😎🤢🤢😎🤢🤢🤢🤢🤢🤢🤢🤢🤢\n",
      "🤢🤢😎😎🤢🤢🤢😎🤢🤢😎🤢🤢🤢🤢🤢🤢🤢🤢🤢\n",
      "🤢🤢😎😎🤢🤢🤢🤢😎😎🤢🤢🤢🤢🤢🤢🤢🤢🤢🤢\n",
      "🤢🤢😎🤢🤢🤢🤢😎🤢🤢🤢🤢🤢🤢🤢🤢🤢🤢🤢🤢\n",
      "🤢🤢😎🤢🤢🤢🤢🤢🤢🤢🤢🤢🤢🤢🤢🤢🤢🤢🤢🤢\n",
      "🤢🤢🤢🤢🤢🤢🤢🤢🤢🤢🤢🤢🤢🤢🤢🤢🤢🤢🤢🤢\n",
      "🤢🤢😎🤢🤢🤢🤢😎🤢🤢🤢🤢🤢🤢🤢🤢🤢🤢🤢🤢\n",
      "🤢🤢🤢🤢🤢🤢🤢🤢🤢🤢🤢🤢🤢🤢🤢🤢🤢🤢🤢🤢\n",
      "🤢🤢🤢🤢🤢🤢🤢🤢🤢🤢🤢🤢🤢🤢🤢🤢🤢🤢🤢🤢\n",
      "🤢🤢🤢🤢🤢🤢🤢🤢🤢🤢🤢🤢🤢🤢🤢🤢🤢🤢🤢🤢\n",
      "🤢🤢🤢🤢🤢🤢🤢🤢🤢🤢🤢🤢🤢🤢🤢🤢🤢🤢🤢🤢\n",
      "🤢🤢🤢🤢🤢🤢🤢🤢🤢🤢🤢🤢🤢🤢🤢🤢🤢🤢🤢🤢\n",
      "🤢🤢🤢🤢🤢🤢🤢🤢🤢🤢🤢🤢🤢🤢🤢🤢🤢🤢🤢🤢\n",
      "🤢🤢🤢🤢🤢🤢🤢🤢🤢🤢🤢🤢🤢🤢🤢🤢🤢🤢🤢🤢\n",
      "\n",
      "🤢🤢🤢🤢🤢🤢🤢🤢🤢🤢🤢🤢🤢🤢🤢🤢🤢🤢🤢🤢\n",
      "🤢🤢🤢🤢🤢🤢🤢🤢🤢🤢🤢🤢🤢🤢🤢🤢🤢🤢🤢🤢\n",
      "🤢🤢🤢🤢🤢🤢🤢🤢🤢🤢🤢🤢🤢🤢🤢🤢🤢🤢🤢🤢\n",
      "🤢🤢🤢🤢🤢🤢🤢🤢🤢🤢🤢🤢🤢🤢🤢🤢🤢🤢🤢🤢\n",
      "🤢🤢🤢🤢🤢🤢🤢🤢🤢🤢🤢🤢🤢🤢🤢🤢🤢🤢🤢🤢\n",
      "🤢🤢🤢🤢🤢🤢🤢🤢😎😎🤢🤢🤢🤢🤢🤢🤢🤢🤢🤢\n",
      "🤢🤢😎😎🤢🤢🤢😎🤢🤢😎🤢🤢🤢🤢🤢🤢🤢🤢🤢\n",
      "🤢🤢🤢🤢😎🤢🤢😎🤢🤢😎🤢🤢🤢🤢🤢🤢🤢🤢🤢\n",
      "🤢😎🤢🤢🤢🤢🤢😎😎😎🤢🤢🤢🤢🤢🤢🤢🤢🤢🤢\n",
      "🤢😎😎🤢🤢🤢🤢🤢😎🤢🤢🤢🤢🤢🤢🤢🤢🤢🤢🤢\n",
      "🤢🤢🤢🤢🤢🤢🤢🤢🤢🤢🤢🤢🤢🤢🤢🤢🤢🤢🤢🤢\n",
      "🤢🤢🤢🤢🤢🤢🤢🤢🤢🤢🤢🤢🤢🤢🤢🤢🤢🤢🤢🤢\n",
      "🤢🤢🤢🤢🤢🤢🤢🤢🤢🤢🤢🤢🤢🤢🤢🤢🤢🤢🤢🤢\n",
      "🤢🤢🤢🤢🤢🤢🤢🤢🤢🤢🤢🤢🤢🤢🤢🤢🤢🤢🤢🤢\n",
      "🤢🤢🤢🤢🤢🤢🤢🤢🤢🤢🤢🤢🤢🤢🤢🤢🤢🤢🤢🤢\n",
      "🤢🤢🤢🤢🤢🤢🤢🤢🤢🤢🤢🤢🤢🤢🤢🤢🤢🤢🤢🤢\n",
      "🤢🤢🤢🤢🤢🤢🤢🤢🤢🤢🤢🤢🤢🤢🤢🤢🤢🤢🤢🤢\n",
      "🤢🤢🤢🤢🤢🤢🤢🤢🤢🤢🤢🤢🤢🤢🤢🤢🤢🤢🤢🤢\n",
      "🤢🤢🤢🤢🤢🤢🤢🤢🤢🤢🤢🤢🤢🤢🤢🤢🤢🤢🤢🤢\n",
      "🤢🤢🤢🤢🤢🤢🤢🤢🤢🤢🤢🤢🤢🤢🤢🤢🤢🤢🤢🤢\n",
      "\n",
      "🤢🤢🤢🤢🤢🤢🤢🤢🤢🤢🤢🤢🤢🤢🤢🤢🤢🤢🤢🤢\n",
      "🤢🤢🤢🤢🤢🤢🤢🤢🤢🤢🤢🤢🤢🤢🤢🤢🤢🤢🤢🤢\n",
      "🤢🤢🤢🤢🤢🤢🤢🤢🤢🤢🤢🤢🤢🤢🤢🤢🤢🤢🤢🤢\n",
      "🤢🤢🤢🤢🤢🤢🤢🤢🤢🤢🤢🤢🤢🤢🤢🤢🤢🤢🤢🤢\n",
      "🤢🤢🤢🤢🤢🤢🤢🤢🤢🤢🤢🤢🤢🤢🤢🤢🤢🤢🤢🤢\n",
      "🤢🤢🤢🤢🤢🤢🤢🤢😎😎🤢🤢🤢🤢🤢🤢🤢🤢🤢🤢\n",
      "🤢🤢🤢😎🤢🤢🤢😎🤢🤢😎🤢🤢🤢🤢🤢🤢🤢🤢🤢\n",
      "🤢🤢😎😎🤢🤢😎😎🤢🤢😎🤢🤢🤢🤢🤢🤢🤢🤢🤢\n",
      "🤢😎😎🤢🤢🤢🤢😎🤢😎🤢🤢🤢🤢🤢🤢🤢🤢🤢🤢\n",
      "🤢😎😎🤢🤢🤢🤢😎😎😎🤢🤢🤢🤢🤢🤢🤢🤢🤢🤢\n",
      "🤢🤢🤢🤢🤢🤢🤢🤢🤢🤢🤢🤢🤢🤢🤢🤢🤢🤢🤢🤢\n",
      "🤢🤢🤢🤢🤢🤢🤢🤢🤢🤢🤢🤢🤢🤢🤢🤢🤢🤢🤢🤢\n",
      "🤢🤢🤢🤢🤢🤢🤢🤢🤢🤢🤢🤢🤢🤢🤢🤢🤢🤢🤢🤢\n",
      "🤢🤢🤢🤢🤢🤢🤢🤢🤢🤢🤢🤢🤢🤢🤢🤢🤢🤢🤢🤢\n",
      "🤢🤢🤢🤢🤢🤢🤢🤢🤢🤢🤢🤢🤢🤢🤢🤢🤢🤢🤢🤢\n",
      "🤢🤢🤢🤢🤢🤢🤢🤢🤢🤢🤢🤢🤢🤢🤢🤢🤢🤢🤢🤢\n",
      "🤢🤢🤢🤢🤢🤢🤢🤢🤢🤢🤢🤢🤢🤢🤢🤢🤢🤢🤢🤢\n",
      "🤢🤢🤢🤢🤢🤢🤢🤢🤢🤢🤢🤢🤢🤢🤢🤢🤢🤢🤢🤢\n",
      "🤢🤢🤢🤢🤢🤢🤢🤢🤢🤢🤢🤢🤢🤢🤢🤢🤢🤢🤢🤢\n",
      "🤢🤢🤢🤢🤢🤢🤢🤢🤢🤢🤢🤢🤢🤢🤢🤢🤢🤢🤢🤢\n",
      "\n",
      "🤢🤢🤢🤢🤢🤢🤢🤢🤢🤢🤢🤢🤢🤢🤢🤢🤢🤢🤢🤢\n",
      "🤢🤢🤢🤢🤢🤢🤢🤢🤢🤢🤢🤢🤢🤢🤢🤢🤢🤢🤢🤢\n",
      "🤢🤢🤢🤢🤢🤢🤢🤢🤢🤢🤢🤢🤢🤢🤢🤢🤢🤢🤢🤢\n",
      "🤢🤢🤢🤢🤢🤢🤢🤢🤢🤢🤢🤢🤢🤢🤢🤢🤢🤢🤢🤢\n",
      "🤢🤢🤢🤢🤢🤢🤢🤢🤢🤢🤢🤢🤢🤢🤢🤢🤢🤢🤢🤢\n",
      "🤢🤢🤢🤢🤢🤢🤢🤢😎😎🤢🤢🤢🤢🤢🤢🤢🤢🤢🤢\n",
      "🤢🤢😎😎🤢🤢😎😎🤢🤢😎🤢🤢🤢🤢🤢🤢🤢🤢🤢\n",
      "🤢😎🤢😎🤢🤢😎😎🤢😎😎🤢🤢🤢🤢🤢🤢🤢🤢🤢\n",
      "🤢🤢🤢🤢🤢🤢🤢🤢🤢😎😎🤢🤢🤢🤢🤢🤢🤢🤢🤢\n",
      "🤢😎😎🤢🤢🤢🤢😎🤢😎🤢🤢🤢🤢🤢🤢🤢🤢🤢🤢\n",
      "🤢🤢🤢🤢🤢🤢🤢🤢😎🤢🤢🤢🤢🤢🤢🤢🤢🤢🤢🤢\n",
      "🤢🤢🤢🤢🤢🤢🤢🤢🤢🤢🤢🤢🤢🤢🤢🤢🤢🤢🤢🤢\n",
      "🤢🤢🤢🤢🤢🤢🤢🤢🤢🤢🤢🤢🤢🤢🤢🤢🤢🤢🤢🤢\n",
      "🤢🤢🤢🤢🤢🤢🤢🤢🤢🤢🤢🤢🤢🤢🤢🤢🤢🤢🤢🤢\n",
      "🤢🤢🤢🤢🤢🤢🤢🤢🤢🤢🤢🤢🤢🤢🤢🤢🤢🤢🤢🤢\n",
      "🤢🤢🤢🤢🤢🤢🤢🤢🤢🤢🤢🤢🤢🤢🤢🤢🤢🤢🤢🤢\n",
      "🤢🤢🤢🤢🤢🤢🤢🤢🤢🤢🤢🤢🤢🤢🤢🤢🤢🤢🤢🤢\n",
      "🤢🤢🤢🤢🤢🤢🤢🤢🤢🤢🤢🤢🤢🤢🤢🤢🤢🤢🤢🤢\n",
      "🤢🤢🤢🤢🤢🤢🤢🤢🤢🤢🤢🤢🤢🤢🤢🤢🤢🤢🤢🤢\n",
      "🤢🤢🤢🤢🤢🤢🤢🤢🤢🤢🤢🤢🤢🤢🤢🤢🤢🤢🤢🤢\n",
      "\n",
      "🤢🤢🤢🤢🤢🤢🤢🤢🤢🤢🤢🤢🤢🤢🤢🤢🤢🤢🤢🤢\n",
      "🤢🤢🤢🤢🤢🤢🤢🤢🤢🤢🤢🤢🤢🤢🤢🤢🤢🤢🤢🤢\n",
      "🤢🤢🤢🤢🤢🤢🤢🤢🤢🤢🤢🤢🤢🤢🤢🤢🤢🤢🤢🤢\n",
      "🤢🤢🤢🤢🤢🤢🤢🤢🤢🤢🤢🤢🤢🤢🤢🤢🤢🤢🤢🤢\n",
      "🤢🤢🤢🤢🤢🤢🤢🤢🤢🤢🤢🤢🤢🤢🤢🤢🤢🤢🤢🤢\n",
      "🤢🤢🤢🤢🤢🤢🤢😎😎😎🤢🤢🤢🤢🤢🤢🤢🤢🤢🤢\n",
      "🤢🤢😎😎🤢🤢😎🤢🤢🤢😎🤢🤢🤢🤢🤢🤢🤢🤢🤢\n",
      "🤢🤢🤢😎🤢🤢😎😎🤢🤢🤢😎🤢🤢🤢🤢🤢🤢🤢🤢\n",
      "🤢😎🤢🤢🤢🤢😎😎🤢🤢🤢🤢🤢🤢🤢🤢🤢🤢🤢🤢\n",
      "🤢🤢🤢🤢🤢🤢🤢🤢🤢😎😎🤢🤢🤢🤢🤢🤢🤢🤢🤢\n",
      "🤢🤢🤢🤢🤢🤢🤢🤢😎🤢🤢🤢🤢🤢🤢🤢🤢🤢🤢🤢\n",
      "🤢🤢🤢🤢🤢🤢🤢🤢🤢🤢🤢🤢🤢🤢🤢🤢🤢🤢🤢🤢\n",
      "🤢🤢🤢🤢🤢🤢🤢🤢🤢🤢🤢🤢🤢🤢🤢🤢🤢🤢🤢🤢\n",
      "🤢🤢🤢🤢🤢🤢🤢🤢🤢🤢🤢🤢🤢🤢🤢🤢🤢🤢🤢🤢\n",
      "🤢🤢🤢🤢🤢🤢🤢🤢🤢🤢🤢🤢🤢🤢🤢🤢🤢🤢🤢🤢\n",
      "🤢🤢🤢🤢🤢🤢🤢🤢🤢🤢🤢🤢🤢🤢🤢🤢🤢🤢🤢🤢\n",
      "🤢🤢🤢🤢🤢🤢🤢🤢🤢🤢🤢🤢🤢🤢🤢🤢🤢🤢🤢🤢\n",
      "🤢🤢🤢🤢🤢🤢🤢🤢🤢🤢🤢🤢🤢🤢🤢🤢🤢🤢🤢🤢\n",
      "🤢🤢🤢🤢🤢🤢🤢🤢🤢🤢🤢🤢🤢🤢🤢🤢🤢🤢🤢🤢\n",
      "🤢🤢🤢🤢🤢🤢🤢🤢🤢🤢🤢🤢🤢🤢🤢🤢🤢🤢🤢🤢\n",
      "\n",
      "🤢🤢🤢🤢🤢🤢🤢🤢🤢🤢🤢🤢🤢🤢🤢🤢🤢🤢🤢🤢\n",
      "🤢🤢🤢🤢🤢🤢🤢🤢🤢🤢🤢🤢🤢🤢🤢🤢🤢🤢🤢🤢\n",
      "🤢🤢🤢🤢🤢🤢🤢🤢🤢🤢🤢🤢🤢🤢🤢🤢🤢🤢🤢🤢\n",
      "🤢🤢🤢🤢🤢🤢🤢🤢🤢🤢🤢🤢🤢🤢🤢🤢🤢🤢🤢🤢\n",
      "🤢🤢🤢🤢🤢🤢🤢🤢😎🤢🤢🤢🤢🤢🤢🤢🤢🤢🤢🤢\n",
      "🤢🤢🤢🤢🤢🤢🤢😎😎😎🤢🤢🤢🤢🤢🤢🤢🤢🤢🤢\n",
      "🤢🤢😎😎🤢🤢😎🤢🤢😎😎🤢🤢🤢🤢🤢🤢🤢🤢🤢\n",
      "🤢🤢🤢😎🤢😎🤢🤢🤢🤢🤢🤢🤢🤢🤢🤢🤢🤢🤢🤢\n",
      "🤢🤢🤢🤢🤢🤢😎😎😎🤢😎🤢🤢🤢🤢🤢🤢🤢🤢🤢\n",
      "🤢🤢🤢🤢🤢🤢🤢😎😎😎🤢🤢🤢🤢🤢🤢🤢🤢🤢🤢\n",
      "🤢🤢🤢🤢🤢🤢🤢🤢🤢😎🤢🤢🤢🤢🤢🤢🤢🤢🤢🤢\n",
      "🤢🤢🤢🤢🤢🤢🤢🤢🤢🤢🤢🤢🤢🤢🤢🤢🤢🤢🤢🤢\n",
      "🤢🤢🤢🤢🤢🤢🤢🤢🤢🤢🤢🤢🤢🤢🤢🤢🤢🤢🤢🤢\n",
      "🤢🤢🤢🤢🤢🤢🤢🤢🤢🤢🤢🤢🤢🤢🤢🤢🤢🤢🤢🤢\n",
      "🤢🤢🤢🤢🤢🤢🤢🤢🤢🤢🤢🤢🤢🤢🤢🤢🤢🤢🤢🤢\n",
      "🤢🤢🤢🤢🤢🤢🤢🤢🤢🤢🤢🤢🤢🤢🤢🤢🤢🤢🤢🤢\n",
      "🤢🤢🤢🤢🤢🤢🤢🤢🤢🤢🤢🤢🤢🤢🤢🤢🤢🤢🤢🤢\n",
      "🤢🤢🤢🤢🤢🤢🤢🤢🤢🤢🤢🤢🤢🤢🤢🤢🤢🤢🤢🤢\n",
      "🤢🤢🤢🤢🤢🤢🤢🤢🤢🤢🤢🤢🤢🤢🤢🤢🤢🤢🤢🤢\n",
      "🤢🤢🤢🤢🤢🤢🤢🤢🤢🤢🤢🤢🤢🤢🤢🤢🤢🤢🤢🤢\n",
      "\n",
      "🤢🤢🤢🤢🤢🤢🤢🤢🤢🤢🤢🤢🤢🤢🤢🤢🤢🤢🤢🤢\n",
      "🤢🤢🤢🤢🤢🤢🤢🤢🤢🤢🤢🤢🤢🤢🤢🤢🤢🤢🤢🤢\n",
      "🤢🤢🤢🤢🤢🤢🤢🤢🤢🤢🤢🤢🤢🤢🤢🤢🤢🤢🤢🤢\n",
      "🤢🤢🤢🤢🤢🤢🤢🤢🤢🤢🤢🤢🤢🤢🤢🤢🤢🤢🤢🤢\n",
      "🤢🤢🤢🤢🤢🤢🤢😎😎😎🤢🤢🤢🤢🤢🤢🤢🤢🤢🤢\n",
      "🤢🤢🤢🤢🤢🤢🤢😎🤢🤢😎🤢🤢🤢🤢🤢🤢🤢🤢🤢\n",
      "🤢🤢😎😎😎🤢😎😎🤢😎😎🤢🤢🤢🤢🤢🤢🤢🤢🤢\n",
      "🤢🤢😎😎😎😎🤢🤢😎🤢😎🤢🤢🤢🤢🤢🤢🤢🤢🤢\n",
      "🤢🤢🤢🤢🤢🤢😎🤢🤢🤢🤢🤢🤢🤢🤢🤢🤢🤢🤢🤢\n",
      "🤢🤢🤢🤢🤢🤢😎🤢🤢🤢😎🤢🤢🤢🤢🤢🤢🤢🤢🤢\n",
      "🤢🤢🤢🤢🤢🤢🤢🤢🤢😎🤢🤢🤢🤢🤢🤢🤢🤢🤢🤢\n",
      "🤢🤢🤢🤢🤢🤢🤢🤢🤢🤢🤢🤢🤢🤢🤢🤢🤢🤢🤢🤢\n",
      "🤢🤢🤢🤢🤢🤢🤢🤢🤢🤢🤢🤢🤢🤢🤢🤢🤢🤢🤢🤢\n",
      "🤢🤢🤢🤢🤢🤢🤢🤢🤢🤢🤢🤢🤢🤢🤢🤢🤢🤢🤢🤢\n",
      "🤢🤢🤢🤢🤢🤢🤢🤢🤢🤢🤢🤢🤢🤢🤢🤢🤢🤢🤢🤢\n",
      "🤢🤢🤢🤢🤢🤢🤢🤢🤢🤢🤢🤢🤢🤢🤢🤢🤢🤢🤢🤢\n",
      "🤢🤢🤢🤢🤢🤢🤢🤢🤢🤢🤢🤢🤢🤢🤢🤢🤢🤢🤢🤢\n",
      "🤢🤢🤢🤢🤢🤢🤢🤢🤢🤢🤢🤢🤢🤢🤢🤢🤢🤢🤢🤢\n",
      "🤢🤢🤢🤢🤢🤢🤢🤢🤢🤢🤢🤢🤢🤢🤢🤢🤢🤢🤢🤢\n",
      "🤢🤢🤢🤢🤢🤢🤢🤢🤢🤢🤢🤢🤢🤢🤢🤢🤢🤢🤢🤢\n",
      "\n",
      "🤢🤢🤢🤢🤢🤢🤢🤢🤢🤢🤢🤢🤢🤢🤢🤢🤢🤢🤢🤢\n",
      "🤢🤢🤢🤢🤢🤢🤢🤢🤢🤢🤢🤢🤢🤢🤢🤢🤢🤢🤢🤢\n",
      "🤢🤢🤢🤢🤢🤢🤢🤢🤢🤢🤢🤢🤢🤢🤢🤢🤢🤢🤢🤢\n",
      "🤢🤢🤢🤢🤢🤢🤢🤢😎🤢🤢🤢🤢🤢🤢🤢🤢🤢🤢🤢\n",
      "🤢🤢🤢🤢🤢🤢🤢😎😎😎🤢🤢🤢🤢🤢🤢🤢🤢🤢🤢\n",
      "🤢🤢🤢😎🤢🤢🤢🤢🤢🤢😎🤢🤢🤢🤢🤢🤢🤢🤢🤢\n",
      "🤢🤢😎🤢🤢🤢😎😎🤢🤢😎😎🤢🤢🤢🤢🤢🤢🤢🤢\n",
      "🤢🤢😎🤢🤢🤢🤢🤢😎🤢😎🤢🤢🤢🤢🤢🤢🤢🤢🤢\n",
      "🤢🤢🤢😎😎🤢😎😎🤢😎🤢🤢🤢🤢🤢🤢🤢🤢🤢🤢\n",
      "🤢🤢🤢🤢🤢🤢🤢🤢🤢🤢🤢🤢🤢🤢🤢🤢🤢🤢🤢🤢\n",
      "🤢🤢🤢🤢🤢🤢🤢🤢🤢🤢🤢🤢🤢🤢🤢🤢🤢🤢🤢🤢\n",
      "🤢🤢🤢🤢🤢🤢🤢🤢🤢🤢🤢🤢🤢🤢🤢🤢🤢🤢🤢🤢\n",
      "🤢🤢🤢🤢🤢🤢🤢🤢🤢🤢🤢🤢🤢🤢🤢🤢🤢🤢🤢🤢\n",
      "🤢🤢🤢🤢🤢🤢🤢🤢🤢🤢🤢🤢🤢🤢🤢🤢🤢🤢🤢🤢\n",
      "🤢🤢🤢🤢🤢🤢🤢🤢🤢🤢🤢🤢🤢🤢🤢🤢🤢🤢🤢🤢\n",
      "🤢🤢🤢🤢🤢🤢🤢🤢🤢🤢🤢🤢🤢🤢🤢🤢🤢🤢🤢🤢\n",
      "🤢🤢🤢🤢🤢🤢🤢🤢🤢🤢🤢🤢🤢🤢🤢🤢🤢🤢🤢🤢\n",
      "🤢🤢🤢🤢🤢🤢🤢🤢🤢🤢🤢🤢🤢🤢🤢🤢🤢🤢🤢🤢\n",
      "🤢🤢🤢🤢🤢🤢🤢🤢🤢🤢🤢🤢🤢🤢🤢🤢🤢🤢🤢🤢\n",
      "🤢🤢🤢🤢🤢🤢🤢🤢🤢🤢🤢🤢🤢🤢🤢🤢🤢🤢🤢🤢\n",
      "\n",
      "🤢🤢🤢🤢🤢🤢🤢🤢🤢🤢🤢🤢🤢🤢🤢🤢🤢🤢🤢🤢\n",
      "🤢🤢🤢🤢🤢🤢🤢🤢🤢🤢🤢🤢🤢🤢🤢🤢🤢🤢🤢🤢\n",
      "🤢🤢🤢🤢🤢🤢🤢🤢🤢🤢🤢🤢🤢🤢🤢🤢🤢🤢🤢🤢\n",
      "🤢🤢🤢🤢🤢🤢🤢😎😎😎🤢🤢🤢🤢🤢🤢🤢🤢🤢🤢\n",
      "🤢🤢🤢🤢🤢🤢🤢😎😎😎🤢🤢🤢🤢🤢🤢🤢🤢🤢🤢\n",
      "🤢🤢🤢🤢🤢🤢😎🤢🤢🤢😎😎🤢🤢🤢🤢🤢🤢🤢🤢\n",
      "🤢🤢😎😎🤢🤢🤢😎🤢🤢😎😎🤢🤢🤢🤢🤢🤢🤢🤢\n",
      "🤢🤢😎🤢🤢😎🤢🤢😎🤢😎😎🤢🤢🤢🤢🤢🤢🤢🤢\n",
      "🤢🤢🤢😎🤢🤢🤢😎😎😎🤢🤢🤢🤢🤢🤢🤢🤢🤢🤢\n",
      "🤢🤢🤢🤢🤢🤢🤢🤢🤢🤢🤢🤢🤢🤢🤢🤢🤢🤢🤢🤢\n",
      "🤢🤢🤢🤢🤢🤢🤢🤢🤢🤢🤢🤢🤢🤢🤢🤢🤢🤢🤢🤢\n",
      "🤢🤢🤢🤢🤢🤢🤢🤢🤢🤢🤢🤢🤢🤢🤢🤢🤢🤢🤢🤢\n",
      "🤢🤢🤢🤢🤢🤢🤢🤢🤢🤢🤢🤢🤢🤢🤢🤢🤢🤢🤢🤢\n",
      "🤢🤢🤢🤢🤢🤢🤢🤢🤢🤢🤢🤢🤢🤢🤢🤢🤢🤢🤢🤢\n",
      "🤢🤢🤢🤢🤢🤢🤢🤢🤢🤢🤢🤢🤢🤢🤢🤢🤢🤢🤢🤢\n",
      "🤢🤢🤢🤢🤢🤢🤢🤢🤢🤢🤢🤢🤢🤢🤢🤢🤢🤢🤢🤢\n",
      "🤢🤢🤢🤢🤢🤢🤢🤢🤢🤢🤢🤢🤢🤢🤢🤢🤢🤢🤢🤢\n",
      "🤢🤢🤢🤢🤢🤢🤢🤢🤢🤢🤢🤢🤢🤢🤢🤢🤢🤢🤢🤢\n",
      "🤢🤢🤢🤢🤢🤢🤢🤢🤢🤢🤢🤢🤢🤢🤢🤢🤢🤢🤢🤢\n",
      "🤢🤢🤢🤢🤢🤢🤢🤢🤢🤢🤢🤢🤢🤢🤢🤢🤢🤢🤢🤢\n",
      "\n",
      "🤢🤢🤢🤢🤢🤢🤢🤢🤢🤢🤢🤢🤢🤢🤢🤢🤢🤢🤢🤢\n",
      "🤢🤢🤢🤢🤢🤢🤢🤢🤢🤢🤢🤢🤢🤢🤢🤢🤢🤢🤢🤢\n",
      "🤢🤢🤢🤢🤢🤢🤢🤢😎🤢🤢🤢🤢🤢🤢🤢🤢🤢🤢🤢\n",
      "🤢🤢🤢🤢🤢🤢🤢😎🤢😎🤢🤢🤢🤢🤢🤢🤢🤢🤢🤢\n",
      "🤢🤢🤢🤢🤢🤢😎🤢🤢🤢🤢🤢🤢🤢🤢🤢🤢🤢🤢🤢\n",
      "🤢🤢🤢🤢🤢🤢😎🤢🤢🤢🤢😎🤢🤢🤢🤢🤢🤢🤢🤢\n",
      "🤢🤢😎😎🤢🤢😎😎🤢🤢🤢🤢😎🤢🤢🤢🤢🤢🤢🤢\n",
      "🤢🤢😎🤢😎🤢😎🤢🤢🤢🤢😎🤢🤢🤢🤢🤢🤢🤢🤢\n",
      "🤢🤢🤢🤢🤢🤢🤢😎😎😎😎🤢🤢🤢🤢🤢🤢🤢🤢🤢\n",
      "🤢🤢🤢🤢🤢🤢🤢🤢😎🤢🤢🤢🤢🤢🤢🤢🤢🤢🤢🤢\n",
      "🤢🤢🤢🤢🤢🤢🤢🤢🤢🤢🤢🤢🤢🤢🤢🤢🤢🤢🤢🤢\n",
      "🤢🤢🤢🤢🤢🤢🤢🤢🤢🤢🤢🤢🤢🤢🤢🤢🤢🤢🤢🤢\n",
      "🤢🤢🤢🤢🤢🤢🤢🤢🤢🤢🤢🤢🤢🤢🤢🤢🤢🤢🤢🤢\n",
      "🤢🤢🤢🤢🤢🤢🤢🤢🤢🤢🤢🤢🤢🤢🤢🤢🤢🤢🤢🤢\n",
      "🤢🤢🤢🤢🤢🤢🤢🤢🤢🤢🤢🤢🤢🤢🤢🤢🤢🤢🤢🤢\n",
      "🤢🤢🤢🤢🤢🤢🤢🤢🤢🤢🤢🤢🤢🤢🤢🤢🤢🤢🤢🤢\n",
      "🤢🤢🤢🤢🤢🤢🤢🤢🤢🤢🤢🤢🤢🤢🤢🤢🤢🤢🤢🤢\n",
      "🤢🤢🤢🤢🤢🤢🤢🤢🤢🤢🤢🤢🤢🤢🤢🤢🤢🤢🤢🤢\n",
      "🤢🤢🤢🤢🤢🤢🤢🤢🤢🤢🤢🤢🤢🤢🤢🤢🤢🤢🤢🤢\n",
      "🤢🤢🤢🤢🤢🤢🤢🤢🤢🤢🤢🤢🤢🤢🤢🤢🤢🤢🤢🤢\n",
      "\n",
      "🤢🤢🤢🤢🤢🤢🤢🤢🤢🤢🤢🤢🤢🤢🤢🤢🤢🤢🤢🤢\n",
      "🤢🤢🤢🤢🤢🤢🤢🤢🤢🤢🤢🤢🤢🤢🤢🤢🤢🤢🤢🤢\n",
      "🤢🤢🤢🤢🤢🤢🤢🤢😎🤢🤢🤢🤢🤢🤢🤢🤢🤢🤢🤢\n",
      "🤢🤢🤢🤢🤢🤢🤢😎😎🤢🤢🤢🤢🤢🤢🤢🤢🤢🤢🤢\n",
      "🤢🤢🤢🤢🤢🤢😎😎🤢🤢🤢🤢🤢🤢🤢🤢🤢🤢🤢🤢\n",
      "🤢🤢🤢🤢🤢😎😎🤢🤢🤢🤢🤢🤢🤢🤢🤢🤢🤢🤢🤢\n",
      "🤢🤢😎😎🤢🤢😎😎🤢🤢🤢😎😎🤢🤢🤢🤢🤢🤢🤢\n",
      "🤢🤢😎🤢🤢😎😎🤢🤢😎😎😎🤢🤢🤢🤢🤢🤢🤢🤢\n",
      "🤢🤢🤢🤢🤢🤢🤢😎😎😎😎🤢🤢🤢🤢🤢🤢🤢🤢🤢\n",
      "🤢🤢🤢🤢🤢🤢🤢😎😎🤢🤢🤢🤢🤢🤢🤢🤢🤢🤢🤢\n",
      "🤢🤢🤢🤢🤢🤢🤢🤢🤢🤢🤢🤢🤢🤢🤢🤢🤢🤢🤢🤢\n",
      "🤢🤢🤢🤢🤢🤢🤢🤢🤢🤢🤢🤢🤢🤢🤢🤢🤢🤢🤢🤢\n",
      "🤢🤢🤢🤢🤢🤢🤢🤢🤢🤢🤢🤢🤢🤢🤢🤢🤢🤢🤢🤢\n",
      "🤢🤢🤢🤢🤢🤢🤢🤢🤢🤢🤢🤢🤢🤢🤢🤢🤢🤢🤢🤢\n",
      "🤢🤢🤢🤢🤢🤢🤢🤢🤢🤢🤢🤢🤢🤢🤢🤢🤢🤢🤢🤢\n",
      "🤢🤢🤢🤢🤢🤢🤢🤢🤢🤢🤢🤢🤢🤢🤢🤢🤢🤢🤢🤢\n",
      "🤢🤢🤢🤢🤢🤢🤢🤢🤢🤢🤢🤢🤢🤢🤢🤢🤢🤢🤢🤢\n",
      "🤢🤢🤢🤢🤢🤢🤢🤢🤢🤢🤢🤢🤢🤢🤢🤢🤢🤢🤢🤢\n",
      "🤢🤢🤢🤢🤢🤢🤢🤢🤢🤢🤢🤢🤢🤢🤢🤢🤢🤢🤢🤢\n",
      "🤢🤢🤢🤢🤢🤢🤢🤢🤢🤢🤢🤢🤢🤢🤢🤢🤢🤢🤢🤢\n",
      "\n",
      "🤢🤢🤢🤢🤢🤢🤢🤢🤢🤢🤢🤢🤢🤢🤢🤢🤢🤢🤢🤢\n",
      "🤢🤢🤢🤢🤢🤢🤢🤢🤢🤢🤢🤢🤢🤢🤢🤢🤢🤢🤢🤢\n",
      "🤢🤢🤢🤢🤢🤢🤢😎😎🤢🤢🤢🤢🤢🤢🤢🤢🤢🤢🤢\n",
      "🤢🤢🤢🤢🤢🤢😎🤢😎🤢🤢🤢🤢🤢🤢🤢🤢🤢🤢🤢\n",
      "🤢🤢🤢🤢🤢😎🤢🤢😎🤢🤢🤢🤢🤢🤢🤢🤢🤢🤢🤢\n",
      "🤢🤢🤢🤢🤢😎🤢🤢🤢🤢🤢🤢🤢🤢🤢🤢🤢🤢🤢🤢\n",
      "🤢🤢😎😎😎🤢🤢😎🤢🤢🤢😎😎🤢🤢🤢🤢🤢🤢🤢\n",
      "🤢🤢😎😎🤢😎🤢🤢🤢🤢🤢🤢😎🤢🤢🤢🤢🤢🤢🤢\n",
      "🤢🤢🤢🤢🤢🤢🤢🤢🤢🤢🤢😎🤢🤢🤢🤢🤢🤢🤢🤢\n",
      "🤢🤢🤢🤢🤢🤢🤢😎🤢🤢🤢🤢🤢🤢🤢🤢🤢🤢🤢🤢\n",
      "🤢🤢🤢🤢🤢🤢🤢🤢🤢🤢🤢🤢🤢🤢🤢🤢🤢🤢🤢🤢\n",
      "🤢🤢🤢🤢🤢🤢🤢🤢🤢🤢🤢🤢🤢🤢🤢🤢🤢🤢🤢🤢\n",
      "🤢🤢🤢🤢🤢🤢🤢🤢🤢🤢🤢🤢🤢🤢🤢🤢🤢🤢🤢🤢\n",
      "🤢🤢🤢🤢🤢🤢🤢🤢🤢🤢🤢🤢🤢🤢🤢🤢🤢🤢🤢🤢\n",
      "🤢🤢🤢🤢🤢🤢🤢🤢🤢🤢🤢🤢🤢🤢🤢🤢🤢🤢🤢🤢\n",
      "🤢🤢🤢🤢🤢🤢🤢🤢🤢🤢🤢🤢🤢🤢🤢🤢🤢🤢🤢🤢\n",
      "🤢🤢🤢🤢🤢🤢🤢🤢🤢🤢🤢🤢🤢🤢🤢🤢🤢🤢🤢🤢\n",
      "🤢🤢🤢🤢🤢🤢🤢🤢🤢🤢🤢🤢🤢🤢🤢🤢🤢🤢🤢🤢\n",
      "🤢🤢🤢🤢🤢🤢🤢🤢🤢🤢🤢🤢🤢🤢🤢🤢🤢🤢🤢🤢\n",
      "🤢🤢🤢🤢🤢🤢🤢🤢🤢🤢🤢🤢🤢🤢🤢🤢🤢🤢🤢🤢\n",
      "\n",
      "🤢🤢🤢🤢🤢🤢🤢🤢🤢🤢🤢🤢🤢🤢🤢🤢🤢🤢🤢🤢\n",
      "🤢🤢🤢🤢🤢🤢🤢🤢🤢🤢🤢🤢🤢🤢🤢🤢🤢🤢🤢🤢\n",
      "🤢🤢🤢🤢🤢🤢🤢😎😎🤢🤢🤢🤢🤢🤢🤢🤢🤢🤢🤢\n",
      "🤢🤢🤢🤢🤢🤢😎🤢😎😎🤢🤢🤢🤢🤢🤢🤢🤢🤢🤢\n",
      "🤢🤢🤢🤢🤢😎😎😎🤢🤢🤢🤢🤢🤢🤢🤢🤢🤢🤢🤢\n",
      "🤢🤢🤢😎🤢😎😎🤢🤢🤢🤢🤢🤢🤢🤢🤢🤢🤢🤢🤢\n",
      "🤢🤢😎🤢🤢😎😎🤢🤢🤢🤢😎😎🤢🤢🤢🤢🤢🤢🤢\n",
      "🤢🤢😎🤢🤢🤢🤢🤢🤢🤢🤢🤢😎🤢🤢🤢🤢🤢🤢🤢\n",
      "🤢🤢🤢🤢🤢🤢🤢🤢🤢🤢🤢🤢🤢🤢🤢🤢🤢🤢🤢🤢\n",
      "🤢🤢🤢🤢🤢🤢🤢🤢🤢🤢🤢🤢🤢🤢🤢🤢🤢🤢🤢🤢\n",
      "🤢🤢🤢🤢🤢🤢🤢🤢🤢🤢🤢🤢🤢🤢🤢🤢🤢🤢🤢🤢\n",
      "🤢🤢🤢🤢🤢🤢🤢🤢🤢🤢🤢🤢🤢🤢🤢🤢🤢🤢🤢🤢\n",
      "🤢🤢🤢🤢🤢🤢🤢🤢🤢🤢🤢🤢🤢🤢🤢🤢🤢🤢🤢🤢\n",
      "🤢🤢🤢🤢🤢🤢🤢🤢🤢🤢🤢🤢🤢🤢🤢🤢🤢🤢🤢🤢\n",
      "🤢🤢🤢🤢🤢🤢🤢🤢🤢🤢🤢🤢🤢🤢🤢🤢🤢🤢🤢🤢\n",
      "🤢🤢🤢🤢🤢🤢🤢🤢🤢🤢🤢🤢🤢🤢🤢🤢🤢🤢🤢🤢\n",
      "🤢🤢🤢🤢🤢🤢🤢🤢🤢🤢🤢🤢🤢🤢🤢🤢🤢🤢🤢🤢\n",
      "🤢🤢🤢🤢🤢🤢🤢🤢🤢🤢🤢🤢🤢🤢🤢🤢🤢🤢🤢🤢\n",
      "🤢🤢🤢🤢🤢🤢🤢🤢🤢🤢🤢🤢🤢🤢🤢🤢🤢🤢🤢🤢\n",
      "🤢🤢🤢🤢🤢🤢🤢🤢🤢🤢🤢🤢🤢🤢🤢🤢🤢🤢🤢🤢\n",
      "\n",
      "🤢🤢🤢🤢🤢🤢🤢🤢🤢🤢🤢🤢🤢🤢🤢🤢🤢🤢🤢🤢\n",
      "🤢🤢🤢🤢🤢🤢🤢🤢🤢🤢🤢🤢🤢🤢🤢🤢🤢🤢🤢🤢\n",
      "🤢🤢🤢🤢🤢🤢🤢😎😎😎🤢🤢🤢🤢🤢🤢🤢🤢🤢🤢\n",
      "🤢🤢🤢🤢🤢😎🤢🤢🤢😎🤢🤢🤢🤢🤢🤢🤢🤢🤢🤢\n",
      "🤢🤢🤢🤢😎🤢🤢🤢😎🤢🤢🤢🤢🤢🤢🤢🤢🤢🤢🤢\n",
      "🤢🤢🤢🤢🤢🤢🤢🤢🤢🤢🤢🤢🤢🤢🤢🤢🤢🤢🤢🤢\n",
      "🤢🤢😎😎😎😎😎🤢🤢🤢🤢😎😎🤢🤢🤢🤢🤢🤢🤢\n",
      "🤢🤢🤢🤢🤢🤢🤢🤢🤢🤢🤢😎😎🤢🤢🤢🤢🤢🤢🤢\n",
      "🤢🤢🤢🤢🤢🤢🤢🤢🤢🤢🤢🤢🤢🤢🤢🤢🤢🤢🤢🤢\n",
      "🤢🤢🤢🤢🤢🤢🤢🤢🤢🤢🤢🤢🤢🤢🤢🤢🤢🤢🤢🤢\n",
      "🤢🤢🤢🤢🤢🤢🤢🤢🤢🤢🤢🤢🤢🤢🤢🤢🤢🤢🤢🤢\n",
      "🤢🤢🤢🤢🤢🤢🤢🤢🤢🤢🤢🤢🤢🤢🤢🤢🤢🤢🤢🤢\n",
      "🤢🤢🤢🤢🤢🤢🤢🤢🤢🤢🤢🤢🤢🤢🤢🤢🤢🤢🤢🤢\n",
      "🤢🤢🤢🤢🤢🤢🤢🤢🤢🤢🤢🤢🤢🤢🤢🤢🤢🤢🤢🤢\n",
      "🤢🤢🤢🤢🤢🤢🤢🤢🤢🤢🤢🤢🤢🤢🤢🤢🤢🤢🤢🤢\n",
      "🤢🤢🤢🤢🤢🤢🤢🤢🤢🤢🤢🤢🤢🤢🤢🤢🤢🤢🤢🤢\n",
      "🤢🤢🤢🤢🤢🤢🤢🤢🤢🤢🤢🤢🤢🤢🤢🤢🤢🤢🤢🤢\n",
      "🤢🤢🤢🤢🤢🤢🤢🤢🤢🤢🤢🤢🤢🤢🤢🤢🤢🤢🤢🤢\n",
      "🤢🤢🤢🤢🤢🤢🤢🤢🤢🤢🤢🤢🤢🤢🤢🤢🤢🤢🤢🤢\n",
      "🤢🤢🤢🤢🤢🤢🤢🤢🤢🤢🤢🤢🤢🤢🤢🤢🤢🤢🤢🤢\n",
      "\n",
      "🤢🤢🤢🤢🤢🤢🤢🤢🤢🤢🤢🤢🤢🤢🤢🤢🤢🤢🤢🤢\n",
      "🤢🤢🤢🤢🤢🤢🤢🤢😎🤢🤢🤢🤢🤢🤢🤢🤢🤢🤢🤢\n",
      "🤢🤢🤢🤢🤢🤢🤢🤢😎😎🤢🤢🤢🤢🤢🤢🤢🤢🤢🤢\n",
      "🤢🤢🤢🤢🤢🤢🤢😎🤢😎🤢🤢🤢🤢🤢🤢🤢🤢🤢🤢\n",
      "🤢🤢🤢🤢🤢🤢🤢🤢🤢🤢🤢🤢🤢🤢🤢🤢🤢🤢🤢🤢\n",
      "🤢🤢🤢🤢🤢🤢🤢🤢🤢🤢🤢🤢🤢🤢🤢🤢🤢🤢🤢🤢\n",
      "🤢🤢🤢😎😎😎🤢🤢🤢🤢🤢😎😎🤢🤢🤢🤢🤢🤢🤢\n",
      "🤢🤢🤢😎😎😎🤢🤢🤢🤢🤢😎😎🤢🤢🤢🤢🤢🤢🤢\n",
      "🤢🤢🤢🤢🤢🤢🤢🤢🤢🤢🤢🤢🤢🤢🤢🤢🤢🤢🤢🤢\n",
      "🤢🤢🤢🤢🤢🤢🤢🤢🤢🤢🤢🤢🤢🤢🤢🤢🤢🤢🤢🤢\n",
      "🤢🤢🤢🤢🤢🤢🤢🤢🤢🤢🤢🤢🤢🤢🤢🤢🤢🤢🤢🤢\n",
      "🤢🤢🤢🤢🤢🤢🤢🤢🤢🤢🤢🤢🤢🤢🤢🤢🤢🤢🤢🤢\n",
      "🤢🤢🤢🤢🤢🤢🤢🤢🤢🤢🤢🤢🤢🤢🤢🤢🤢🤢🤢🤢\n",
      "🤢🤢🤢🤢🤢🤢🤢🤢🤢🤢🤢🤢🤢🤢🤢🤢🤢🤢🤢🤢\n",
      "🤢🤢🤢🤢🤢🤢🤢🤢🤢🤢🤢🤢🤢🤢🤢🤢🤢🤢🤢🤢\n",
      "🤢🤢🤢🤢🤢🤢🤢🤢🤢🤢🤢🤢🤢🤢🤢🤢🤢🤢🤢🤢\n",
      "🤢🤢🤢🤢🤢🤢🤢🤢🤢🤢🤢🤢🤢🤢🤢🤢🤢🤢🤢🤢\n",
      "🤢🤢🤢🤢🤢🤢🤢🤢🤢🤢🤢🤢🤢🤢🤢🤢🤢🤢🤢🤢\n",
      "🤢🤢🤢🤢🤢🤢🤢🤢🤢🤢🤢🤢🤢🤢🤢🤢🤢🤢🤢🤢\n",
      "🤢🤢🤢🤢🤢🤢🤢🤢🤢🤢🤢🤢🤢🤢🤢🤢🤢🤢🤢🤢\n",
      "\n",
      "🤢🤢🤢🤢🤢🤢🤢🤢🤢🤢🤢🤢🤢🤢🤢🤢🤢🤢🤢🤢\n",
      "🤢🤢🤢🤢🤢🤢🤢🤢😎😎🤢🤢🤢🤢🤢🤢🤢🤢🤢🤢\n",
      "🤢🤢🤢🤢🤢🤢🤢😎🤢😎🤢🤢🤢🤢🤢🤢🤢🤢🤢🤢\n",
      "🤢🤢🤢🤢🤢🤢🤢🤢🤢😎🤢🤢🤢🤢🤢🤢🤢🤢🤢🤢\n",
      "🤢🤢🤢🤢🤢🤢🤢🤢🤢🤢🤢🤢🤢🤢🤢🤢🤢🤢🤢🤢\n",
      "🤢🤢🤢🤢😎🤢🤢🤢🤢🤢🤢🤢🤢🤢🤢🤢🤢🤢🤢🤢\n",
      "🤢🤢🤢😎🤢😎🤢🤢🤢🤢🤢😎😎🤢🤢🤢🤢🤢🤢🤢\n",
      "🤢🤢🤢😎🤢😎🤢🤢🤢🤢🤢😎😎🤢🤢🤢🤢🤢🤢🤢\n",
      "🤢🤢🤢🤢😎🤢🤢🤢🤢🤢🤢🤢🤢🤢🤢🤢🤢🤢🤢🤢\n",
      "🤢🤢🤢🤢🤢🤢🤢🤢🤢🤢🤢🤢🤢🤢🤢🤢🤢🤢🤢🤢\n",
      "🤢🤢🤢🤢🤢🤢🤢🤢🤢🤢🤢🤢🤢🤢🤢🤢🤢🤢🤢🤢\n",
      "🤢🤢🤢🤢🤢🤢🤢🤢🤢🤢🤢🤢🤢🤢🤢🤢🤢🤢🤢🤢\n",
      "🤢🤢🤢🤢🤢🤢🤢🤢🤢🤢🤢🤢🤢🤢🤢🤢🤢🤢🤢🤢\n",
      "🤢🤢🤢🤢🤢🤢🤢🤢🤢🤢🤢🤢🤢🤢🤢🤢🤢🤢🤢🤢\n",
      "🤢🤢🤢🤢🤢🤢🤢🤢🤢🤢🤢🤢🤢🤢🤢🤢🤢🤢🤢🤢\n",
      "🤢🤢🤢🤢🤢🤢🤢🤢🤢🤢🤢🤢🤢🤢🤢🤢🤢🤢🤢🤢\n",
      "🤢🤢🤢🤢🤢🤢🤢🤢🤢🤢🤢🤢🤢🤢🤢🤢🤢🤢🤢🤢\n",
      "🤢🤢🤢🤢🤢🤢🤢🤢🤢🤢🤢🤢🤢🤢🤢🤢🤢🤢🤢🤢\n",
      "🤢🤢🤢🤢🤢🤢🤢🤢🤢🤢🤢🤢🤢🤢🤢🤢🤢🤢🤢🤢\n",
      "🤢🤢🤢🤢🤢🤢🤢🤢🤢🤢🤢🤢🤢🤢🤢🤢🤢🤢🤢🤢\n",
      "\n",
      "🤢🤢🤢🤢🤢🤢🤢🤢🤢🤢🤢🤢🤢🤢🤢🤢🤢🤢🤢🤢\n",
      "🤢🤢🤢🤢🤢🤢🤢🤢😎😎🤢🤢🤢🤢🤢🤢🤢🤢🤢🤢\n",
      "🤢🤢🤢🤢🤢🤢🤢🤢🤢😎😎🤢🤢🤢🤢🤢🤢🤢🤢🤢\n",
      "🤢🤢🤢🤢🤢🤢🤢🤢😎🤢🤢🤢🤢🤢🤢🤢🤢🤢🤢🤢\n",
      "🤢🤢🤢🤢🤢🤢🤢🤢🤢🤢🤢🤢🤢🤢🤢🤢🤢🤢🤢🤢\n",
      "🤢🤢🤢🤢😎🤢🤢🤢🤢🤢🤢🤢🤢🤢🤢🤢🤢🤢🤢🤢\n",
      "🤢🤢🤢😎🤢😎🤢🤢🤢🤢🤢😎😎🤢🤢🤢🤢🤢🤢🤢\n",
      "🤢🤢🤢😎🤢😎🤢🤢🤢🤢🤢😎😎🤢🤢🤢🤢🤢🤢🤢\n",
      "🤢🤢🤢🤢😎🤢🤢🤢🤢🤢🤢🤢🤢🤢🤢🤢🤢🤢🤢🤢\n",
      "🤢🤢🤢🤢🤢🤢🤢🤢🤢🤢🤢🤢🤢🤢🤢🤢🤢🤢🤢🤢\n",
      "🤢🤢🤢🤢🤢🤢🤢🤢🤢🤢🤢🤢🤢🤢🤢🤢🤢🤢🤢🤢\n",
      "🤢🤢🤢🤢🤢🤢🤢🤢🤢🤢🤢🤢🤢🤢🤢🤢🤢🤢🤢🤢\n",
      "🤢🤢🤢🤢🤢🤢🤢🤢🤢🤢🤢🤢🤢🤢🤢🤢🤢🤢🤢🤢\n",
      "🤢🤢🤢🤢🤢🤢🤢🤢🤢🤢🤢🤢🤢🤢🤢🤢🤢🤢🤢🤢\n",
      "🤢🤢🤢🤢🤢🤢🤢🤢🤢🤢🤢🤢🤢🤢🤢🤢🤢🤢🤢🤢\n",
      "🤢🤢🤢🤢🤢🤢🤢🤢🤢🤢🤢🤢🤢🤢🤢🤢🤢🤢🤢🤢\n",
      "🤢🤢🤢🤢🤢🤢🤢🤢🤢🤢🤢🤢🤢🤢🤢🤢🤢🤢🤢🤢\n",
      "🤢🤢🤢🤢🤢🤢🤢🤢🤢🤢🤢🤢🤢🤢🤢🤢🤢🤢🤢🤢\n",
      "🤢🤢🤢🤢🤢🤢🤢🤢🤢🤢🤢🤢🤢🤢🤢🤢🤢🤢🤢🤢\n",
      "🤢🤢🤢🤢🤢🤢🤢🤢🤢🤢🤢🤢🤢🤢🤢🤢🤢🤢🤢🤢\n",
      "\n",
      "🤢🤢🤢🤢🤢🤢🤢🤢🤢🤢🤢🤢🤢🤢🤢🤢🤢🤢🤢🤢\n",
      "🤢🤢🤢🤢🤢🤢🤢🤢😎😎😎🤢🤢🤢🤢🤢🤢🤢🤢🤢\n",
      "🤢🤢🤢🤢🤢🤢🤢🤢🤢🤢😎🤢🤢🤢🤢🤢🤢🤢🤢🤢\n",
      "🤢🤢🤢🤢🤢🤢🤢🤢🤢😎🤢🤢🤢🤢🤢🤢🤢🤢🤢🤢\n",
      "🤢🤢🤢🤢🤢🤢🤢🤢🤢🤢🤢🤢🤢🤢🤢🤢🤢🤢🤢🤢\n",
      "🤢🤢🤢🤢😎🤢🤢🤢🤢🤢🤢🤢🤢🤢🤢🤢🤢🤢🤢🤢\n",
      "🤢🤢🤢😎🤢😎🤢🤢🤢🤢🤢😎😎🤢🤢🤢🤢🤢🤢🤢\n",
      "🤢🤢🤢😎🤢😎🤢🤢🤢🤢🤢😎😎🤢🤢🤢🤢🤢🤢🤢\n",
      "🤢🤢🤢🤢😎🤢🤢🤢🤢🤢🤢🤢🤢🤢🤢🤢🤢🤢🤢🤢\n",
      "🤢🤢🤢🤢🤢🤢🤢🤢🤢🤢🤢🤢🤢🤢🤢🤢🤢🤢🤢🤢\n",
      "🤢🤢🤢🤢🤢🤢🤢🤢🤢🤢🤢🤢🤢🤢🤢🤢🤢🤢🤢🤢\n",
      "🤢🤢🤢🤢🤢🤢🤢🤢🤢🤢🤢🤢🤢🤢🤢🤢🤢🤢🤢🤢\n",
      "🤢🤢🤢🤢🤢🤢🤢🤢🤢🤢🤢🤢🤢🤢🤢🤢🤢🤢🤢🤢\n",
      "🤢🤢🤢🤢🤢🤢🤢🤢🤢🤢🤢🤢🤢🤢🤢🤢🤢🤢🤢🤢\n",
      "🤢🤢🤢🤢🤢🤢🤢🤢🤢🤢🤢🤢🤢🤢🤢🤢🤢🤢🤢🤢\n",
      "🤢🤢🤢🤢🤢🤢🤢🤢🤢🤢🤢🤢🤢🤢🤢🤢🤢🤢🤢🤢\n",
      "🤢🤢🤢🤢🤢🤢🤢🤢🤢🤢🤢🤢🤢🤢🤢🤢🤢🤢🤢🤢\n",
      "🤢🤢🤢🤢🤢🤢🤢🤢🤢🤢🤢🤢🤢🤢🤢🤢🤢🤢🤢🤢\n",
      "🤢🤢🤢🤢🤢🤢🤢🤢🤢🤢🤢🤢🤢🤢🤢🤢🤢🤢🤢🤢\n",
      "🤢🤢🤢🤢🤢🤢🤢🤢🤢🤢🤢🤢🤢🤢🤢🤢🤢🤢🤢🤢\n",
      "\n",
      "🤢🤢🤢🤢🤢🤢🤢🤢🤢🤢🤢🤢🤢🤢🤢🤢🤢🤢🤢🤢\n",
      "🤢🤢🤢🤢🤢🤢🤢🤢🤢😎😎🤢🤢🤢🤢🤢🤢🤢🤢🤢\n",
      "🤢🤢🤢🤢🤢🤢🤢🤢😎🤢😎🤢🤢🤢🤢🤢🤢🤢🤢🤢\n",
      "🤢🤢🤢🤢🤢🤢🤢🤢🤢🤢🤢🤢🤢🤢🤢🤢🤢🤢🤢🤢\n",
      "🤢🤢🤢🤢🤢🤢🤢🤢🤢🤢🤢🤢🤢🤢🤢🤢🤢🤢🤢🤢\n",
      "🤢🤢🤢🤢😎🤢🤢🤢🤢🤢🤢🤢🤢🤢🤢🤢🤢🤢🤢🤢\n",
      "🤢🤢🤢😎🤢😎🤢🤢🤢🤢🤢😎😎🤢🤢🤢🤢🤢🤢🤢\n",
      "🤢🤢🤢😎🤢😎🤢🤢🤢🤢🤢😎😎🤢🤢🤢🤢🤢🤢🤢\n",
      "🤢🤢🤢🤢😎🤢🤢🤢🤢🤢🤢🤢🤢🤢🤢🤢🤢🤢🤢🤢\n",
      "🤢🤢🤢🤢🤢🤢🤢🤢🤢🤢🤢🤢🤢🤢🤢🤢🤢🤢🤢🤢\n",
      "🤢🤢🤢🤢🤢🤢🤢🤢🤢🤢🤢🤢🤢🤢🤢🤢🤢🤢🤢🤢\n",
      "🤢🤢🤢🤢🤢🤢🤢🤢🤢🤢🤢🤢🤢🤢🤢🤢🤢🤢🤢🤢\n",
      "🤢🤢🤢🤢🤢🤢🤢🤢🤢🤢🤢🤢🤢🤢🤢🤢🤢🤢🤢🤢\n",
      "🤢🤢🤢🤢🤢🤢🤢🤢🤢🤢🤢🤢🤢🤢🤢🤢🤢🤢🤢🤢\n",
      "🤢🤢🤢🤢🤢🤢🤢🤢🤢🤢🤢🤢🤢🤢🤢🤢🤢🤢🤢🤢\n",
      "🤢🤢🤢🤢🤢🤢🤢🤢🤢🤢🤢🤢🤢🤢🤢🤢🤢🤢🤢🤢\n",
      "🤢🤢🤢🤢🤢🤢🤢🤢🤢🤢🤢🤢🤢🤢🤢🤢🤢🤢🤢🤢\n",
      "🤢🤢🤢🤢🤢🤢🤢🤢🤢🤢🤢🤢🤢🤢🤢🤢🤢🤢🤢🤢\n",
      "🤢🤢🤢🤢🤢🤢🤢🤢🤢🤢🤢🤢🤢🤢🤢🤢🤢🤢🤢🤢\n",
      "🤢🤢🤢🤢🤢🤢🤢🤢🤢🤢🤢🤢🤢🤢🤢🤢🤢🤢🤢🤢\n",
      "\n",
      "🤢🤢🤢🤢🤢🤢🤢🤢🤢🤢🤢🤢🤢🤢🤢🤢🤢🤢🤢🤢\n",
      "🤢🤢🤢🤢🤢🤢🤢🤢🤢😎😎🤢🤢🤢🤢🤢🤢🤢🤢🤢\n",
      "🤢🤢🤢🤢🤢🤢🤢🤢🤢🤢😎🤢🤢🤢🤢🤢🤢🤢🤢🤢\n",
      "🤢🤢🤢🤢🤢🤢🤢🤢🤢🤢🤢🤢🤢🤢🤢🤢🤢🤢🤢🤢\n",
      "🤢🤢🤢🤢🤢🤢🤢🤢🤢🤢🤢🤢🤢🤢🤢🤢🤢🤢🤢🤢\n",
      "🤢🤢🤢🤢😎🤢🤢🤢🤢🤢🤢🤢🤢🤢🤢🤢🤢🤢🤢🤢\n",
      "🤢🤢🤢😎🤢😎🤢🤢🤢🤢🤢😎😎🤢🤢🤢🤢🤢🤢🤢\n",
      "🤢🤢🤢😎🤢😎🤢🤢🤢🤢🤢😎😎🤢🤢🤢🤢🤢🤢🤢\n",
      "🤢🤢🤢🤢😎🤢🤢🤢🤢🤢🤢🤢🤢🤢🤢🤢🤢🤢🤢🤢\n",
      "🤢🤢🤢🤢🤢🤢🤢🤢🤢🤢🤢🤢🤢🤢🤢🤢🤢🤢🤢🤢\n",
      "🤢🤢🤢🤢🤢🤢🤢🤢🤢🤢🤢🤢🤢🤢🤢🤢🤢🤢🤢🤢\n",
      "🤢🤢🤢🤢🤢🤢🤢🤢🤢🤢🤢🤢🤢🤢🤢🤢🤢🤢🤢🤢\n",
      "🤢🤢🤢🤢🤢🤢🤢🤢🤢🤢🤢🤢🤢🤢🤢🤢🤢🤢🤢🤢\n",
      "🤢🤢🤢🤢🤢🤢🤢🤢🤢🤢🤢🤢🤢🤢🤢🤢🤢🤢🤢🤢\n",
      "🤢🤢🤢🤢🤢🤢🤢🤢🤢🤢🤢🤢🤢🤢🤢🤢🤢🤢🤢🤢\n",
      "🤢🤢🤢🤢🤢🤢🤢🤢🤢🤢🤢🤢🤢🤢🤢🤢🤢🤢🤢🤢\n",
      "🤢🤢🤢🤢🤢🤢🤢🤢🤢🤢🤢🤢🤢🤢🤢🤢🤢🤢🤢🤢\n",
      "🤢🤢🤢🤢🤢🤢🤢🤢🤢🤢🤢🤢🤢🤢🤢🤢🤢🤢🤢🤢\n",
      "🤢🤢🤢🤢🤢🤢🤢🤢🤢🤢🤢🤢🤢🤢🤢🤢🤢🤢🤢🤢\n",
      "🤢🤢🤢🤢🤢🤢🤢🤢🤢🤢🤢🤢🤢🤢🤢🤢🤢🤢🤢🤢\n",
      "\n",
      "🤢🤢🤢🤢🤢🤢🤢🤢🤢🤢🤢🤢🤢🤢🤢🤢🤢🤢🤢🤢\n",
      "🤢🤢🤢🤢🤢🤢🤢🤢🤢😎😎🤢🤢🤢🤢🤢🤢🤢🤢🤢\n",
      "🤢🤢🤢🤢🤢🤢🤢🤢🤢😎😎🤢🤢🤢🤢🤢🤢🤢🤢🤢\n",
      "🤢🤢🤢🤢🤢🤢🤢🤢🤢🤢🤢🤢🤢🤢🤢🤢🤢🤢🤢🤢\n",
      "🤢🤢🤢🤢🤢🤢🤢🤢🤢🤢🤢🤢🤢🤢🤢🤢🤢🤢🤢🤢\n",
      "🤢🤢🤢🤢😎🤢🤢🤢🤢🤢🤢🤢🤢🤢🤢🤢🤢🤢🤢🤢\n",
      "🤢🤢🤢😎🤢😎🤢🤢🤢🤢🤢😎😎🤢🤢🤢🤢🤢🤢🤢\n",
      "🤢🤢🤢😎🤢😎🤢🤢🤢🤢🤢😎😎🤢🤢🤢🤢🤢🤢🤢\n",
      "🤢🤢🤢🤢😎🤢🤢🤢🤢🤢🤢🤢🤢🤢🤢🤢🤢🤢🤢🤢\n",
      "🤢🤢🤢🤢🤢🤢🤢🤢🤢🤢🤢🤢🤢🤢🤢🤢🤢🤢🤢🤢\n",
      "🤢🤢🤢🤢🤢🤢🤢🤢🤢🤢🤢🤢🤢🤢🤢🤢🤢🤢🤢🤢\n",
      "🤢🤢🤢🤢🤢🤢🤢🤢🤢🤢🤢🤢🤢🤢🤢🤢🤢🤢🤢🤢\n",
      "🤢🤢🤢🤢🤢🤢🤢🤢🤢🤢🤢🤢🤢🤢🤢🤢🤢🤢🤢🤢\n",
      "🤢🤢🤢🤢🤢🤢🤢🤢🤢🤢🤢🤢🤢🤢🤢🤢🤢🤢🤢🤢\n",
      "🤢🤢🤢🤢🤢🤢🤢🤢🤢🤢🤢🤢🤢🤢🤢🤢🤢🤢🤢🤢\n",
      "🤢🤢🤢🤢🤢🤢🤢🤢🤢🤢🤢🤢🤢🤢🤢🤢🤢🤢🤢🤢\n",
      "🤢🤢🤢🤢🤢🤢🤢🤢🤢🤢🤢🤢🤢🤢🤢🤢🤢🤢🤢🤢\n",
      "🤢🤢🤢🤢🤢🤢🤢🤢🤢🤢🤢🤢🤢🤢🤢🤢🤢🤢🤢🤢\n",
      "🤢🤢🤢🤢🤢🤢🤢🤢🤢🤢🤢🤢🤢🤢🤢🤢🤢🤢🤢🤢\n",
      "🤢🤢🤢🤢🤢🤢🤢🤢🤢🤢🤢🤢🤢🤢🤢🤢🤢🤢🤢🤢\n",
      "\n",
      "🤢🤢🤢🤢🤢🤢🤢🤢🤢🤢🤢🤢🤢🤢🤢🤢🤢🤢🤢🤢\n",
      "🤢🤢🤢🤢🤢🤢🤢🤢🤢😎😎🤢🤢🤢🤢🤢🤢🤢🤢🤢\n",
      "🤢🤢🤢🤢🤢🤢🤢🤢🤢😎😎🤢🤢🤢🤢🤢🤢🤢🤢🤢\n",
      "🤢🤢🤢🤢🤢🤢🤢🤢🤢🤢🤢🤢🤢🤢🤢🤢🤢🤢🤢🤢\n",
      "🤢🤢🤢🤢🤢🤢🤢🤢🤢🤢🤢🤢🤢🤢🤢🤢🤢🤢🤢🤢\n",
      "🤢🤢🤢🤢😎🤢🤢🤢🤢🤢🤢🤢🤢🤢🤢🤢🤢🤢🤢🤢\n",
      "🤢🤢🤢😎🤢😎🤢🤢🤢🤢🤢😎😎🤢🤢🤢🤢🤢🤢🤢\n",
      "🤢🤢🤢😎🤢😎🤢🤢🤢🤢🤢😎😎🤢🤢🤢🤢🤢🤢🤢\n",
      "🤢🤢🤢🤢😎🤢🤢🤢🤢🤢🤢🤢🤢🤢🤢🤢🤢🤢🤢🤢\n",
      "🤢🤢🤢🤢🤢🤢🤢🤢🤢🤢🤢🤢🤢🤢🤢🤢🤢🤢🤢🤢\n",
      "🤢🤢🤢🤢🤢🤢🤢🤢🤢🤢🤢🤢🤢🤢🤢🤢🤢🤢🤢🤢\n",
      "🤢🤢🤢🤢🤢🤢🤢🤢🤢🤢🤢🤢🤢🤢🤢🤢🤢🤢🤢🤢\n",
      "🤢🤢🤢🤢🤢🤢🤢🤢🤢🤢🤢🤢🤢🤢🤢🤢🤢🤢🤢🤢\n",
      "🤢🤢🤢🤢🤢🤢🤢🤢🤢🤢🤢🤢🤢🤢🤢🤢🤢🤢🤢🤢\n",
      "🤢🤢🤢🤢🤢🤢🤢🤢🤢🤢🤢🤢🤢🤢🤢🤢🤢🤢🤢🤢\n",
      "🤢🤢🤢🤢🤢🤢🤢🤢🤢🤢🤢🤢🤢🤢🤢🤢🤢🤢🤢🤢\n",
      "🤢🤢🤢🤢🤢🤢🤢🤢🤢🤢🤢🤢🤢🤢🤢🤢🤢🤢🤢🤢\n",
      "🤢🤢🤢🤢🤢🤢🤢🤢🤢🤢🤢🤢🤢🤢🤢🤢🤢🤢🤢🤢\n",
      "🤢🤢🤢🤢🤢🤢🤢🤢🤢🤢🤢🤢🤢🤢🤢🤢🤢🤢🤢🤢\n",
      "🤢🤢🤢🤢🤢🤢🤢🤢🤢🤢🤢🤢🤢🤢🤢🤢🤢🤢🤢🤢\n",
      "\n"
     ]
    }
   ],
   "source": [
    "world = np.array([list(row) for row in worldstr.split('\\n')])\n",
    "\n",
    "#while True: # main loop\n",
    "for _ in range(52):\n",
    "    display_world(world)\n",
    "    world = update_world(world)\n",
    "    print()"
   ]
  }
 ],
 "metadata": {
  "kernelspec": {
   "display_name": "Python 3 (ipykernel)",
   "language": "python",
   "name": "python3"
  },
  "language_info": {
   "codemirror_mode": {
    "name": "ipython",
    "version": 3
   },
   "file_extension": ".py",
   "mimetype": "text/x-python",
   "name": "python",
   "nbconvert_exporter": "python",
   "pygments_lexer": "ipython3",
   "version": "3.8.0"
  }
 },
 "nbformat": 4,
 "nbformat_minor": 2
}
