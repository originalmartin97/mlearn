{
 "cells": [
  {
   "cell_type": "markdown",
   "metadata": {},
   "source": [
    "## [Standard streams](https://en.wikipedia.org/wiki/Standard_streams)\n",
    "\n",
    "The operating system assigns 3 standard streams to each process at startup: [standard input](https://docs.python.org/3/library/sys.html#sys.stdin), [standard output](https://docs.python.org/3/library/sys.html#sys.stdout), and [standard error](https://docs.python.org/3/library/sys.html#sys.stderr). By default, standard input is connected to the keyboard, standard output and error are connected to the display. This setting can be changed, for example the standard input can come from a file or another program, and the standard output can be directed to a file or another program."
   ]
  },
  {
   "cell_type": "markdown",
   "metadata": {},
   "source": [
    "### Standard input\n",
    "\n",
    "- We can read from standard input using the [input](https://docs.python.org/3/library/functions.html#input) function.\n",
    "- The type of the result is a string. Conversion is needed to obtain a different data type."
   ]
  },
  {
   "cell_type": "code",
   "execution_count": 1,
   "metadata": {},
   "outputs": [
    {
     "name": "stdout",
     "output_type": "stream",
     "text": [
      "Enter some text: foo\n"
     ]
    }
   ],
   "source": [
    "# Read input of type string.\n",
    "s = input('Enter some text: ')"
   ]
  },
  {
   "cell_type": "code",
   "execution_count": 2,
   "metadata": {},
   "outputs": [
    {
     "data": {
      "text/plain": [
       "'foo'"
      ]
     },
     "execution_count": 2,
     "metadata": {},
     "output_type": "execute_result"
    }
   ],
   "source": [
    "s"
   ]
  },
  {
   "cell_type": "code",
   "execution_count": 3,
   "metadata": {},
   "outputs": [
    {
     "name": "stdout",
     "output_type": "stream",
     "text": [
      "Enter an integer: 42\n"
     ]
    }
   ],
   "source": [
    "# Read integer input.\n",
    "i = int(input('Enter an integer: '))"
   ]
  },
  {
   "cell_type": "code",
   "execution_count": 4,
   "metadata": {},
   "outputs": [
    {
     "data": {
      "text/plain": [
       "42"
      ]
     },
     "execution_count": 4,
     "metadata": {},
     "output_type": "execute_result"
    }
   ],
   "source": [
    "i"
   ]
  },
  {
   "cell_type": "markdown",
   "metadata": {},
   "source": [
    "### Standard output and error\n",
    "\n",
    "- We can write to standard output and error using the [print](https://docs.python.org/3/library/functions.html#print) function."
   ]
  },
  {
   "cell_type": "code",
   "execution_count": 5,
   "metadata": {},
   "outputs": [
    {
     "name": "stdout",
     "output_type": "stream",
     "text": [
      "hello\n",
      "bello\n"
     ]
    },
    {
     "data": {
      "text/plain": [
       "10"
      ]
     },
     "execution_count": 5,
     "metadata": {},
     "output_type": "execute_result"
    }
   ],
   "source": [
    "# Printing to standard output.\n",
    "print('hello')\n",
    "print('bello')\n",
    "10"
   ]
  },
  {
   "cell_type": "code",
   "execution_count": 6,
   "metadata": {},
   "outputs": [
    {
     "name": "stdout",
     "output_type": "stream",
     "text": [
      "hellobello"
     ]
    }
   ],
   "source": [
    "# Printing into the same line.\n",
    "print('hello', end='')\n",
    "print('bello', end='')"
   ]
  },
  {
   "cell_type": "code",
   "execution_count": 7,
   "metadata": {},
   "outputs": [
    {
     "name": "stdout",
     "output_type": "stream",
     "text": [
      "\n"
     ]
    }
   ],
   "source": [
    "# Printing a line break.\n",
    "print()"
   ]
  },
  {
   "cell_type": "code",
   "execution_count": 8,
   "metadata": {},
   "outputs": [
    {
     "name": "stderr",
     "output_type": "stream",
     "text": [
      "error\n"
     ]
    }
   ],
   "source": [
    "# Printing to standard error.\n",
    "import sys\n",
    "print('error', file=sys.stderr)"
   ]
  },
  {
   "cell_type": "markdown",
   "metadata": {},
   "source": [
    "### [Output formatting](https://docs.python.org/3/tutorial/inputoutput.html#fancier-output-formatting)"
   ]
  },
  {
   "cell_type": "code",
   "execution_count": 9,
   "metadata": {},
   "outputs": [
    {
     "name": "stdout",
     "output_type": "stream",
     "text": [
      "the solutions are 1.23 and 1.67\n"
     ]
    }
   ],
   "source": [
    "# Output formatting using an f-string.\n",
    "x = 1.23\n",
    "y = 1.67\n",
    "print(f'the solutions are {x} and {y}')"
   ]
  },
  {
   "cell_type": "code",
   "execution_count": 10,
   "metadata": {},
   "outputs": [
    {
     "name": "stdout",
     "output_type": "stream",
     "text": [
      "the approximate solutions are 1.2 and 1.7\n"
     ]
    }
   ],
   "source": [
    "# Printing with 1 decimal place accuracy.\n",
    "print(f'the approximate solutions are {x:.1f} and {y:.1f}')"
   ]
  },
  {
   "cell_type": "code",
   "execution_count": 11,
   "metadata": {},
   "outputs": [
    {
     "name": "stdout",
     "output_type": "stream",
     "text": [
      "42 1.23 foo\n"
     ]
    }
   ],
   "source": [
    "# Printing different data types.\n",
    "i = 42\n",
    "f = 1.23\n",
    "s = 'foo'\n",
    "print(f'{i} {f} {s}')"
   ]
  },
  {
   "cell_type": "code",
   "execution_count": 12,
   "metadata": {},
   "outputs": [
    {
     "data": {
      "text/plain": [
       "'42 1.23 foo'"
      ]
     },
     "execution_count": 12,
     "metadata": {},
     "output_type": "execute_result"
    }
   ],
   "source": [
    "# f-strings and can be used without printing, as a string operation.\n",
    "t = f'{i} {f} {s}'\n",
    "t"
   ]
  },
  {
   "cell_type": "markdown",
   "metadata": {},
   "source": [
    "<small>\n",
    "    <u>Comment</u>: Other, less modern ways of output formatting are the % operator and the format() function.\n",
    "</small>"
   ]
  },
  {
   "cell_type": "markdown",
   "metadata": {},
   "source": [
    "## Control structures\n",
    "\n",
    "- In Python, the body of control structures is marked by indentation.\n",
    "- Therefore, the visual appearance of a program is always consistent with its logical meaning."
   ]
  },
  {
   "cell_type": "markdown",
   "metadata": {},
   "source": [
    "### [if statement](https://docs.python.org/3/reference/compound_stmts.html#the-if-statement)\n",
    "\n",
    "- Syntax:\n",
    "```\n",
    "  if CONDITION1:\n",
    "      STATEMENT1\n",
    "  elif CONDITION2:\n",
    "      STATEMENT2\n",
    "  else:\n",
    "      STATEMENT3\n",
    "```\n",
    "\n",
    "- Flow diagram:\n",
    "```                             \n",
    "      +------------+      true   +------------+\n",
    "  --->| CONDITION1 |---+-------->| STATEMENT1 |------------------------------+--->\n",
    "      +------------+   |         +------------+                              |\n",
    "                       |                                                     |\n",
    "                       |  false  +------------+      true   +------------+   |\n",
    "                       +-------->| CONDITION2 |---+-------->| STATEMENT2 |---+\n",
    "                                 +------------+   |         +------------+   |\n",
    "                                                  |                          |\n",
    "                                                  |  false  +------------+   |\n",
    "                                                  +-------->| STATEMENT3 |---+\n",
    "                                                            +------------+\n",
    "```\n",
    "- Remarks:\n",
    "  + There can be multiple elif branches.\n",
    "  + The elif branche and the else branch can be omitted.\n",
    "  + If the statement is 1 line long, then it can be written into the same line with if, elif and else."
   ]
  },
  {
   "cell_type": "code",
   "execution_count": 13,
   "metadata": {},
   "outputs": [
    {
     "name": "stdout",
     "output_type": "stream",
     "text": [
      "How old are you? 19\n",
      "Do you want a beer?\n"
     ]
    }
   ],
   "source": [
    "# Example: Do you want a beer?\n",
    "age = int(input('How old are you? '))\n",
    "if age < 18:\n",
    "    print('You cannot get a beer.')\n",
    "else:\n",
    "    print('Do you want a beer?')"
   ]
  },
  {
   "cell_type": "code",
   "execution_count": 14,
   "metadata": {},
   "outputs": [
    {
     "name": "stdout",
     "output_type": "stream",
     "text": [
      "a: 1\n",
      "b: 3\n",
      "c: 2\n",
      "x1=-1.0 x2=-2.0\n"
     ]
    }
   ],
   "source": [
    "# Example: Quadratic equation solver.\n",
    "\n",
    "# get the coefficients a, b, c\n",
    "a = float(input('a: '))\n",
    "b = float(input('b: '))\n",
    "c = float(input('c: '))\n",
    "\n",
    "# compute discriminant\n",
    "d = b**2 - 4 * a * c\n",
    "\n",
    "# 3-way branching\n",
    "if d > 0:\n",
    "    x1 = (-b + d**0.5) / (2 * a)\n",
    "    x2 = (-b - d**0.5) / (2 * a)\n",
    "    print(f'x1={x1} x2={x2}')\n",
    "elif d == 0:\n",
    "    x1 = -b / (2 * a)\n",
    "    print(f'x1={x1}')\n",
    "else:\n",
    "    print('no solution')"
   ]
  },
  {
   "cell_type": "markdown",
   "metadata": {},
   "source": [
    "### [while statement](https://docs.python.org/3/reference/compound_stmts.html#the-while-statement)\n",
    "\n",
    "- Syntax:\n",
    "```\n",
    "  while CONDITION:\n",
    "      STATEMENT\n",
    "```\n",
    "\n",
    "- Flow diagram:\n",
    "```\n",
    "            +-----------+  true\n",
    "     +<-----| STATEMENT |--------+\n",
    "     |      +-----------+        |\n",
    "     |                           |\n",
    "     |      +-----------+        |  false\n",
    "  ---+------| CONDITION |--------+-------->\n",
    "            +-----------+                    \n",
    "```\n",
    "- Remarks:\n",
    "  + In a well written program, the condition eventually changes to false (otherwise there is an endless loop).\n",
    "  + A while loop should be applied, if the number of iterations is not known at the beginning of the loop."
   ]
  },
  {
   "cell_type": "code",
   "execution_count": 15,
   "metadata": {},
   "outputs": [
    {
     "name": "stdout",
     "output_type": "stream",
     "text": [
      "What is your score? 10\n",
      "The result is FAIL. Study more!\n",
      "What is your score? 11\n",
      "The result is FAIL. Study more!\n",
      "What is your score? 15\n",
      "Congratulations, you passed the programming exam.\n"
     ]
    }
   ],
   "source": [
    "# Example: The programming exam.\n",
    "while int(input('What is your score? ')) < 12:\n",
    "    print('The result is FAIL. Study more!')\n",
    "    \n",
    "print('Congratulations, you passed the programming exam.')"
   ]
  },
  {
   "cell_type": "markdown",
   "metadata": {},
   "source": [
    "### [for statement](https://docs.python.org/3/reference/compound_stmts.html#the-for-statement)\n",
    "\n",
    "- Syntax:\n",
    "```\n",
    "  for ELEMENT in SEQUENCE:\n",
    "      STATEMENT\n",
    "```\n",
    "\n",
    "- Flow diagram:\n",
    "```\n",
    "               +-----------+   there are elements\n",
    "        +<-----| STATEMENT |<----------------------+ \n",
    "        |      +-----------+                       |\n",
    "        |                                          |\n",
    "        |      +----------------------+            |\n",
    "  ------+----->| get the next ELEMENT |------------+------------------->\n",
    "               | from the SEQUENCE    |               no more element\n",
    "               +----------------------+\n",
    "```\n",
    "- Remarks:\n",
    "  + The sequence can be a consecutive sequence of integers, or another sequence (e.g. string, tuple, list, set, dict, open file).\n",
    "  + A for loop should be applied if A) the sequence is already available or B) we know the number of iterations at the beginning of the loop."
   ]
  },
  {
   "cell_type": "code",
   "execution_count": 16,
   "metadata": {},
   "outputs": [
    {
     "data": {
      "text/plain": [
       "range(1, 11)"
      ]
     },
     "execution_count": 16,
     "metadata": {},
     "output_type": "execute_result"
    }
   ],
   "source": [
    "# Creating a range.\n",
    "range(1, 11) # lower bound: 1, upper bound: 10, step size: 1"
   ]
  },
  {
   "cell_type": "code",
   "execution_count": 17,
   "metadata": {},
   "outputs": [
    {
     "data": {
      "text/plain": [
       "[1, 2, 3, 4, 5, 6, 7, 8, 9, 10]"
      ]
     },
     "execution_count": 17,
     "metadata": {},
     "output_type": "execute_result"
    }
   ],
   "source": [
    "list(range(1, 11))"
   ]
  },
  {
   "cell_type": "code",
   "execution_count": 18,
   "metadata": {},
   "outputs": [
    {
     "data": {
      "text/plain": [
       "[0, 1, 2, 3, 4, 5, 6]"
      ]
     },
     "execution_count": 18,
     "metadata": {},
     "output_type": "execute_result"
    }
   ],
   "source": [
    "list(range(7)) # by default, the lower bound is 0 and the step size is 1"
   ]
  },
  {
   "cell_type": "code",
   "execution_count": 19,
   "metadata": {},
   "outputs": [
    {
     "data": {
      "text/plain": [
       "[10, 17, 24, 31, 38, 45, 52, 59, 66, 73, 80, 87, 94]"
      ]
     },
     "execution_count": 19,
     "metadata": {},
     "output_type": "execute_result"
    }
   ],
   "source": [
    "list(range(10, 100, 7))"
   ]
  },
  {
   "cell_type": "code",
   "execution_count": 20,
   "metadata": {},
   "outputs": [
    {
     "data": {
      "text/plain": [
       "[10, 9, 8, 7, 6, 5, 4, 3, 2, 1]"
      ]
     },
     "execution_count": 20,
     "metadata": {},
     "output_type": "execute_result"
    }
   ],
   "source": [
    "list(range(10, 0, -1))"
   ]
  },
  {
   "cell_type": "code",
   "execution_count": 21,
   "metadata": {},
   "outputs": [
    {
     "name": "stdout",
     "output_type": "stream",
     "text": [
      "1\n",
      "4\n",
      "9\n",
      "16\n",
      "25\n",
      "36\n",
      "49\n",
      "64\n",
      "81\n",
      "100\n"
     ]
    }
   ],
   "source": [
    "# Example: Printing the first n square numbers.\n",
    "n = 10\n",
    "for i in range(1, n + 1):\n",
    "    print(i**2)"
   ]
  },
  {
   "cell_type": "code",
   "execution_count": 3,
   "metadata": {},
   "outputs": [
    {
     "name": "stdout",
     "output_type": "stream",
     "text": [
      "*******"
     ]
    }
   ],
   "source": [
    "n = 7\n",
    "for _ in range(n):\n",
    "    print('*', end='') "
   ]
  },
  {
   "cell_type": "code",
   "execution_count": 24,
   "metadata": {},
   "outputs": [
    {
     "name": "stdout",
     "output_type": "stream",
     "text": [
      "*******\n"
     ]
    }
   ],
   "source": [
    "# ...shorter solution:\n",
    "print('*' * n)"
   ]
  },
  {
   "cell_type": "code",
   "execution_count": 25,
   "metadata": {
    "scrolled": true
   },
   "outputs": [
    {
     "name": "stdout",
     "output_type": "stream",
     "text": [
      "*\n",
      "**\n",
      "***\n",
      "****\n",
      "*****\n",
      "******\n"
     ]
    }
   ],
   "source": [
    "# Example: n-by-n triangle from * characters.\n",
    "# *\n",
    "# **\n",
    "# ***\n",
    "# ****\n",
    "\n",
    "n = 6\n",
    "for i in range(n):\n",
    "    print('*' * (i + 1))"
   ]
  },
  {
   "cell_type": "code",
   "execution_count": 26,
   "metadata": {},
   "outputs": [
    {
     "name": "stdout",
     "output_type": "stream",
     "text": [
      "*\n",
      "**\n",
      "***\n",
      "****\n",
      "*****\n",
      "******\n"
     ]
    }
   ],
   "source": [
    "n = 6\n",
    "for i in range(1, n + 1):\n",
    "    print('*' * i)"
   ]
  },
  {
   "cell_type": "code",
   "execution_count": 27,
   "metadata": {},
   "outputs": [
    {
     "name": "stdout",
     "output_type": "stream",
     "text": [
      "*\n",
      "**\n",
      "***\n",
      "****\n",
      "*****\n",
      "******\n"
     ]
    }
   ],
   "source": [
    "for i in range(1, n + 1):\n",
    "    for j in range(i):\n",
    "        print('*', end='')\n",
    "    print()"
   ]
  },
  {
   "cell_type": "code",
   "execution_count": 28,
   "metadata": {},
   "outputs": [
    {
     "data": {
      "text/plain": [
       "7"
      ]
     },
     "execution_count": 28,
     "metadata": {},
     "output_type": "execute_result"
    }
   ],
   "source": [
    "# Example: Counting vowels (in a lowercase text).\n",
    "text = 'random apple tree text'\n",
    "vowels = {'a', 'e', 'i', 'o', 'u'}\n",
    "counter = 0\n",
    "for c in text: # we iterate over the characters of the text\n",
    "    if c in vowels:\n",
    "        counter += 1\n",
    "counter"
   ]
  },
  {
   "cell_type": "code",
   "execution_count": 29,
   "metadata": {},
   "outputs": [
    {
     "name": "stdout",
     "output_type": "stream",
     "text": [
      "1.11 µs ± 4.54 ns per loop (mean ± std. dev. of 7 runs, 1,000,000 loops each)\n"
     ]
    }
   ],
   "source": [
    "%%timeit\n",
    "vowels = {'a', 'e', 'i', 'o', 'u'}\n",
    "counter = 0\n",
    "for c in text:\n",
    "    if c in vowels:\n",
    "        counter += 1"
   ]
  },
  {
   "cell_type": "code",
   "execution_count": 30,
   "metadata": {},
   "outputs": [
    {
     "name": "stdout",
     "output_type": "stream",
     "text": [
      "2.43 µs ± 19.1 ns per loop (mean ± std. dev. of 7 runs, 100,000 loops each)\n"
     ]
    }
   ],
   "source": [
    "%%timeit\n",
    "vowels = ['a', 'e', 'i', 'o', 'u']\n",
    "counter = 0\n",
    "for c in text:\n",
    "    if c in vowels:\n",
    "        counter += 1"
   ]
  },
  {
   "cell_type": "code",
   "execution_count": 31,
   "metadata": {},
   "outputs": [
    {
     "name": "stdout",
     "output_type": "stream",
     "text": [
      "2.35 µs ± 2.31 ns per loop (mean ± std. dev. of 7 runs, 100,000 loops each)\n"
     ]
    }
   ],
   "source": [
    "%%timeit\n",
    "vowels = ('a', 'e', 'i', 'o', 'u')\n",
    "counter = 0\n",
    "for c in text:\n",
    "    if c in vowels:\n",
    "        counter += 1"
   ]
  },
  {
   "cell_type": "code",
   "execution_count": 32,
   "metadata": {},
   "outputs": [
    {
     "name": "stdout",
     "output_type": "stream",
     "text": [
      "1.08 µs ± 16.3 ns per loop (mean ± std. dev. of 7 runs, 1,000,000 loops each)\n"
     ]
    }
   ],
   "source": [
    "%%timeit\n",
    "vowels = 'aeiou'\n",
    "counter = 0\n",
    "for c in text:\n",
    "    if c in vowels:\n",
    "        counter += 1"
   ]
  },
  {
   "cell_type": "code",
   "execution_count": 33,
   "metadata": {},
   "outputs": [
    {
     "data": {
      "text/plain": [
       "'a'"
      ]
     },
     "execution_count": 33,
     "metadata": {},
     "output_type": "execute_result"
    }
   ],
   "source": [
    "# Transform Latin character to the next letter of the alphabet (for lowercase letters).\n",
    "# Letter 'z' should be transformed to 'a'.\n",
    "c = 'z'\n",
    "chr((ord(c) - ord('a') + 1) % 26 + ord('a'))"
   ]
  },
  {
   "cell_type": "code",
   "execution_count": 34,
   "metadata": {},
   "outputs": [
    {
     "data": {
      "text/plain": [
       "'yhqlylglylfl'"
      ]
     },
     "execution_count": 34,
     "metadata": {},
     "output_type": "execute_result"
    }
   ],
   "source": [
    "# Example: Caesar-encoding (for lowercase Latin text without whitespaces)\n",
    "message = 'venividivici'\n",
    "offset = 3\n",
    "encoded_message = ''\n",
    "\n",
    "for c in message:\n",
    "    d = chr((ord(c) - ord('a') + offset) % 26 + ord('a'))\n",
    "    encoded_message += d\n",
    "    \n",
    "encoded_message"
   ]
  },
  {
   "cell_type": "markdown",
   "metadata": {},
   "source": [
    "## Exercise: Simple number guessing game\n",
    "\n",
    "Write a program that draws a random number from 1 to 100, then asks for guesses from the player, until the player finds out the number. After each guess, the program should show if the given guess was too low, too high or it was correct."
   ]
  },
  {
   "cell_type": "code",
   "execution_count": 36,
   "metadata": {},
   "outputs": [
    {
     "name": "stdout",
     "output_type": "stream",
     "text": [
      "guess: 50\n",
      "too high\n",
      "guess: 25\n",
      "too low\n",
      "guess: 37\n",
      "too high\n",
      "guess: 29\n",
      "too low\n",
      "guess: 33\n",
      "too low\n",
      "guess: 34\n",
      "CORRECT\n"
     ]
    }
   ],
   "source": [
    "# Import the random module of the standard library.\n",
    "import random\n",
    "\n",
    "# Generate a random integer between 1 and 100.\n",
    "num = random.randint(1, 100)\n",
    "\n",
    "# Ask for guesses.\n",
    "guess = None\n",
    "while guess != num:\n",
    "    guess = int(input('guess: '))\n",
    "    if guess > num:\n",
    "        print('too high')\n",
    "    elif guess < num:\n",
    "        print('too low')\n",
    "    else:\n",
    "        print('CORRECT')"
   ]
  },
  {
   "cell_type": "markdown",
   "metadata": {},
   "source": [
    "## Multiples of 3 or 5 (Problem 1)\n",
    "\n",
    "If we list all the natural numbers below 10 that are multiples of 3 or 5, we get 3, 5, 6 and 9. The sum of these multiples is 23. Find the sum of all the multiples of 3 or 5 below 1000."
   ]
  },
  {
   "cell_type": "code",
   "execution_count": 40,
   "metadata": {},
   "outputs": [
    {
     "data": {
      "text/plain": [
       "233168"
      ]
     },
     "execution_count": 40,
     "metadata": {},
     "output_type": "execute_result"
    }
   ],
   "source": [
    "s = 0\n",
    "for i in range(1000):\n",
    "    if i % 3 == 0 or i % 5 == 0:\n",
    "        s += i\n",
    "s"
   ]
  }
 ],
 "metadata": {
  "kernelspec": {
   "display_name": "Python 3 (ipykernel)",
   "language": "python",
   "name": "python3"
  },
  "language_info": {
   "codemirror_mode": {
    "name": "ipython",
    "version": 3
   },
   "file_extension": ".py",
   "mimetype": "text/x-python",
   "name": "python",
   "nbconvert_exporter": "python",
   "pygments_lexer": "ipython3",
   "version": "3.8.0"
  }
 },
 "nbformat": 4,
 "nbformat_minor": 4
}
