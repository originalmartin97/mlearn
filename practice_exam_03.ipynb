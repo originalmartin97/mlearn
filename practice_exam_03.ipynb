{
 "cells": [
  {
   "cell_type": "markdown",
   "metadata": {},
   "source": [
    "## Python Programming Practice Exam"
   ]
  },
  {
   "cell_type": "markdown",
   "metadata": {},
   "source": [
    "```\n",
    "Scoring:\n",
    "============\n",
    " 0-11: fail (1),\n",
    "12-14: pass (2),\n",
    "15-17: satisfactory (3),\n",
    "18-20: good (4),\n",
    "21-24: excellent (5).\n",
    "```"
   ]
  },
  {
   "cell_type": "markdown",
   "metadata": {},
   "source": [
    "### Problem 1\n",
    "<p style=\"text-align: right\">(12 points)</p>\n",
    "\n",
    "Write a program that asks two strings from the user and then prints the number of bigrams that appear in both strings.\n",
    "By bigram we mean a substring of length 2, for instance the bigram decomposition of the string `papabear` is `pa`-`ap`-`pa`-`ab`-`be`-`ea`-`ar`. Example run:\n",
    "\n",
    "```\n",
    "1st string: papabear\n",
    "2nd string: mamabear\n",
    "Number of common bigrams: 4\n",
    "```"
   ]
  },
  {
   "cell_type": "code",
   "execution_count": 13,
   "metadata": {},
   "outputs": [
    {
     "name": "stdin",
     "output_type": "stream",
     "text": [
      "1st string:  papabear\n",
      "2nd string:  mamabear\n"
     ]
    },
    {
     "data": {
      "text/plain": [
       "4"
      ]
     },
     "execution_count": 13,
     "metadata": {},
     "output_type": "execute_result"
    }
   ],
   "source": [
    "# user input\n",
    "s1 = input('1st string: ')\n",
    "s2 = input('2nd string: ')\n",
    "\n",
    "# bigram decomposition\n",
    "b1 = {s1[i:i + 2] for i in range(len(s1) - 1)}\n",
    "b2 = {s2[i:i + 2] for i in range(len(s2) - 1)}\n",
    "\n",
    "# number of common bigrams\n",
    "len(b1 & b2)"
   ]
  },
  {
   "cell_type": "markdown",
   "metadata": {},
   "source": [
    "### Problem 2\n",
    "<p style=\"text-align: right\">(12 points)</p>\n",
    "\n",
    "The file [nba_games.txt](nba_games.txt) contains data about NBA basketball games, from season 2013 to season 2019. Write a program that loads the data and then answers the following questions:\n",
    "\n",
    "**(a)**: What percentage of the games was won by the home team (the home team wins if `PTS_home` is greater than `PTS_away`)?<br>\n",
    "**(b)**: How many games had more than 130 rebounds (based on the sum of `REB_home` and `REB_away`)?<br>\n",
    "**(c)**: Which was the game with the largest point difference between the teams?<br>\n",
    "**(d)**: What is the ranking of the teams, based on the number of games won?"
   ]
  },
  {
   "cell_type": "code",
   "execution_count": 19,
   "metadata": {},
   "outputs": [
    {
     "data": {
      "text/html": [
       "<div>\n",
       "<style scoped>\n",
       "    .dataframe tbody tr th:only-of-type {\n",
       "        vertical-align: middle;\n",
       "    }\n",
       "\n",
       "    .dataframe tbody tr th {\n",
       "        vertical-align: top;\n",
       "    }\n",
       "\n",
       "    .dataframe thead th {\n",
       "        text-align: right;\n",
       "    }\n",
       "</style>\n",
       "<table border=\"1\" class=\"dataframe\">\n",
       "  <thead>\n",
       "    <tr style=\"text-align: right;\">\n",
       "      <th></th>\n",
       "      <th>SEASON</th>\n",
       "      <th>DATE</th>\n",
       "      <th>TEAM_home</th>\n",
       "      <th>TEAM_away</th>\n",
       "      <th>PTS_home</th>\n",
       "      <th>PTS_away</th>\n",
       "      <th>REB_home</th>\n",
       "      <th>REB_away</th>\n",
       "      <th>AST_home</th>\n",
       "      <th>AST_away</th>\n",
       "      <th>FG3_PCT_home</th>\n",
       "      <th>FG3_PCT_away</th>\n",
       "    </tr>\n",
       "  </thead>\n",
       "  <tbody>\n",
       "    <tr>\n",
       "      <th>0</th>\n",
       "      <td>2019</td>\n",
       "      <td>2020-10-11</td>\n",
       "      <td>Miami Heat</td>\n",
       "      <td>Los Angeles Lakers</td>\n",
       "      <td>93</td>\n",
       "      <td>106</td>\n",
       "      <td>41</td>\n",
       "      <td>46</td>\n",
       "      <td>25</td>\n",
       "      <td>23</td>\n",
       "      <td>35.7</td>\n",
       "      <td>31.4</td>\n",
       "    </tr>\n",
       "    <tr>\n",
       "      <th>1</th>\n",
       "      <td>2019</td>\n",
       "      <td>2020-10-09</td>\n",
       "      <td>Los Angeles Lakers</td>\n",
       "      <td>Miami Heat</td>\n",
       "      <td>108</td>\n",
       "      <td>111</td>\n",
       "      <td>41</td>\n",
       "      <td>35</td>\n",
       "      <td>21</td>\n",
       "      <td>26</td>\n",
       "      <td>36.8</td>\n",
       "      <td>42.4</td>\n",
       "    </tr>\n",
       "    <tr>\n",
       "      <th>2</th>\n",
       "      <td>2019</td>\n",
       "      <td>2020-10-06</td>\n",
       "      <td>Miami Heat</td>\n",
       "      <td>Los Angeles Lakers</td>\n",
       "      <td>96</td>\n",
       "      <td>102</td>\n",
       "      <td>39</td>\n",
       "      <td>42</td>\n",
       "      <td>18</td>\n",
       "      <td>25</td>\n",
       "      <td>34.4</td>\n",
       "      <td>35.9</td>\n",
       "    </tr>\n",
       "    <tr>\n",
       "      <th>3</th>\n",
       "      <td>2019</td>\n",
       "      <td>2020-10-04</td>\n",
       "      <td>Miami Heat</td>\n",
       "      <td>Los Angeles Lakers</td>\n",
       "      <td>115</td>\n",
       "      <td>104</td>\n",
       "      <td>37</td>\n",
       "      <td>43</td>\n",
       "      <td>25</td>\n",
       "      <td>23</td>\n",
       "      <td>35.3</td>\n",
       "      <td>33.3</td>\n",
       "    </tr>\n",
       "    <tr>\n",
       "      <th>4</th>\n",
       "      <td>2019</td>\n",
       "      <td>2020-10-02</td>\n",
       "      <td>Los Angeles Lakers</td>\n",
       "      <td>Miami Heat</td>\n",
       "      <td>124</td>\n",
       "      <td>114</td>\n",
       "      <td>44</td>\n",
       "      <td>37</td>\n",
       "      <td>32</td>\n",
       "      <td>29</td>\n",
       "      <td>34.0</td>\n",
       "      <td>40.7</td>\n",
       "    </tr>\n",
       "  </tbody>\n",
       "</table>\n",
       "</div>"
      ],
      "text/plain": [
       "   SEASON        DATE           TEAM_home           TEAM_away  PTS_home  \\\n",
       "0    2019  2020-10-11          Miami Heat  Los Angeles Lakers        93   \n",
       "1    2019  2020-10-09  Los Angeles Lakers          Miami Heat       108   \n",
       "2    2019  2020-10-06          Miami Heat  Los Angeles Lakers        96   \n",
       "3    2019  2020-10-04          Miami Heat  Los Angeles Lakers       115   \n",
       "4    2019  2020-10-02  Los Angeles Lakers          Miami Heat       124   \n",
       "\n",
       "   PTS_away  REB_home  REB_away  AST_home  AST_away  FG3_PCT_home  \\\n",
       "0       106        41        46        25        23          35.7   \n",
       "1       111        41        35        21        26          36.8   \n",
       "2       102        39        42        18        25          34.4   \n",
       "3       104        37        43        25        23          35.3   \n",
       "4       114        44        37        32        29          34.0   \n",
       "\n",
       "   FG3_PCT_away  \n",
       "0          31.4  \n",
       "1          42.4  \n",
       "2          35.9  \n",
       "3          33.3  \n",
       "4          40.7  "
      ]
     },
     "execution_count": 19,
     "metadata": {},
     "output_type": "execute_result"
    }
   ],
   "source": [
    "# load data from CSV\n",
    "import pandas as pd\n",
    "df = pd.read_csv('nba_games.txt', sep='|', comment='#')\n",
    "df.head()"
   ]
  },
  {
   "cell_type": "code",
   "execution_count": 20,
   "metadata": {},
   "outputs": [
    {
     "name": "stdout",
     "output_type": "stream",
     "text": [
      "<class 'pandas.core.frame.DataFrame'>\n",
      "RangeIndex: 23372 entries, 0 to 23371\n",
      "Data columns (total 12 columns):\n",
      " #   Column        Non-Null Count  Dtype  \n",
      "---  ------        --------------  -----  \n",
      " 0   SEASON        23372 non-null  int64  \n",
      " 1   DATE          23372 non-null  object \n",
      " 2   TEAM_home     23372 non-null  object \n",
      " 3   TEAM_away     23372 non-null  object \n",
      " 4   PTS_home      23372 non-null  int64  \n",
      " 5   PTS_away      23372 non-null  int64  \n",
      " 6   REB_home      23372 non-null  int64  \n",
      " 7   REB_away      23372 non-null  int64  \n",
      " 8   AST_home      23372 non-null  int64  \n",
      " 9   AST_away      23372 non-null  int64  \n",
      " 10  FG3_PCT_home  23372 non-null  float64\n",
      " 11  FG3_PCT_away  23372 non-null  float64\n",
      "dtypes: float64(2), int64(7), object(3)\n",
      "memory usage: 2.1+ MB\n"
     ]
    }
   ],
   "source": [
    "# check data quality\n",
    "df.info()"
   ]
  },
  {
   "cell_type": "code",
   "execution_count": 22,
   "metadata": {},
   "outputs": [
    {
     "data": {
      "text/html": [
       "<div>\n",
       "<style scoped>\n",
       "    .dataframe tbody tr th:only-of-type {\n",
       "        vertical-align: middle;\n",
       "    }\n",
       "\n",
       "    .dataframe tbody tr th {\n",
       "        vertical-align: top;\n",
       "    }\n",
       "\n",
       "    .dataframe thead th {\n",
       "        text-align: right;\n",
       "    }\n",
       "</style>\n",
       "<table border=\"1\" class=\"dataframe\">\n",
       "  <thead>\n",
       "    <tr style=\"text-align: right;\">\n",
       "      <th></th>\n",
       "      <th>count</th>\n",
       "      <th>mean</th>\n",
       "      <th>std</th>\n",
       "      <th>min</th>\n",
       "      <th>25%</th>\n",
       "      <th>50%</th>\n",
       "      <th>75%</th>\n",
       "      <th>max</th>\n",
       "    </tr>\n",
       "  </thead>\n",
       "  <tbody>\n",
       "    <tr>\n",
       "      <th>SEASON</th>\n",
       "      <td>23372.0</td>\n",
       "      <td>2010.973686</td>\n",
       "      <td>4.864080</td>\n",
       "      <td>2003.0</td>\n",
       "      <td>2007.0</td>\n",
       "      <td>2011.0</td>\n",
       "      <td>2015.0</td>\n",
       "      <td>2019.0</td>\n",
       "    </tr>\n",
       "    <tr>\n",
       "      <th>PTS_home</th>\n",
       "      <td>23372.0</td>\n",
       "      <td>102.268013</td>\n",
       "      <td>12.948549</td>\n",
       "      <td>36.0</td>\n",
       "      <td>93.0</td>\n",
       "      <td>102.0</td>\n",
       "      <td>111.0</td>\n",
       "      <td>168.0</td>\n",
       "    </tr>\n",
       "    <tr>\n",
       "      <th>PTS_away</th>\n",
       "      <td>23372.0</td>\n",
       "      <td>99.318030</td>\n",
       "      <td>13.015332</td>\n",
       "      <td>33.0</td>\n",
       "      <td>90.0</td>\n",
       "      <td>99.0</td>\n",
       "      <td>108.0</td>\n",
       "      <td>168.0</td>\n",
       "    </tr>\n",
       "    <tr>\n",
       "      <th>REB_home</th>\n",
       "      <td>23372.0</td>\n",
       "      <td>43.186548</td>\n",
       "      <td>6.606201</td>\n",
       "      <td>15.0</td>\n",
       "      <td>39.0</td>\n",
       "      <td>43.0</td>\n",
       "      <td>48.0</td>\n",
       "      <td>72.0</td>\n",
       "    </tr>\n",
       "    <tr>\n",
       "      <th>REB_away</th>\n",
       "      <td>23372.0</td>\n",
       "      <td>41.870786</td>\n",
       "      <td>6.498799</td>\n",
       "      <td>19.0</td>\n",
       "      <td>37.0</td>\n",
       "      <td>42.0</td>\n",
       "      <td>46.0</td>\n",
       "      <td>81.0</td>\n",
       "    </tr>\n",
       "    <tr>\n",
       "      <th>AST_home</th>\n",
       "      <td>23372.0</td>\n",
       "      <td>22.533459</td>\n",
       "      <td>5.152033</td>\n",
       "      <td>6.0</td>\n",
       "      <td>19.0</td>\n",
       "      <td>22.0</td>\n",
       "      <td>26.0</td>\n",
       "      <td>47.0</td>\n",
       "    </tr>\n",
       "    <tr>\n",
       "      <th>AST_away</th>\n",
       "      <td>23372.0</td>\n",
       "      <td>21.131824</td>\n",
       "      <td>5.082061</td>\n",
       "      <td>4.0</td>\n",
       "      <td>18.0</td>\n",
       "      <td>21.0</td>\n",
       "      <td>24.0</td>\n",
       "      <td>46.0</td>\n",
       "    </tr>\n",
       "    <tr>\n",
       "      <th>FG3_PCT_home</th>\n",
       "      <td>23372.0</td>\n",
       "      <td>35.552999</td>\n",
       "      <td>11.435611</td>\n",
       "      <td>0.0</td>\n",
       "      <td>28.3</td>\n",
       "      <td>35.5</td>\n",
       "      <td>42.9</td>\n",
       "      <td>100.0</td>\n",
       "    </tr>\n",
       "    <tr>\n",
       "      <th>FG3_PCT_away</th>\n",
       "      <td>23372.0</td>\n",
       "      <td>34.881871</td>\n",
       "      <td>11.240852</td>\n",
       "      <td>0.0</td>\n",
       "      <td>27.6</td>\n",
       "      <td>35.0</td>\n",
       "      <td>42.1</td>\n",
       "      <td>100.0</td>\n",
       "    </tr>\n",
       "  </tbody>\n",
       "</table>\n",
       "</div>"
      ],
      "text/plain": [
       "                count         mean        std     min     25%     50%     75%  \\\n",
       "SEASON        23372.0  2010.973686   4.864080  2003.0  2007.0  2011.0  2015.0   \n",
       "PTS_home      23372.0   102.268013  12.948549    36.0    93.0   102.0   111.0   \n",
       "PTS_away      23372.0    99.318030  13.015332    33.0    90.0    99.0   108.0   \n",
       "REB_home      23372.0    43.186548   6.606201    15.0    39.0    43.0    48.0   \n",
       "REB_away      23372.0    41.870786   6.498799    19.0    37.0    42.0    46.0   \n",
       "AST_home      23372.0    22.533459   5.152033     6.0    19.0    22.0    26.0   \n",
       "AST_away      23372.0    21.131824   5.082061     4.0    18.0    21.0    24.0   \n",
       "FG3_PCT_home  23372.0    35.552999  11.435611     0.0    28.3    35.5    42.9   \n",
       "FG3_PCT_away  23372.0    34.881871  11.240852     0.0    27.6    35.0    42.1   \n",
       "\n",
       "                 max  \n",
       "SEASON        2019.0  \n",
       "PTS_home       168.0  \n",
       "PTS_away       168.0  \n",
       "REB_home        72.0  \n",
       "REB_away        81.0  \n",
       "AST_home        47.0  \n",
       "AST_away        46.0  \n",
       "FG3_PCT_home   100.0  \n",
       "FG3_PCT_away   100.0  "
      ]
     },
     "execution_count": 22,
     "metadata": {},
     "output_type": "execute_result"
    }
   ],
   "source": [
    "df.describe().T"
   ]
  },
  {
   "cell_type": "code",
   "execution_count": 33,
   "metadata": {},
   "outputs": [
    {
     "data": {
      "text/plain": [
       "59.37446517200069"
      ]
     },
     "execution_count": 33,
     "metadata": {},
     "output_type": "execute_result"
    }
   ],
   "source": [
    "# (a): What percentage of the games was won by the home team (the home team wins if PTS_home is greater than PTS_away)?\n",
    "(df['PTS_home'] > df['PTS_away']).mean() * 100"
   ]
  },
  {
   "cell_type": "code",
   "execution_count": 38,
   "metadata": {},
   "outputs": [
    {
     "data": {
      "text/plain": [
       "3"
      ]
     },
     "execution_count": 38,
     "metadata": {},
     "output_type": "execute_result"
    }
   ],
   "source": [
    "# (b): How many games had more than 130 rebounds (based on the sum of REB_home and REB_away)?\n",
    "(df['REB_home'] + df['REB_away'] > 130).sum()"
   ]
  },
  {
   "cell_type": "code",
   "execution_count": 40,
   "metadata": {},
   "outputs": [],
   "source": [
    "#df[df['REB_home'] + df['REB_away'] > 130]"
   ]
  },
  {
   "cell_type": "code",
   "execution_count": 57,
   "metadata": {},
   "outputs": [
    {
     "data": {
      "text/plain": [
       "SEASON                       2017\n",
       "DATE                   2018-03-22\n",
       "TEAM_home       Charlotte Hornets\n",
       "TEAM_away       Memphis Grizzlies\n",
       "PTS_home                      140\n",
       "PTS_away                       79\n",
       "REB_home                       53\n",
       "REB_away                       38\n",
       "AST_home                       25\n",
       "AST_away                       13\n",
       "FG3_PCT_home                 47.5\n",
       "FG3_PCT_away                 22.2\n",
       "Name: 17986, dtype: object"
      ]
     },
     "execution_count": 57,
     "metadata": {},
     "output_type": "execute_result"
    }
   ],
   "source": [
    "# (c): Which was the game with the largest point difference between the teams?\n",
    "se = (df['PTS_home'] - df['PTS_away']).abs()\n",
    "\n",
    "# se = pd.Series([abs(x) for x in se])\n",
    "# (se**2)**0.5\n",
    "\n",
    "df.loc[se.idxmax()]"
   ]
  },
  {
   "cell_type": "code",
   "execution_count": 69,
   "metadata": {},
   "outputs": [
    {
     "data": {
      "text/plain": [
       "TEAM_home\n",
       "San Antonio Spurs         1101\n",
       "Miami Heat                 943\n",
       "Houston Rockets            942\n",
       "Boston Celtics             926\n",
       "Dallas Mavericks           907\n",
       "Golden State Warriors      886\n",
       "Denver Nuggets             868\n",
       "Oklahoma City Thunder      862\n",
       "Los Angeles Lakers         851\n",
       "Indiana Pacers             841\n",
       "Cleveland Cavaliers        831\n",
       "Utah Jazz                  817\n",
       "Toronto Raptors            812\n",
       "Los Angeles Clippers       797\n",
       "Detroit Pistons            792\n",
       "Chicago Bulls              784\n",
       "Portland Trail Blazers     776\n",
       "Phoenix Suns               755\n",
       "Memphis Grizzlies          754\n",
       "Orlando Magic              717\n",
       "Atlanta Hawks              712\n",
       "Milwaukee Bucks            707\n",
       "New Orleans Pelicans       693\n",
       "Washington Wizards         666\n",
       "Philadelphia 76ers         656\n",
       "Brooklyn Nets              653\n",
       "Sacramento Kings           609\n",
       "Minnesota Timberwolves     584\n",
       "New York Knicks            577\n",
       "Charlotte Hornets          553\n",
       "dtype: int64"
      ]
     },
     "execution_count": 69,
     "metadata": {},
     "output_type": "execute_result"
    }
   ],
   "source": [
    "# (d): What is the ranking of the teams, based on the number of games won?\n",
    "df['home_win'] = df['PTS_home'] > df['PTS_away']\n",
    "df['away_win'] = df['PTS_away'] > df['PTS_home']\n",
    "se = df.groupby('TEAM_home')['home_win'].sum() + df.groupby('TEAM_away')['away_win'].sum()\n",
    "se.sort_values(ascending=False)"
   ]
  },
  {
   "cell_type": "code",
   "execution_count": 81,
   "metadata": {},
   "outputs": [
    {
     "data": {
      "text/plain": [
       "TEAM_home\n",
       "San Antonio Spurs         1101\n",
       "Miami Heat                 943\n",
       "Houston Rockets            942\n",
       "Boston Celtics             926\n",
       "Dallas Mavericks           907\n",
       "Golden State Warriors      886\n",
       "Denver Nuggets             868\n",
       "Oklahoma City Thunder      862\n",
       "Los Angeles Lakers         851\n",
       "Indiana Pacers             841\n",
       "Cleveland Cavaliers        831\n",
       "Utah Jazz                  817\n",
       "Toronto Raptors            812\n",
       "Los Angeles Clippers       797\n",
       "Detroit Pistons            792\n",
       "Chicago Bulls              784\n",
       "Portland Trail Blazers     776\n",
       "Phoenix Suns               755\n",
       "Memphis Grizzlies          754\n",
       "Orlando Magic              717\n",
       "Atlanta Hawks              712\n",
       "Milwaukee Bucks            707\n",
       "New Orleans Pelicans       693\n",
       "Washington Wizards         666\n",
       "Philadelphia 76ers         656\n",
       "Brooklyn Nets              653\n",
       "Sacramento Kings           609\n",
       "Minnesota Timberwolves     584\n",
       "New York Knicks            577\n",
       "Charlotte Hornets          553\n",
       "dtype: int64"
      ]
     },
     "execution_count": 81,
     "metadata": {},
     "output_type": "execute_result"
    }
   ],
   "source": [
    "# alternative solution (without introducing new columns)\n",
    "home_win = df['PTS_home'] > df['PTS_away']\n",
    "se = df[home_win].groupby('TEAM_home').size() + df[~home_win].groupby('TEAM_away').size()\n",
    "se.sort_values(ascending=False)"
   ]
  }
 ],
 "metadata": {
  "kernelspec": {
   "display_name": "Python 3 (ipykernel)",
   "language": "python",
   "name": "python3"
  },
  "language_info": {
   "codemirror_mode": {
    "name": "ipython",
    "version": 3
   },
   "file_extension": ".py",
   "mimetype": "text/x-python",
   "name": "python",
   "nbconvert_exporter": "python",
   "pygments_lexer": "ipython3",
   "version": "3.8.0"
  }
 },
 "nbformat": 4,
 "nbformat_minor": 4
}
