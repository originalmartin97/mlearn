{
 "cells": [
  {
   "cell_type": "markdown",
   "id": "34a6ceba",
   "metadata": {},
   "source": [
    "# Introduction"
   ]
  },
  {
   "cell_type": "markdown",
   "id": "8007954f",
   "metadata": {},
   "source": [
    "## Basic programming concepts\n",
    "\n",
    "- **Algorithm**: A finite sequence of well-defined steps for solving a specific problem.\n",
    "  + The concept can be applied for everyday tasks too (e.g. making a Sacher cake, cleaning a bookshelf :-).\n",
    "- **Data structure**: A scheme for organizing and storing data elements efficiently (e.g., list, array, tree).\n",
    "- **Programming language**: A formal language defined by rigorous rules, used to communicate instructions to a computer.\n",
    "- **Programming**: The process of designing algorithms and data structures, and implementing them in a programming language (coding)."
   ]
  },
  {
   "cell_type": "markdown",
   "id": "f8071b70",
   "metadata": {},
   "source": [
    "<table align=\"left\"><tr>\n",
    "    <td><img src=\"../_img/businessman_typing.png\" width=\"140px\"></td>\n",
    "    <td>vs.</td>\n",
    "    <td><img src=\"../_img/the_thinking_man.jpg\" width=\"125px\"></td>\n",
    "</tr></table>"
   ]
  },
  {
   "cell_type": "markdown",
   "id": "27e172f0",
   "metadata": {},
   "source": [
    "## Characteristics of the Python programming language\n",
    "\n",
    "`0` dynamically typed, interpreted, high-level language<br>\n",
    "`+` concise and elegant syntax<br>\n",
    "`+` easy to learn (\"brain-friendly\")<br>\n",
    "`+` large and strong community<br>\n",
    "`+` extensive standard library and tens of thousands of [external packages](https://pypi.org/)<br>\n",
    "`+` multi-paradigm language (supports procedural, object-oriented, and functional programming)<br>\n",
    "`+` dominant language in data science & artificial intelligence<br>\n",
    "`+` cross-platform compatibility<br>\n",
    "`+` strong integration capabilities with other languages and tools<br>\n",
    "`–` can be slow for certain tasks<br>\n",
    "`–` its multi-threaded capabilities are limited (due to the Global Interpreter Lock)<br>"
   ]
  },
  {
   "cell_type": "markdown",
   "id": "9108a385",
   "metadata": {},
   "source": [
    "<table align=\"left\"><tr>\n",
    "    <td><img src=\"../_img/bdfl.jpg\" width=\"120px\"></td>\n",
    "    <td><img src=\"../_img/python_is_awesome_v2.png\" width=\"120px\"></td>\n",
    "</tr></table>"
   ]
  },
  {
   "cell_type": "markdown",
   "id": "14fcf5a6",
   "metadata": {},
   "source": [
    "## History\n",
    "\n",
    "- **1991**: Python 0.9.0, the initial release was published by Guido van Rossum.\n",
    "- **1994**: Python 1.0 was released.\n",
    "- **2000**: Python 2.0 was released.\n",
    "- **2001**: The Python Software Foundation was launched.\n",
    "- **2003**: The first PyCon conference was held.\n",
    "- **2008**: Python 3.0 was released. It was not backward compatible with version 2.\n",
    "- **2018**: Guido van Rossum stepped down as BDFL. The main authority behind the language transitioned to a steering council (see: [PEP 8016](https://peps.python.org/pep-8016/)).\n",
    "- **2020**: Official support for Python 2.x ended."
   ]
  },
  {
   "cell_type": "markdown",
   "id": "bd006b2d",
   "metadata": {},
   "source": [
    "## The Jupyter Notebook environment"
   ]
  },
  {
   "cell_type": "markdown",
   "id": "ac311ba4",
   "metadata": {},
   "source": [
    "<table align=\"left\"><tr>\n",
    "    <td><img src=\"../_img/light_weight.jpg\" width=\"100px\"></td>\n",
    "    <td>vs.</td>\n",
    "    <td><img src=\"../_img/heavy_weight.png\" width=\"100px\"></td>\n",
    "</tr></table>"
   ]
  },
  {
   "cell_type": "markdown",
   "id": "7de2fce8",
   "metadata": {},
   "source": [
    "- [Jupyter Notebook](https://jupyter-notebook.readthedocs.io/en/stable/) is a browser based, interactive work environment.\n",
    "- It was developed primarily for Python, but it can be used with other programming languages too.\n",
    "- A notebook consists of cells, the cell type can be text (Markdown) or code.\n",
    "- Code cells can be executed, even multiple times. The result of the execution is displayed after the given code cell.\n",
    "- A notebook can be used in two modes:\n",
    "  + In command mode, we can perform cell level operations (e.g. insert new cell, delete cell, move cells, switch between the cells, etc). A few keyboard shortcuts:\n",
    "    - `b`: Insert new code cell after the current cell.\n",
    "    - `m`: Change the type of the current cell to text.\n",
    "    - `dd`: Delete the current cell.\n",
    "    - `Enter`: Switch to edit mode (to edit the content of the current cell).\n",
    "  + In edit mode, we can edit the content of cells. A few keyboard shortcuts:\n",
    "    - `Ctrl+Enter`: Run the actual cell.\n",
    "    - `Esc`: Toggle back to command mode.\n",
    "\n",
    "- For a detailed description of keyboard shortcuts, see the menu item Help / Keyboard Shortcuts."
   ]
  },
  {
   "cell_type": "markdown",
   "id": "2e760340",
   "metadata": {},
   "source": [
    "## Simple data types"
   ]
  },
  {
   "cell_type": "markdown",
   "id": "2f957b86",
   "metadata": {},
   "source": [
    "### [Integer number](https://docs.python.org/3/library/stdtypes.html#numeric-types-int-float-complex)"
   ]
  },
  {
   "cell_type": "code",
   "execution_count": 1,
   "id": "f7e02af9",
   "metadata": {},
   "outputs": [
    {
     "data": {
      "text/plain": [
       "2"
      ]
     },
     "execution_count": 1,
     "metadata": {},
     "output_type": "execute_result"
    }
   ],
   "source": [
    "# We can perform operations between numbers the usual way.\n",
    "1 + 1"
   ]
  },
  {
   "cell_type": "markdown",
   "id": "31171fff",
   "metadata": {},
   "source": [
    "<small>\n",
    "<u>Remarks</u>:<br>\n",
    "• Whitespaces do not count, the formatting of the above code follows the PEP 8 coding style.<br>\n",
    "• Jupyter displays the last expression of the cell after the execution.<br>\n",
    "</small>"
   ]
  },
  {
   "cell_type": "code",
   "execution_count": 2,
   "id": "6def35ab",
   "metadata": {},
   "outputs": [
    {
     "data": {
      "text/plain": [
       "8"
      ]
     },
     "execution_count": 2,
     "metadata": {},
     "output_type": "execute_result"
    }
   ],
   "source": [
    "# To override the default precedence, use parentheses!\n",
    "2 * (3 + 1)"
   ]
  },
  {
   "cell_type": "code",
   "execution_count": 3,
   "id": "5727bb53",
   "metadata": {},
   "outputs": [
    {
     "data": {
      "text/plain": [
       "111111111111111111111111111111111111111111111111111111111111111111112"
      ]
     },
     "execution_count": 3,
     "metadata": {},
     "output_type": "execute_result"
    }
   ],
   "source": [
    "# Python can handle arbitrarily long integers, there is no overflow error.\n",
    "111111111111111111111111111111111111111111111111111111111111111111111 + 1"
   ]
  },
  {
   "cell_type": "code",
   "execution_count": 4,
   "id": "a7f96597",
   "metadata": {},
   "outputs": [],
   "source": [
    "# Create a variable called i, and assign the value 11 to it!\n",
    "i = 11"
   ]
  },
  {
   "cell_type": "markdown",
   "id": "2d2a6ac6",
   "metadata": {},
   "source": [
    "<small>\n",
    "<u>Remarks</u>:<br>\n",
    "• The = sign is the symbol of the assignment operation.<br>\n",
    "• The variable i gets the specified value, but the assignment itself provides no result. Therefore, the cell has no output.<br>\n",
    "</small>\n",
    "\n"
   ]
  },
  {
   "cell_type": "code",
   "execution_count": 5,
   "id": "fd5187be",
   "metadata": {},
   "outputs": [
    {
     "data": {
      "text/plain": [
       "11"
      ]
     },
     "execution_count": 5,
     "metadata": {},
     "output_type": "execute_result"
    }
   ],
   "source": [
    "i"
   ]
  },
  {
   "cell_type": "code",
   "execution_count": 6,
   "id": "449e9897",
   "metadata": {},
   "outputs": [
    {
     "data": {
      "text/plain": [
       "23"
      ]
     },
     "execution_count": 6,
     "metadata": {},
     "output_type": "execute_result"
    }
   ],
   "source": [
    "# The variable can be used in further expressions.\n",
    "2 * i + 1"
   ]
  },
  {
   "cell_type": "code",
   "execution_count": 7,
   "id": "0e3f67a2",
   "metadata": {},
   "outputs": [
    {
     "data": {
      "text/plain": [
       "23"
      ]
     },
     "execution_count": 7,
     "metadata": {},
     "output_type": "execute_result"
    }
   ],
   "source": [
    "# Of course, the value of the variable can be changed.\n",
    "i = 23\n",
    "i"
   ]
  },
  {
   "cell_type": "code",
   "execution_count": 8,
   "id": "cbef273a",
   "metadata": {},
   "outputs": [],
   "source": [
    "# Assignment can be combined with other operations.\n",
    "i += 1 # equivalent to i = i + 1"
   ]
  },
  {
   "cell_type": "code",
   "execution_count": 9,
   "id": "4f159db1",
   "metadata": {},
   "outputs": [
    {
     "data": {
      "text/plain": [
       "24"
      ]
     },
     "execution_count": 9,
     "metadata": {},
     "output_type": "execute_result"
    }
   ],
   "source": [
    "i"
   ]
  },
  {
   "cell_type": "code",
   "execution_count": 10,
   "id": "abace8df",
   "metadata": {},
   "outputs": [
    {
     "data": {
      "text/plain": [
       "1.6666666666666667"
      ]
     },
     "execution_count": 10,
     "metadata": {},
     "output_type": "execute_result"
    }
   ],
   "source": [
    "# Floating point division.\n",
    "5 / 3"
   ]
  },
  {
   "cell_type": "code",
   "execution_count": 11,
   "id": "f1c17f4a",
   "metadata": {},
   "outputs": [
    {
     "data": {
      "text/plain": [
       "1"
      ]
     },
     "execution_count": 11,
     "metadata": {},
     "output_type": "execute_result"
    }
   ],
   "source": [
    "# Integer division (the fractional part is discarded).\n",
    "5 // 3"
   ]
  },
  {
   "cell_type": "code",
   "execution_count": 12,
   "id": "203bc149",
   "metadata": {},
   "outputs": [
    {
     "data": {
      "text/plain": [
       "2"
      ]
     },
     "execution_count": 12,
     "metadata": {},
     "output_type": "execute_result"
    }
   ],
   "source": [
    "# Modulo operation (calculates the remainder).\n",
    "5 % 3"
   ]
  },
  {
   "cell_type": "code",
   "execution_count": 13,
   "id": "0f1e4835",
   "metadata": {},
   "outputs": [
    {
     "data": {
      "text/plain": [
       "1024"
      ]
     },
     "execution_count": 13,
     "metadata": {},
     "output_type": "execute_result"
    }
   ],
   "source": [
    "# There is also a power operation, denoted by **.\n",
    "2**10"
   ]
  },
  {
   "cell_type": "markdown",
   "id": "71998ff5",
   "metadata": {},
   "source": [
    "### [Floating point number](https://docs.python.org/3/library/stdtypes.html#numeric-types-int-float-complex)\n",
    "\n",
    "- [Floating point arithmetic](https://en.wikipedia.org/wiki/Floating-point_arithmetic) makes it possible to perform approximate calculations with real numbers.\n",
    "- Python's floating point type implements the (64 bit) double precision type of the IEEE-754 standard."
   ]
  },
  {
   "cell_type": "code",
   "execution_count": 14,
   "id": "980e9e0e",
   "metadata": {},
   "outputs": [
    {
     "data": {
      "text/plain": [
       "1.23"
      ]
     },
     "execution_count": 14,
     "metadata": {},
     "output_type": "execute_result"
    }
   ],
   "source": [
    "# Floating point constants can be given using the decimal point.\n",
    "1.23"
   ]
  },
  {
   "cell_type": "code",
   "execution_count": 15,
   "id": "f8aa908d",
   "metadata": {},
   "outputs": [
    {
     "data": {
      "text/plain": [
       "1.4142135623730951"
      ]
     },
     "execution_count": 15,
     "metadata": {},
     "output_type": "execute_result"
    }
   ],
   "source": [
    "# Calculating the square root of two (approximately).\n",
    "2**0.5"
   ]
  },
  {
   "cell_type": "code",
   "execution_count": 16,
   "id": "a2549cee",
   "metadata": {},
   "outputs": [],
   "source": [
    "# Create a float variable called f!\n",
    "f = 1.5"
   ]
  },
  {
   "cell_type": "code",
   "execution_count": 17,
   "id": "15c81ad8",
   "metadata": {},
   "outputs": [
    {
     "data": {
      "text/plain": [
       "1.5"
      ]
     },
     "execution_count": 17,
     "metadata": {},
     "output_type": "execute_result"
    }
   ],
   "source": [
    "f"
   ]
  },
  {
   "cell_type": "code",
   "execution_count": 18,
   "id": "6b93155a",
   "metadata": {},
   "outputs": [
    {
     "data": {
      "text/plain": [
       "float"
      ]
     },
     "execution_count": 18,
     "metadata": {},
     "output_type": "execute_result"
    }
   ],
   "source": [
    "# The type of f can be queried with the type() function.\n",
    "type(f)"
   ]
  },
  {
   "cell_type": "code",
   "execution_count": 19,
   "id": "358f9095",
   "metadata": {},
   "outputs": [
    {
     "data": {
      "text/plain": [
       "int"
      ]
     },
     "execution_count": 19,
     "metadata": {},
     "output_type": "execute_result"
    }
   ],
   "source": [
    "# ...type() also works on any other value.\n",
    "type(1 + 2)"
   ]
  },
  {
   "cell_type": "code",
   "execution_count": 20,
   "id": "e2ddd83a",
   "metadata": {},
   "outputs": [],
   "source": [
    "# Now let's put an integer value into f!\n",
    "# In Python, this can be done without any problem.\n",
    "f = 10"
   ]
  },
  {
   "cell_type": "code",
   "execution_count": 21,
   "id": "49fc5e50",
   "metadata": {},
   "outputs": [
    {
     "data": {
      "text/plain": [
       "int"
      ]
     },
     "execution_count": 21,
     "metadata": {},
     "output_type": "execute_result"
    }
   ],
   "source": [
    "type(f)"
   ]
  },
  {
   "cell_type": "markdown",
   "id": "534277ca",
   "metadata": {},
   "source": [
    "<small>\n",
    "<u>Remark</u>: Python also supports complex numbers, without the need for external libraries.\n",
    "</small>"
   ]
  },
  {
   "cell_type": "markdown",
   "id": "b32813ce",
   "metadata": {},
   "source": [
    "### [String](https://docs.python.org/3/library/stdtypes.html#text-sequence-type-str)\n",
    "- The string data type is used to store text values.\n",
    "- In Python, a string is an **immutable** sequence of **Unicode symbols** (or Unicode characters)."
   ]
  },
  {
   "cell_type": "code",
   "execution_count": 22,
   "id": "4861abc8",
   "metadata": {},
   "outputs": [
    {
     "data": {
      "text/plain": [
       "'apple'"
      ]
     },
     "execution_count": 22,
     "metadata": {},
     "output_type": "execute_result"
    }
   ],
   "source": [
    "# String constants are delimited by ' signs.\n",
    "'apple'"
   ]
  },
  {
   "cell_type": "code",
   "execution_count": 23,
   "id": "fddc9173",
   "metadata": {},
   "outputs": [
    {
     "data": {
      "text/plain": [
       "'apple'"
      ]
     },
     "execution_count": 23,
     "metadata": {},
     "output_type": "execute_result"
    }
   ],
   "source": [
    "# ...but \" signs can also be used.\n",
    "\"apple\""
   ]
  },
  {
   "cell_type": "code",
   "execution_count": 24,
   "id": "2b18e347",
   "metadata": {},
   "outputs": [
    {
     "name": "stdout",
     "output_type": "stream",
     "text": [
      "apple\n"
     ]
    }
   ],
   "source": [
    "# Remark: In the output of the previous cells, ' is not part of the string, it only indicates the data type.\n",
    "# Let's print the content of the string, without the delimiters!\n",
    "print('apple')"
   ]
  },
  {
   "cell_type": "code",
   "execution_count": 25,
   "id": "59bf0205",
   "metadata": {},
   "outputs": [
    {
     "data": {
      "text/plain": [
       "str"
      ]
     },
     "execution_count": 25,
     "metadata": {},
     "output_type": "execute_result"
    }
   ],
   "source": [
    "# The type() function works in this case too.\n",
    "type('apple')"
   ]
  },
  {
   "cell_type": "code",
   "execution_count": 26,
   "id": "1d68deab",
   "metadata": {},
   "outputs": [
    {
     "data": {
      "text/plain": [
       "'foo bar 😎'"
      ]
     },
     "execution_count": 26,
     "metadata": {},
     "output_type": "execute_result"
    }
   ],
   "source": [
    "# Of course we can use Unicode symbols in the string.\n",
    "'foo bar 😎'"
   ]
  },
  {
   "cell_type": "code",
   "execution_count": 27,
   "id": "a2ae5992",
   "metadata": {},
   "outputs": [
    {
     "name": "stdout",
     "output_type": "stream",
     "text": [
      "foo\"bar\n",
      "foo'bar\n"
     ]
    }
   ],
   "source": [
    "# The rationale behind the two delimiter signs:\n",
    "print('foo\"bar')\n",
    "print(\"foo'bar\")"
   ]
  },
  {
   "cell_type": "code",
   "execution_count": 28,
   "id": "d1be6dc6",
   "metadata": {},
   "outputs": [
    {
     "name": "stdout",
     "output_type": "stream",
     "text": [
      "foo\"bar\n",
      "foo'bar\n"
     ]
    }
   ],
   "source": [
    "# ...otherwise the ' and \" character should be escaped.\n",
    "print(\"foo\\\"bar\")\n",
    "print('foo\\'bar')"
   ]
  },
  {
   "cell_type": "code",
   "execution_count": 29,
   "id": "2fcea700",
   "metadata": {},
   "outputs": [
    {
     "data": {
      "text/plain": [
       "'banana😎'"
      ]
     },
     "execution_count": 29,
     "metadata": {},
     "output_type": "execute_result"
    }
   ],
   "source": [
    "# Create a string variable called s!\n",
    "s = 'banana😎'\n",
    "s"
   ]
  },
  {
   "cell_type": "code",
   "execution_count": 30,
   "id": "79652970",
   "metadata": {},
   "outputs": [
    {
     "data": {
      "text/plain": [
       "'b'"
      ]
     },
     "execution_count": 30,
     "metadata": {},
     "output_type": "execute_result"
    }
   ],
   "source": [
    "# Extracting the characters of s.\n",
    "# Remark: Indexing starts from 0.\n",
    "s[0]"
   ]
  },
  {
   "cell_type": "code",
   "execution_count": 31,
   "id": "cdcdbc9e",
   "metadata": {},
   "outputs": [
    {
     "data": {
      "text/plain": [
       "'a'"
      ]
     },
     "execution_count": 31,
     "metadata": {},
     "output_type": "execute_result"
    }
   ],
   "source": [
    "s[1]"
   ]
  },
  {
   "cell_type": "code",
   "execution_count": 32,
   "id": "bab4e334",
   "metadata": {},
   "outputs": [
    {
     "data": {
      "text/plain": [
       "'😎'"
      ]
     },
     "execution_count": 32,
     "metadata": {},
     "output_type": "execute_result"
    }
   ],
   "source": [
    "s[6]"
   ]
  },
  {
   "cell_type": "code",
   "execution_count": 33,
   "id": "66cad0dd",
   "metadata": {},
   "outputs": [
    {
     "data": {
      "text/plain": [
       "str"
      ]
     },
     "execution_count": 33,
     "metadata": {},
     "output_type": "execute_result"
    }
   ],
   "source": [
    "# The character is returned as a string of length 1.\n",
    "type(s[6])"
   ]
  },
  {
   "cell_type": "code",
   "execution_count": 34,
   "id": "4eb17031",
   "metadata": {},
   "outputs": [
    {
     "ename": "IndexError",
     "evalue": "string index out of range",
     "output_type": "error",
     "traceback": [
      "\u001b[0;31m---------------------------------------------------------------------------\u001b[0m",
      "\u001b[0;31mIndexError\u001b[0m                                Traceback (most recent call last)",
      "Input \u001b[0;32mIn [34]\u001b[0m, in \u001b[0;36m<cell line: 2>\u001b[0;34m()\u001b[0m\n\u001b[1;32m      1\u001b[0m \u001b[38;5;66;03m# If the index is too large, then we get an error message.\u001b[39;00m\n\u001b[0;32m----> 2\u001b[0m \u001b[43ms\u001b[49m\u001b[43m[\u001b[49m\u001b[38;5;241;43m7\u001b[39;49m\u001b[43m]\u001b[49m\n",
      "\u001b[0;31mIndexError\u001b[0m: string index out of range"
     ]
    }
   ],
   "source": [
    "# If the index is too large, then we get an error message.\n",
    "s[7]"
   ]
  },
  {
   "cell_type": "code",
   "execution_count": 35,
   "id": "c81efecd",
   "metadata": {},
   "outputs": [
    {
     "ename": "TypeError",
     "evalue": "'str' object does not support item assignment",
     "output_type": "error",
     "traceback": [
      "\u001b[0;31m---------------------------------------------------------------------------\u001b[0m",
      "\u001b[0;31mTypeError\u001b[0m                                 Traceback (most recent call last)",
      "Input \u001b[0;32mIn [35]\u001b[0m, in \u001b[0;36m<cell line: 3>\u001b[0;34m()\u001b[0m\n\u001b[1;32m      1\u001b[0m \u001b[38;5;66;03m# The characters of the string cannot be modified!\u001b[39;00m\n\u001b[1;32m      2\u001b[0m \u001b[38;5;66;03m# (We will see later, why.)\u001b[39;00m\n\u001b[0;32m----> 3\u001b[0m s[\u001b[38;5;241m0\u001b[39m] \u001b[38;5;241m=\u001b[39m \u001b[38;5;124m'\u001b[39m\u001b[38;5;124mx\u001b[39m\u001b[38;5;124m'\u001b[39m\n",
      "\u001b[0;31mTypeError\u001b[0m: 'str' object does not support item assignment"
     ]
    }
   ],
   "source": [
    "# The characters of the string cannot be modified!\n",
    "# (We will see later, why.)\n",
    "s[0] = 'x'"
   ]
  },
  {
   "cell_type": "code",
   "execution_count": 36,
   "id": "12bbc3ef",
   "metadata": {},
   "outputs": [],
   "source": [
    "# Of course, the variable s can get a new value.\n",
    "s = 'music is 😎'"
   ]
  },
  {
   "cell_type": "code",
   "execution_count": 37,
   "id": "bf5d0098",
   "metadata": {},
   "outputs": [
    {
     "name": "stdout",
     "output_type": "stream",
     "text": [
      "music is 😎\n"
     ]
    }
   ],
   "source": [
    "# Let's print the content of s!\n",
    "print(s)"
   ]
  },
  {
   "cell_type": "code",
   "execution_count": 38,
   "id": "39ab20ee",
   "metadata": {},
   "outputs": [
    {
     "data": {
      "text/plain": [
       "10"
      ]
     },
     "execution_count": 38,
     "metadata": {},
     "output_type": "execute_result"
    }
   ],
   "source": [
    "# The length of the string (number of Unicode symbols):\n",
    "len(s)"
   ]
  },
  {
   "cell_type": "code",
   "execution_count": 39,
   "id": "80aa828f",
   "metadata": {},
   "outputs": [
    {
     "data": {
      "text/plain": [
       "'pythonjava'"
      ]
     },
     "execution_count": 39,
     "metadata": {},
     "output_type": "execute_result"
    }
   ],
   "source": [
    "# Concatenating strings.\n",
    "'python' + 'java'"
   ]
  },
  {
   "cell_type": "code",
   "execution_count": 40,
   "id": "1b921b4e",
   "metadata": {},
   "outputs": [
    {
     "data": {
      "text/plain": [
       "True"
      ]
     },
     "execution_count": 40,
     "metadata": {},
     "output_type": "execute_result"
    }
   ],
   "source": [
    "# Is a string contained in another one?\n",
    "'th' in 'python'"
   ]
  },
  {
   "cell_type": "code",
   "execution_count": 41,
   "id": "352f2416",
   "metadata": {},
   "outputs": [
    {
     "data": {
      "text/plain": [
       "False"
      ]
     },
     "execution_count": 41,
     "metadata": {},
     "output_type": "execute_result"
    }
   ],
   "source": [
    "'ht' in 'python'"
   ]
  },
  {
   "cell_type": "code",
   "execution_count": 42,
   "id": "809359b5",
   "metadata": {},
   "outputs": [
    {
     "data": {
      "text/plain": [
       "False"
      ]
     },
     "execution_count": 42,
     "metadata": {},
     "output_type": "execute_result"
    }
   ],
   "source": [
    "'TH' in 'python'"
   ]
  },
  {
   "cell_type": "code",
   "execution_count": 43,
   "id": "5b463a91",
   "metadata": {},
   "outputs": [
    {
     "data": {
      "text/plain": [
       "b'music is \\xf0\\x9f\\x98\\x8e'"
      ]
     },
     "execution_count": 43,
     "metadata": {},
     "output_type": "execute_result"
    }
   ],
   "source": [
    "# A string can be encoded into a byte sequence (using an encoding scheme).\n",
    "b = 'music is 😎'.encode('utf-8')\n",
    "b"
   ]
  },
  {
   "cell_type": "code",
   "execution_count": 44,
   "id": "e1a2c58c",
   "metadata": {},
   "outputs": [
    {
     "data": {
      "text/plain": [
       "bytes"
      ]
     },
     "execution_count": 44,
     "metadata": {},
     "output_type": "execute_result"
    }
   ],
   "source": [
    "# Type of the result.\n",
    "type(b)"
   ]
  },
  {
   "cell_type": "code",
   "execution_count": 45,
   "id": "1382bc04",
   "metadata": {},
   "outputs": [
    {
     "data": {
      "text/plain": [
       "13"
      ]
     },
     "execution_count": 45,
     "metadata": {},
     "output_type": "execute_result"
    }
   ],
   "source": [
    "# The number of bytes can be greater than the number of Unicode symbols!\n",
    "len(b)"
   ]
  },
  {
   "cell_type": "code",
   "execution_count": 46,
   "id": "3e784b52",
   "metadata": {},
   "outputs": [
    {
     "name": "stdout",
     "output_type": "stream",
     "text": [
      "2\n",
      "2\n",
      "2\n",
      "2\n",
      "2\n",
      "2\n",
      "2\n",
      "2\n",
      "2\n"
     ]
    }
   ],
   "source": [
    "# Exercise:\n",
    "# How long is the UTF-8 representation of the\n",
    "# lowercase accented letters (á, é, í, ó, ö, ő, ú, ü, ű) in the Hungarian alphabet?\n",
    "\n",
    "print(len('á'.encode('utf-8')))\n",
    "print(len('é'.encode('utf-8')))\n",
    "print(len('í'.encode('utf-8')))\n",
    "print(len('ó'.encode('utf-8')))\n",
    "print(len('ö'.encode('utf-8')))\n",
    "print(len('ő'.encode('utf-8')))\n",
    "print(len('ú'.encode('utf-8')))\n",
    "print(len('ü'.encode('utf-8')))\n",
    "print(len('ű'.encode('utf-8')))"
   ]
  },
  {
   "cell_type": "code",
   "execution_count": null,
   "id": "1d88a99d",
   "metadata": {},
   "outputs": [],
   "source": [
    "# Exercise:\n",
    "# How long is the UTF-8 representation of the\n",
    "# uppercase Slavic letters in the Cyrillic alphabet?\n",
    "\n",
    "print(\n",
    "    len('А'.encode('utf-8')),\n",
    "    len('А̀'.encode('utf-8')),\n",
    "    len('А̂'.encode('utf-8')),\n",
    "    len('А̄'.encode('utf-8')),\n",
    "    len('Ӓ'.encode('utf-8')),\n",
    "    len('Б'.encode('utf-8')),\n",
    "    len('В'.encode('utf-8')),\n",
    "    len('Г'.encode('utf-8')),\n",
    "    len('Ґ'.encode('utf-8')),\n",
    "    len('Д'.encode('utf-8')),\n",
    "    len('Ђ'.encode('utf-8')),\n",
    "    len('Ѓ'.encode('utf-8')),\n",
    "    len('Е'.encode('utf-8')),\n",
    "    len('Ѐ'.encode('utf-8')),\n",
    "    len('Е̄'.encode('utf-8')),\n",
    "    len('Е̂'.encode('utf-8')),\n",
    "    len('Ё'.encode('utf-8')),\n",
    "    len('Є'.encode('utf-8')),\n",
    "    len('Ж'.encode('utf-8')),\n",
    "    len('З'.encode('utf-8')),\n",
    "    len('З́'.encode('utf-8')),\n",
    "    len('Ѕ'.encode('utf-8')),\n",
    "    len('И'.encode('utf-8')),\n",
    "    len('І'.encode('utf-8')),\n",
    "    len('Ї'.encode('utf-8')),\n",
    "    len('Ꙇ'.encode('utf-8')),\n",
    "    len('Ѝ'.encode('utf-8')),\n",
    "    len('И̂'.encode('utf-8')),\n",
    "    len('Ӣ'.encode('utf-8')),\n",
    "    len('Й'.encode('utf-8')),\n",
    "    len('Ј'.encode('utf-8')),\n",
    "    len('К'.encode('utf-8')),\n",
    "    len('Л'.encode('utf-8')),\n",
    "    len('Љ'.encode('utf-8')),\n",
    "    len('М'.encode('utf-8')),\n",
    "    len('Н'.encode('utf-8')),\n",
    "    len('Њ'.encode('utf-8')),\n",
    "    len('О'.encode('utf-8')),\n",
    "    len('О̀'.encode('utf-8')),\n",
    "    len('О̂'.encode('utf-8')),\n",
    "    len('Ō'.encode('utf-8')),\n",
    "    len('Ӧ'.encode('utf-8')),\n",
    "    len('П'.encode('utf-8')),\n",
    "    len('Р'.encode('utf-8')),\n",
    "    len('С'.encode('utf-8')),\n",
    "    len('С́'.encode('utf-8')),\n",
    "    len('Т'.encode('utf-8')),\n",
    "    len('Ћ'.encode('utf-8')),\n",
    "    len('Ќ'.encode('utf-8')),\n",
    "    len('У'.encode('utf-8')),\n",
    "    len('У̀'.encode('utf-8')),\n",
    "    len('У̂'.encode('utf-8')),\n",
    "    len('Ӯ'.encode('utf-8')),\n",
    "    len('Ў'.encode('utf-8')),\n",
    "    len('Ӱ'.encode('utf-8')),\n",
    "    len('Ф'.encode('utf-8')),\n",
    "    len('Х'.encode('utf-8')),\n",
    "    len('Ц'.encode('utf-8')),\n",
    "    len('Ч'.encode('utf-8')),\n",
    "    len('Џ'.encode('utf-8')),\n",
    "    len('Ш'.encode('utf-8')),\n",
    "    len('Щ'.encode('utf-8')),\n",
    "    len('Ꙏ'.encode('utf-8')),\n",
    "    len('Ъ'.encode('utf-8')),\n",
    "    len('Ъ̀'.encode('utf-8')),\n",
    "    len('Ы'.encode('utf-8')),\n",
    "    len('Ь'.encode('utf-8')),\n",
    "    len('Ѣ'.encode('utf-8')),\n",
    "    len('Э'.encode('utf-8')),\n",
    "    len('Ю'.encode('utf-8')),\n",
    "    len('Ю̀'.encode('utf-8')),\n",
    "    len('Я'.encode('utf-8')),\n",
    "    len('Я̀'.encode('utf-8'))\n",
    ")"
   ]
  },
  {
   "cell_type": "markdown",
   "id": "028ca319",
   "metadata": {},
   "source": [
    "<small>\n",
    "<u>Remark</u>: The code above is full of repetitions. We will learn soon, how can it be made more elegant.\n",
    "</small>"
   ]
  },
  {
   "cell_type": "code",
   "execution_count": 47,
   "id": "6053e925",
   "metadata": {},
   "outputs": [
    {
     "name": "stdout",
     "output_type": "stream",
     "text": [
      "3 3\n"
     ]
    }
   ],
   "source": [
    "# How long is the UTF-8 representation of ♥ and ♬?\n",
    "print(\n",
    "    len('♥'.encode('utf-8')),\n",
    "    len('♬'.encode('utf-8'))\n",
    ")"
   ]
  },
  {
   "cell_type": "code",
   "execution_count": 48,
   "id": "b4b994e5",
   "metadata": {},
   "outputs": [
    {
     "data": {
      "text/plain": [
       "'music is 😎'"
      ]
     },
     "execution_count": 48,
     "metadata": {},
     "output_type": "execute_result"
    }
   ],
   "source": [
    "# The operation that transforms a byte sequence into a string is called decoding.\n",
    "b'music is \\xf0\\x9f\\x98\\x8e'.decode('utf-8')"
   ]
  },
  {
   "cell_type": "code",
   "execution_count": 49,
   "id": "249eb9bf",
   "metadata": {},
   "outputs": [
    {
     "data": {
      "text/plain": [
       "'music is đ\\x9f\\x98\\x8e'"
      ]
     },
     "execution_count": 49,
     "metadata": {},
     "output_type": "execute_result"
    }
   ],
   "source": [
    "b'music is \\xf0\\x9f\\x98\\x8e'.decode('latin2')"
   ]
  },
  {
   "cell_type": "code",
   "execution_count": 50,
   "id": "bd3b166b",
   "metadata": {},
   "outputs": [
    {
     "data": {
      "text/plain": [
       "''"
      ]
     },
     "execution_count": 50,
     "metadata": {},
     "output_type": "execute_result"
    }
   ],
   "source": [
    "# Creating an empty string.\n",
    "''"
   ]
  },
  {
   "cell_type": "code",
   "execution_count": 51,
   "id": "4283b5a0",
   "metadata": {},
   "outputs": [
    {
     "data": {
      "text/plain": [
       "0"
      ]
     },
     "execution_count": 51,
     "metadata": {},
     "output_type": "execute_result"
    }
   ],
   "source": [
    "len('')"
   ]
  },
  {
   "cell_type": "code",
   "execution_count": 52,
   "id": "8dece608",
   "metadata": {},
   "outputs": [
    {
     "data": {
      "text/plain": [
       "'FOOBAR'"
      ]
     },
     "execution_count": 52,
     "metadata": {},
     "output_type": "execute_result"
    }
   ],
   "source": [
    "# Remove leading and trailing whitspace (space, tab, line break)\n",
    "# characters from the string.\n",
    "'  \\t\\tFOOBAR\\n\\n  '.strip()"
   ]
  },
  {
   "cell_type": "code",
   "execution_count": 53,
   "id": "ea7ee2d2",
   "metadata": {},
   "outputs": [
    {
     "data": {
      "text/plain": [
       "'FOOBAR'"
      ]
     },
     "execution_count": 53,
     "metadata": {},
     "output_type": "execute_result"
    }
   ],
   "source": [
    "'FOOBAR++---+'.strip('+-')"
   ]
  },
  {
   "cell_type": "code",
   "execution_count": 54,
   "id": "04f49b03",
   "metadata": {},
   "outputs": [
    {
     "data": {
      "text/plain": [
       "'foo'"
      ]
     },
     "execution_count": 54,
     "metadata": {},
     "output_type": "execute_result"
    }
   ],
   "source": [
    "# Convert to lowercase.\n",
    "'FOO'.lower()"
   ]
  },
  {
   "cell_type": "code",
   "execution_count": 55,
   "id": "cfef4d8f",
   "metadata": {},
   "outputs": [
    {
     "data": {
      "text/plain": [
       "'BAR'"
      ]
     },
     "execution_count": 55,
     "metadata": {},
     "output_type": "execute_result"
    }
   ],
   "source": [
    "# Convert to uppercase.\n",
    "'bar'.upper()"
   ]
  },
  {
   "cell_type": "code",
   "execution_count": 56,
   "id": "b53bd115",
   "metadata": {},
   "outputs": [
    {
     "data": {
      "text/plain": [
       "'mamamamamamamamamamamamamamamamamamamamamamamamamamamamamamamamamamamamamamamamamamamamamamamamamamamamamamamamamamamamamamamamamamamamamamamamamamamamamamamamamamamamamamamamamamamamamamamamamamamama'"
      ]
     },
     "execution_count": 56,
     "metadata": {},
     "output_type": "execute_result"
    }
   ],
   "source": [
    "# Repeat string the given number of times.\n",
    "'ma' * 100"
   ]
  },
  {
   "cell_type": "markdown",
   "id": "e58dc0b2",
   "metadata": {},
   "source": [
    "### [Boolean](https://docs.python.org/3/library/stdtypes.html#boolean-values)\n",
    "This type represents the truth values of Boolean logic as `True` and `False`. Capital initials are important as Python is case sensitive."
   ]
  },
  {
   "cell_type": "code",
   "execution_count": 57,
   "id": "0a2374f6",
   "metadata": {},
   "outputs": [],
   "source": [
    "# Create a boolean variable!\n",
    "b = True"
   ]
  },
  {
   "cell_type": "code",
   "execution_count": 58,
   "id": "8d3e8f8d",
   "metadata": {},
   "outputs": [
    {
     "data": {
      "text/plain": [
       "True"
      ]
     },
     "execution_count": 58,
     "metadata": {},
     "output_type": "execute_result"
    }
   ],
   "source": [
    "b"
   ]
  },
  {
   "cell_type": "code",
   "execution_count": 59,
   "id": "f46fd18d",
   "metadata": {},
   "outputs": [
    {
     "data": {
      "text/plain": [
       "True"
      ]
     },
     "execution_count": 59,
     "metadata": {},
     "output_type": "execute_result"
    }
   ],
   "source": [
    "# Logical AND operation.\n",
    "True and True"
   ]
  },
  {
   "cell_type": "code",
   "execution_count": 60,
   "id": "6fb4c952",
   "metadata": {},
   "outputs": [
    {
     "data": {
      "text/plain": [
       "False"
      ]
     },
     "execution_count": 60,
     "metadata": {},
     "output_type": "execute_result"
    }
   ],
   "source": [
    "True and False"
   ]
  },
  {
   "cell_type": "code",
   "execution_count": 61,
   "id": "9dc590f0",
   "metadata": {},
   "outputs": [
    {
     "data": {
      "text/plain": [
       "False"
      ]
     },
     "execution_count": 61,
     "metadata": {},
     "output_type": "execute_result"
    }
   ],
   "source": [
    "# Logical OR operation.\n",
    "False or False"
   ]
  },
  {
   "cell_type": "code",
   "execution_count": 62,
   "id": "aba34ce0",
   "metadata": {},
   "outputs": [
    {
     "data": {
      "text/plain": [
       "True"
      ]
     },
     "execution_count": 62,
     "metadata": {},
     "output_type": "execute_result"
    }
   ],
   "source": [
    "False or True"
   ]
  },
  {
   "cell_type": "code",
   "execution_count": 63,
   "id": "65967dbc",
   "metadata": {},
   "outputs": [
    {
     "data": {
      "text/plain": [
       "False"
      ]
     },
     "execution_count": 63,
     "metadata": {},
     "output_type": "execute_result"
    }
   ],
   "source": [
    "# Logical negation.\n",
    "not True"
   ]
  },
  {
   "cell_type": "code",
   "execution_count": 64,
   "id": "2bf73509",
   "metadata": {},
   "outputs": [
    {
     "data": {
      "text/plain": [
       "True"
      ]
     },
     "execution_count": 64,
     "metadata": {},
     "output_type": "execute_result"
    }
   ],
   "source": [
    "# The result of a comparison operation is a logical value.\n",
    "2 < 5"
   ]
  },
  {
   "cell_type": "code",
   "execution_count": 65,
   "id": "aa6e5525",
   "metadata": {},
   "outputs": [
    {
     "data": {
      "text/plain": [
       "False"
      ]
     },
     "execution_count": 65,
     "metadata": {},
     "output_type": "execute_result"
    }
   ],
   "source": [
    "# The sign of equality testing is ==.\n",
    "2 == 3"
   ]
  },
  {
   "cell_type": "code",
   "execution_count": 66,
   "id": "e61c1a12",
   "metadata": {},
   "outputs": [
    {
     "data": {
      "text/plain": [
       "False"
      ]
     },
     "execution_count": 66,
     "metadata": {},
     "output_type": "execute_result"
    }
   ],
   "source": [
    "i = 10\n",
    "i == 20 # different from i = 20"
   ]
  },
  {
   "cell_type": "markdown",
   "id": "65f3d16c",
   "metadata": {},
   "source": [
    "### [None](https://docs.python.org/3/library/stdtypes.html#the-null-object)\n",
    "\n",
    "In Python, None values have a placeholder role. For example, None can indicate missing or invalid result, or the default setting."
   ]
  },
  {
   "cell_type": "code",
   "execution_count": 67,
   "id": "276af6c6",
   "metadata": {},
   "outputs": [
    {
     "data": {
      "text/plain": [
       "NoneType"
      ]
     },
     "execution_count": 67,
     "metadata": {},
     "output_type": "execute_result"
    }
   ],
   "source": [
    "# Type of the value None.\n",
    "type(None)"
   ]
  },
  {
   "cell_type": "code",
   "execution_count": 68,
   "id": "92d5da36",
   "metadata": {},
   "outputs": [],
   "source": [
    "# If the cell's last expression is None, then there is no output.\n",
    "1 + 1\n",
    "None"
   ]
  },
  {
   "cell_type": "code",
   "execution_count": 3,
   "id": "b1e85f92",
   "metadata": {},
   "outputs": [
    {
     "ename": "AttributeError",
     "evalue": "'list' object has no attribute 'ap'",
     "output_type": "error",
     "traceback": [
      "\u001b[0;31m---------------------------------------------------------------------------\u001b[0m",
      "\u001b[0;31mAttributeError\u001b[0m                            Traceback (most recent call last)",
      "Input \u001b[0;32mIn [3]\u001b[0m, in \u001b[0;36m<cell line: 1>\u001b[0;34m()\u001b[0m\n\u001b[0;32m----> 1\u001b[0m \u001b[43mmy_list\u001b[49m\u001b[38;5;241;43m.\u001b[39;49m\u001b[43map\u001b[49m\n",
      "\u001b[0;31mAttributeError\u001b[0m: 'list' object has no attribute 'ap'"
     ]
    }
   ],
   "source": [
    "my_list.ap"
   ]
  }
 ],
 "metadata": {
  "kernelspec": {
   "display_name": "Python 3 (ipykernel)",
   "language": "python",
   "name": "python3"
  },
  "language_info": {
   "codemirror_mode": {
    "name": "ipython",
    "version": 3
   },
   "file_extension": ".py",
   "mimetype": "text/x-python",
   "name": "python",
   "nbconvert_exporter": "python",
   "pygments_lexer": "ipython3",
   "version": "3.8.0"
  }
 },
 "nbformat": 4,
 "nbformat_minor": 5
}
