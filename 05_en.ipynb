{
 "cells": [
  {
   "cell_type": "markdown",
   "metadata": {},
   "source": [
    "## [Decision Tree](https://en.wikipedia.org/wiki/Decision_tree_learning)"
   ]
  },
  {
   "cell_type": "markdown",
   "metadata": {},
   "source": [
    "The decision tree is an old, but still relevant nonlinear learning algorithm. The leaves of the tree represent distinct subsets of the training data. The other nodes compare a given attribute to a threshold value (e.g. is the body temperature < 37 °C). The branches starting from the node are associated with the two possible outcomes of the comparison."
   ]
  },
  {
   "cell_type": "markdown",
   "metadata": {},
   "source": [
    "<img src=\"../_img/decision_tree.jpg\" width=\"400\" align=\"left\">"
   ]
  },
  {
   "cell_type": "markdown",
   "metadata": {},
   "source": [
    "In this notebook, we will prepare the simplest version of the decision tree called [decision stump](https://en.wikipedia.org/wiki/Decision_stump), and we will test it on the Boston Housing data set. Moreover, we will explore the capabilities of scikit-learn's decision tree algorithm."
   ]
  },
  {
   "cell_type": "markdown",
   "metadata": {},
   "source": [
    "<img src=\"../_img/decision_stump.png\" width=\"500\" align=\"left\">"
   ]
  },
  {
   "cell_type": "markdown",
   "metadata": {},
   "source": [
    "**Exercise 2**: Implement the training of the decision stump regressor from scratch, and measure the model's root mean squared error (RMSE) on the full Boston Housing data set!"
   ]
  },
  {
   "cell_type": "code",
   "execution_count": 1,
   "metadata": {},
   "outputs": [],
   "source": [
    "# Loading the data.\n",
    "import pandas as pd\n",
    "names = ['CRIM', 'ZN', 'INDUS', 'CHAS', 'NOX', 'RM', 'AGE',\n",
    "         'DIS', 'RAD', 'TAX', 'PTRATIO', 'LSTAT', 'MEDV']\n",
    "df = pd.read_csv('../_data/housing_data.txt', delim_whitespace=True, names=names)\n",
    "X = df[df.columns[:-1]].values # input matrix\n",
    "y = df['MEDV'].values          # target vector"
   ]
  },
  {
   "cell_type": "code",
   "execution_count": 2,
   "metadata": {
    "scrolled": true
   },
   "outputs": [
    {
     "name": "stdout",
     "output_type": "stream",
     "text": [
      "New best found: SSE = 42714.138495049505 | Feature index= 0 | Split threshold= 0.007690000000000001\n",
      "New best found: SSE = 42654.06214285715 | Feature index= 0 | Split threshold= 0.01001\n",
      "New best found: SSE = 42607.60066733068 | Feature index= 0 | Split threshold= 0.01306\n",
      "New best found: SSE = 42487.76150099801 | Feature index= 0 | Split threshold= 0.013354999999999999\n",
      "New best found: SSE = 42237.84195247638 | Feature index= 0 | Split threshold= 0.014065\n",
      "New best found: SSE = 42153.999678714856 | Feature index= 0 | Split threshold= 0.014355\n",
      "New best found: SSE = 42111.73079365079 | Feature index= 0 | Split threshold= 0.014700000000000001\n",
      "New best found: SSE = 41739.21143434343 | Feature index= 0 | Split threshold= 0.015195\n",
      "New best found: SSE = 41403.70269905533 | Feature index= 0 | Split threshold= 0.016235\n",
      "New best found: SSE = 41349.519812763305 | Feature index= 0 | Split threshold= 0.017435\n",
      "New best found: SSE = 41236.26263646922 | Feature index= 0 | Split threshold= 0.01824\n",
      "New best found: SSE = 41205.95119132654 | Feature index= 0 | Split threshold= 0.01958\n",
      "New best found: SSE = 40890.95242258652 | Feature index= 0 | Split threshold= 0.020319999999999998\n",
      "New best found: SSE = 40635.159448559665 | Feature index= 0 | Split threshold= 0.02182\n",
      "New best found: SSE = 40556.32548257241 | Feature index= 0 | Split threshold= 0.023425\n",
      "New best found: SSE = 40547.17303427895 | Feature index= 0 | Split threshold= 0.03393\n",
      "New best found: SSE = 40380.59639339103 | Feature index= 0 | Split threshold= 0.035235\n",
      "New best found: SSE = 40254.02162255965 | Feature index= 0 | Split threshold= 0.035809999999999995\n",
      "New best found: SSE = 40253.174434710054 | Feature index= 0 | Split threshold= 0.03637\n",
      "New best found: SSE = 40116.550764971194 | Feature index= 0 | Split threshold= 0.037215\n",
      "New best found: SSE = 40053.84481361776 | Feature index= 0 | Split threshold= 0.038195\n",
      "New best found: SSE = 40050.55321587302 | Feature index= 0 | Split threshold= 0.04158\n",
      "New best found: SSE = 40026.656188803965 | Feature index= 0 | Split threshold= 0.060615\n",
      "New best found: SSE = 39928.78982113821 | Feature index= 0 | Split threshold= 0.06128\n",
      "New best found: SSE = 39665.01313689411 | Feature index= 0 | Split threshold= 0.061399999999999996\n",
      "New best found: SSE = 39608.649885609964 | Feature index= 0 | Split threshold= 0.06874\n",
      "New best found: SSE = 39463.265595959594 | Feature index= 0 | Split threshold= 0.068935\n",
      "New best found: SSE = 39343.75913705584 | Feature index= 0 | Split threshold= 0.06908\n",
      "New best found: SSE = 39265.912307865525 | Feature index= 0 | Split threshold= 0.06962\n",
      "New best found: SSE = 39210.16856426781 | Feature index= 0 | Split threshold= 0.070175\n",
      "New best found: SSE = 39155.07983894646 | Feature index= 0 | Split threshold= 0.078805\n",
      "New best found: SSE = 38989.80508618654 | Feature index= 0 | Split threshold= 0.07891000000000001\n",
      "New best found: SSE = 38928.994316416145 | Feature index= 0 | Split threshold= 0.07996\n",
      "New best found: SSE = 38717.01742815372 | Feature index= 0 | Split threshold= 0.08193\n",
      "New best found: SSE = 38678.05333333334 | Feature index= 0 | Split threshold= 0.08232500000000001\n",
      "New best found: SSE = 38656.59620356234 | Feature index= 0 | Split threshold= 0.08338999999999999\n",
      "New best found: SSE = 38515.85305258467 | Feature index= 0 | Split threshold= 0.083785\n",
      "New best found: SSE = 38423.24137486273 | Feature index= 0 | Split threshold= 0.08685499999999999\n",
      "New best found: SSE = 38407.847881084235 | Feature index= 0 | Split threshold= 0.09085499999999999\n",
      "New best found: SSE = 38224.95304906361 | Feature index= 0 | Split threshold= 0.091335\n",
      "New best found: SSE = 38221.28124619482 | Feature index= 0 | Split threshold= 0.092825\n",
      "New best found: SSE = 38220.88735692883 | Feature index= 0 | Split threshold= 0.09673999999999999\n",
      "New best found: SSE = 38215.88722212965 | Feature index= 0 | Split threshold= 0.10004\n",
      "New best found: SSE = 38102.51552353896 | Feature index= 0 | Split threshold= 0.10046\n",
      "New best found: SSE = 38097.114624419206 | Feature index= 0 | Split threshold= 0.530525\n",
      "New best found: SSE = 37833.89951690821 | Feature index= 0 | Split threshold= 0.53556\n",
      "New best found: SSE = 37804.16323365696 | Feature index= 0 | Split threshold= 0.538555\n",
      "New best found: SSE = 37652.42981832914 | Feature index= 0 | Split threshold= 0.540305\n",
      "New best found: SSE = 37370.19513926763 | Feature index= 0 | Split threshold= 0.54251\n",
      "New best found: SSE = 37229.301349661284 | Feature index= 0 | Split threshold= 0.553925\n",
      "New best found: SSE = 37010.035198692814 | Feature index= 0 | Split threshold= 0.576815\n",
      "New best found: SSE = 36615.80305075868 | Feature index= 0 | Split threshold= 0.584195\n",
      "New best found: SSE = 36598.24378066379 | Feature index= 0 | Split threshold= 0.600795\n",
      "New best found: SSE = 36188.70514973798 | Feature index= 0 | Split threshold= 0.61312\n",
      "New best found: SSE = 36064.39923206056 | Feature index= 0 | Split threshold= 0.61913\n",
      "New best found: SSE = 35977.49916167862 | Feature index= 0 | Split threshold= 0.625475\n",
      "New best found: SSE = 35946.86362004487 | Feature index= 0 | Split threshold= 0.66008\n",
      "New best found: SSE = 35727.589037974685 | Feature index= 0 | Split threshold= 0.66771\n",
      "New best found: SSE = 35552.068071910115 | Feature index= 0 | Split threshold= 1.92198\n",
      "New best found: SSE = 35062.63064576166 | Feature index= 0 | Split threshold= 2.079685\n",
      "New best found: SSE = 34962.9829047229 | Feature index= 0 | Split threshold= 5.680865\n",
      "New best found: SSE = 34887.16084843596 | Feature index= 0 | Split threshold= 5.71967\n",
      "New best found: SSE = 34775.12330894309 | Feature index= 0 | Split threshold= 5.776155\n",
      "New best found: SSE = 34758.50777564349 | Feature index= 0 | Split threshold= 5.82258\n",
      "New best found: SSE = 34683.80154100392 | Feature index= 0 | Split threshold= 5.84803\n",
      "New best found: SSE = 34459.1683803519 | Feature index= 0 | Split threshold= 6.59684\n",
      "New best found: SSE = 34450.12268540669 | Feature index= 0 | Split threshold= 6.68632\n",
      "New best found: SSE = 34179.313795165566 | Feature index= 2 | Split threshold= 3.97\n",
      "New best found: SSE = 34079.75626356588 | Feature index= 2 | Split threshold= 3.97\n",
      "New best found: SSE = 33992.9072965188 | Feature index= 2 | Split threshold= 3.97\n",
      "New best found: SSE = 33823.920771531106 | Feature index= 2 | Split threshold= 3.97\n",
      "New best found: SSE = 33446.069910274025 | Feature index= 2 | Split threshold= 3.97\n",
      "New best found: SSE = 32932.259 | Feature index= 2 | Split threshold= 3.97\n",
      "New best found: SSE = 32822.44286137958 | Feature index= 2 | Split threshold= 3.97\n",
      "New best found: SSE = 32525.80000681663 | Feature index= 2 | Split threshold= 6.2\n",
      "New best found: SSE = 32408.905397365066 | Feature index= 2 | Split threshold= 6.305\n",
      "New best found: SSE = 32232.526407203906 | Feature index= 2 | Split threshold= 6.41\n",
      "New best found: SSE = 32069.971986668697 | Feature index= 2 | Split threshold= 6.41\n",
      "New best found: SSE = 31913.84879658385 | Feature index= 2 | Split threshold= 6.41\n",
      "New best found: SSE = 31735.28989239707 | Feature index= 2 | Split threshold= 6.41\n",
      "New best found: SSE = 31633.06994724462 | Feature index= 2 | Split threshold= 6.66\n",
      "New best found: SSE = 31620.265685618728 | Feature index= 5 | Split threshold= 6.353\n",
      "New best found: SSE = 31597.217758899675 | Feature index= 5 | Split threshold= 6.365\n",
      "New best found: SSE = 31589.026377765174 | Feature index= 5 | Split threshold= 6.3725000000000005\n",
      "New best found: SSE = 31580.444654914947 | Feature index= 5 | Split threshold= 6.3740000000000006\n",
      "New best found: SSE = 31550.410197210666 | Feature index= 5 | Split threshold= 6.3765\n",
      "New best found: SSE = 31385.904983006534 | Feature index= 5 | Split threshold= 6.3785\n",
      "New best found: SSE = 31111.927828065407 | Feature index= 5 | Split threshold= 6.38\n",
      "New best found: SSE = 30905.164949494945 | Feature index= 5 | Split threshold= 6.381\n",
      "New best found: SSE = 30894.875389745866 | Feature index= 5 | Split threshold= 6.3825\n",
      "New best found: SSE = 30881.240154281644 | Feature index= 5 | Split threshold= 6.3965\n",
      "New best found: SSE = 30877.875029335995 | Feature index= 5 | Split threshold= 6.4030000000000005\n",
      "New best found: SSE = 30643.677037641577 | Feature index= 5 | Split threshold= 6.4045000000000005\n",
      "New best found: SSE = 30607.31236292624 | Feature index= 5 | Split threshold= 6.405\n",
      "New best found: SSE = 30376.976001605777 | Feature index= 5 | Split threshold= 6.405\n",
      "New best found: SSE = 30269.188327494005 | Feature index= 5 | Split threshold= 6.4055\n",
      "New best found: SSE = 30129.227205309136 | Feature index= 5 | Split threshold= 6.4085\n",
      "New best found: SSE = 29979.37480946367 | Feature index= 5 | Split threshold= 6.413\n",
      "New best found: SSE = 29964.76324786325 | Feature index= 5 | Split threshold= 6.417\n",
      "New best found: SSE = 29733.06464156396 | Feature index= 5 | Split threshold= 6.417\n",
      "New best found: SSE = 29683.89051816924 | Feature index= 5 | Split threshold= 6.423\n",
      "New best found: SSE = 29513.365627226638 | Feature index= 5 | Split threshold= 6.4254999999999995\n",
      "New best found: SSE = 29506.29679528789 | Feature index= 5 | Split threshold= 6.428\n",
      "New best found: SSE = 29471.24007837721 | Feature index= 5 | Split threshold= 6.431\n",
      "New best found: SSE = 29115.059845077285 | Feature index= 5 | Split threshold= 6.4350000000000005\n",
      "New best found: SSE = 28895.02630601379 | Feature index= 5 | Split threshold= 6.4365000000000006\n",
      "New best found: SSE = 28869.883910364148 | Feature index= 5 | Split threshold= 6.4375\n",
      "New best found: SSE = 28846.588411876586 | Feature index= 5 | Split threshold= 6.4475\n",
      "New best found: SSE = 28792.809893134086 | Feature index= 5 | Split threshold= 6.4535\n",
      "New best found: SSE = 28628.28351240255 | Feature index= 5 | Split threshold= 6.455\n",
      "New best found: SSE = 28576.961106549366 | Feature index= 5 | Split threshold= 6.457000000000001\n",
      "New best found: SSE = 28456.8392882613 | Feature index= 5 | Split threshold= 6.4585\n",
      "New best found: SSE = 28165.899572877355 | Feature index= 5 | Split threshold= 6.46\n",
      "New best found: SSE = 27819.337393051967 | Feature index= 5 | Split threshold= 6.466\n",
      "New best found: SSE = 27549.313126293997 | Feature index= 5 | Split threshold= 6.4725\n",
      "New best found: SSE = 27434.100434609827 | Feature index= 5 | Split threshold= 6.4775\n",
      "New best found: SSE = 27409.97435883494 | Feature index= 5 | Split threshold= 6.4815000000000005\n",
      "New best found: SSE = 27321.33991896775 | Feature index= 5 | Split threshold= 6.484500000000001\n",
      "New best found: SSE = 27095.753783150183 | Feature index= 5 | Split threshold= 6.486000000000001\n",
      "New best found: SSE = 27084.825822994208 | Feature index= 5 | Split threshold= 6.4885\n",
      "New best found: SSE = 27036.90448457792 | Feature index= 5 | Split threshold= 6.4925\n",
      "New best found: SSE = 26913.871297576567 | Feature index= 5 | Split threshold= 6.5024999999999995\n",
      "New best found: SSE = 26872.798036377208 | Feature index= 5 | Split threshold= 6.5105\n",
      "New best found: SSE = 26872.49322097378 | Feature index= 5 | Split threshold= 6.5120000000000005\n",
      "New best found: SSE = 26753.396314928657 | Feature index= 5 | Split threshold= 6.5145\n",
      "New best found: SSE = 26704.4599890533 | Feature index= 5 | Split threshold= 6.5205\n",
      "New best found: SSE = 26430.367471623744 | Feature index= 5 | Split threshold= 6.5315\n",
      "New best found: SSE = 26411.189509893455 | Feature index= 5 | Split threshold= 6.539\n",
      "New best found: SSE = 26192.07816142898 | Feature index= 5 | Split threshold= 6.5425\n",
      "New best found: SSE = 25826.708856660527 | Feature index= 5 | Split threshold= 6.5455000000000005\n",
      "New best found: SSE = 25815.173483749782 | Feature index= 5 | Split threshold= 6.652\n",
      "New best found: SSE = 25512.31084920792 | Feature index= 5 | Split threshold= 6.656000000000001\n",
      "New best found: SSE = 25259.78012157383 | Feature index= 5 | Split threshold= 6.6655\n",
      "New best found: SSE = 25109.893851662404 | Feature index= 5 | Split threshold= 6.676\n",
      "New best found: SSE = 24961.905816346345 | Feature index= 5 | Split threshold= 6.749499999999999\n",
      "New best found: SSE = 24865.09782178218 | Feature index= 5 | Split threshold= 6.754\n",
      "New best found: SSE = 24328.828513719513 | Feature index= 5 | Split threshold= 6.782\n",
      "New best found: SSE = 24036.088702747365 | Feature index= 5 | Split threshold= 6.794\n",
      "New best found: SSE = 23864.15348538103 | Feature index= 5 | Split threshold= 6.797\n",
      "New best found: SSE = 23726.463053377523 | Feature index= 5 | Split threshold= 6.824999999999999\n",
      "New best found: SSE = 23452.510150056238 | Feature index= 5 | Split threshold= 6.8375\n",
      "New best found: SSE = 23443.898181818182 | Feature index= 5 | Split threshold= 6.918\n",
      "New best found: SSE = 23376.74038861689 | Feature index= 5 | Split threshold= 6.941\n"
     ]
    }
   ],
   "source": [
    "import numpy as np\n",
    "\n",
    "n, d = X.shape\n",
    "sse_min = np.inf\n",
    "for j in range(d): # iterate over features\n",
    "    x = X[:, j] # select j-th column\n",
    "\n",
    "    # sort input and target by target\n",
    "    idxs = np.argsort(x)\n",
    "    x_sorted = x[idxs]\n",
    "    y_sorted = y[idxs]\n",
    "\n",
    "    midpoints = (x_sorted[1:] + x_sorted[:-1]) / 2\n",
    "    for i, t in enumerate(midpoints): # iterate over threshold values\n",
    "        k = (i + 1)\n",
    "        yhat_L = y_sorted[:k].mean() # average target on the Left side\n",
    "        yhat_R = y_sorted[k:].mean() # average target on the Right side\n",
    "        sse_L = ((yhat_L - y_sorted[:k])**2).sum()\n",
    "        sse_R = ((yhat_R - y_sorted[k:])**2).sum()\n",
    "        sse = sse_L + sse_R\n",
    "        \n",
    "        if sse < sse_min: # found a better decision than previous best\n",
    "            sse_min = sse\n",
    "            j_best, t_best = j, t\n",
    "            yhat_L_best, yhat_R_best = yhat_L, yhat_R\n",
    "            print('New best found:', 'SSE =', sse,'| Feature index=', j,'| Split threshold=', t)"
   ]
  },
  {
   "cell_type": "code",
   "execution_count": 3,
   "metadata": {},
   "outputs": [
    {
     "data": {
      "text/plain": [
       "(5, 6.941, 23376.74038861689)"
      ]
     },
     "execution_count": 3,
     "metadata": {},
     "output_type": "execute_result"
    }
   ],
   "source": [
    "j_best, t_best, sse_min"
   ]
  },
  {
   "cell_type": "code",
   "execution_count": 4,
   "metadata": {},
   "outputs": [
    {
     "data": {
      "text/plain": [
       "'RM < 6.941'"
      ]
     },
     "execution_count": 4,
     "metadata": {},
     "output_type": "execute_result"
    }
   ],
   "source": [
    "df.columns[j_best] + ' < ' + str(t_best)"
   ]
  },
  {
   "cell_type": "code",
   "execution_count": 5,
   "metadata": {},
   "outputs": [
    {
     "data": {
      "text/plain": [
       "(19.933720930232557, 37.238157894736844)"
      ]
     },
     "execution_count": 5,
     "metadata": {},
     "output_type": "execute_result"
    }
   ],
   "source": [
    "yhat_L_best, yhat_R_best"
   ]
  },
  {
   "cell_type": "markdown",
   "metadata": {},
   "source": [
    "**Exercise 3**: Repeat the previous experiment using scikit-learn!"
   ]
  },
  {
   "cell_type": "code",
   "execution_count": 6,
   "metadata": {},
   "outputs": [
    {
     "data": {
      "text/html": [
       "<style>#sk-container-id-1 {color: black;background-color: white;}#sk-container-id-1 pre{padding: 0;}#sk-container-id-1 div.sk-toggleable {background-color: white;}#sk-container-id-1 label.sk-toggleable__label {cursor: pointer;display: block;width: 100%;margin-bottom: 0;padding: 0.3em;box-sizing: border-box;text-align: center;}#sk-container-id-1 label.sk-toggleable__label-arrow:before {content: \"▸\";float: left;margin-right: 0.25em;color: #696969;}#sk-container-id-1 label.sk-toggleable__label-arrow:hover:before {color: black;}#sk-container-id-1 div.sk-estimator:hover label.sk-toggleable__label-arrow:before {color: black;}#sk-container-id-1 div.sk-toggleable__content {max-height: 0;max-width: 0;overflow: hidden;text-align: left;background-color: #f0f8ff;}#sk-container-id-1 div.sk-toggleable__content pre {margin: 0.2em;color: black;border-radius: 0.25em;background-color: #f0f8ff;}#sk-container-id-1 input.sk-toggleable__control:checked~div.sk-toggleable__content {max-height: 200px;max-width: 100%;overflow: auto;}#sk-container-id-1 input.sk-toggleable__control:checked~label.sk-toggleable__label-arrow:before {content: \"▾\";}#sk-container-id-1 div.sk-estimator input.sk-toggleable__control:checked~label.sk-toggleable__label {background-color: #d4ebff;}#sk-container-id-1 div.sk-label input.sk-toggleable__control:checked~label.sk-toggleable__label {background-color: #d4ebff;}#sk-container-id-1 input.sk-hidden--visually {border: 0;clip: rect(1px 1px 1px 1px);clip: rect(1px, 1px, 1px, 1px);height: 1px;margin: -1px;overflow: hidden;padding: 0;position: absolute;width: 1px;}#sk-container-id-1 div.sk-estimator {font-family: monospace;background-color: #f0f8ff;border: 1px dotted black;border-radius: 0.25em;box-sizing: border-box;margin-bottom: 0.5em;}#sk-container-id-1 div.sk-estimator:hover {background-color: #d4ebff;}#sk-container-id-1 div.sk-parallel-item::after {content: \"\";width: 100%;border-bottom: 1px solid gray;flex-grow: 1;}#sk-container-id-1 div.sk-label:hover label.sk-toggleable__label {background-color: #d4ebff;}#sk-container-id-1 div.sk-serial::before {content: \"\";position: absolute;border-left: 1px solid gray;box-sizing: border-box;top: 0;bottom: 0;left: 50%;z-index: 0;}#sk-container-id-1 div.sk-serial {display: flex;flex-direction: column;align-items: center;background-color: white;padding-right: 0.2em;padding-left: 0.2em;position: relative;}#sk-container-id-1 div.sk-item {position: relative;z-index: 1;}#sk-container-id-1 div.sk-parallel {display: flex;align-items: stretch;justify-content: center;background-color: white;position: relative;}#sk-container-id-1 div.sk-item::before, #sk-container-id-1 div.sk-parallel-item::before {content: \"\";position: absolute;border-left: 1px solid gray;box-sizing: border-box;top: 0;bottom: 0;left: 50%;z-index: -1;}#sk-container-id-1 div.sk-parallel-item {display: flex;flex-direction: column;z-index: 1;position: relative;background-color: white;}#sk-container-id-1 div.sk-parallel-item:first-child::after {align-self: flex-end;width: 50%;}#sk-container-id-1 div.sk-parallel-item:last-child::after {align-self: flex-start;width: 50%;}#sk-container-id-1 div.sk-parallel-item:only-child::after {width: 0;}#sk-container-id-1 div.sk-dashed-wrapped {border: 1px dashed gray;margin: 0 0.4em 0.5em 0.4em;box-sizing: border-box;padding-bottom: 0.4em;background-color: white;}#sk-container-id-1 div.sk-label label {font-family: monospace;font-weight: bold;display: inline-block;line-height: 1.2em;}#sk-container-id-1 div.sk-label-container {text-align: center;}#sk-container-id-1 div.sk-container {/* jupyter's `normalize.less` sets `[hidden] { display: none; }` but bootstrap.min.css set `[hidden] { display: none !important; }` so we also need the `!important` here to be able to override the default hidden behavior on the sphinx rendered scikit-learn.org. See: https://github.com/scikit-learn/scikit-learn/issues/21755 */display: inline-block !important;position: relative;}#sk-container-id-1 div.sk-text-repr-fallback {display: none;}</style><div id=\"sk-container-id-1\" class=\"sk-top-container\"><div class=\"sk-text-repr-fallback\"><pre>DecisionTreeRegressor(max_depth=1)</pre><b>In a Jupyter environment, please rerun this cell to show the HTML representation or trust the notebook. <br />On GitHub, the HTML representation is unable to render, please try loading this page with nbviewer.org.</b></div><div class=\"sk-container\" hidden><div class=\"sk-item\"><div class=\"sk-estimator sk-toggleable\"><input class=\"sk-toggleable__control sk-hidden--visually\" id=\"sk-estimator-id-1\" type=\"checkbox\" checked><label for=\"sk-estimator-id-1\" class=\"sk-toggleable__label sk-toggleable__label-arrow\">DecisionTreeRegressor</label><div class=\"sk-toggleable__content\"><pre>DecisionTreeRegressor(max_depth=1)</pre></div></div></div></div></div>"
      ],
      "text/plain": [
       "DecisionTreeRegressor(max_depth=1)"
      ]
     },
     "execution_count": 6,
     "metadata": {},
     "output_type": "execute_result"
    }
   ],
   "source": [
    "from sklearn.tree import DecisionTreeRegressor\n",
    "regressor = DecisionTreeRegressor(max_depth=1)\n",
    "regressor.fit(X, y)"
   ]
  },
  {
   "cell_type": "code",
   "execution_count": 7,
   "metadata": {},
   "outputs": [
    {
     "name": "stdout",
     "output_type": "stream",
     "text": [
      "[ 5 -2 -2]\n",
      "[ 6.94099998 -2.         -2.        ]\n",
      "[[[22.53280632]]\n",
      "\n",
      " [[19.93372093]]\n",
      "\n",
      " [[37.23815789]]]\n"
     ]
    }
   ],
   "source": [
    "# Internal parameters of the trained model (.tree_.{feature, threshold, value})\n",
    "print(regressor.tree_.feature)\n",
    "print(regressor.tree_.threshold)\n",
    "print(regressor.tree_.value)"
   ]
  },
  {
   "cell_type": "markdown",
   "metadata": {},
   "source": [
    "**Execrice 4**: Apply 3-fold cross-validation!"
   ]
  },
  {
   "cell_type": "code",
   "execution_count": 13,
   "metadata": {},
   "outputs": [],
   "source": [
    "from sklearn.model_selection import KFold\n",
    "from sklearn.metrics import mean_squared_error\n",
    "\n",
    "def evaluate(regressor, X, y):\n",
    "    scores = []\n",
    "    cross_validation = KFold(3, shuffle=True, random_state=42)\n",
    "    for tr, te in cross_validation.split(X):\n",
    "        regressor.fit(X[tr], y[tr])\n",
    "        yhat = regressor.predict(X)\n",
    "        score = mean_squared_error(y[te], yhat[te])**0.5\n",
    "        scores.append(score)\n",
    "    return np.mean(scores)"
   ]
  },
  {
   "cell_type": "markdown",
   "metadata": {},
   "source": [
    "**Exercise 5:** Determine what maximal depth gives the lowest RMSE!"
   ]
  },
  {
   "cell_type": "code",
   "execution_count": 54,
   "metadata": {},
   "outputs": [],
   "source": [
    "# also create a plot"
   ]
  },
  {
   "cell_type": "code",
   "execution_count": 14,
   "metadata": {},
   "outputs": [
    {
     "data": {
      "text/plain": [
       "[7.435013307929704,\n",
       " 5.6748753750814815,\n",
       " 4.996460734552788,\n",
       " 4.597959972515105,\n",
       " 4.47509607287735,\n",
       " 4.500246228889928,\n",
       " 4.542081680983131,\n",
       " 4.6814266725402245,\n",
       " 4.717507870797422,\n",
       " 4.563786081100744,\n",
       " 4.912020155993026,\n",
       " 4.681568954338988,\n",
       " 4.788222129444225,\n",
       " 4.781339830545176,\n",
       " 4.647130972747677,\n",
       " 4.948232662874149,\n",
       " 4.891792341067529,\n",
       " 4.980090429380394,\n",
       " 4.877156332064531,\n",
       " 4.878312499423474]"
      ]
     },
     "execution_count": 14,
     "metadata": {},
     "output_type": "execute_result"
    }
   ],
   "source": [
    "rmses = []\n",
    "for i in range(1, 21):\n",
    "    rmse = evaluate(DecisionTreeRegressor(max_depth=i, random_state=42), X, y)\n",
    "    rmses.append(rmse)\n",
    "    \n",
    "rmses"
   ]
  },
  {
   "cell_type": "markdown",
   "metadata": {},
   "source": [
    "**Exercise 6**: Train a decision tree of depth 3 and visualize the trained model!"
   ]
  },
  {
   "cell_type": "code",
   "execution_count": 15,
   "metadata": {},
   "outputs": [],
   "source": [
    "from sklearn.tree import plot_tree\n",
    "import matplotlib.pyplot as plt\n",
    "\n",
    "re = DecisionTreeRegressor()"
   ]
  },
  {
   "cell_type": "code",
   "execution_count": null,
   "metadata": {},
   "outputs": [],
   "source": [
    "# Number of parameters in the tree.\n"
   ]
  },
  {
   "cell_type": "code",
   "execution_count": null,
   "metadata": {},
   "outputs": [],
   "source": [
    "# Total size of the data set.\n"
   ]
  },
  {
   "cell_type": "markdown",
   "metadata": {},
   "source": [
    "## Decision Trees for Classification"
   ]
  },
  {
   "cell_type": "markdown",
   "metadata": {},
   "source": [
    "- Decision trees can also be applied to classification problems.\n",
    "\n",
    "\n",
    "- The necessary modification is that instead of sum of squared error, a different split criterion should be applied (e.g. misclassification count, [Gini impurity](https://en.wikipedia.org/wiki/Decision_tree_learning#Gini_impurity), [information gain](https://en.wikipedia.org/wiki/Decision_tree_learning#Information_gain)), and the leaf predictions should be changed to class probabilities.\n",
    "\n",
    "\n",
    "- Decision trees can handle multiclass problems too."
   ]
  },
  {
   "cell_type": "markdown",
   "metadata": {},
   "source": [
    "**Exercise 7**: Apply a decision tree classifier for the Wisconsin Breast Cancer data set! Use 5-fold cross-validation! The evaluation metric should be the ratio of correct classifications. Determine the maximal depth that gives the highest accuracy! Compare the best decision tree against logistic regression!"
   ]
  },
  {
   "cell_type": "code",
   "execution_count": null,
   "metadata": {},
   "outputs": [],
   "source": [
    "# Load the data to DataFrame.\n",
    "import pandas as pd\n",
    "names = [\n",
    "    'Sample_code_number', 'Clump_Thickness', 'Uniformity_of_Cell_Size',\n",
    "    'Uniformity_of_Cell_Shape', 'Marginal_Adhesion', 'Single_Epithelial_Cell_Size',\n",
    "    'Bare_Nuclei', 'Bland_Chromatin', 'Normal_Nucleoli', 'Mitoses', 'Class'\n",
    "]\n",
    "df = pd.read_csv('../_data/wisconsin_data.txt', sep=',', names=names, na_values='?')\n",
    "df['Bare_Nuclei'].fillna(0, inplace=True)\n",
    "df.head()"
   ]
  },
  {
   "cell_type": "code",
   "execution_count": null,
   "metadata": {},
   "outputs": [],
   "source": []
  },
  {
   "cell_type": "markdown",
   "metadata": {},
   "source": [
    "## Decision Trees vs. Linear Models\n",
    "\n",
    "Decision trees\n",
    "- ...are insensitive to the scale of the input features 😀\n",
    "- ...are easier to explain 😀\n",
    "- ...can learn complex patterns 😀\n",
    "- ...don not handle sparse data efficiently ☹️\n",
    "- ...tend to overfit more ☹️"
   ]
  }
 ],
 "metadata": {
  "kernelspec": {
   "display_name": "Python 3 (ipykernel)",
   "language": "python",
   "name": "python3"
  },
  "language_info": {
   "codemirror_mode": {
    "name": "ipython",
    "version": 3
   },
   "file_extension": ".py",
   "mimetype": "text/x-python",
   "name": "python",
   "nbconvert_exporter": "python",
   "pygments_lexer": "ipython3",
   "version": "3.8.0"
  }
 },
 "nbformat": 4,
 "nbformat_minor": 2
}
