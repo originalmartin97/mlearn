{
 "cells": [
  {
   "cell_type": "markdown",
   "id": "77d91ee8",
   "metadata": {},
   "source": [
    "[titanic_readme.txt](../_data/titanic_readme.txt)\n",
    "\n",
    "[titanic_data.txt](../_data/titanic_data.txt)"
   ]
  },
  {
   "cell_type": "markdown",
   "id": "1158ff68",
   "metadata": {},
   "source": [
    "# Exploratory Data Analysis (EDA)"
   ]
  },
  {
   "cell_type": "code",
   "execution_count": 3,
   "id": "b5ca4ee3",
   "metadata": {},
   "outputs": [],
   "source": [
    "import pandas as pd"
   ]
  },
  {
   "cell_type": "code",
   "execution_count": 4,
   "id": "cf62ab5b",
   "metadata": {},
   "outputs": [],
   "source": [
    "df = pd.read_csv('../_data/titanic_data.txt')"
   ]
  },
  {
   "cell_type": "markdown",
   "id": "b2006698",
   "metadata": {},
   "source": [
    "# Data preaparation"
   ]
  },
  {
   "cell_type": "code",
   "execution_count": 5,
   "id": "89f98bbe",
   "metadata": {},
   "outputs": [],
   "source": [
    "df1 = df.copy()"
   ]
  },
  {
   "cell_type": "code",
   "execution_count": 6,
   "id": "3854d41c",
   "metadata": {},
   "outputs": [
    {
     "data": {
      "text/plain": [
       "0.3838383838383838"
      ]
     },
     "execution_count": 6,
     "metadata": {},
     "output_type": "execute_result"
    }
   ],
   "source": [
    "# target vector\n",
    "y = df1['Survived'].values\n",
    "y.mean()"
   ]
  },
  {
   "cell_type": "code",
   "execution_count": 7,
   "id": "45881dd9",
   "metadata": {},
   "outputs": [],
   "source": [
    "df1['Age2'] = df['Age'].fillna(df['Age'].mean())"
   ]
  },
  {
   "cell_type": "code",
   "execution_count": 8,
   "id": "1966cc9d",
   "metadata": {},
   "outputs": [],
   "source": [
    "df1['Embarked2'] = df['Embarked'].fillna('?')"
   ]
  },
  {
   "cell_type": "code",
   "execution_count": 9,
   "id": "d05b814a",
   "metadata": {},
   "outputs": [],
   "source": [
    "from sklearn.preprocessing import OrdinalEncoder\n",
    "\n",
    "ord_enc = OrdinalEncoder()\n",
    "df1['Sex2'] = ord_enc.fit_transform(df[['Sex']])\n",
    "df1['Embarked2'] = ord_enc.fit_transform(df1[['Embarked2']])"
   ]
  },
  {
   "cell_type": "code",
   "execution_count": 10,
   "id": "12870fc7",
   "metadata": {},
   "outputs": [
    {
     "data": {
      "text/plain": [
       "9.756271143743692"
      ]
     },
     "execution_count": 10,
     "metadata": {},
     "output_type": "execute_result"
    }
   ],
   "source": [
    "columns = ['Pclass', 'Sex2', 'Age2', 'SibSp', 'Parch', 'Fare', 'Embarked2']\n",
    "X = df1[columns].values\n",
    "X.mean()"
   ]
  },
  {
   "cell_type": "markdown",
   "id": "ef577139",
   "metadata": {},
   "source": [
    "- evaluation scheme: 5-fold cross-validation\n",
    "- evaluation metric: accuracy score"
   ]
  },
  {
   "cell_type": "code",
   "execution_count": 11,
   "id": "9c3ff608",
   "metadata": {},
   "outputs": [],
   "source": [
    "import numpy as np\n",
    "from sklearn.model_selection import KFold\n",
    "from sklearn.dummy import DummyClassifier\n",
    "from sklearn.model_selection import StratifiedKFold\n",
    "from sklearn.metrics import accuracy_score\n",
    "\n",
    "def evaluate(cl, X, y):\n",
    "    cv = KFold(5, shuffle=True, random_state=42)\n",
    "    scores = []\n",
    "    for tr, te in cv.split(X, y):\n",
    "        cl.fit(X[tr], y[tr])\n",
    "        yhat = cl.predict(X)\n",
    "        scores.append(accuracy_score(y[te], yhat[te]))\n",
    "    return np.mean(scores)"
   ]
  },
  {
   "cell_type": "code",
   "execution_count": 12,
   "id": "7a88871d",
   "metadata": {},
   "outputs": [
    {
     "data": {
      "text/plain": [
       "0.616194840248572"
      ]
     },
     "execution_count": 12,
     "metadata": {},
     "output_type": "execute_result"
    }
   ],
   "source": [
    "# First the dummy classifier\n",
    "evaluate(DummyClassifier(), X, y)"
   ]
  },
  {
   "cell_type": "code",
   "execution_count": 13,
   "id": "4564b462",
   "metadata": {},
   "outputs": [
    {
     "data": {
      "text/plain": [
       "0.8350260498399347"
      ]
     },
     "execution_count": 13,
     "metadata": {},
     "output_type": "execute_result"
    }
   ],
   "source": [
    "from sklearn.ensemble import HistGradientBoostingClassifier\n",
    "evaluate(HistGradientBoostingClassifier(max_depth=5, random_state=42), X, y)"
   ]
  },
  {
   "cell_type": "code",
   "execution_count": 14,
   "id": "f8bf278c",
   "metadata": {},
   "outputs": [
    {
     "data": {
      "text/plain": [
       "0.8294206264515724"
      ]
     },
     "execution_count": 14,
     "metadata": {},
     "output_type": "execute_result"
    }
   ],
   "source": [
    "from sklearn.ensemble import GradientBoostingClassifier\n",
    "evaluate(GradientBoostingClassifier(max_depth=4, random_state=42), X, y)"
   ]
  },
  {
   "cell_type": "code",
   "execution_count": 15,
   "id": "1c3a613b",
   "metadata": {},
   "outputs": [
    {
     "data": {
      "text/plain": [
       "0.8238026489234824"
      ]
     },
     "execution_count": 15,
     "metadata": {},
     "output_type": "execute_result"
    }
   ],
   "source": [
    "from xgboost import XGBClassifier\n",
    "evaluate(XGBClassifier(max_depth=4, random_state=42), X, y)"
   ]
  },
  {
   "cell_type": "code",
   "execution_count": 16,
   "id": "43cbb919",
   "metadata": {},
   "outputs": [
    {
     "data": {
      "text/plain": [
       "0.8002134203753688"
      ]
     },
     "execution_count": 16,
     "metadata": {},
     "output_type": "execute_result"
    }
   ],
   "source": [
    "from sklearn.linear_model import LogisticRegression\n",
    "evaluate(LogisticRegression(random_state=42, max_iter=2000), X, y)"
   ]
  },
  {
   "cell_type": "code",
   "execution_count": 17,
   "id": "2d6d6bc1",
   "metadata": {},
   "outputs": [
    {
     "data": {
      "text/plain": [
       "0.821568012051974"
      ]
     },
     "execution_count": 17,
     "metadata": {},
     "output_type": "execute_result"
    }
   ],
   "source": [
    "from sklearn.ensemble import RandomForestClassifier\n",
    "evaluate(RandomForestClassifier(random_state=42), X, y)"
   ]
  },
  {
   "cell_type": "code",
   "execution_count": 18,
   "id": "48bf3ef5",
   "metadata": {},
   "outputs": [
    {
     "data": {
      "text/plain": [
       "0.8002134203753688"
      ]
     },
     "execution_count": 18,
     "metadata": {},
     "output_type": "execute_result"
    }
   ],
   "source": [
    "from sklearn.ensemble import ExtraTreesClassifier\n",
    "evaluate(ExtraTreesClassifier(random_state=42), X, y)"
   ]
  },
  {
   "cell_type": "code",
   "execution_count": 19,
   "id": "cc8961ab",
   "metadata": {},
   "outputs": [
    {
     "data": {
      "text/plain": [
       "0.8406377502981609"
      ]
     },
     "execution_count": 19,
     "metadata": {},
     "output_type": "execute_result"
    }
   ],
   "source": [
    "# LGBMClassifier\n",
    "from lightgbm import LGBMClassifier\n",
    "evaluate(LGBMClassifier(boosting_type='goss', max_depth=10, random_state=42), X, y)"
   ]
  },
  {
   "cell_type": "markdown",
   "id": "6134bf8c",
   "metadata": {},
   "source": [
    "# Ivestigating the Models"
   ]
  },
  {
   "cell_type": "code",
   "execution_count": 20,
   "id": "7dcc5d7e",
   "metadata": {},
   "outputs": [
    {
     "data": {
      "text/html": [
       "<style>#sk-container-id-1 {color: black;background-color: white;}#sk-container-id-1 pre{padding: 0;}#sk-container-id-1 div.sk-toggleable {background-color: white;}#sk-container-id-1 label.sk-toggleable__label {cursor: pointer;display: block;width: 100%;margin-bottom: 0;padding: 0.3em;box-sizing: border-box;text-align: center;}#sk-container-id-1 label.sk-toggleable__label-arrow:before {content: \"▸\";float: left;margin-right: 0.25em;color: #696969;}#sk-container-id-1 label.sk-toggleable__label-arrow:hover:before {color: black;}#sk-container-id-1 div.sk-estimator:hover label.sk-toggleable__label-arrow:before {color: black;}#sk-container-id-1 div.sk-toggleable__content {max-height: 0;max-width: 0;overflow: hidden;text-align: left;background-color: #f0f8ff;}#sk-container-id-1 div.sk-toggleable__content pre {margin: 0.2em;color: black;border-radius: 0.25em;background-color: #f0f8ff;}#sk-container-id-1 input.sk-toggleable__control:checked~div.sk-toggleable__content {max-height: 200px;max-width: 100%;overflow: auto;}#sk-container-id-1 input.sk-toggleable__control:checked~label.sk-toggleable__label-arrow:before {content: \"▾\";}#sk-container-id-1 div.sk-estimator input.sk-toggleable__control:checked~label.sk-toggleable__label {background-color: #d4ebff;}#sk-container-id-1 div.sk-label input.sk-toggleable__control:checked~label.sk-toggleable__label {background-color: #d4ebff;}#sk-container-id-1 input.sk-hidden--visually {border: 0;clip: rect(1px 1px 1px 1px);clip: rect(1px, 1px, 1px, 1px);height: 1px;margin: -1px;overflow: hidden;padding: 0;position: absolute;width: 1px;}#sk-container-id-1 div.sk-estimator {font-family: monospace;background-color: #f0f8ff;border: 1px dotted black;border-radius: 0.25em;box-sizing: border-box;margin-bottom: 0.5em;}#sk-container-id-1 div.sk-estimator:hover {background-color: #d4ebff;}#sk-container-id-1 div.sk-parallel-item::after {content: \"\";width: 100%;border-bottom: 1px solid gray;flex-grow: 1;}#sk-container-id-1 div.sk-label:hover label.sk-toggleable__label {background-color: #d4ebff;}#sk-container-id-1 div.sk-serial::before {content: \"\";position: absolute;border-left: 1px solid gray;box-sizing: border-box;top: 0;bottom: 0;left: 50%;z-index: 0;}#sk-container-id-1 div.sk-serial {display: flex;flex-direction: column;align-items: center;background-color: white;padding-right: 0.2em;padding-left: 0.2em;position: relative;}#sk-container-id-1 div.sk-item {position: relative;z-index: 1;}#sk-container-id-1 div.sk-parallel {display: flex;align-items: stretch;justify-content: center;background-color: white;position: relative;}#sk-container-id-1 div.sk-item::before, #sk-container-id-1 div.sk-parallel-item::before {content: \"\";position: absolute;border-left: 1px solid gray;box-sizing: border-box;top: 0;bottom: 0;left: 50%;z-index: -1;}#sk-container-id-1 div.sk-parallel-item {display: flex;flex-direction: column;z-index: 1;position: relative;background-color: white;}#sk-container-id-1 div.sk-parallel-item:first-child::after {align-self: flex-end;width: 50%;}#sk-container-id-1 div.sk-parallel-item:last-child::after {align-self: flex-start;width: 50%;}#sk-container-id-1 div.sk-parallel-item:only-child::after {width: 0;}#sk-container-id-1 div.sk-dashed-wrapped {border: 1px dashed gray;margin: 0 0.4em 0.5em 0.4em;box-sizing: border-box;padding-bottom: 0.4em;background-color: white;}#sk-container-id-1 div.sk-label label {font-family: monospace;font-weight: bold;display: inline-block;line-height: 1.2em;}#sk-container-id-1 div.sk-label-container {text-align: center;}#sk-container-id-1 div.sk-container {/* jupyter's `normalize.less` sets `[hidden] { display: none; }` but bootstrap.min.css set `[hidden] { display: none !important; }` so we also need the `!important` here to be able to override the default hidden behavior on the sphinx rendered scikit-learn.org. See: https://github.com/scikit-learn/scikit-learn/issues/21755 */display: inline-block !important;position: relative;}#sk-container-id-1 div.sk-text-repr-fallback {display: none;}</style><div id=\"sk-container-id-1\" class=\"sk-top-container\"><div class=\"sk-text-repr-fallback\"><pre>RandomForestClassifier(max_depth=11, random_state=42)</pre><b>In a Jupyter environment, please rerun this cell to show the HTML representation or trust the notebook. <br />On GitHub, the HTML representation is unable to render, please try loading this page with nbviewer.org.</b></div><div class=\"sk-container\" hidden><div class=\"sk-item\"><div class=\"sk-estimator sk-toggleable\"><input class=\"sk-toggleable__control sk-hidden--visually\" id=\"sk-estimator-id-1\" type=\"checkbox\" checked><label for=\"sk-estimator-id-1\" class=\"sk-toggleable__label sk-toggleable__label-arrow\">RandomForestClassifier</label><div class=\"sk-toggleable__content\"><pre>RandomForestClassifier(max_depth=11, random_state=42)</pre></div></div></div></div></div>"
      ],
      "text/plain": [
       "RandomForestClassifier(max_depth=11, random_state=42)"
      ]
     },
     "execution_count": 20,
     "metadata": {},
     "output_type": "execute_result"
    }
   ],
   "source": [
    "from sklearn.ensemble import RandomForestClassifier\n",
    "rf2 = RandomForestClassifier(random_state=42, max_depth=11)\n",
    "rf2.fit(X, y)"
   ]
  },
  {
   "cell_type": "code",
   "execution_count": 21,
   "id": "d4d8f689",
   "metadata": {},
   "outputs": [
    {
     "data": {
      "text/plain": [
       "Sex2         0.295348\n",
       "Fare         0.250201\n",
       "Age2         0.226667\n",
       "Pclass       0.098358\n",
       "SibSp        0.053608\n",
       "Parch        0.040493\n",
       "Embarked2    0.035325\n",
       "dtype: float64"
      ]
     },
     "execution_count": 21,
     "metadata": {},
     "output_type": "execute_result"
    }
   ],
   "source": [
    "pd.Series(rf2.feature_importances_, columns).sort_values()[::-1]"
   ]
  },
  {
   "cell_type": "code",
   "execution_count": 22,
   "id": "3c8cb8ac",
   "metadata": {},
   "outputs": [
    {
     "data": {
      "image/png": "[encoded data removed]",
      "text/plain": [
       "<Figure size 864x576 with 1 Axes>"
      ]
     },
     "metadata": {
      "needs_background": "light"
     },
     "output_type": "display_data"
    }
   ],
   "source": [
    "# Build a simple model (shallow decision tree) and visualize it.\n",
    "from sklearn.tree import DecisionTreeClassifier, plot_tree\n",
    "import matplotlib.pyplot as plt\n",
    "\n",
    "cl = DecisionTreeClassifier(max_depth=3, random_state=42, min_samples_leaf=10)\n",
    "cl.fit(X, y)\n",
    "\n",
    "plt.figure(figsize=(12, 8))\n",
    "plot_tree(cl, filled=True, rounded=True, feature_names=columns)\n",
    "pass"
   ]
  },
  {
   "cell_type": "code",
   "execution_count": 23,
   "id": "e3ea119b",
   "metadata": {},
   "outputs": [],
   "source": [
    "# Error analysis.\n",
    "yhat = rf2.predict_proba(X)[:, 1]\n",
    "df['yhat'] = yhat\n",
    "\n",
    "# False positives\n",
    "df_fp = df[(yhat > 0.5) & (y == 0)].sort_values('yhat')[::-1]\n",
    "\n",
    "# False negative\n",
    "df_fn = df[(yhat <= 0.5) & (y == 1)].sort_values('yhat')"
   ]
  },
  {
   "cell_type": "code",
   "execution_count": 24,
   "id": "42db01b1",
   "metadata": {},
   "outputs": [
    {
     "data": {
      "text/plain": [
       "PassengerId                   265\n",
       "Survived                        0\n",
       "Pclass                          3\n",
       "Name           Henry, Miss. Delia\n",
       "Sex                        female\n",
       "Age                           NaN\n",
       "SibSp                           0\n",
       "Parch                           0\n",
       "Ticket                     382649\n",
       "Fare                         7.75\n",
       "Cabin                         NaN\n",
       "Embarked                        Q\n",
       "yhat                     0.826134\n",
       "Name: 264, dtype: object"
      ]
     },
     "execution_count": 24,
     "metadata": {},
     "output_type": "execute_result"
    }
   ],
   "source": [
    "# FP #1\n",
    "df_fp.iloc[0]"
   ]
  },
  {
   "cell_type": "code",
   "execution_count": 25,
   "id": "5275354f",
   "metadata": {},
   "outputs": [
    {
     "data": {
      "text/plain": [
       "PassengerId             827\n",
       "Survived                  0\n",
       "Pclass                    3\n",
       "Name           Lam, Mr. Len\n",
       "Sex                    male\n",
       "Age                     NaN\n",
       "SibSp                     0\n",
       "Parch                     0\n",
       "Ticket                 1601\n",
       "Fare                56.4958\n",
       "Cabin                   NaN\n",
       "Embarked                  S\n",
       "yhat               0.585247\n",
       "Name: 826, dtype: object"
      ]
     },
     "execution_count": 25,
     "metadata": {},
     "output_type": "execute_result"
    }
   ],
   "source": [
    "# FP #2\n",
    "df_fp.iloc[1]"
   ]
  },
  {
   "cell_type": "code",
   "execution_count": 27,
   "id": "ee45ea01",
   "metadata": {},
   "outputs": [
    {
     "data": {
      "text/plain": [
       "PassengerId                       108\n",
       "Survived                            1\n",
       "Pclass                              3\n",
       "Name           Moss, Mr. Albert Johan\n",
       "Sex                              male\n",
       "Age                               NaN\n",
       "SibSp                               0\n",
       "Parch                               0\n",
       "Ticket                         312991\n",
       "Fare                            7.775\n",
       "Cabin                             NaN\n",
       "Embarked                            S\n",
       "yhat                         0.124266\n",
       "Name: 107, dtype: object"
      ]
     },
     "execution_count": 27,
     "metadata": {},
     "output_type": "execute_result"
    }
   ],
   "source": [
    "df_fn.iloc[0]"
   ]
  },
  {
   "cell_type": "code",
   "execution_count": 28,
   "id": "dc7dcd6b",
   "metadata": {},
   "outputs": [
    {
     "data": {
      "text/plain": [
       "PassengerId                             829\n",
       "Survived                                  1\n",
       "Pclass                                    3\n",
       "Name           McCormack, Mr. Thomas Joseph\n",
       "Sex                                    male\n",
       "Age                                     NaN\n",
       "SibSp                                     0\n",
       "Parch                                     0\n",
       "Ticket                               367228\n",
       "Fare                                   7.75\n",
       "Cabin                                   NaN\n",
       "Embarked                                  Q\n",
       "yhat                               0.133598\n",
       "Name: 828, dtype: object"
      ]
     },
     "execution_count": 28,
     "metadata": {},
     "output_type": "execute_result"
    }
   ],
   "source": [
    "df_fn.iloc[1]"
   ]
  }
 ],
 "metadata": {
  "kernelspec": {
   "display_name": "Python 3 (ipykernel)",
   "language": "python",
   "name": "python3"
  },
  "language_info": {
   "codemirror_mode": {
    "name": "ipython",
    "version": 3
   },
   "file_extension": ".py",
   "mimetype": "text/x-python",
   "name": "python",
   "nbconvert_exporter": "python",
   "pygments_lexer": "ipython3",
   "version": "3.8.0"
  }
 },
 "nbformat": 4,
 "nbformat_minor": 5
}
