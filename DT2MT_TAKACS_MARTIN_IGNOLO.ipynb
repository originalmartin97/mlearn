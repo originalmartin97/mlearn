{
 "cells": [
  {
   "cell_type": "code",
   "execution_count": 15,
   "id": "e7a1faa6-76ae-45f4-967c-3d5d65e69e3f",
   "metadata": {},
   "outputs": [],
   "source": [
    "import sympy\n",
    "from sympy.tensor.array import derive_by_array as grad\n",
    "import numpy as np"
   ]
  },
  {
   "cell_type": "markdown",
   "id": "3e6471e9-f3a7-4179-8b1c-89618a11aee1",
   "metadata": {},
   "source": [
    "# 1. Let us consider the following two-variable function:"
   ]
  },
  {
   "cell_type": "code",
   "execution_count": 3,
   "id": "8068697d-2dd1-47a3-a600-9a25b51d5e51",
   "metadata": {},
   "outputs": [],
   "source": [
    "X, Y = sympy.symbols('x, y') "
   ]
  },
  {
   "cell_type": "code",
   "execution_count": 4,
   "id": "6cc792c6-9401-47b0-9519-01575fab9eef",
   "metadata": {},
   "outputs": [],
   "source": [
    "fxy = Y * sympy.cos(X) - X * sympy.tan(2*Y)"
   ]
  },
  {
   "cell_type": "code",
   "execution_count": 5,
   "id": "480eb16f-bce6-4414-a2b6-a32f5f2f4779",
   "metadata": {},
   "outputs": [
    {
     "data": {
      "text/latex": [
       "$\\displaystyle - x \\tan{\\left(2 y \\right)} + y \\cos{\\left(x \\right)}$"
      ],
      "text/plain": [
       "-x*tan(2*y) + y*cos(x)"
      ]
     },
     "execution_count": 5,
     "metadata": {},
     "output_type": "execute_result"
    }
   ],
   "source": [
    "fxy"
   ]
  },
  {
   "cell_type": "markdown",
   "id": "81fc1937-f4fa-433b-8825-a12c25521d2e",
   "metadata": {},
   "source": [
    "## a., Calculate the gradient of the function with sympy"
   ]
  },
  {
   "cell_type": "code",
   "execution_count": 9,
   "id": "ea7c9223-60ee-4da6-971c-23753df08f94",
   "metadata": {},
   "outputs": [
    {
     "data": {
      "text/latex": [
       "$\\displaystyle \\left[\\begin{matrix}- y \\sin{\\left(x \\right)} - \\tan{\\left(2 y \\right)} & - x \\left(2 \\tan^{2}{\\left(2 y \\right)} + 2\\right) + \\cos{\\left(x \\right)}\\end{matrix}\\right]$"
      ],
      "text/plain": [
       "[-y*sin(x) - tan(2*y), -x*(2*tan(2*y)**2 + 2) + cos(x)]"
      ]
     },
     "execution_count": 9,
     "metadata": {},
     "output_type": "execute_result"
    }
   ],
   "source": [
    "grad(fxy, (X, Y))"
   ]
  },
  {
   "cell_type": "markdown",
   "id": "236e6f91-4730-4b8b-be47-54286aee50d1",
   "metadata": {},
   "source": [
    "## b., Calculate the Hesse Matrix of the function"
   ]
  },
  {
   "cell_type": "code",
   "execution_count": 10,
   "id": "feb121e2-2566-414c-8221-b8dd943070b6",
   "metadata": {},
   "outputs": [
    {
     "data": {
      "text/latex": [
       "$\\displaystyle \\left[\\begin{matrix}- y \\cos{\\left(x \\right)} & - \\sin{\\left(x \\right)} - 2 \\tan^{2}{\\left(2 y \\right)} - 2\\\\- \\sin{\\left(x \\right)} - 2 \\tan^{2}{\\left(2 y \\right)} - 2 & - 2 x \\left(4 \\tan^{2}{\\left(2 y \\right)} + 4\\right) \\tan{\\left(2 y \\right)}\\end{matrix}\\right]$"
      ],
      "text/plain": [
       "[[-y*cos(x), -sin(x) - 2*tan(2*y)**2 - 2], [-sin(x) - 2*tan(2*y)**2 - 2, -2*x*(4*tan(2*y)**2 + 4)*tan(2*y)]]"
      ]
     },
     "execution_count": 10,
     "metadata": {},
     "output_type": "execute_result"
    }
   ],
   "source": [
    "grad(grad(fxy, (X,Y)), (X,Y))"
   ]
  },
  {
   "cell_type": "markdown",
   "id": "758e8dcb-9e56-427f-96db-86b80dc7ad3f",
   "metadata": {},
   "source": [
    "# 2. Let us consider the following differentiation scheme"
   ]
  },
  {
   "cell_type": "markdown",
   "id": "545e7249-915f-4d75-a6dc-09d71100cbb1",
   "metadata": {},
   "source": [
    "## a., Implement the scheme with f`(x0) and h = 0.01"
   ]
  },
  {
   "cell_type": "code",
   "execution_count": 12,
   "id": "b2ddb1cc-0be4-44d9-b696-643e27f03a34",
   "metadata": {},
   "outputs": [],
   "source": [
    "def new_method(f, x0, h):\n",
    "    forward = f(x0 + h)\n",
    "    forward2 = f(forward + h)\n",
    "    backward = f(x0 - h)\n",
    "    backward2 = f(backward - h)\n",
    "    return ( backward2 - forward2 ) / 12*h"
   ]
  },
  {
   "cell_type": "markdown",
   "id": "973dd62a-d143-4e81-861e-bcff6fe07de3",
   "metadata": {},
   "source": [
    "## b., Use the above scheme to calculate the derivative of the function"
   ]
  },
  {
   "cell_type": "code",
   "execution_count": 13,
   "id": "9e373d67-c9ef-4ae8-a89d-1dd022ad87d6",
   "metadata": {},
   "outputs": [],
   "source": [
    "def fx(x_):\n",
    "    return x_ * sympy.sin(2*x_)"
   ]
  },
  {
   "cell_type": "code",
   "execution_count": 32,
   "id": "56c696be-1071-4725-acdc-97a2e894f6c4",
   "metadata": {},
   "outputs": [],
   "source": [
    "h_steps = [10**(-xp) for xp in range(1, 157)]"
   ]
  },
  {
   "cell_type": "code",
   "execution_count": 37,
   "id": "abe11b66-6b7a-45c1-83d6-323371de814f",
   "metadata": {},
   "outputs": [],
   "source": [
    "results = [new_method(fx, x0, 0.01) for x0 in h_steps]"
   ]
  },
  {
   "cell_type": "code",
   "execution_count": 41,
   "id": "22e1d69a-41f4-4bc9-904e-fac5778d6a68",
   "metadata": {},
   "outputs": [],
   "source": [
    "def f_diff(x_):\n",
    "    return sympy.cos(2*x_)"
   ]
  },
  {
   "cell_type": "code",
   "execution_count": 42,
   "id": "18073f69-ccc7-4f53-bfb4-98b6d54992b8",
   "metadata": {},
   "outputs": [],
   "source": [
    "anal_result = f_diff(np.pi/2)"
   ]
  },
  {
   "cell_type": "code",
   "execution_count": 43,
   "id": "71d11325-2b80-4e85-a304-3624345a4b7e",
   "metadata": {},
   "outputs": [],
   "source": [
    "errors = [np.abs(result - anal_result) for result in results]"
   ]
  },
  {
   "cell_type": "markdown",
   "id": "c778d723-2d81-4080-9b9d-84657cf767a4",
   "metadata": {},
   "source": [
    "## c., plot"
   ]
  },
  {
   "cell_type": "code",
   "execution_count": 45,
   "id": "e8251333-7a4a-4b43-a45a-902bafe040be",
   "metadata": {},
   "outputs": [],
   "source": [
    "import matplotlib.pyplot as plt"
   ]
  },
  {
   "cell_type": "code",
   "execution_count": 49,
   "id": "033f4be1-b88f-4218-8e84-298c393e2b3b",
   "metadata": {},
   "outputs": [
    {
     "ename": "ValueError",
     "evalue": "x and y must have same first dimension, but have shapes (19,) and (1,)",
     "output_type": "error",
     "traceback": [
      "\u001b[0;31m---------------------------------------------------------------------------\u001b[0m",
      "\u001b[0;31mValueError\u001b[0m                                Traceback (most recent call last)",
      "Cell \u001b[0;32mIn[49], line 1\u001b[0m\n\u001b[0;32m----> 1\u001b[0m \u001b[43mplt\u001b[49m\u001b[38;5;241;43m.\u001b[39;49m\u001b[43mloglog\u001b[49m\u001b[43m(\u001b[49m\u001b[43mh_steps\u001b[49m\u001b[43m,\u001b[49m\u001b[43m \u001b[49m\u001b[43manal_result\u001b[49m\u001b[43m,\u001b[49m\u001b[43m \u001b[49m\u001b[38;5;124;43m'\u001b[39;49m\u001b[38;5;124;43mx-\u001b[39;49m\u001b[38;5;124;43m'\u001b[39;49m\u001b[43m,\u001b[49m\u001b[43m \u001b[49m\u001b[43mlabel\u001b[49m\u001b[38;5;241;43m=\u001b[39;49m\u001b[38;5;124;43m'\u001b[39;49m\u001b[38;5;124;43manalytic derivative\u001b[39;49m\u001b[38;5;124;43m'\u001b[39;49m\u001b[43m)\u001b[49m\n",
      "File \u001b[0;32m~/.local/lib/python3.13/site-packages/matplotlib/pyplot.py:3602\u001b[0m, in \u001b[0;36mloglog\u001b[0;34m(*args, **kwargs)\u001b[0m\n\u001b[1;32m   3600\u001b[0m \u001b[38;5;129m@_copy_docstring_and_deprecators\u001b[39m(Axes\u001b[38;5;241m.\u001b[39mloglog)\n\u001b[1;32m   3601\u001b[0m \u001b[38;5;28;01mdef\u001b[39;00m \u001b[38;5;21mloglog\u001b[39m(\u001b[38;5;241m*\u001b[39margs, \u001b[38;5;241m*\u001b[39m\u001b[38;5;241m*\u001b[39mkwargs) \u001b[38;5;241m-\u001b[39m\u001b[38;5;241m>\u001b[39m \u001b[38;5;28mlist\u001b[39m[Line2D]:\n\u001b[0;32m-> 3602\u001b[0m     \u001b[38;5;28;01mreturn\u001b[39;00m \u001b[43mgca\u001b[49m\u001b[43m(\u001b[49m\u001b[43m)\u001b[49m\u001b[38;5;241;43m.\u001b[39;49m\u001b[43mloglog\u001b[49m\u001b[43m(\u001b[49m\u001b[38;5;241;43m*\u001b[39;49m\u001b[43margs\u001b[49m\u001b[43m,\u001b[49m\u001b[43m \u001b[49m\u001b[38;5;241;43m*\u001b[39;49m\u001b[38;5;241;43m*\u001b[39;49m\u001b[43mkwargs\u001b[49m\u001b[43m)\u001b[49m\n",
      "File \u001b[0;32m~/.local/lib/python3.13/site-packages/matplotlib/axes/_axes.py:1920\u001b[0m, in \u001b[0;36mAxes.loglog\u001b[0;34m(self, *args, **kwargs)\u001b[0m\n\u001b[1;32m   1916\u001b[0m dy \u001b[38;5;241m=\u001b[39m {k: v \u001b[38;5;28;01mfor\u001b[39;00m k, v \u001b[38;5;129;01min\u001b[39;00m kwargs\u001b[38;5;241m.\u001b[39mitems()\n\u001b[1;32m   1917\u001b[0m       \u001b[38;5;28;01mif\u001b[39;00m k \u001b[38;5;129;01min\u001b[39;00m [\u001b[38;5;124m'\u001b[39m\u001b[38;5;124mbase\u001b[39m\u001b[38;5;124m'\u001b[39m, \u001b[38;5;124m'\u001b[39m\u001b[38;5;124msubs\u001b[39m\u001b[38;5;124m'\u001b[39m, \u001b[38;5;124m'\u001b[39m\u001b[38;5;124mnonpositive\u001b[39m\u001b[38;5;124m'\u001b[39m,\n\u001b[1;32m   1918\u001b[0m                \u001b[38;5;124m'\u001b[39m\u001b[38;5;124mbasey\u001b[39m\u001b[38;5;124m'\u001b[39m, \u001b[38;5;124m'\u001b[39m\u001b[38;5;124msubsy\u001b[39m\u001b[38;5;124m'\u001b[39m, \u001b[38;5;124m'\u001b[39m\u001b[38;5;124mnonposy\u001b[39m\u001b[38;5;124m'\u001b[39m]}\n\u001b[1;32m   1919\u001b[0m \u001b[38;5;28mself\u001b[39m\u001b[38;5;241m.\u001b[39mset_yscale(\u001b[38;5;124m'\u001b[39m\u001b[38;5;124mlog\u001b[39m\u001b[38;5;124m'\u001b[39m, \u001b[38;5;241m*\u001b[39m\u001b[38;5;241m*\u001b[39mdy)\n\u001b[0;32m-> 1920\u001b[0m \u001b[38;5;28;01mreturn\u001b[39;00m \u001b[38;5;28;43mself\u001b[39;49m\u001b[38;5;241;43m.\u001b[39;49m\u001b[43mplot\u001b[49m\u001b[43m(\u001b[49m\n\u001b[1;32m   1921\u001b[0m \u001b[43m    \u001b[49m\u001b[38;5;241;43m*\u001b[39;49m\u001b[43margs\u001b[49m\u001b[43m,\u001b[49m\u001b[43m \u001b[49m\u001b[38;5;241;43m*\u001b[39;49m\u001b[38;5;241;43m*\u001b[39;49m\u001b[43m{\u001b[49m\u001b[43mk\u001b[49m\u001b[43m:\u001b[49m\u001b[43m \u001b[49m\u001b[43mv\u001b[49m\u001b[43m \u001b[49m\u001b[38;5;28;43;01mfor\u001b[39;49;00m\u001b[43m \u001b[49m\u001b[43mk\u001b[49m\u001b[43m,\u001b[49m\u001b[43m \u001b[49m\u001b[43mv\u001b[49m\u001b[43m \u001b[49m\u001b[38;5;129;43;01min\u001b[39;49;00m\u001b[43m \u001b[49m\u001b[43mkwargs\u001b[49m\u001b[38;5;241;43m.\u001b[39;49m\u001b[43mitems\u001b[49m\u001b[43m(\u001b[49m\u001b[43m)\u001b[49m\u001b[43m \u001b[49m\u001b[38;5;28;43;01mif\u001b[39;49;00m\u001b[43m \u001b[49m\u001b[43mk\u001b[49m\u001b[43m \u001b[49m\u001b[38;5;129;43;01mnot\u001b[39;49;00m\u001b[43m \u001b[49m\u001b[38;5;129;43;01min\u001b[39;49;00m\u001b[43m \u001b[49m\u001b[43m{\u001b[49m\u001b[38;5;241;43m*\u001b[39;49m\u001b[43mdx\u001b[49m\u001b[43m,\u001b[49m\u001b[43m \u001b[49m\u001b[38;5;241;43m*\u001b[39;49m\u001b[43mdy\u001b[49m\u001b[43m}\u001b[49m\u001b[43m}\u001b[49m\u001b[43m)\u001b[49m\n",
      "File \u001b[0;32m~/.local/lib/python3.13/site-packages/matplotlib/axes/_axes.py:1779\u001b[0m, in \u001b[0;36mAxes.plot\u001b[0;34m(self, scalex, scaley, data, *args, **kwargs)\u001b[0m\n\u001b[1;32m   1536\u001b[0m \u001b[38;5;250m\u001b[39m\u001b[38;5;124;03m\"\"\"\u001b[39;00m\n\u001b[1;32m   1537\u001b[0m \u001b[38;5;124;03mPlot y versus x as lines and/or markers.\u001b[39;00m\n\u001b[1;32m   1538\u001b[0m \n\u001b[0;32m   (...)\u001b[0m\n\u001b[1;32m   1776\u001b[0m \u001b[38;5;124;03m(``'green'``) or hex strings (``'#008000'``).\u001b[39;00m\n\u001b[1;32m   1777\u001b[0m \u001b[38;5;124;03m\"\"\"\u001b[39;00m\n\u001b[1;32m   1778\u001b[0m kwargs \u001b[38;5;241m=\u001b[39m cbook\u001b[38;5;241m.\u001b[39mnormalize_kwargs(kwargs, mlines\u001b[38;5;241m.\u001b[39mLine2D)\n\u001b[0;32m-> 1779\u001b[0m lines \u001b[38;5;241m=\u001b[39m [\u001b[38;5;241m*\u001b[39m\u001b[38;5;28mself\u001b[39m\u001b[38;5;241m.\u001b[39m_get_lines(\u001b[38;5;28mself\u001b[39m, \u001b[38;5;241m*\u001b[39margs, data\u001b[38;5;241m=\u001b[39mdata, \u001b[38;5;241m*\u001b[39m\u001b[38;5;241m*\u001b[39mkwargs)]\n\u001b[1;32m   1780\u001b[0m \u001b[38;5;28;01mfor\u001b[39;00m line \u001b[38;5;129;01min\u001b[39;00m lines:\n\u001b[1;32m   1781\u001b[0m     \u001b[38;5;28mself\u001b[39m\u001b[38;5;241m.\u001b[39madd_line(line)\n",
      "File \u001b[0;32m~/.local/lib/python3.13/site-packages/matplotlib/axes/_base.py:296\u001b[0m, in \u001b[0;36m_process_plot_var_args.__call__\u001b[0;34m(self, axes, data, *args, **kwargs)\u001b[0m\n\u001b[1;32m    294\u001b[0m     this \u001b[38;5;241m+\u001b[39m\u001b[38;5;241m=\u001b[39m args[\u001b[38;5;241m0\u001b[39m],\n\u001b[1;32m    295\u001b[0m     args \u001b[38;5;241m=\u001b[39m args[\u001b[38;5;241m1\u001b[39m:]\n\u001b[0;32m--> 296\u001b[0m \u001b[38;5;28;01myield from\u001b[39;00m \u001b[38;5;28;43mself\u001b[39;49m\u001b[38;5;241;43m.\u001b[39;49m\u001b[43m_plot_args\u001b[49m\u001b[43m(\u001b[49m\n\u001b[1;32m    297\u001b[0m \u001b[43m    \u001b[49m\u001b[43maxes\u001b[49m\u001b[43m,\u001b[49m\u001b[43m \u001b[49m\u001b[43mthis\u001b[49m\u001b[43m,\u001b[49m\u001b[43m \u001b[49m\u001b[43mkwargs\u001b[49m\u001b[43m,\u001b[49m\u001b[43m \u001b[49m\u001b[43mambiguous_fmt_datakey\u001b[49m\u001b[38;5;241;43m=\u001b[39;49m\u001b[43mambiguous_fmt_datakey\u001b[49m\u001b[43m)\u001b[49m\n",
      "File \u001b[0;32m~/.local/lib/python3.13/site-packages/matplotlib/axes/_base.py:486\u001b[0m, in \u001b[0;36m_process_plot_var_args._plot_args\u001b[0;34m(self, axes, tup, kwargs, return_kwargs, ambiguous_fmt_datakey)\u001b[0m\n\u001b[1;32m    483\u001b[0m     axes\u001b[38;5;241m.\u001b[39myaxis\u001b[38;5;241m.\u001b[39mupdate_units(y)\n\u001b[1;32m    485\u001b[0m \u001b[38;5;28;01mif\u001b[39;00m x\u001b[38;5;241m.\u001b[39mshape[\u001b[38;5;241m0\u001b[39m] \u001b[38;5;241m!=\u001b[39m y\u001b[38;5;241m.\u001b[39mshape[\u001b[38;5;241m0\u001b[39m]:\n\u001b[0;32m--> 486\u001b[0m     \u001b[38;5;28;01mraise\u001b[39;00m \u001b[38;5;167;01mValueError\u001b[39;00m(\u001b[38;5;124mf\u001b[39m\u001b[38;5;124m\"\u001b[39m\u001b[38;5;124mx and y must have same first dimension, but \u001b[39m\u001b[38;5;124m\"\u001b[39m\n\u001b[1;32m    487\u001b[0m                      \u001b[38;5;124mf\u001b[39m\u001b[38;5;124m\"\u001b[39m\u001b[38;5;124mhave shapes \u001b[39m\u001b[38;5;132;01m{\u001b[39;00mx\u001b[38;5;241m.\u001b[39mshape\u001b[38;5;132;01m}\u001b[39;00m\u001b[38;5;124m and \u001b[39m\u001b[38;5;132;01m{\u001b[39;00my\u001b[38;5;241m.\u001b[39mshape\u001b[38;5;132;01m}\u001b[39;00m\u001b[38;5;124m\"\u001b[39m)\n\u001b[1;32m    488\u001b[0m \u001b[38;5;28;01mif\u001b[39;00m x\u001b[38;5;241m.\u001b[39mndim \u001b[38;5;241m>\u001b[39m \u001b[38;5;241m2\u001b[39m \u001b[38;5;129;01mor\u001b[39;00m y\u001b[38;5;241m.\u001b[39mndim \u001b[38;5;241m>\u001b[39m \u001b[38;5;241m2\u001b[39m:\n\u001b[1;32m    489\u001b[0m     \u001b[38;5;28;01mraise\u001b[39;00m \u001b[38;5;167;01mValueError\u001b[39;00m(\u001b[38;5;124mf\u001b[39m\u001b[38;5;124m\"\u001b[39m\u001b[38;5;124mx and y can be no greater than 2D, but have \u001b[39m\u001b[38;5;124m\"\u001b[39m\n\u001b[1;32m    490\u001b[0m                      \u001b[38;5;124mf\u001b[39m\u001b[38;5;124m\"\u001b[39m\u001b[38;5;124mshapes \u001b[39m\u001b[38;5;132;01m{\u001b[39;00mx\u001b[38;5;241m.\u001b[39mshape\u001b[38;5;132;01m}\u001b[39;00m\u001b[38;5;124m and \u001b[39m\u001b[38;5;132;01m{\u001b[39;00my\u001b[38;5;241m.\u001b[39mshape\u001b[38;5;132;01m}\u001b[39;00m\u001b[38;5;124m\"\u001b[39m)\n",
      "\u001b[0;31mValueError\u001b[0m: x and y must have same first dimension, but have shapes (19,) and (1,)"
     ]
    },
    {
     "data": {
      "image/png": "[encoded data removed]",
      "text/plain": [
       "<Figure size 640x480 with 1 Axes>"
      ]
     },
     "metadata": {},
     "output_type": "display_data"
    }
   ],
   "source": [
    "plt.loglog(h_steps, anal_result, 'x-', label='analytic derivative')"
   ]
  },
  {
   "cell_type": "markdown",
   "id": "7c07b3ac-9d8b-4be3-86a9-620fe3f68340",
   "metadata": {},
   "source": [
    "# 3. Let us consider the following initial value problem"
   ]
  },
  {
   "cell_type": "code",
   "execution_count": 51,
   "id": "7d54599c-7829-4f58-a0ba-c9a761ce2bef",
   "metadata": {},
   "outputs": [],
   "source": [
    "from scipy.optimize import fsolve"
   ]
  },
  {
   "cell_type": "markdown",
   "id": "a4b7233d-615b-4282-822e-4d7f55b88af0",
   "metadata": {},
   "source": [
    "## a.,"
   ]
  },
  {
   "cell_type": "code",
   "execution_count": 56,
   "id": "f647ebdc-ffac-4b81-becc-421d14704d7c",
   "metadata": {},
   "outputs": [],
   "source": [
    "def IEE(func, t0, y0, time_step):\n",
    "    y_prime = (-1*func(y0, t0)) - sympy.sin(t0)\n",
    "    y_next = y0 + (time_step * y_prime)\n",
    "    print(f'{t0:6.4f} {y0:6.4f} {y_prime:6.4f} {y_next:6.4f}')\n",
    "    return y_next"
   ]
  },
  {
   "cell_type": "markdown",
   "id": "f040dce9-df2b-43f6-aa00-9ee8667b1e7d",
   "metadata": {},
   "source": [
    "## b.,"
   ]
  },
  {
   "cell_type": "code",
   "execution_count": 57,
   "id": "d2a6056e-ce73-487e-a269-cae96ccf7a1c",
   "metadata": {},
   "outputs": [],
   "source": [
    "def f(x_, xx_):\n",
    "    return (-xx_) - sympy.sin(x_)"
   ]
  },
  {
   "cell_type": "code",
   "execution_count": 60,
   "id": "57c51884-8ff0-4379-8105-50f21fe62609",
   "metadata": {},
   "outputs": [],
   "source": [
    "def loop_IEE(func, method, t0, y0, time_step, iterations):\n",
    "    print(\"    t0     y0      y`     y1\")\n",
    "    y_values = np.zeros(iterations + 1)\n",
    "    y_values[0] = y0\n",
    "    time_points = np.zeros(iterations + 1)\n",
    "    time_points[0] = t0\n",
    "    for step in range(iterations):\n",
    "        y_next = method(func, time_points[step], y_values[step], time_step)\n",
    "        time_points[step + 1] = time_points[step] + time_step\n",
    "        y_values[step + 1] = y_next\n",
    "        print(f'{time_points[step+1]:6.4} {y_values[step+1]:6.4}')\n",
    "    return time_points, y_values"
   ]
  },
  {
   "cell_type": "code",
   "execution_count": 62,
   "id": "50862b8a-a876-4fa7-9033-cc2746faaf2d",
   "metadata": {},
   "outputs": [
    {
     "name": "stdout",
     "output_type": "stream",
     "text": [
      "    t0     y0      y`     y1\n",
      "0.0000 0.3000 0.2955 0.3030\n",
      "  0.01  0.303\n",
      "0.0100 0.3030 0.2983 0.3059\n",
      "  0.02 0.3059\n",
      "0.0200 0.3059 0.3012 0.3090\n",
      "  0.03  0.309\n",
      "0.0300 0.3090 0.3041 0.3120\n",
      "  0.04  0.312\n",
      "0.0400 0.3120 0.3070 0.3151\n",
      "  0.05 0.3151\n",
      "0.0500 0.3151 0.3099 0.3182\n",
      "  0.06 0.3182\n",
      "0.0600 0.3182 0.3129 0.3213\n",
      "  0.07 0.3213\n",
      "0.0700 0.3213 0.3158 0.3244\n",
      "  0.08 0.3244\n",
      "0.0800 0.3244 0.3189 0.3276\n",
      "  0.09 0.3276\n",
      "0.0900 0.3276 0.3219 0.3309\n",
      "   0.1 0.3309\n"
     ]
    }
   ],
   "source": [
    "timetps, yvs = loop_IEE(f, IEE, 0, 0.3, 0.01, 10)"
   ]
  },
  {
   "cell_type": "markdown",
   "id": "0f4593a2-dc4a-4052-a9cb-019800217134",
   "metadata": {},
   "source": [
    "## c.,"
   ]
  },
  {
   "cell_type": "code",
   "execution_count": 64,
   "id": "b5e67a20-a5f7-4fbf-b393-f238a0b2040e",
   "metadata": {},
   "outputs": [
    {
     "data": {
      "text/plain": [
       "[<matplotlib.lines.Line2D at 0x7d6d380ad310>]"
      ]
     },
     "execution_count": 64,
     "metadata": {},
     "output_type": "execute_result"
    },
    {
     "data": {
      "image/png": "[encoded data removed]",
      "text/plain": [
       "<Figure size 640x480 with 1 Axes>"
      ]
     },
     "metadata": {},
     "output_type": "display_data"
    }
   ],
   "source": [
    "plt.plot(timetps, yvs, label='improved EE')"
   ]
  }
 ],
 "metadata": {
  "kernelspec": {
   "display_name": "Python 3 (ipykernel)",
   "language": "python",
   "name": "python3"
  },
  "language_info": {
   "codemirror_mode": {
    "name": "ipython",
    "version": 3
   },
   "file_extension": ".py",
   "mimetype": "text/x-python",
   "name": "python",
   "nbconvert_exporter": "python",
   "pygments_lexer": "ipython3",
   "version": "3.13.0"
  }
 },
 "nbformat": 4,
 "nbformat_minor": 5
}
