{
 "cells": [
  {
   "cell_type": "markdown",
   "metadata": {},
   "source": [
    "## [Functions](https://docs.python.org/3/tutorial/controlflow.html#defining-functions)\n",
    "\n",
    "A function in Python is a named subprogram that can be called from various parts of a program. By using functions, complex tasks can be broken down into smaller, more manageable units, and frequently used functions can be organized into libraries for reuse. Unlike mathematical functions, which are side-effect-free, Python functions can produce side effects.\n",
    "\n",
    "In Python, functions are *first-class citizens*, meaning they can be treated like any other object. Specifically:\n",
    "- **Assignment to Variables**: Functions can be assigned to variables as values.\n",
    "- **Nesting**: Functions can be defined inside other functions.\n",
    "- **Higher-Order Functions**: Functions can accept other functions as parameters and can return functions as results.\n",
    "\n",
    "It's important to distinguish between a function's definition and its call:\n",
    "- **Function Definition**: Specifies what output is produced for given inputs and outlines any side effects. Typically, a function is defined only once in a program; redefining it will overwrite the previous definition.\n",
    "- **Function Call**: Involves executing the function with specific input values to compute the output. A defined function can be called multiple times throughout a program."
   ]
  },
  {
   "cell_type": "code",
   "execution_count": 2,
   "metadata": {},
   "outputs": [],
   "source": [
    "# Example: Definition of the n-th root function.\n",
    "def root(x, n=2):\n",
    "    '''Returns the n-th root of x.'''\n",
    "    return x**(1 / n)"
   ]
  },
  {
   "cell_type": "markdown",
   "metadata": {},
   "source": [
    "If the first statement of a function is a string, then this will be the documentation string (docstring)."
   ]
  },
  {
   "cell_type": "code",
   "execution_count": 2,
   "metadata": {},
   "outputs": [
    {
     "data": {
      "text/plain": [
       "'Returns the n-th root of x.'"
      ]
     },
     "execution_count": 2,
     "metadata": {},
     "output_type": "execute_result"
    }
   ],
   "source": [
    "# Querying the docstring.\n",
    "root.__doc__ # \"dunder\" doc"
   ]
  },
  {
   "cell_type": "code",
   "execution_count": 3,
   "metadata": {},
   "outputs": [
    {
     "name": "stdout",
     "output_type": "stream",
     "text": [
      "Help on function root in module __main__:\n",
      "\n",
      "root(x, n=2)\n",
      "    Returns the n-th root of x.\n",
      "\n"
     ]
    }
   ],
   "source": [
    "help(root)"
   ]
  },
  {
   "cell_type": "code",
   "execution_count": 4,
   "metadata": {},
   "outputs": [
    {
     "data": {
      "text/plain": [
       "'Returns the n-th root of x.Returns the n-th root of x.'"
      ]
     },
     "execution_count": 4,
     "metadata": {},
     "output_type": "execute_result"
    }
   ],
   "source": [
    "# The __doc__ attribute is an ordinary string, we can use it in arbitrary operations.\n",
    "root.__doc__ * 2"
   ]
  },
  {
   "cell_type": "code",
   "execution_count": 5,
   "metadata": {},
   "outputs": [],
   "source": [
    "root.__doc__ = 'foobar'"
   ]
  },
  {
   "cell_type": "code",
   "execution_count": 6,
   "metadata": {},
   "outputs": [
    {
     "name": "stdout",
     "output_type": "stream",
     "text": [
      "Help on function root in module __main__:\n",
      "\n",
      "root(x, n=2)\n",
      "    foobar\n",
      "\n"
     ]
    }
   ],
   "source": [
    "help(root)"
   ]
  },
  {
   "cell_type": "markdown",
   "metadata": {},
   "source": [
    "- In Python, a function can have *positional* and *keyword* arguments.\n",
    "  + In the function definition, first the positional, then the keyword arguments are enlisted.\n",
    "  + Positional arguments have no default value, keyword arguments do have.\n",
    "  + A function can have zero positional and/or keyword arguments.\n",
    "- At a function call...\n",
    "  + The value of all positional arguments have to be specified, in the order given in the definition.\n",
    "  + Specifying the value of the keyword arguments is not mandatory."
   ]
  },
  {
   "cell_type": "code",
   "execution_count": 7,
   "metadata": {},
   "outputs": [
    {
     "data": {
      "text/plain": [
       "1.4142135623730951"
      ]
     },
     "execution_count": 7,
     "metadata": {},
     "output_type": "execute_result"
    }
   ],
   "source": [
    "# Computing the square root of 2.\n",
    "root(2)"
   ]
  },
  {
   "cell_type": "code",
   "execution_count": 8,
   "metadata": {},
   "outputs": [
    {
     "data": {
      "text/plain": [
       "1.2599210498948732"
      ]
     },
     "execution_count": 8,
     "metadata": {},
     "output_type": "execute_result"
    }
   ],
   "source": [
    "# Computing the cube root of 3.\n",
    "root(2, n=3)"
   ]
  },
  {
   "cell_type": "code",
   "execution_count": 9,
   "metadata": {},
   "outputs": [
    {
     "data": {
      "text/plain": [
       "1.2599210498948732"
      ]
     },
     "execution_count": 9,
     "metadata": {},
     "output_type": "execute_result"
    }
   ],
   "source": [
    "# The second argument does not have to be named.\n",
    "root(2, 3)"
   ]
  },
  {
   "cell_type": "code",
   "execution_count": 10,
   "metadata": {},
   "outputs": [],
   "source": [
    "# A variable can get a function as a value.\n",
    "f = root"
   ]
  },
  {
   "cell_type": "code",
   "execution_count": 11,
   "metadata": {},
   "outputs": [
    {
     "data": {
      "text/plain": [
       "3.0"
      ]
     },
     "execution_count": 11,
     "metadata": {},
     "output_type": "execute_result"
    }
   ],
   "source": [
    "f(9)"
   ]
  },
  {
   "cell_type": "code",
   "execution_count": 12,
   "metadata": {},
   "outputs": [],
   "source": [
    "# Dummy example for function returning a function.\n",
    "def f(n):\n",
    "    def g(x):\n",
    "        return n * x\n",
    "    return g"
   ]
  },
  {
   "cell_type": "code",
   "execution_count": 13,
   "metadata": {},
   "outputs": [],
   "source": [
    "f2 = f(2) # doubling function\n",
    "f3 = f(3) # tripling function"
   ]
  },
  {
   "cell_type": "code",
   "execution_count": 14,
   "metadata": {},
   "outputs": [
    {
     "data": {
      "text/plain": [
       "200"
      ]
     },
     "execution_count": 14,
     "metadata": {},
     "output_type": "execute_result"
    }
   ],
   "source": [
    "f2(100)"
   ]
  },
  {
   "cell_type": "code",
   "execution_count": 15,
   "metadata": {},
   "outputs": [
    {
     "data": {
      "text/plain": [
       "150"
      ]
     },
     "execution_count": 15,
     "metadata": {},
     "output_type": "execute_result"
    }
   ],
   "source": [
    "f3(50)"
   ]
  },
  {
   "cell_type": "markdown",
   "metadata": {},
   "source": [
    "### Exercises"
   ]
  },
  {
   "cell_type": "markdown",
   "metadata": {},
   "source": [
    "#### Prime testing\n",
    "\n",
    "Write a function that decides if a natural number is prime or not!"
   ]
  },
  {
   "cell_type": "code",
   "execution_count": 3,
   "metadata": {},
   "outputs": [
    {
     "data": {
      "text/plain": [
       "True"
      ]
     },
     "execution_count": 3,
     "metadata": {},
     "output_type": "execute_result"
    }
   ],
   "source": [
    "# Version 1: without a function\n",
    "n = 11\n",
    "\n",
    "is_prime = n > 1\n",
    "for i in range(2, n):\n",
    "    if n % i == 0: # is i a divisor of n?\n",
    "        is_prime = False\n",
    "        break\n",
    "        \n",
    "is_prime"
   ]
  },
  {
   "cell_type": "code",
   "execution_count": 4,
   "metadata": {},
   "outputs": [],
   "source": [
    "# Version 2: with a function\n",
    "\n",
    "def is_prime(n):    \n",
    "    for i in range(2, n):\n",
    "        if n % i == 0: \n",
    "            return False\n",
    "    return n > 1"
   ]
  },
  {
   "cell_type": "code",
   "execution_count": 6,
   "metadata": {},
   "outputs": [
    {
     "data": {
      "text/plain": [
       "False"
      ]
     },
     "execution_count": 6,
     "metadata": {},
     "output_type": "execute_result"
    }
   ],
   "source": [
    "is_prime(1)"
   ]
  },
  {
   "cell_type": "code",
   "execution_count": 19,
   "metadata": {},
   "outputs": [
    {
     "data": {
      "text/plain": [
       "True"
      ]
     },
     "execution_count": 19,
     "metadata": {},
     "output_type": "execute_result"
    }
   ],
   "source": [
    "is_prime(17)"
   ]
  },
  {
   "cell_type": "code",
   "execution_count": 7,
   "metadata": {},
   "outputs": [
    {
     "data": {
      "text/plain": [
       "False"
      ]
     },
     "execution_count": 7,
     "metadata": {},
     "output_type": "execute_result"
    }
   ],
   "source": [
    "is_prime(18)"
   ]
  },
  {
   "cell_type": "code",
   "execution_count": 21,
   "metadata": {},
   "outputs": [],
   "source": [
    "# Version 3: with a function, more efficient implementation\n",
    "\n",
    "def is_prime_v2(n):  \n",
    "    for i in range(2, int(n**0.5) + 1):\n",
    "        if n % i == 0:\n",
    "            return False\n",
    "    return n > 1\n",
    "    "
   ]
  },
  {
   "cell_type": "code",
   "execution_count": 8,
   "metadata": {},
   "outputs": [
    {
     "name": "stdout",
     "output_type": "stream",
     "text": [
      "CPU times: user 1.43 s, sys: 0 ns, total: 1.43 s\n",
      "Wall time: 1.44 s\n"
     ]
    },
    {
     "data": {
      "text/plain": [
       "True"
      ]
     },
     "execution_count": 8,
     "metadata": {},
     "output_type": "execute_result"
    }
   ],
   "source": [
    "%%time\n",
    "is_prime(10_000_019)"
   ]
  },
  {
   "cell_type": "code",
   "execution_count": 23,
   "metadata": {},
   "outputs": [
    {
     "name": "stdout",
     "output_type": "stream",
     "text": [
      "CPU times: user 431 µs, sys: 29 µs, total: 460 µs\n",
      "Wall time: 467 µs\n"
     ]
    },
    {
     "data": {
      "text/plain": [
       "True"
      ]
     },
     "execution_count": 23,
     "metadata": {},
     "output_type": "execute_result"
    }
   ],
   "source": [
    "%%time\n",
    "is_prime_v2(10_000_019)"
   ]
  },
  {
   "cell_type": "code",
   "execution_count": 24,
   "metadata": {},
   "outputs": [
    {
     "name": "stdout",
     "output_type": "stream",
     "text": [
      "True\n",
      "CPU times: user 39 ms, sys: 3.91 ms, total: 42.9 ms\n",
      "Wall time: 43.6 ms\n",
      "True\n",
      "CPU times: user 0 ns, sys: 171 µs, total: 171 µs\n",
      "Wall time: 146 µs\n"
     ]
    }
   ],
   "source": [
    "# example for line magic (starts with a single % sign)\n",
    "%time print(is_prime(484_459))\n",
    "%time print(is_prime_v2(484_459))"
   ]
  },
  {
   "cell_type": "markdown",
   "metadata": {},
   "source": [
    "#### Greatest common divisor\n",
    "\n",
    "Write a function for determining the greatest common divisor of two natural numbers!"
   ]
  },
  {
   "cell_type": "code",
   "execution_count": 27,
   "metadata": {},
   "outputs": [
    {
     "data": {
      "text/plain": [
       "6"
      ]
     },
     "execution_count": 27,
     "metadata": {},
     "output_type": "execute_result"
    }
   ],
   "source": [
    "# Version 1: without a function\n",
    "\n",
    "a = 12\n",
    "b = 18\n",
    "\n",
    "for i in range(min(a, b), 0, -1):\n",
    "    if a % i == 0 and b % i == 0:\n",
    "        break\n",
    "i"
   ]
  },
  {
   "cell_type": "code",
   "execution_count": 28,
   "metadata": {},
   "outputs": [],
   "source": [
    "# Version 2: with a function\n",
    "def compute_gcd(a, b):\n",
    "    for i in range(min(a, b), 0, -1):\n",
    "        if a % i == 0 and b % i == 0:\n",
    "            return i"
   ]
  },
  {
   "cell_type": "code",
   "execution_count": 29,
   "metadata": {},
   "outputs": [
    {
     "data": {
      "text/plain": [
       "6"
      ]
     },
     "execution_count": 29,
     "metadata": {},
     "output_type": "execute_result"
    }
   ],
   "source": [
    "compute_gcd(12, 18)"
   ]
  },
  {
   "cell_type": "code",
   "execution_count": 30,
   "metadata": {},
   "outputs": [
    {
     "data": {
      "text/plain": [
       "1"
      ]
     },
     "execution_count": 30,
     "metadata": {},
     "output_type": "execute_result"
    }
   ],
   "source": [
    "compute_gcd(17, 18)"
   ]
  },
  {
   "cell_type": "markdown",
   "metadata": {},
   "source": [
    "- A faster method for computing the greatest common divisor is Euclidean algorithm.\n",
    "- A faster method for prime testing is using the Miller-Rabin test."
   ]
  },
  {
   "cell_type": "markdown",
   "metadata": {},
   "source": [
    "#### Quadratic equation solver\n",
    "\n",
    "Write a function for solving the quadratic equation $ax^2 + bx + c = 0$!"
   ]
  },
  {
   "cell_type": "code",
   "execution_count": 31,
   "metadata": {},
   "outputs": [],
   "source": [
    "def solve_quadratic(a, b, c):\n",
    "    # compute discriminant\n",
    "    d = b**2 - 4 * a * c\n",
    "\n",
    "    # 3-way branching\n",
    "    if d > 0:\n",
    "        x1 = (-b + d**0.5) / (2 * a)\n",
    "        x2 = (-b - d**0.5) / (2 * a)\n",
    "        return [x1, x2]\n",
    "    elif d == 0:\n",
    "        return [-b / (2 * a)]\n",
    "    else:\n",
    "        return []"
   ]
  },
  {
   "cell_type": "code",
   "execution_count": 32,
   "metadata": {},
   "outputs": [
    {
     "data": {
      "text/plain": [
       "[-1.0, -2.0]"
      ]
     },
     "execution_count": 32,
     "metadata": {},
     "output_type": "execute_result"
    }
   ],
   "source": [
    "solve_quadratic(1, 3, 2)"
   ]
  },
  {
   "cell_type": "code",
   "execution_count": 33,
   "metadata": {},
   "outputs": [
    {
     "data": {
      "text/plain": [
       "[-1.0]"
      ]
     },
     "execution_count": 33,
     "metadata": {},
     "output_type": "execute_result"
    }
   ],
   "source": [
    "solve_quadratic(1, 2, 1)"
   ]
  },
  {
   "cell_type": "code",
   "execution_count": 34,
   "metadata": {},
   "outputs": [
    {
     "data": {
      "text/plain": [
       "[]"
      ]
     },
     "execution_count": 34,
     "metadata": {},
     "output_type": "execute_result"
    }
   ],
   "source": [
    "solve_quadratic(1, 1, 1)"
   ]
  },
  {
   "cell_type": "markdown",
   "metadata": {},
   "source": [
    "Python's scope rules:\n",
    "- Variables defined inside a function are local to that function.This means we cannot access variables from one function inside another function.\n",
    "- Variables created within functions are also inaccessible from the global scope."
   ]
  },
  {
   "cell_type": "code",
   "execution_count": 35,
   "metadata": {},
   "outputs": [
    {
     "ename": "NameError",
     "evalue": "name 'yy' is not defined",
     "output_type": "error",
     "traceback": [
      "\u001b[0;31m---------------------------------------------------------------------------\u001b[0m",
      "\u001b[0;31mNameError\u001b[0m                                 Traceback (most recent call last)",
      "Input \u001b[0;32mIn [35]\u001b[0m, in \u001b[0;36m<cell line: 5>\u001b[0;34m()\u001b[0m\n\u001b[1;32m      2\u001b[0m     yy \u001b[38;5;241m=\u001b[39m \u001b[38;5;241m42\u001b[39m\n\u001b[1;32m      3\u001b[0m     \u001b[38;5;28;01mreturn\u001b[39;00m xx \u001b[38;5;241m+\u001b[39m yy\n\u001b[0;32m----> 5\u001b[0m \u001b[43myy\u001b[49m\n",
      "\u001b[0;31mNameError\u001b[0m: name 'yy' is not defined"
     ]
    }
   ],
   "source": [
    "def foo(xx):\n",
    "    yy = 42\n",
    "    return xx + yy\n",
    "\n",
    "yy # we cannot access yy from the global scope"
   ]
  },
  {
   "cell_type": "markdown",
   "metadata": {},
   "source": [
    "## [Lambda expressions](https://docs.python.org/3/reference/expressions.html#lambda)"
   ]
  },
  {
   "cell_type": "markdown",
   "metadata": {},
   "source": [
    "- A lambda expression in Python is one-liner, anonymous function.\n",
    "- (Other elements of [functional programming](https://en.wikipedia.org/wiki/Functional_programming) in Python: [map](https://docs.python.org/3/library/functions.html#map), [filter](https://docs.python.org/3/library/functions.html#filter).)"
   ]
  },
  {
   "cell_type": "code",
   "execution_count": 37,
   "metadata": {},
   "outputs": [
    {
     "data": {
      "text/plain": [
       "20"
      ]
     },
     "execution_count": 37,
     "metadata": {},
     "output_type": "execute_result"
    }
   ],
   "source": [
    "# Example lambda expression.\n",
    "f = lambda x: 2 * x\n",
    "f(10)"
   ]
  },
  {
   "cell_type": "code",
   "execution_count": 39,
   "metadata": {},
   "outputs": [
    {
     "data": {
      "text/plain": [
       "5"
      ]
     },
     "execution_count": 39,
     "metadata": {},
     "output_type": "execute_result"
    }
   ],
   "source": [
    "# More than one input is also allowed.\n",
    "g = lambda x, y: x + y\n",
    "g(2, 3)"
   ]
  },
  {
   "cell_type": "code",
   "execution_count": 40,
   "metadata": {},
   "outputs": [
    {
     "data": {
      "text/plain": [
       "42"
      ]
     },
     "execution_count": 40,
     "metadata": {},
     "output_type": "execute_result"
    }
   ],
   "source": [
    "# ...or no input.\n",
    "h = lambda: 42\n",
    "h()"
   ]
  },
  {
   "cell_type": "markdown",
   "metadata": {},
   "source": [
    "### Using lambda in sorting"
   ]
  },
  {
   "cell_type": "code",
   "execution_count": 44,
   "metadata": {},
   "outputs": [
    {
     "data": {
      "text/plain": [
       "[('orange', 11), ('apple', 22), ('cherry', 33)]"
      ]
     },
     "execution_count": 44,
     "metadata": {},
     "output_type": "execute_result"
    }
   ],
   "source": [
    "# Sorting a list of pairs by the second elements.\n",
    "pairs = [('apple', 22), ('orange', 11), ('cherry', 33)]\n",
    "sorted(pairs, key=lambda x: x[1])"
   ]
  },
  {
   "cell_type": "code",
   "execution_count": 46,
   "metadata": {},
   "outputs": [
    {
     "data": {
      "text/plain": [
       "[('orange', 11), ('apple', 22), ('cherry', 33)]"
      ]
     },
     "execution_count": 46,
     "metadata": {},
     "output_type": "execute_result"
    }
   ],
   "source": [
    "# The solution without a lambda expression.\n",
    "def extract_key(x):\n",
    "    return x[1]\n",
    "\n",
    "sorted(pairs, key=extract_key)"
   ]
  },
  {
   "cell_type": "code",
   "execution_count": 50,
   "metadata": {},
   "outputs": [
    {
     "data": {
      "text/plain": [
       "['king', 'queen', 'denmark']"
      ]
     },
     "execution_count": 50,
     "metadata": {},
     "output_type": "execute_result"
    }
   ],
   "source": [
    "# Sorting dictionary keys by the assigned values into descending order.\n",
    "words = {'king': 203, 'denmark': 24, 'queen': 192}\n",
    "sorted(words, key=lambda x: words[x], reverse=True)"
   ]
  },
  {
   "cell_type": "markdown",
   "metadata": {},
   "source": [
    "## Exercise: Premier League standings\n",
    "\n",
    "The file [pl.txt](pl.txt) contains the game results of Premier League 2011-12. Write a program that...\n",
    "- prints the percentage of games with at least one goal,\n",
    "- prints the game with the highest number of goals,\n",
    "- reads the value of n from the user and prints the standings after n rounds (sorting criteria: points, goal difference, goals scored)."
   ]
  },
  {
   "cell_type": "code",
   "execution_count": 1,
   "metadata": {},
   "outputs": [],
   "source": [
    "# Read data to a list of dictionaries.\n",
    "f = open('pl.txt')\n",
    "\n",
    "# skip first 6 lines\n",
    "for i in range(6):\n",
    "    f.readline()\n",
    "\n",
    "# process further lines\n",
    "games = []\n",
    "for line in f:\n",
    "    tok = line.split('\\t')\n",
    "    game = {\n",
    "        'round': int(tok[0]),\n",
    "        'hteam': tok[1],\n",
    "        'ateam': tok[2],\n",
    "        'hgoals': int(tok[3]),\n",
    "        'agoals': int(tok[4])\n",
    "    }\n",
    "    games.append(game)\n",
    "    \n",
    "f.close()"
   ]
  },
  {
   "cell_type": "code",
   "execution_count": 3,
   "metadata": {},
   "outputs": [
    {
     "data": {
      "text/plain": [
       "92.89473684210526"
      ]
     },
     "execution_count": 3,
     "metadata": {},
     "output_type": "execute_result"
    }
   ],
   "source": [
    "# percentage of games with at least one goal\n",
    "\n",
    "counter = 0\n",
    "for g in games:\n",
    "    if g['hgoals'] + g['agoals'] > 0:\n",
    "        counter += 1\n",
    "        \n",
    "counter / len(games) * 100"
   ]
  },
  {
   "cell_type": "code",
   "execution_count": 4,
   "metadata": {},
   "outputs": [
    {
     "data": {
      "text/plain": [
       "92.89473684210526"
      ]
     },
     "execution_count": 4,
     "metadata": {},
     "output_type": "execute_result"
    }
   ],
   "source": [
    "# ...shorter solution\n",
    "sum([g['hgoals'] + g['agoals'] > 0 for g in games]) / len(games) * 100"
   ]
  },
  {
   "cell_type": "code",
   "execution_count": 5,
   "metadata": {},
   "outputs": [
    {
     "data": {
      "text/plain": [
       "{'round': 3,\n",
       " 'hteam': 'Manchester United',\n",
       " 'ateam': 'Arsenal FC',\n",
       " 'hgoals': 8,\n",
       " 'agoals': 2}"
      ]
     },
     "execution_count": 5,
     "metadata": {},
     "output_type": "execute_result"
    }
   ],
   "source": [
    "# game with the highest number of goals\n",
    "maxgoals = -1\n",
    "for g in games:\n",
    "    goals = g['hgoals'] + g['agoals']\n",
    "    if goals > maxgoals:\n",
    "        maxgoals = goals\n",
    "        bestgame = g\n",
    "bestgame"
   ]
  },
  {
   "cell_type": "code",
   "execution_count": 6,
   "metadata": {},
   "outputs": [
    {
     "data": {
      "text/plain": [
       "{'round': 3,\n",
       " 'hteam': 'Manchester United',\n",
       " 'ateam': 'Arsenal FC',\n",
       " 'hgoals': 8,\n",
       " 'agoals': 2}"
      ]
     },
     "execution_count": 6,
     "metadata": {},
     "output_type": "execute_result"
    }
   ],
   "source": [
    "max(games, key=lambda g: g['hgoals'] + g['agoals'])"
   ]
  },
  {
   "cell_type": "code",
   "execution_count": 37,
   "metadata": {},
   "outputs": [
    {
     "name": "stdout",
     "output_type": "stream",
     "text": [
      "n: 10\n"
     ]
    }
   ],
   "source": [
    "# read the value of n from the user\n",
    "n = int(input('n: '))"
   ]
  },
  {
   "cell_type": "code",
   "execution_count": 58,
   "metadata": {},
   "outputs": [],
   "source": [
    "# print the standings after n rounds (sorting criteria: points, goal difference, goals scored)\n",
    "\n",
    "stats = {} # key: team name, value: [points, goal difference, goals scored]\n",
    "\n",
    "# initialize stats\n",
    "for g in games:\n",
    "    stats[g['hteam']] = [0, 0, 0]\n",
    "\n",
    "for g in games:\n",
    "    if g['round'] <= n:\n",
    "        hteam = g['hteam']        \n",
    "        ateam = g['ateam']        \n",
    "        \n",
    "        # update points\n",
    "        if g['hgoals'] > g['agoals']: # home team wins\n",
    "            stats[hteam][0] += 3\n",
    "        elif g['agoals'] > g['hgoals']: # away team wins\n",
    "            stats[ateam][0] += 3\n",
    "        else: # draw\n",
    "            stats[hteam][0] += 1\n",
    "            stats[ateam][0] += 1\n",
    "        \n",
    "        # update goal difference\n",
    "        diff = g['hgoals'] - g['agoals']\n",
    "        stats[hteam][1] += diff\n",
    "        stats[ateam][1] -= diff\n",
    "        \n",
    "        # update goals scored\n",
    "        stats[hteam][2] += g['hgoals']\n",
    "        stats[ateam][2] += g['agoals']"
   ]
  },
  {
   "cell_type": "code",
   "execution_count": 72,
   "metadata": {},
   "outputs": [
    {
     "name": "stdout",
     "output_type": "stream",
     "text": [
      "     TEAM                        GD   GS   PTS\n",
      "  1. Manchester City             28   36   28\n",
      "  2. Manchester United           15   27   23\n",
      "  3. Newcastle United             8   15   22\n",
      "  4. Tottenham Hotspur            6   20   22\n",
      "  5. Chelsea FC                   8   23   19\n",
      "  6. Liverpool FC                 4   14   18\n",
      "  7. Arsenal FC                  -1   20   16\n",
      "  8. Norwich City                -1   14   13\n",
      "  9. Aston Villa                  0   13   12\n",
      " 10. Swansea City                -3   12   12\n",
      " 11. Stoke City                  -6    8   12\n",
      " 12. Queens Park Rangers         -9    8   12\n",
      " 13. West Bromwich Albion        -4    9   11\n",
      " 14. Sunderland AFC               2   14   10\n",
      " 15. Fulham FC                    1   13   10\n",
      " 16. Everton FC                  -5   10   10\n",
      " 17. Wolverhampton Wanderers     -8    9    8\n",
      " 18. Blackburn Rovers           -10   13    6\n",
      " 19. Bolton Wanderers           -14   13    6\n",
      " 20. Wigan Athletic             -11    6    5\n"
     ]
    }
   ],
   "source": [
    "# sort teams\n",
    "teams = sorted(stats, key=lambda t: stats[t], reverse=True)\n",
    "\n",
    "# display standings table\n",
    "print('     TEAM                        GD   GS   PTS')\n",
    "for i in range(len(teams)):\n",
    "    t = teams[i]\n",
    "    s = stats[t]\n",
    "    print(f'{i + 1: >3}. {t:25} {s[1]: >4} {s[2]: >4} {s[0]: >4}')"
   ]
  }
 ],
 "metadata": {
  "kernelspec": {
   "display_name": "Python 3 (ipykernel)",
   "language": "python",
   "name": "python3"
  },
  "language_info": {
   "codemirror_mode": {
    "name": "ipython",
    "version": 3
   },
   "file_extension": ".py",
   "mimetype": "text/x-python",
   "name": "python",
   "nbconvert_exporter": "python",
   "pygments_lexer": "ipython3",
   "version": "3.8.0"
  }
 },
 "nbformat": 4,
 "nbformat_minor": 2
}
