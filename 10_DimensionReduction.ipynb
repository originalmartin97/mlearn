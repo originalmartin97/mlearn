{
 "cells": [
  {
   "cell_type": "markdown",
   "metadata": {},
   "source": [
    "## Dimension Reduction Methods"
   ]
  },
  {
   "cell_type": "markdown",
   "metadata": {},
   "source": [
    "### [PCA](https://en.wikipedia.org/wiki/Principal_component_analysis)\n",
    "\n",
    "- Principal Component Analysis (PCA) is a classical method for dimension reduction and data visualization.\n",
    "- The goal is to obtain lower-dimensional data while preserving as much of the data's variance as possible.\n",
    "- If only 2 principal compenents are used, then the data points can be visualized in a scatter plot.\n",
    "\n",
    "#### Theory\n",
    "\n",
    "- input matrix: $X \\in \\mathbb{R}^{n \\times d}$\n",
    "- eigenvalue decomposition of the \"covariance\" matrix: $X^T X = W \\Lambda W^T$,<br>where $\\Lambda$ is the diagonal matrix of eigenvalues and the columns of $W$ contain the associated eigenvectors\n",
    "- the eigenvalues are sorted in descending order\n",
    "- dimensionality reduction: $Y = X W_K$, where $K < d$ and $W_K$ contains the first $K$ columns of $W$"
   ]
  },
  {
   "cell_type": "markdown",
   "metadata": {},
   "source": [
    "**Exercise 1**: Visualize the Wisconsin Breast Cancer data set using PCA!"
   ]
  },
  {
   "cell_type": "code",
   "execution_count": 1,
   "metadata": {
    "scrolled": false
   },
   "outputs": [
    {
     "data": {
      "text/html": [
       "<div>\n",
       "<style scoped>\n",
       "    .dataframe tbody tr th:only-of-type {\n",
       "        vertical-align: middle;\n",
       "    }\n",
       "\n",
       "    .dataframe tbody tr th {\n",
       "        vertical-align: top;\n",
       "    }\n",
       "\n",
       "    .dataframe thead th {\n",
       "        text-align: right;\n",
       "    }\n",
       "</style>\n",
       "<table border=\"1\" class=\"dataframe\">\n",
       "  <thead>\n",
       "    <tr style=\"text-align: right;\">\n",
       "      <th></th>\n",
       "      <th>Sample_code_number</th>\n",
       "      <th>Clump_Thickness</th>\n",
       "      <th>Uniformity_of_Cell_Size</th>\n",
       "      <th>Uniformity_of_Cell_Shape</th>\n",
       "      <th>Marginal_Adhesion</th>\n",
       "      <th>Single_Epithelial_Cell_Size</th>\n",
       "      <th>Bare_Nuclei</th>\n",
       "      <th>Bland_Chromatin</th>\n",
       "      <th>Normal_Nucleoli</th>\n",
       "      <th>Mitoses</th>\n",
       "      <th>Class</th>\n",
       "    </tr>\n",
       "  </thead>\n",
       "  <tbody>\n",
       "    <tr>\n",
       "      <th>0</th>\n",
       "      <td>1000025</td>\n",
       "      <td>5</td>\n",
       "      <td>1</td>\n",
       "      <td>1</td>\n",
       "      <td>1</td>\n",
       "      <td>2</td>\n",
       "      <td>1.0</td>\n",
       "      <td>3</td>\n",
       "      <td>1</td>\n",
       "      <td>1</td>\n",
       "      <td>2</td>\n",
       "    </tr>\n",
       "    <tr>\n",
       "      <th>1</th>\n",
       "      <td>1002945</td>\n",
       "      <td>5</td>\n",
       "      <td>4</td>\n",
       "      <td>4</td>\n",
       "      <td>5</td>\n",
       "      <td>7</td>\n",
       "      <td>10.0</td>\n",
       "      <td>3</td>\n",
       "      <td>2</td>\n",
       "      <td>1</td>\n",
       "      <td>2</td>\n",
       "    </tr>\n",
       "    <tr>\n",
       "      <th>2</th>\n",
       "      <td>1015425</td>\n",
       "      <td>3</td>\n",
       "      <td>1</td>\n",
       "      <td>1</td>\n",
       "      <td>1</td>\n",
       "      <td>2</td>\n",
       "      <td>2.0</td>\n",
       "      <td>3</td>\n",
       "      <td>1</td>\n",
       "      <td>1</td>\n",
       "      <td>2</td>\n",
       "    </tr>\n",
       "    <tr>\n",
       "      <th>3</th>\n",
       "      <td>1016277</td>\n",
       "      <td>6</td>\n",
       "      <td>8</td>\n",
       "      <td>8</td>\n",
       "      <td>1</td>\n",
       "      <td>3</td>\n",
       "      <td>4.0</td>\n",
       "      <td>3</td>\n",
       "      <td>7</td>\n",
       "      <td>1</td>\n",
       "      <td>2</td>\n",
       "    </tr>\n",
       "    <tr>\n",
       "      <th>4</th>\n",
       "      <td>1017023</td>\n",
       "      <td>4</td>\n",
       "      <td>1</td>\n",
       "      <td>1</td>\n",
       "      <td>3</td>\n",
       "      <td>2</td>\n",
       "      <td>1.0</td>\n",
       "      <td>3</td>\n",
       "      <td>1</td>\n",
       "      <td>1</td>\n",
       "      <td>2</td>\n",
       "    </tr>\n",
       "  </tbody>\n",
       "</table>\n",
       "</div>"
      ],
      "text/plain": [
       "   Sample_code_number  Clump_Thickness  Uniformity_of_Cell_Size  \\\n",
       "0             1000025                5                        1   \n",
       "1             1002945                5                        4   \n",
       "2             1015425                3                        1   \n",
       "3             1016277                6                        8   \n",
       "4             1017023                4                        1   \n",
       "\n",
       "   Uniformity_of_Cell_Shape  Marginal_Adhesion  Single_Epithelial_Cell_Size  \\\n",
       "0                         1                  1                            2   \n",
       "1                         4                  5                            7   \n",
       "2                         1                  1                            2   \n",
       "3                         8                  1                            3   \n",
       "4                         1                  3                            2   \n",
       "\n",
       "   Bare_Nuclei  Bland_Chromatin  Normal_Nucleoli  Mitoses  Class  \n",
       "0          1.0                3                1        1      2  \n",
       "1         10.0                3                2        1      2  \n",
       "2          2.0                3                1        1      2  \n",
       "3          4.0                3                7        1      2  \n",
       "4          1.0                3                1        1      2  "
      ]
     },
     "execution_count": 1,
     "metadata": {},
     "output_type": "execute_result"
    }
   ],
   "source": [
    "# Load the data to DataFrame.\n",
    "import pandas as pd\n",
    "names = [\n",
    "    'Sample_code_number', 'Clump_Thickness', 'Uniformity_of_Cell_Size',\n",
    "    'Uniformity_of_Cell_Shape', 'Marginal_Adhesion', 'Single_Epithelial_Cell_Size',\n",
    "    'Bare_Nuclei', 'Bland_Chromatin', 'Normal_Nucleoli', 'Mitoses', 'Class'\n",
    "]\n",
    "df = pd.read_csv('../_data/wisconsin_data.txt', sep=',', names=names, na_values='?')\n",
    "df['Bare_Nuclei'].fillna(0, inplace=True)\n",
    "df.head()"
   ]
  },
  {
   "cell_type": "code",
   "execution_count": 2,
   "metadata": {},
   "outputs": [
    {
     "data": {
      "text/plain": [
       "(699, 9)"
      ]
     },
     "execution_count": 2,
     "metadata": {},
     "output_type": "execute_result"
    }
   ],
   "source": [
    "X = df[df.columns[1:-1]].values   # input matrix\n",
    "y = (df['Class'] // 2 - 1).values # target voctor\n",
    "X.shape"
   ]
  },
  {
   "cell_type": "code",
   "execution_count": 3,
   "metadata": {},
   "outputs": [
    {
     "name": "stdout",
     "output_type": "stream",
     "text": [
      "(699, 2)\n"
     ]
    },
    {
     "data": {
      "text/plain": [
       "array([[  4.40904732,  -0.01994907],\n",
       "       [ -4.88110465,   4.90332617],\n",
       "       [  4.56415067,   0.65506726],\n",
       "       ...,\n",
       "       [-10.33687644,  -7.24412961],\n",
       "       [ -6.47179821,  -2.54870704],\n",
       "       [ -7.56560301,  -1.23300626]])"
      ]
     },
     "execution_count": 3,
     "metadata": {},
     "output_type": "execute_result"
    }
   ],
   "source": [
    "# NumPy based implementation.\n",
    "import numpy as np\n",
    "X2 = X - X.mean(axis=0)         # subtract column means\n",
    "L, W = np.linalg.eig(X2.T @ X2)\n",
    "W2 = W[:, L.argsort()[::-1]]    # sort W according to L\n",
    "Z = X2 @ W2[:, :2]              # reduce dimensions to 2\n",
    "print(Z.shape)\n",
    "Z"
   ]
  },
  {
   "cell_type": "code",
   "execution_count": 4,
   "metadata": {},
   "outputs": [
    {
     "data": {
      "text/plain": [
       "array([[-4.40904732,  0.01994907],\n",
       "       [ 4.88110465, -4.90332617],\n",
       "       [-4.56415067, -0.65506726],\n",
       "       ...,\n",
       "       [10.33687644,  7.24412961],\n",
       "       [ 6.47179821,  2.54870704],\n",
       "       [ 7.56560301,  1.23300626]])"
      ]
     },
     "execution_count": 4,
     "metadata": {},
     "output_type": "execute_result"
    }
   ],
   "source": [
    "# Scikit-Learn based implementation.\n",
    "from sklearn.decomposition import PCA\n",
    "pca = PCA(2).fit(X) # compute top 2 eigenvectors\n",
    "pca.transform(X)    # reduce dimension"
   ]
  },
  {
   "cell_type": "code",
   "execution_count": 5,
   "metadata": {},
   "outputs": [
    {
     "data": {
      "text/plain": [
       "array([[-4.40904732,  0.01994907],\n",
       "       [ 4.88110465, -4.90332617],\n",
       "       [-4.56415067, -0.65506726],\n",
       "       ...,\n",
       "       [10.33687644,  7.24412961],\n",
       "       [ 6.47179821,  2.54870704],\n",
       "       [ 7.56560301,  1.23300626]])"
      ]
     },
     "execution_count": 5,
     "metadata": {},
     "output_type": "execute_result"
    }
   ],
   "source": [
    "# ...alternatively, we can use fit_transform()\n",
    "Z = PCA(2).fit_transform(X)\n",
    "Z"
   ]
  },
  {
   "cell_type": "code",
   "execution_count": 6,
   "metadata": {},
   "outputs": [
    {
     "data": {
      "text/plain": [
       "array([[-4.40904732,  0.01994907],\n",
       "       [ 4.88110465, -4.90332617],\n",
       "       [-4.56415067, -0.65506726],\n",
       "       ...,\n",
       "       [10.33687644,  7.24412961],\n",
       "       [ 6.47179821,  2.54870704],\n",
       "       [ 7.56560301,  1.23300626]])"
      ]
     },
     "execution_count": 6,
     "metadata": {},
     "output_type": "execute_result"
    }
   ],
   "source": [
    "# The same with the truncated SVD algorithm.\n",
    "from sklearn.decomposition import TruncatedSVD\n",
    "TruncatedSVD(2).fit_transform(X2)"
   ]
  },
  {
   "cell_type": "code",
   "execution_count": 7,
   "metadata": {},
   "outputs": [
    {
     "data": {
      "text/plain": [
       "[]"
      ]
     },
     "execution_count": 7,
     "metadata": {},
     "output_type": "execute_result"
    },
    {
     "data": {
      "image/png": "[encoded data removed]",
      "text/plain": [
       "<Figure size 864x432 with 1 Axes>"
      ]
     },
     "metadata": {},
     "output_type": "display_data"
    }
   ],
   "source": [
    "# Visualization.\n",
    "import matplotlib.pyplot as plt\n",
    "cond = (y == 0) # is the example benign?\n",
    "plt.figure(figsize=(12, 6))\n",
    "plt.scatter(Z[cond, 0], Z[cond, 1], alpha=0.7)\n",
    "plt.scatter(Z[~cond, 0], Z[~cond, 1], alpha=0.7)\n",
    "plt.legend(['benign', 'malignant'])\n",
    "plt.gca().set_xticks([])\n",
    "plt.gca().set_yticks([])"
   ]
  },
  {
   "cell_type": "markdown",
   "metadata": {},
   "source": [
    "**Exercise 2**: On the SMS spam data set, measure the cross-validation accuracy of gradient boosting, so that we reduce the dimension of the input to 100, 200, and 300 using PCA."
   ]
  },
  {
   "cell_type": "code",
   "execution_count": 8,
   "metadata": {},
   "outputs": [],
   "source": [
    "import pandas as pd\n",
    "from sklearn.feature_extraction.text import CountVectorizer\n",
    "\n",
    "df = pd.read_csv('../_data/smsspam.txt', sep='\\t', names=['label', 'text'])\n",
    "X = CountVectorizer(binary=True).fit_transform(df['text']) # input matrix\n",
    "y = (df['label'] == 'spam').astype('int').values           # target vector"
   ]
  },
  {
   "cell_type": "code",
   "execution_count": 9,
   "metadata": {},
   "outputs": [
    {
     "data": {
      "text/plain": [
       "(5572, 8713)"
      ]
     },
     "execution_count": 9,
     "metadata": {},
     "output_type": "execute_result"
    }
   ],
   "source": [
    "X.shape"
   ]
  },
  {
   "cell_type": "code",
   "execution_count": 10,
   "metadata": {},
   "outputs": [
    {
     "data": {
      "text/plain": [
       "array([0, 0, 1, ..., 0, 0, 0])"
      ]
     },
     "execution_count": 10,
     "metadata": {},
     "output_type": "execute_result"
    }
   ],
   "source": [
    "y"
   ]
  },
  {
   "cell_type": "code",
   "execution_count": 12,
   "metadata": {},
   "outputs": [
    {
     "name": "stdout",
     "output_type": "stream",
     "text": [
      "20 0.9748803827751196\n",
      "50 0.9784688995215312\n",
      "100 0.979066985645933\n",
      "200 0.9802631578947368\n",
      "300 0.9796650717703349\n"
     ]
    }
   ],
   "source": [
    "from sklearn.model_selection import ShuffleSplit, cross_val_score\n",
    "from lightgbm import LGBMClassifier\n",
    "\n",
    "cv = ShuffleSplit(1, random_state=42, test_size=0.3)\n",
    "for K in [20, 50, 100, 200, 300]:\n",
    "    X2 = TruncatedSVD(K, random_state=42).fit_transform(X)\n",
    "    cl = LGBMClassifier(random_state=42)\n",
    "    score = cross_val_score(cl, X2, y, cv=cv, scoring='accuracy').mean()\n",
    "    print(K, score)"
   ]
  },
  {
   "cell_type": "code",
   "execution_count": 14,
   "metadata": {},
   "outputs": [
    {
     "data": {
      "text/plain": [
       "0.9868421052631579"
      ]
     },
     "execution_count": 14,
     "metadata": {},
     "output_type": "execute_result"
    }
   ],
   "source": [
    "from sklearn.linear_model import LogisticRegression\n",
    "\n",
    "cl = LogisticRegression()\n",
    "cross_val_score(cl, X2, y, cv=cv, scoring='accuracy').mean()"
   ]
  },
  {
   "cell_type": "code",
   "execution_count": 15,
   "metadata": {},
   "outputs": [
    {
     "data": {
      "text/plain": [
       "0.9868421052631579"
      ]
     },
     "execution_count": 15,
     "metadata": {},
     "output_type": "execute_result"
    }
   ],
   "source": [
    "cross_val_score(cl, X, y, cv=cv, scoring='accuracy').mean()"
   ]
  },
  {
   "cell_type": "markdown",
   "metadata": {},
   "source": [
    "### [t-SNE](https://en.wikipedia.org/wiki/T-distributed_stochastic_neighbor_embedding)\n",
    "\n",
    "- t-Distributed Stochastic Neighbor Embedding (t-SNE) can be viewed as a modernized version of PCA.\n",
    "- PCA is global in nature: it tries to preserve the distances between any pairs of data points. This leads to visualizations where the points form an elliptical blob.\n",
    "- The key idea of t-SNE is to is to preserve only the local relationship between the data points. If two data points are close in the original space, then they should be close in the transformed space too. However, large distances in the original space are not preserved in the transformed space.\n",
    "- A detailed blog post about t-SNE and PCA can be read [here](https://towardsdatascience.com/t-sne-clearly-explained-d84c537f53a).\n",
    "\n",
    "\n",
    "#### Theory\n",
    "\n",
    "- data points (rows of the input matrix): $x_1, \\dots, x_n \\in \\mathbb{R}^d$\n",
    "- conditional probabilities: $p_{j|i} = \\frac{\\exp(-\\|x_i - x_j\\|^2 / (2\\sigma^2))}{\\sum_{k \\neq i} \\exp(-\\|x_i - x_k\\|^2 / (2\\sigma^2))}$, $p_{i|i} = 0$\n",
    "- probabilities: $p_{ij} = \\frac{p_{j|i} + p_{i|j}}{2n}$\n",
    "- the $\\sigma_i$ values are is set using the bisection method so that the [perplexity](https://en.wikipedia.org/wiki/Perplexity) of the conditional distribution equals a predefined perplexity\n",
    "- transformed data points: $y_1, \\dots, y_n \\in \\mathbb{R}^K$\n",
    "- transformed probabilities: $q_{ij} = \\frac{\\left(1 + \\|y_i - y_j\\|^2\\right)^{-1}}{\\sum_k \\sum_{l \\neq k} \\left(1 + \\|y_k - y_l\\|^2\\right)^{-1}}$\n",
    "-  Kullback–Leibler divergence: $KL(y_1, \\dots, y_n) = \\sum_{i \\neq j} p_{ij} \\log \\frac{p_{ij}}{q_{ij}}$\n",
    "- the minimization of the KL divergence performed using approximate gradient descent"
   ]
  },
  {
   "cell_type": "markdown",
   "metadata": {},
   "source": [
    "**Exercise 3**: Prepare the t-SNE visualization of the Wisconsin Breast Cancer data set."
   ]
  },
  {
   "cell_type": "code",
   "execution_count": null,
   "metadata": {},
   "outputs": [],
   "source": []
  },
  {
   "cell_type": "markdown",
   "metadata": {},
   "source": [
    "**Exercise 4**: Prepare the t-SNE visualization of the Titanic data set."
   ]
  },
  {
   "cell_type": "code",
   "execution_count": null,
   "metadata": {},
   "outputs": [],
   "source": []
  }
 ],
 "metadata": {
  "kernelspec": {
   "display_name": "Python 3 (ipykernel)",
   "language": "python",
   "name": "python3"
  },
  "language_info": {
   "codemirror_mode": {
    "name": "ipython",
    "version": 3
   },
   "file_extension": ".py",
   "mimetype": "text/x-python",
   "name": "python",
   "nbconvert_exporter": "python",
   "pygments_lexer": "ipython3",
   "version": "3.8.0"
  }
 },
 "nbformat": 4,
 "nbformat_minor": 4
}
