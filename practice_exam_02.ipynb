{
 "cells": [
  {
   "cell_type": "markdown",
   "metadata": {},
   "source": [
    "## Python Programming Practice Exam"
   ]
  },
  {
   "cell_type": "markdown",
   "metadata": {},
   "source": [
    "```\n",
    "Scoring:\n",
    "============\n",
    " 0-11: fail (1),\n",
    "12-14: pass (2),\n",
    "15-17: satisfactory (3),\n",
    "18-20: good (4),\n",
    "21-24: excellent (5).\n",
    "```"
   ]
  },
  {
   "cell_type": "markdown",
   "metadata": {},
   "source": [
    "### Problem 1\n",
    "<p style=\"text-align: right\">(4 points)</p>"
   ]
  },
  {
   "cell_type": "code",
   "execution_count": 1,
   "metadata": {},
   "outputs": [],
   "source": [
    "words = 'őszbe,csavarodott,a,természet,feje,dérré,vált,a,harmat,hull,a,fák,levele'"
   ]
  },
  {
   "cell_type": "markdown",
   "metadata": {},
   "source": [
    "The string `words` contains comma separated words. Write a program that prints the longest word (the one that contains the most characters)! The program should not only work for the given `words` string, but also for arbitrary input of the same format."
   ]
  },
  {
   "cell_type": "code",
   "execution_count": 2,
   "metadata": {},
   "outputs": [
    {
     "data": {
      "text/plain": [
       "('csavarodott', 11)"
      ]
     },
     "execution_count": 2,
     "metadata": {},
     "output_type": "execute_result"
    }
   ],
   "source": [
    "# solution 1 (old school)\n",
    "maxlen = -1\n",
    "for word in words.split(','):\n",
    "    l = len(word)\n",
    "    if l > maxlen:\n",
    "        maxlen = l\n",
    "        longest = word\n",
    "longest, maxlen"
   ]
  },
  {
   "cell_type": "code",
   "execution_count": 3,
   "metadata": {},
   "outputs": [
    {
     "data": {
      "text/plain": [
       "'csavarodott'"
      ]
     },
     "execution_count": 3,
     "metadata": {},
     "output_type": "execute_result"
    }
   ],
   "source": [
    "# solution 2 (\"Pythonic\")\n",
    "max(words.split(','), key=len)"
   ]
  },
  {
   "cell_type": "markdown",
   "metadata": {},
   "source": [
    "### Problem 2\n",
    "<p style=\"text-align: right\">(8 points)</p>\n",
    "\n",
    "The file [points.txt](points.txt) contains the coordinates of points in the plane. Write a program that prints the two points that are closest to each other and prints their distance. The program should not only work for the given [points.txt](points.txt), but also for arbitrary input of the same format."
   ]
  },
  {
   "cell_type": "markdown",
   "metadata": {},
   "source": [
    "$\\sqrt{(x_1 - x_2)^2 + (y_1 - y_2)^2}$"
   ]
  },
  {
   "cell_type": "code",
   "execution_count": 4,
   "metadata": {},
   "outputs": [
    {
     "data": {
      "text/plain": [
       "(0.44721359549995715, 'G', 'K')"
      ]
     },
     "execution_count": 4,
     "metadata": {},
     "output_type": "execute_result"
    }
   ],
   "source": [
    "# solution 1 (vanilla Python)\n",
    "\n",
    "# load data to dictionary\n",
    "points = {}\n",
    "for line in open('points.txt'):\n",
    "    tok = line.split()\n",
    "    points[tok[0]] = float(tok[1]), float(tok[2])\n",
    "\n",
    "# compare every pair\n",
    "names = sorted(points)\n",
    "result = []\n",
    "for i in range(len(points)):\n",
    "    for j in range(i + 1, len(points)):\n",
    "        x1, y1 = points[names[i]]\n",
    "        x2, y2 = points[names[j]]\n",
    "        dist = ((x1 - x2)**2 + (y1 - y2)**2)**0.5\n",
    "        result.append((dist, names[i], names[j]))\n",
    "\n",
    "# get closest pair\n",
    "min(result)"
   ]
  },
  {
   "cell_type": "code",
   "execution_count": 5,
   "metadata": {},
   "outputs": [
    {
     "data": {
      "text/plain": [
       "(0.44721359549995715, 'G', 'K')"
      ]
     },
     "execution_count": 5,
     "metadata": {},
     "output_type": "execute_result"
    }
   ],
   "source": [
    "# solution 2 (based on pandas and itertools)\n",
    "import pandas as pd\n",
    "import itertools\n",
    "points = pd.read_csv('points.txt', sep=' ', names=['name', 'x', 'y'], index_col='name')\n",
    "result = []\n",
    "for (n1, p1), (n2, p2) in itertools.combinations(points.iterrows(), 2):\n",
    "    dist = ((p1.x - p2.x)**2 + (p1.y - p2.y)**2)**0.5\n",
    "    result.append((dist, n1, n2))\n",
    "min(result)"
   ]
  },
  {
   "cell_type": "markdown",
   "metadata": {},
   "source": [
    "### Problem 3\n",
    "<p style=\"text-align: right\">(12 points)</p>\n",
    "\n",
    "The file [epsom.txt](epsom.txt) contains data about the winners of Epsom Derby. Write a program that reads the data and answers the following questions:\n",
    "\n",
    "**(a)** Is it true that no horse won the derby two times?<br>\n",
    "**(b)** What was the year of the fastest time?<br>\n",
    "**(c)** Who are the 7 best jockeys based on the number of victories?"
   ]
  },
  {
   "cell_type": "code",
   "execution_count": 8,
   "metadata": {},
   "outputs": [
    {
     "data": {
      "text/html": [
       "<div>\n",
       "<style scoped>\n",
       "    .dataframe tbody tr th:only-of-type {\n",
       "        vertical-align: middle;\n",
       "    }\n",
       "\n",
       "    .dataframe tbody tr th {\n",
       "        vertical-align: top;\n",
       "    }\n",
       "\n",
       "    .dataframe thead th {\n",
       "        text-align: right;\n",
       "    }\n",
       "</style>\n",
       "<table border=\"1\" class=\"dataframe\">\n",
       "  <thead>\n",
       "    <tr style=\"text-align: right;\">\n",
       "      <th></th>\n",
       "      <th>Year</th>\n",
       "      <th>Winner</th>\n",
       "      <th>Jockey</th>\n",
       "      <th>Trainer</th>\n",
       "      <th>Owner</th>\n",
       "      <th>Dist.</th>\n",
       "      <th>Time</th>\n",
       "    </tr>\n",
       "  </thead>\n",
       "  <tbody>\n",
       "    <tr>\n",
       "      <th>0</th>\n",
       "      <td>1780</td>\n",
       "      <td>Diomed</td>\n",
       "      <td>Sam Arnull</td>\n",
       "      <td>R. Teasdale</td>\n",
       "      <td>Sir Charles Bunbury</td>\n",
       "      <td>NaN</td>\n",
       "      <td>NaN</td>\n",
       "    </tr>\n",
       "    <tr>\n",
       "      <th>1</th>\n",
       "      <td>1781</td>\n",
       "      <td>Young Eclipse</td>\n",
       "      <td>Charles Hindley</td>\n",
       "      <td>NaN</td>\n",
       "      <td>Dennis O'Kelly</td>\n",
       "      <td>NaN</td>\n",
       "      <td>NaN</td>\n",
       "    </tr>\n",
       "    <tr>\n",
       "      <th>2</th>\n",
       "      <td>1782</td>\n",
       "      <td>Assassin</td>\n",
       "      <td>Sam Arnull</td>\n",
       "      <td>Frank Neale</td>\n",
       "      <td>3rd Earl of Egremont</td>\n",
       "      <td>NaN</td>\n",
       "      <td>NaN</td>\n",
       "    </tr>\n",
       "    <tr>\n",
       "      <th>3</th>\n",
       "      <td>1783</td>\n",
       "      <td>Saltram</td>\n",
       "      <td>Charles Hindley</td>\n",
       "      <td>Frank Neale</td>\n",
       "      <td>John Parker</td>\n",
       "      <td>NaN</td>\n",
       "      <td>NaN</td>\n",
       "    </tr>\n",
       "    <tr>\n",
       "      <th>4</th>\n",
       "      <td>1784</td>\n",
       "      <td>Serjeant</td>\n",
       "      <td>John Arnull</td>\n",
       "      <td>NaN</td>\n",
       "      <td>Dennis O'Kelly</td>\n",
       "      <td>NaN</td>\n",
       "      <td>NaN</td>\n",
       "    </tr>\n",
       "    <tr>\n",
       "      <th>...</th>\n",
       "      <td>...</td>\n",
       "      <td>...</td>\n",
       "      <td>...</td>\n",
       "      <td>...</td>\n",
       "      <td>...</td>\n",
       "      <td>...</td>\n",
       "      <td>...</td>\n",
       "    </tr>\n",
       "    <tr>\n",
       "      <th>236</th>\n",
       "      <td>2015</td>\n",
       "      <td>Golden Horn</td>\n",
       "      <td>Frankie Dettori</td>\n",
       "      <td>John Gosden</td>\n",
       "      <td>Anthony Oppenheimer</td>\n",
       "      <td>3½</td>\n",
       "      <td>2:32.32</td>\n",
       "    </tr>\n",
       "    <tr>\n",
       "      <th>237</th>\n",
       "      <td>2016</td>\n",
       "      <td>Harzand</td>\n",
       "      <td>Pat Smullen</td>\n",
       "      <td>Dermot Weld</td>\n",
       "      <td>Aga Khan IV</td>\n",
       "      <td>1½</td>\n",
       "      <td>2:40.09</td>\n",
       "    </tr>\n",
       "    <tr>\n",
       "      <th>238</th>\n",
       "      <td>2017</td>\n",
       "      <td>Wings of Eagles</td>\n",
       "      <td>Padraig Beggy</td>\n",
       "      <td>Aidan O'Brien</td>\n",
       "      <td>Smith / Magnier / Tabor</td>\n",
       "      <td>¾</td>\n",
       "      <td>2:33.02</td>\n",
       "    </tr>\n",
       "    <tr>\n",
       "      <th>239</th>\n",
       "      <td>2018</td>\n",
       "      <td>Masar</td>\n",
       "      <td>William Buick</td>\n",
       "      <td>Charlie Appleby</td>\n",
       "      <td>Godolphin</td>\n",
       "      <td>1½</td>\n",
       "      <td>2:34.93</td>\n",
       "    </tr>\n",
       "    <tr>\n",
       "      <th>240</th>\n",
       "      <td>2019</td>\n",
       "      <td>Anthony Van Dyck</td>\n",
       "      <td>Seamie Heffernan</td>\n",
       "      <td>Aidan O'Brien</td>\n",
       "      <td>Smith / Magnier / Tabor</td>\n",
       "      <td>½</td>\n",
       "      <td>2:33.38</td>\n",
       "    </tr>\n",
       "  </tbody>\n",
       "</table>\n",
       "<p>241 rows × 7 columns</p>\n",
       "</div>"
      ],
      "text/plain": [
       "     Year            Winner            Jockey          Trainer  \\\n",
       "0    1780            Diomed        Sam Arnull      R. Teasdale   \n",
       "1    1781     Young Eclipse   Charles Hindley              NaN   \n",
       "2    1782          Assassin        Sam Arnull      Frank Neale   \n",
       "3    1783           Saltram   Charles Hindley      Frank Neale   \n",
       "4    1784          Serjeant       John Arnull              NaN   \n",
       "..    ...               ...               ...              ...   \n",
       "236  2015       Golden Horn   Frankie Dettori      John Gosden   \n",
       "237  2016           Harzand       Pat Smullen      Dermot Weld   \n",
       "238  2017   Wings of Eagles     Padraig Beggy    Aidan O'Brien   \n",
       "239  2018             Masar     William Buick  Charlie Appleby   \n",
       "240  2019  Anthony Van Dyck  Seamie Heffernan    Aidan O'Brien   \n",
       "\n",
       "                       Owner Dist.     Time  \n",
       "0        Sir Charles Bunbury   NaN      NaN  \n",
       "1             Dennis O'Kelly   NaN      NaN  \n",
       "2       3rd Earl of Egremont   NaN      NaN  \n",
       "3                John Parker   NaN      NaN  \n",
       "4             Dennis O'Kelly   NaN      NaN  \n",
       "..                       ...   ...      ...  \n",
       "236      Anthony Oppenheimer    3½  2:32.32  \n",
       "237              Aga Khan IV    1½  2:40.09  \n",
       "238  Smith / Magnier / Tabor     ¾  2:33.02  \n",
       "239                Godolphin    1½  2:34.93  \n",
       "240  Smith / Magnier / Tabor     ½  2:33.38  \n",
       "\n",
       "[241 rows x 7 columns]"
      ]
     },
     "execution_count": 8,
     "metadata": {},
     "output_type": "execute_result"
    }
   ],
   "source": [
    "import pandas as pd\n",
    "df = pd.read_csv('epsom.txt', sep='\\t', comment='#')\n",
    "df"
   ]
  },
  {
   "cell_type": "code",
   "execution_count": 9,
   "metadata": {},
   "outputs": [
    {
     "name": "stdout",
     "output_type": "stream",
     "text": [
      "<class 'pandas.core.frame.DataFrame'>\n",
      "RangeIndex: 241 entries, 0 to 240\n",
      "Data columns (total 7 columns):\n",
      " #   Column   Non-Null Count  Dtype \n",
      "---  ------   --------------  ----- \n",
      " 0   Year     241 non-null    int64 \n",
      " 1   Winner   241 non-null    object\n",
      " 2   Jockey   241 non-null    object\n",
      " 3   Trainer  239 non-null    object\n",
      " 4   Owner    241 non-null    object\n",
      " 5   Dist.    202 non-null    object\n",
      " 6   Time     175 non-null    object\n",
      "dtypes: int64(1), object(6)\n",
      "memory usage: 13.3+ KB\n"
     ]
    }
   ],
   "source": [
    "df.info()"
   ]
  },
  {
   "cell_type": "code",
   "execution_count": 11,
   "metadata": {},
   "outputs": [
    {
     "data": {
      "text/html": [
       "<div>\n",
       "<style scoped>\n",
       "    .dataframe tbody tr th:only-of-type {\n",
       "        vertical-align: middle;\n",
       "    }\n",
       "\n",
       "    .dataframe tbody tr th {\n",
       "        vertical-align: top;\n",
       "    }\n",
       "\n",
       "    .dataframe thead th {\n",
       "        text-align: right;\n",
       "    }\n",
       "</style>\n",
       "<table border=\"1\" class=\"dataframe\">\n",
       "  <thead>\n",
       "    <tr style=\"text-align: right;\">\n",
       "      <th></th>\n",
       "      <th>count</th>\n",
       "      <th>mean</th>\n",
       "      <th>std</th>\n",
       "      <th>min</th>\n",
       "      <th>25%</th>\n",
       "      <th>50%</th>\n",
       "      <th>75%</th>\n",
       "      <th>max</th>\n",
       "    </tr>\n",
       "  </thead>\n",
       "  <tbody>\n",
       "    <tr>\n",
       "      <th>Year</th>\n",
       "      <td>241.0</td>\n",
       "      <td>1899.435685</td>\n",
       "      <td>69.288625</td>\n",
       "      <td>1780.0</td>\n",
       "      <td>1840.0</td>\n",
       "      <td>1899.0</td>\n",
       "      <td>1959.0</td>\n",
       "      <td>2019.0</td>\n",
       "    </tr>\n",
       "  </tbody>\n",
       "</table>\n",
       "</div>"
      ],
      "text/plain": [
       "      count         mean        std     min     25%     50%     75%     max\n",
       "Year  241.0  1899.435685  69.288625  1780.0  1840.0  1899.0  1959.0  2019.0"
      ]
     },
     "execution_count": 11,
     "metadata": {},
     "output_type": "execute_result"
    }
   ],
   "source": [
    "df.describe().T"
   ]
  },
  {
   "cell_type": "code",
   "execution_count": 16,
   "metadata": {},
   "outputs": [
    {
     "data": {
      "text/plain": [
       "True"
      ]
     },
     "execution_count": 16,
     "metadata": {},
     "output_type": "execute_result"
    }
   ],
   "source": [
    "# (a) Is it true that no horse won the derby two times?\n",
    "(df['Winner'].value_counts() == 1).all()"
   ]
  },
  {
   "cell_type": "code",
   "execution_count": 36,
   "metadata": {},
   "outputs": [
    {
     "data": {
      "text/plain": [
       "1945"
      ]
     },
     "execution_count": 36,
     "metadata": {},
     "output_type": "execute_result"
    }
   ],
   "source": [
    "# (b) What was the year of the fastest time?\n",
    "se = df['Time']\n",
    "df[se == se[se.notnull()].min()]['Year'].values[0]"
   ]
  },
  {
   "cell_type": "code",
   "execution_count": 45,
   "metadata": {},
   "outputs": [
    {
     "data": {
      "text/plain": [
       "Lester Piggott    9\n",
       "Jem Robinson      6\n",
       "Steve Donoghue    6\n",
       "Bill Clift        5\n",
       "John Arnull       5\n",
       "Fred Archer       5\n",
       "Frank Buckle      5\n",
       "Name: Jockey, dtype: int64"
      ]
     },
     "execution_count": 45,
     "metadata": {},
     "output_type": "execute_result"
    }
   ],
   "source": [
    "# (c) Who are the 7 best jockeys based on the number of victories?\n",
    "#df.groupby('Jockey').size().sort_values()[::-1]\n",
    "df['Jockey'].value_counts()[:7]"
   ]
  },
  {
   "cell_type": "code",
   "execution_count": 46,
   "metadata": {},
   "outputs": [
    {
     "data": {
      "text/html": [
       "<div>\n",
       "<style scoped>\n",
       "    .dataframe tbody tr th:only-of-type {\n",
       "        vertical-align: middle;\n",
       "    }\n",
       "\n",
       "    .dataframe tbody tr th {\n",
       "        vertical-align: top;\n",
       "    }\n",
       "\n",
       "    .dataframe thead th {\n",
       "        text-align: right;\n",
       "    }\n",
       "</style>\n",
       "<table border=\"1\" class=\"dataframe\">\n",
       "  <thead>\n",
       "    <tr style=\"text-align: right;\">\n",
       "      <th></th>\n",
       "      <th>Year</th>\n",
       "      <th>Winner</th>\n",
       "      <th>Jockey</th>\n",
       "      <th>Trainer</th>\n",
       "      <th>Owner</th>\n",
       "      <th>Dist.</th>\n",
       "      <th>Time</th>\n",
       "    </tr>\n",
       "  </thead>\n",
       "  <tbody>\n",
       "    <tr>\n",
       "      <th>175</th>\n",
       "      <td>1954</td>\n",
       "      <td>Never Say Die</td>\n",
       "      <td>Lester Piggott</td>\n",
       "      <td>Joseph Lawson</td>\n",
       "      <td>Robert Sterling Clark</td>\n",
       "      <td>2</td>\n",
       "      <td>2:35.8</td>\n",
       "    </tr>\n",
       "    <tr>\n",
       "      <th>178</th>\n",
       "      <td>1957</td>\n",
       "      <td>Crepello</td>\n",
       "      <td>Lester Piggott</td>\n",
       "      <td>Noel Murless</td>\n",
       "      <td>Sir Victor Sassoon</td>\n",
       "      <td>1½</td>\n",
       "      <td>2:35.4</td>\n",
       "    </tr>\n",
       "    <tr>\n",
       "      <th>181</th>\n",
       "      <td>1960</td>\n",
       "      <td>St. Paddy</td>\n",
       "      <td>Lester Piggott</td>\n",
       "      <td>Noel Murless</td>\n",
       "      <td>Sir Victor Sassoon</td>\n",
       "      <td>3</td>\n",
       "      <td>2:35.8</td>\n",
       "    </tr>\n",
       "    <tr>\n",
       "      <th>189</th>\n",
       "      <td>1968</td>\n",
       "      <td>Sir Ivor</td>\n",
       "      <td>Lester Piggott</td>\n",
       "      <td>Vincent O'Brien</td>\n",
       "      <td>Raymond R. Guest</td>\n",
       "      <td>1½</td>\n",
       "      <td>2:38.73</td>\n",
       "    </tr>\n",
       "    <tr>\n",
       "      <th>191</th>\n",
       "      <td>1970</td>\n",
       "      <td>Nijinsky</td>\n",
       "      <td>Lester Piggott</td>\n",
       "      <td>Vincent O'Brien</td>\n",
       "      <td>Charles W. Engelhard, Jr.</td>\n",
       "      <td>2½</td>\n",
       "      <td>2:34.68</td>\n",
       "    </tr>\n",
       "    <tr>\n",
       "      <th>193</th>\n",
       "      <td>1972</td>\n",
       "      <td>Roberto</td>\n",
       "      <td>Lester Piggott</td>\n",
       "      <td>Vincent O'Brien</td>\n",
       "      <td>John W. Galbreath</td>\n",
       "      <td>shd</td>\n",
       "      <td>2:36.09</td>\n",
       "    </tr>\n",
       "    <tr>\n",
       "      <th>197</th>\n",
       "      <td>1976</td>\n",
       "      <td>Empery</td>\n",
       "      <td>Lester Piggott</td>\n",
       "      <td>Maurice Zilber</td>\n",
       "      <td>Nelson Bunker Hunt</td>\n",
       "      <td>3</td>\n",
       "      <td>2:35.69</td>\n",
       "    </tr>\n",
       "    <tr>\n",
       "      <th>198</th>\n",
       "      <td>1977</td>\n",
       "      <td>The Minstrel</td>\n",
       "      <td>Lester Piggott</td>\n",
       "      <td>Vincent O'Brien</td>\n",
       "      <td>Robert Sangster</td>\n",
       "      <td>nk</td>\n",
       "      <td>2:36.44</td>\n",
       "    </tr>\n",
       "    <tr>\n",
       "      <th>204</th>\n",
       "      <td>1983</td>\n",
       "      <td>Teenoso</td>\n",
       "      <td>Lester Piggott</td>\n",
       "      <td>Geoff Wragg</td>\n",
       "      <td>Eric Moller</td>\n",
       "      <td>3</td>\n",
       "      <td>2:49.07</td>\n",
       "    </tr>\n",
       "  </tbody>\n",
       "</table>\n",
       "</div>"
      ],
      "text/plain": [
       "     Year         Winner          Jockey          Trainer  \\\n",
       "175  1954  Never Say Die  Lester Piggott    Joseph Lawson   \n",
       "178  1957       Crepello  Lester Piggott     Noel Murless   \n",
       "181  1960      St. Paddy  Lester Piggott     Noel Murless   \n",
       "189  1968       Sir Ivor  Lester Piggott  Vincent O'Brien   \n",
       "191  1970       Nijinsky  Lester Piggott  Vincent O'Brien   \n",
       "193  1972        Roberto  Lester Piggott  Vincent O'Brien   \n",
       "197  1976         Empery  Lester Piggott   Maurice Zilber   \n",
       "198  1977   The Minstrel  Lester Piggott  Vincent O'Brien   \n",
       "204  1983        Teenoso  Lester Piggott      Geoff Wragg   \n",
       "\n",
       "                         Owner Dist.     Time  \n",
       "175      Robert Sterling Clark     2   2:35.8  \n",
       "178         Sir Victor Sassoon    1½   2:35.4  \n",
       "181         Sir Victor Sassoon     3   2:35.8  \n",
       "189           Raymond R. Guest    1½  2:38.73  \n",
       "191  Charles W. Engelhard, Jr.    2½  2:34.68  \n",
       "193          John W. Galbreath   shd  2:36.09  \n",
       "197         Nelson Bunker Hunt     3  2:35.69  \n",
       "198            Robert Sangster    nk  2:36.44  \n",
       "204                Eric Moller     3  2:49.07  "
      ]
     },
     "execution_count": 46,
     "metadata": {},
     "output_type": "execute_result"
    }
   ],
   "source": [
    "df[df['Jockey'] == 'Lester Piggott']"
   ]
  }
 ],
 "metadata": {
  "kernelspec": {
   "display_name": "Python 3 (ipykernel)",
   "language": "python",
   "name": "python3"
  },
  "language_info": {
   "codemirror_mode": {
    "name": "ipython",
    "version": 3
   },
   "file_extension": ".py",
   "mimetype": "text/x-python",
   "name": "python",
   "nbconvert_exporter": "python",
   "pygments_lexer": "ipython3",
   "version": "3.8.0"
  }
 },
 "nbformat": 4,
 "nbformat_minor": 4
}
