{
 "cells": [
  {
   "cell_type": "markdown",
   "metadata": {},
   "source": [
    "## Gradient Boosting\n",
    "\n",
    "- [Gradient boosting](https://en.wikipedia.org/wiki/Gradient_boosting) is another ensemble technique for classification and regression. It can be viewed as a \"series circuit\" of base learners.\n",
    "\n",
    "\n",
    "- The idea of gradient boosting originates from [Leo Breiman](https://en.wikipedia.org/wiki/Leo_Breiman) and [Jerome Friedman](https://en.wikipedia.org/wiki/Jerome_H._Friedman) (1999).\n",
    "\n",
    "\n",
    "- The diversity of the base learners is achieved by training them on different targets.\n",
    "\n",
    "\n",
    "- The base learners are regressors, both for classification and regression.\n",
    "\n",
    "\n",
    "- Usually, the base learners are decision tree regressors, but in theory they could be any regression algorithm.\n",
    "\n",
    "\n",
    "- Gradient Boosted Decision Trees (or Gradient Boosting Machine) is a \"swiss army knife\" method in machine learning. It is invariant to the scale of the feature values and performs well on a wide variety of problems."
   ]
  },
  {
   "cell_type": "markdown",
   "metadata": {},
   "source": [
    "### Pseudo Code of Training (w/o Learning Rate)\n",
    "<img src=\"../_img/gradient_boosting_algorithm.png\" width=\"600px\">"
   ]
  },
  {
   "cell_type": "markdown",
   "metadata": {},
   "source": [
    "### Learning Rate\n",
    "\n",
    "- instead of step size $\\gamma_m$, we use $\\eta \\cdot \\gamma_m$, where $\\eta \\in (0, 1]$\n",
    "- $\\eta<1$ implements the \"slow cooking\" idea, and in practice leads to better ensembles than $\\eta=1$\n",
    "\n",
    "<img src=\"../_img/slow_cooking.jpg\" width=\"250px\">"
   ]
  },
  {
   "cell_type": "markdown",
   "metadata": {},
   "source": [
    "### Special Case: Gradient Boosting for Regression\n",
    "\n",
    "- the loss function is the squared loss: $L(y, F(x)) = \\frac{1}{2} \\left(y - F(x)\\right)^2$\n",
    "- the initial model is the average target: $F_0(x) = \\frac{1}{n} \\sum_{i=1}^n y_i$\n",
    "- pseudo-residuals: $r_{im} = y_i - F_{m-1}(x_i)$\n",
    "- optimal multiplier: $\\gamma_m = \\left[\\sum_{i=1}^n h_m(x_i)r_{im}\\right] / \\left[\\sum_{i=1}^n \\left(h_m(x_i)\\right)^2\\right]$"
   ]
  },
  {
   "cell_type": "markdown",
   "metadata": {},
   "source": [
    "**Exercise 1**: Implement a tree based gradient boosting regressor and evaluate it on the Boston Housing data set using 3-fold cross-validation! Use a maximal tree depth of 3!"
   ]
  },
  {
   "cell_type": "code",
   "execution_count": 1,
   "metadata": {},
   "outputs": [],
   "source": [
    "# Load the Boston Housing data set.\n",
    "import pandas as pd\n",
    "names = ['CRIM', 'ZN', 'INDUS', 'CHAS', 'NOX', 'RM', 'AGE',\n",
    "         'DIS', 'RAD', 'TAX', 'PTRATIO', 'LSTAT', 'MEDV']\n",
    "df = pd.read_csv('../_data/housing_data.txt', delim_whitespace=True, names=names)\n",
    "df = df.sample(len(df), random_state=42) # data shuffling\n",
    "X = df.values[:, :-1] # input matrix\n",
    "y = df['MEDV'].values # target vector"
   ]
  },
  {
   "cell_type": "code",
   "execution_count": 2,
   "metadata": {
    "scrolled": true
   },
   "outputs": [
    {
     "data": {
      "text/plain": [
       "'from sklearn.tree import DecisionTreeRegressor\\n\\neta = .1 # learning rate\\nn_estimators = 100 # number of trees\\n\\nyhat0 = y.mean()\\nr = y - yhat0\\n\\ntrees = []\\nfor k in range(n_estimators):\\n\\n    tree = DecisionTreeRegressor(max_depth=3, random_state=42)\\n    tree.fit(X, r)\\n    h = tree.predict(X)\\n    w = eta * (h @ r) / (h @ h)\\n    r -= w * h\\n    trees.append((w, tree))\\n    \\ntrees\\n'"
      ]
     },
     "execution_count": 2,
     "metadata": {},
     "output_type": "execute_result"
    }
   ],
   "source": [
    "'''from sklearn.tree import DecisionTreeRegressor\n",
    "\n",
    "eta = .1 # learning rate\n",
    "n_estimators = 100 # number of trees\n",
    "\n",
    "yhat0 = y.mean()\n",
    "r = y - yhat0\n",
    "\n",
    "trees = []\n",
    "for k in range(n_estimators):\n",
    "\n",
    "    tree = DecisionTreeRegressor(max_depth=3, random_state=42)\n",
    "    tree.fit(X, r)\n",
    "    h = tree.predict(X)\n",
    "    w = eta * (h @ r) / (h @ h)\n",
    "    r -= w * h\n",
    "    trees.append((w, tree))\n",
    "    \n",
    "trees\n",
    "'''"
   ]
  },
  {
   "cell_type": "code",
   "execution_count": 3,
   "metadata": {},
   "outputs": [],
   "source": [
    "from sklearn.tree import DecisionTreeRegressor\n",
    "import numpy as np\n",
    "class MyGradientBoostingRegressor:\n",
    "    def __init__(self, eta=0.1, n_estimators=100, max_depth=3):\n",
    "        self.eta=eta\n",
    "        self.n_estimators=n_estimators\n",
    "        self.max_depth=max_depth\n",
    "\n",
    "    def fit(self, X, y):\n",
    "        self.yhat0 = y.mean()\n",
    "        r = y - self.yhat0\n",
    "        \n",
    "        self.trees = []\n",
    "        for k in range(self.n_estimators):\n",
    "            tree = DecisionTreeRegressor(max_depth=self.max_depth, random_state=42)\n",
    "            tree.fit(X, r)\n",
    "            h = tree.predict(X)\n",
    "            w = self.eta * (h @ r) / (h @ h)\n",
    "            r -= w * h\n",
    "            self.trees.append((w, tree))\n",
    "        return self\n",
    "    \n",
    "    def predict(self, X):\n",
    "        yhat = np.ones(len(X)) * self.yhat0\n",
    "        for w, tree in self.trees:\n",
    "            yhat += w * tree.predict(X)\n",
    "        return yhat\n",
    "    "
   ]
  },
  {
   "cell_type": "code",
   "execution_count": 4,
   "metadata": {},
   "outputs": [],
   "source": [
    "from sklearn.model_selection import KFold\n",
    "from sklearn.metrics import mean_squared_error\n",
    "\n",
    "def evaluate(re, X, y):\n",
    "    cv = KFold(3, shuffle=True, random_state=42)\n",
    "    scores = []\n",
    "    for tr, te in cv.split(X):\n",
    "        re.fit(X[tr], y[tr])\n",
    "        yhat = re.predict(X)\n",
    "        rmse = mean_squared_error(y[te], yhat[te])**0.5\n",
    "        scores.append(rmse)\n",
    "    return np.mean(scores)"
   ]
  },
  {
   "cell_type": "code",
   "execution_count": 5,
   "metadata": {
    "scrolled": false
   },
   "outputs": [
    {
     "data": {
      "text/plain": [
       "3.375684135715931"
      ]
     },
     "execution_count": 5,
     "metadata": {},
     "output_type": "execute_result"
    }
   ],
   "source": [
    "evaluate(MyGradientBoostingRegressor(), X, y)"
   ]
  },
  {
   "cell_type": "markdown",
   "metadata": {},
   "source": [
    "**Exercise 2**: Repeat the previous experiment using scikit-learn!"
   ]
  },
  {
   "cell_type": "code",
   "execution_count": 6,
   "metadata": {},
   "outputs": [
    {
     "data": {
      "text/plain": [
       "3.36820868174328"
      ]
     },
     "execution_count": 6,
     "metadata": {},
     "output_type": "execute_result"
    }
   ],
   "source": [
    "from sklearn.ensemble import GradientBoostingRegressor\n",
    "evaluate(GradientBoostingRegressor(random_state=42), X, y)"
   ]
  },
  {
   "cell_type": "markdown",
   "metadata": {},
   "source": [
    "**Exercise 3**: Which tree depth gives the most accurate ensemble?"
   ]
  },
  {
   "cell_type": "code",
   "execution_count": null,
   "metadata": {},
   "outputs": [
    {
     "name": "stdout",
     "output_type": "stream",
     "text": [
      "1 "
     ]
    }
   ],
   "source": [
    "res = []\n",
    "for max_depth in range(1, 13):\n",
    "    print(max_depth, end=' ')\n",
    "    rmse = evaluate(GradientBoostingRegressor(random_state=42, max_depth=max_depth), X, y)\n",
    "    res.append({\n",
    "        'max_depth': max_depth,\n",
    "        'rmse': rmse\n",
    "    })"
   ]
  },
  {
   "cell_type": "code",
   "execution_count": null,
   "metadata": {},
   "outputs": [],
   "source": [
    "pd.DataFrame(res).set_index('max_depth').plot()"
   ]
  },
  {
   "cell_type": "markdown",
   "metadata": {},
   "source": [
    "**Exercise 3/B**: How the training and test RMSE changes with the number of trees? (Use a simple train-test split for this experiment!)"
   ]
  },
  {
   "cell_type": "code",
   "execution_count": null,
   "metadata": {},
   "outputs": [],
   "source": [
    "from sklearn.model_selection import train_test_split\n",
    "\n",
    "tr, te = train_test_split(np.arange(len(X)), train_size=0.7, random_state=42)\n",
    "res = []\n",
    "for max_depth in range(1, 13):\n",
    "    print(max_depth, end=' ')\n",
    "    re = GradientBoostingRegressor(random_state=42, max_depth=max_depth)\n",
    "    re.fit(X[tr], y[tr])\n",
    "    yhat = re.predict(X)\n",
    "    res.append({\n",
    "        'max_depth' : max_depth,\n",
    "        'rmse_tr' : mean_squared_error(y[tr], yhat[tr])**.5,\n",
    "        'rmse_te' : mean_squared_error(y[te], yhat[te])**.5\n",
    "    })"
   ]
  },
  {
   "cell_type": "code",
   "execution_count": null,
   "metadata": {},
   "outputs": [],
   "source": [
    "pd.DataFrame(res).set_index('max_depth').plot(grid=True)"
   ]
  },
  {
   "cell_type": "markdown",
   "metadata": {},
   "source": [
    "**Exercise 4**: Apply a random forest and a gradient boosting classifier on the Wisconsin Breast Cancer data set! Use stratified 10-fold cross-validation! The evaluation metric should be the ratio of correct classifications. For both ensemble methods, determine the maximal tree depth that gives the highest accuracy!"
   ]
  },
  {
   "cell_type": "code",
   "execution_count": 1,
   "metadata": {},
   "outputs": [],
   "source": [
    "# Load the Wisconsin Breast Cancer data set.\n",
    "import pandas as pd\n",
    "names = [\n",
    "    'Sample_code_number', 'Clump_Thickness', 'Uniformity_of_Cell_Size',\n",
    "    'Uniformity_of_Cell_Shape', 'Marginal_Adhesion', 'Single_Epithelial_Cell_Size',\n",
    "    'Bare_Nuclei', 'Bland_Chromatin', 'Normal_Nucleoli', 'Mitoses', 'Class'\n",
    "]\n",
    "df = pd.read_csv('../_data/wisconsin_data.txt', sep=',', names=names, na_values='?')\n",
    "df = df.sample(len(df), random_state=42) # data shuffling\n",
    "df['Bare_Nuclei'].fillna(0, inplace=True)\n",
    "X = df[df.columns[1: -1]].values\n",
    "y = (df['Class'].values / 2 - 1).astype('int')"
   ]
  },
  {
   "cell_type": "code",
   "execution_count": 7,
   "metadata": {},
   "outputs": [],
   "source": [
    "from sklearn.ensemble import RandomForestClassifier, GradientBoostingClassifier\n",
    "from sklearn.metrics import accuracy_score\n",
    "from sklearn.model_selection import StratifiedKFold\n",
    "import numpy as np\n",
    "\n",
    "cl = RandomForestClassifier()\n",
    "\n",
    "def evaluate(cl, X, y):\n",
    "    scores = []\n",
    "    cv = StratifiedKFold(10, shuffle=True, random_state=42)\n",
    "    for tr, te in cv.split(X, y):\n",
    "        cl.fit(X[tr], y[tr])\n",
    "        yhat = cl.predict(X)\n",
    "        scores.append(accuracy_score(y[te], yhat[te]))\n",
    "    return np.mean(scores)"
   ]
  },
  {
   "cell_type": "code",
   "execution_count": 10,
   "metadata": {
    "scrolled": true
   },
   "outputs": [
    {
     "name": "stdout",
     "output_type": "stream",
     "text": [
      "CPU times: user 1.78 s, sys: 11.8 ms, total: 1.79 s\n",
      "Wall time: 1.8 s\n"
     ]
    },
    {
     "data": {
      "text/plain": [
       "0.9698964803312631"
      ]
     },
     "execution_count": 10,
     "metadata": {},
     "output_type": "execute_result"
    }
   ],
   "source": [
    "%%time\n",
    "evaluate(RandomForestClassifier(random_state=42), X, y)"
   ]
  },
  {
   "cell_type": "code",
   "execution_count": 11,
   "metadata": {},
   "outputs": [
    {
     "name": "stdout",
     "output_type": "stream",
     "text": [
      "CPU times: user 1.19 s, sys: 0 ns, total: 1.19 s\n",
      "Wall time: 1.26 s\n"
     ]
    },
    {
     "data": {
      "text/plain": [
       "0.9527536231884058"
      ]
     },
     "execution_count": 11,
     "metadata": {},
     "output_type": "execute_result"
    }
   ],
   "source": [
    "%%time\n",
    "evaluate(GradientBoostingClassifier(random_state=42), X, y)"
   ]
  },
  {
   "cell_type": "code",
   "execution_count": 16,
   "metadata": {},
   "outputs": [
    {
     "data": {
      "text/plain": [
       "0.6552173913043479"
      ]
     },
     "execution_count": 16,
     "metadata": {},
     "output_type": "execute_result"
    }
   ],
   "source": [
    "from sklearn.dummy import DummyClassifier\n",
    "evaluate(DummyClassifier(random_state=42), X, y)"
   ]
  },
  {
   "cell_type": "code",
   "execution_count": 19,
   "metadata": {},
   "outputs": [
    {
     "data": {
      "text/plain": [
       "0.9656314699792962"
      ]
     },
     "execution_count": 19,
     "metadata": {},
     "output_type": "execute_result"
    }
   ],
   "source": [
    "#%%time\n",
    "from sklearn.linear_model import LogisticRegression\n",
    "evaluate(LogisticRegression(random_state=42), X, y)"
   ]
  },
  {
   "cell_type": "code",
   "execution_count": 14,
   "metadata": {},
   "outputs": [
    {
     "name": "stdout",
     "output_type": "stream",
     "text": [
      "1 2 3 4 5 6 7 8 9 10 11 "
     ]
    }
   ],
   "source": [
    "res = []\n",
    "for max_depth in range(1, 12):\n",
    "    print(max_depth, end=' ')\n",
    "    res.append({\n",
    "        'max_depth' : max_depth,\n",
    "        'rf_acc' : evaluate(RandomForestClassifier(random_state=42, max_depth=max_depth), X, y),\n",
    "        'gb_acc' : evaluate(GradientBoostingClassifier(random_state=42, max_depth=max_depth), X, y)\n",
    "    })"
   ]
  },
  {
   "cell_type": "code",
   "execution_count": 15,
   "metadata": {
    "scrolled": true
   },
   "outputs": [
    {
     "data": {
      "text/plain": [
       "<AxesSubplot: xlabel='max_depth'>"
      ]
     },
     "execution_count": 15,
     "metadata": {},
     "output_type": "execute_result"
    },
    {
     "data": {
      "image/png": "[encoded data removed]",
      "text/plain": [
       "<Figure size 432x288 with 1 Axes>"
      ]
     },
     "metadata": {
      "needs_background": "light"
     },
     "output_type": "display_data"
    }
   ],
   "source": [
    "pd.DataFrame(res).set_index('max_depth').plot(grid=True)"
   ]
  },
  {
   "cell_type": "markdown",
   "metadata": {},
   "source": [
    "### Gradient Boosting on Steroids\n",
    "\n",
    "- [XGBoost](https://en.wikipedia.org/wiki/XGBoost) and [LightGBM](https://en.wikipedia.org/wiki/LightGBM) are a highly efficient and flexible implementations of gradient boosting.\n",
    "- XGBoost started as a research project by Tianqi Chen (in 2014).\n",
    "- LightGBM was introduced by Microsoft Research (in 2016)."
   ]
  },
  {
   "cell_type": "markdown",
   "metadata": {},
   "source": [
    "**Exercise 5**: Compare XGBoost, LightGBM and scikit-learn's GradientBoostingClassifier on the Wisconsin Breast Cancer problem, in terms of speed and accuracy!"
   ]
  },
  {
   "cell_type": "code",
   "execution_count": 22,
   "metadata": {},
   "outputs": [
    {
     "data": {
      "text/plain": [
       "'1.7.3'"
      ]
     },
     "execution_count": 22,
     "metadata": {},
     "output_type": "execute_result"
    }
   ],
   "source": [
    "import xgboost\n",
    "xgboost.__version__"
   ]
  },
  {
   "cell_type": "code",
   "execution_count": 31,
   "metadata": {},
   "outputs": [
    {
     "name": "stdout",
     "output_type": "stream",
     "text": [
      "396 ms ± 5.78 ms per loop (mean ± std. dev. of 7 runs, 1 loop each)\n"
     ]
    }
   ],
   "source": [
    "from xgboost import XGBClassifier\n",
    "%timeit evaluate(XGBClassifier(max_depth=3, random_state=42), X, y)"
   ]
  },
  {
   "cell_type": "code",
   "execution_count": 34,
   "metadata": {},
   "outputs": [
    {
     "data": {
      "text/plain": [
       "0.9585093167701864"
      ]
     },
     "execution_count": 34,
     "metadata": {},
     "output_type": "execute_result"
    }
   ],
   "source": [
    "evaluate(XGBClassifier(max_depth=3, random_state=42), X, y)"
   ]
  },
  {
   "cell_type": "code",
   "execution_count": 32,
   "metadata": {},
   "outputs": [
    {
     "name": "stdout",
     "output_type": "stream",
     "text": [
      "208 ms ± 2.36 ms per loop (mean ± std. dev. of 7 runs, 1 loop each)\n"
     ]
    }
   ],
   "source": [
    "from lightgbm import LGBMClassifier\n",
    "%timeit evaluate(LGBMClassifier(max_depth=3, random_state=42), X, y)"
   ]
  },
  {
   "cell_type": "code",
   "execution_count": 35,
   "metadata": {},
   "outputs": [
    {
     "data": {
      "text/plain": [
       "0.9585093167701866"
      ]
     },
     "execution_count": 35,
     "metadata": {},
     "output_type": "execute_result"
    }
   ],
   "source": [
    "evaluate(LGBMClassifier(max_depth=3, random_state=42), X, y)"
   ]
  },
  {
   "cell_type": "code",
   "execution_count": 33,
   "metadata": {},
   "outputs": [
    {
     "name": "stdout",
     "output_type": "stream",
     "text": [
      "1.16 s ± 4.51 ms per loop (mean ± std. dev. of 7 runs, 1 loop each)\n"
     ]
    }
   ],
   "source": [
    "from sklearn.ensemble import GradientBoostingClassifier\n",
    "%timeit evaluate(GradientBoostingClassifier(max_depth=3, random_state=42), X, y)"
   ]
  },
  {
   "cell_type": "code",
   "execution_count": 36,
   "metadata": {},
   "outputs": [
    {
     "data": {
      "text/plain": [
       "0.9527536231884058"
      ]
     },
     "execution_count": 36,
     "metadata": {},
     "output_type": "execute_result"
    }
   ],
   "source": [
    "evaluate(GradientBoostingClassifier(max_depth=3, random_state=42), X, y)"
   ]
  },
  {
   "cell_type": "code",
   "execution_count": 42,
   "metadata": {},
   "outputs": [
    {
     "name": "stdout",
     "output_type": "stream",
     "text": [
      "1.79 s ± 805 ms per loop (mean ± std. dev. of 7 runs, 1 loop each)\n"
     ]
    }
   ],
   "source": [
    "from sklearn.ensemble import HistGradientBoostingClassifier\n",
    "\n",
    "%timeit evaluate(HistGradientBoostingClassifier(max_depth=3, random_state=42), X, y)"
   ]
  },
  {
   "cell_type": "code",
   "execution_count": 43,
   "metadata": {},
   "outputs": [
    {
     "data": {
      "text/plain": [
       "0.9584886128364388"
      ]
     },
     "execution_count": 43,
     "metadata": {},
     "output_type": "execute_result"
    }
   ],
   "source": [
    "evaluate(HistGradientBoostingClassifier(max_depth=3, random_state=42), X, y)"
   ]
  }
 ],
 "metadata": {
  "kernelspec": {
   "display_name": "Python 3 (ipykernel)",
   "language": "python",
   "name": "python3"
  },
  "language_info": {
   "codemirror_mode": {
    "name": "ipython",
    "version": 3
   },
   "file_extension": ".py",
   "mimetype": "text/x-python",
   "name": "python",
   "nbconvert_exporter": "python",
   "pygments_lexer": "ipython3",
   "version": "3.8.0"
  }
 },
 "nbformat": 4,
 "nbformat_minor": 4
}
